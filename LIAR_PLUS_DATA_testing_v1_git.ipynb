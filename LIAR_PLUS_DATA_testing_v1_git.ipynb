{
  "nbformat": 4,
  "nbformat_minor": 0,
  "metadata": {
    "colab": {
      "name": "LIAR_PLUS_DATA_testing_v1_git.ipynb",
      "version": "0.3.2",
      "provenance": [],
      "collapsed_sections": [],
      "include_colab_link": true
    },
    "kernelspec": {
      "name": "python3",
      "display_name": "Python 3"
    }
  },
  "cells": [
    {
      "cell_type": "markdown",
      "metadata": {
        "id": "view-in-github",
        "colab_type": "text"
      },
      "source": [
        "<a href=\"https://colab.research.google.com/github/ka1shi/Fake-News-Detection/blob/master/LIAR_PLUS_DATA_testing_v1_git.ipynb\" target=\"_parent\"><img src=\"https://colab.research.google.com/assets/colab-badge.svg\" alt=\"Open In Colab\"/></a>"
      ]
    },
    {
      "cell_type": "code",
      "metadata": {
        "id": "GXwKTPaFeaI7",
        "colab_type": "code",
        "outputId": "8d8865c9-84a0-43b6-b968-45f7651c10bc",
        "colab": {
          "base_uri": "https://localhost:8080/",
          "height": 125
        }
      },
      "source": [
        "from google.colab import drive\n",
        "drive.mount('/content/drive')"
      ],
      "execution_count": 0,
      "outputs": [
        {
          "output_type": "stream",
          "text": [
            "Go to this URL in a browser: https://accounts.google.com/o/oauth2/auth?client_id=947318989803-6bn6qk8qdgf4n4g3pfee6491hc0brc4i.apps.googleusercontent.com&redirect_uri=urn%3Aietf%3Awg%3Aoauth%3A2.0%3Aoob&scope=email%20https%3A%2F%2Fwww.googleapis.com%2Fauth%2Fdocs.test%20https%3A%2F%2Fwww.googleapis.com%2Fauth%2Fdrive%20https%3A%2F%2Fwww.googleapis.com%2Fauth%2Fdrive.photos.readonly%20https%3A%2F%2Fwww.googleapis.com%2Fauth%2Fpeopleapi.readonly&response_type=code\n",
            "\n",
            "Enter your authorization code:\n",
            "··········\n",
            "Mounted at /content/drive\n"
          ],
          "name": "stdout"
        }
      ]
    },
    {
      "cell_type": "code",
      "metadata": {
        "id": "YjuZHBlwdg5-",
        "colab_type": "code",
        "outputId": "d4617c4a-f300-44e7-98bf-b13cc2aca0db",
        "colab": {
          "base_uri": "https://localhost:8080/",
          "height": 34
        }
      },
      "source": [
        "import numpy as np \n",
        "import pandas as pd \n",
        "\n",
        "\n",
        "import os\n",
        "from keras.layers import Dense,Input,LSTM,Bidirectional,Activation,Conv1D,GRU\n",
        "from keras.callbacks import Callback\n",
        "from keras.layers import Dropout,Embedding,GlobalMaxPooling1D, MaxPooling1D, Add, Flatten\n",
        "from keras.preprocessing import text, sequence\n",
        "from keras.layers import GlobalAveragePooling1D, GlobalMaxPooling1D, concatenate, SpatialDropout1D\n",
        "from keras import initializers, regularizers, constraints, optimizers, layers, callbacks\n",
        "from keras.callbacks import EarlyStopping,ModelCheckpoint\n",
        "from keras.models import Model\n",
        "from keras.optimizers import Adam\n",
        "from sklearn.model_selection import train_test_split\n",
        "from sklearn.metrics import accuracy_score\n",
        "from sklearn.metrics import roc_auc_score\n",
        "import sklearn\n",
        "from sklearn.preprocessing import LabelEncoder"
      ],
      "execution_count": 0,
      "outputs": [
        {
          "output_type": "stream",
          "text": [
            "Using TensorFlow backend.\n"
          ],
          "name": "stderr"
        }
      ]
    },
    {
      "cell_type": "code",
      "metadata": {
        "id": "ry_sR4_Se5C1",
        "colab_type": "code",
        "colab": {}
      },
      "source": [
        "def load_data(filename):\n",
        "    \"\"\"\n",
        "    \n",
        "    Load Fake news dataset\n",
        "    \n",
        "    Input:\n",
        "    filename : CSV file that contains data\n",
        "    \n",
        "    Output:\n",
        "    data : Fake news data in pandas dataframe\n",
        "    \"\"\"\n",
        "    \n",
        "    data = pd.read_csv(filename, sep='\\t')\n",
        "    #data = pd.read_csv(filename, encoding = \"ISO-8859-1\")\n",
        "    #data = pd.read_csv(filename, sep='\\t', encoding = \"ISO-8859-1\", low_memory=False) \n",
        "    \n",
        "    return data"
      ],
      "execution_count": 0,
      "outputs": []
    },
    {
      "cell_type": "code",
      "metadata": {
        "id": "1wejGJ7FfAlW",
        "colab_type": "code",
        "outputId": "dc03a255-c6d3-4ebc-e17f-308dfddc553e",
        "colab": {
          "base_uri": "https://localhost:8080/",
          "height": 70
        }
      },
      "source": [
        "filename1 = '/content/drive/My Drive/LIAR_PLUS_data/train'\n",
        "filename2 = '/content/drive/My Drive/LIAR_PLUS_data/test'\n",
        "filename3 = '/content/drive/My Drive/LIAR_PLUS_data/val'\n",
        "\n",
        "data_train = load_data(filename1)\n",
        "data_test = load_data(filename2)\n",
        "data_val = load_data(filename3)\n",
        "\n",
        "print(data_train.shape)\n",
        "print(data_test.shape)\n",
        "print(data_val.shape)"
      ],
      "execution_count": 0,
      "outputs": [
        {
          "output_type": "stream",
          "text": [
            "(10240, 15)\n",
            "(1267, 15)\n",
            "(1284, 15)\n"
          ],
          "name": "stdout"
        }
      ]
    },
    {
      "cell_type": "code",
      "metadata": {
        "id": "V2CnCtY6_EyF",
        "colab_type": "code",
        "outputId": "67980b6c-4fab-4a0b-a9ac-9d47a1dd5bbd",
        "colab": {
          "base_uri": "https://localhost:8080/",
          "height": 552
        }
      },
      "source": [
        "# Combining all data\n",
        "\n",
        "frame = [data_train, data_test, data_val]\n",
        "data = pd.concat(frame)\n",
        "\n",
        "data = sklearn.utils.shuffle(data)\n",
        "data.reset_index(inplace=True, drop=True) \n",
        "\n",
        "data.to_csv('Liar_plus_data_final.csv')\n",
        "\n",
        "print(data.shape)\n",
        "\n",
        "data.head()"
      ],
      "execution_count": 0,
      "outputs": [
        {
          "output_type": "stream",
          "text": [
            "(12791, 15)\n"
          ],
          "name": "stdout"
        },
        {
          "output_type": "execute_result",
          "data": {
            "text/html": [
              "<div>\n",
              "<style scoped>\n",
              "    .dataframe tbody tr th:only-of-type {\n",
              "        vertical-align: middle;\n",
              "    }\n",
              "\n",
              "    .dataframe tbody tr th {\n",
              "        vertical-align: top;\n",
              "    }\n",
              "\n",
              "    .dataframe thead th {\n",
              "        text-align: right;\n",
              "    }\n",
              "</style>\n",
              "<table border=\"1\" class=\"dataframe\">\n",
              "  <thead>\n",
              "    <tr style=\"text-align: right;\">\n",
              "      <th></th>\n",
              "      <th>ID</th>\n",
              "      <th>Label</th>\n",
              "      <th>Statement</th>\n",
              "      <th>Subject</th>\n",
              "      <th>Speaker</th>\n",
              "      <th>Job</th>\n",
              "      <th>Location</th>\n",
              "      <th>Party</th>\n",
              "      <th>BT</th>\n",
              "      <th>F</th>\n",
              "      <th>HT</th>\n",
              "      <th>MT</th>\n",
              "      <th>POF</th>\n",
              "      <th>Context</th>\n",
              "      <th>Justification</th>\n",
              "    </tr>\n",
              "  </thead>\n",
              "  <tbody>\n",
              "    <tr>\n",
              "      <th>0</th>\n",
              "      <td>4880.json</td>\n",
              "      <td>false</td>\n",
              "      <td>Says his 9-9-9 tax reform plan is not regressive.</td>\n",
              "      <td>taxes</td>\n",
              "      <td>herman-cain</td>\n",
              "      <td>NaN</td>\n",
              "      <td>Georgia</td>\n",
              "      <td>republican</td>\n",
              "      <td>4.0</td>\n",
              "      <td>11.0</td>\n",
              "      <td>5.0</td>\n",
              "      <td>3.0</td>\n",
              "      <td>3.0</td>\n",
              "      <td>several public statements</td>\n",
              "      <td>Mandel said hes always held the same view on a...</td>\n",
              "    </tr>\n",
              "    <tr>\n",
              "      <th>1</th>\n",
              "      <td>2328.json</td>\n",
              "      <td>half-true</td>\n",
              "      <td>Charlie Crist has six different positions on O...</td>\n",
              "      <td>health-care</td>\n",
              "      <td>marco-rubio</td>\n",
              "      <td>U.S. Senator</td>\n",
              "      <td>Florida</td>\n",
              "      <td>republican</td>\n",
              "      <td>33.0</td>\n",
              "      <td>24.0</td>\n",
              "      <td>32.0</td>\n",
              "      <td>35.0</td>\n",
              "      <td>5.0</td>\n",
              "      <td>a campaign website</td>\n",
              "      <td>So we see three main positions here: Crist has...</td>\n",
              "    </tr>\n",
              "    <tr>\n",
              "      <th>2</th>\n",
              "      <td>1049.json</td>\n",
              "      <td>false</td>\n",
              "      <td>Palin said stimulus money for weatherization r...</td>\n",
              "      <td>energy,stimulus</td>\n",
              "      <td>sarah-palin</td>\n",
              "      <td>NaN</td>\n",
              "      <td>Alaska</td>\n",
              "      <td>republican</td>\n",
              "      <td>9.0</td>\n",
              "      <td>19.0</td>\n",
              "      <td>9.0</td>\n",
              "      <td>6.0</td>\n",
              "      <td>6.0</td>\n",
              "      <td>an interview with Sean Hannity on Fox</td>\n",
              "      <td>Romney said it took the president 14 days befo...</td>\n",
              "    </tr>\n",
              "    <tr>\n",
              "      <th>3</th>\n",
              "      <td>12914.json</td>\n",
              "      <td>true</td>\n",
              "      <td>50% of Hispanic students count on Pell Grants ...</td>\n",
              "      <td>education,federal-budget</td>\n",
              "      <td>ruben-hinojosa</td>\n",
              "      <td>U.S. House member</td>\n",
              "      <td>Texas</td>\n",
              "      <td>democrat</td>\n",
              "      <td>0.0</td>\n",
              "      <td>0.0</td>\n",
              "      <td>0.0</td>\n",
              "      <td>0.0</td>\n",
              "      <td>0.0</td>\n",
              "      <td>a tweet</td>\n",
              "      <td>Gingrich said during the debate that \"by 2014,...</td>\n",
              "    </tr>\n",
              "    <tr>\n",
              "      <th>4</th>\n",
              "      <td>6596.json</td>\n",
              "      <td>half-true</td>\n",
              "      <td>In Massachusetts, Gov. Romney narrowed the gap...</td>\n",
              "      <td>education</td>\n",
              "      <td>jeb-bush</td>\n",
              "      <td>NaN</td>\n",
              "      <td>Florida</td>\n",
              "      <td>republican</td>\n",
              "      <td>17.0</td>\n",
              "      <td>5.0</td>\n",
              "      <td>17.0</td>\n",
              "      <td>24.0</td>\n",
              "      <td>2.0</td>\n",
              "      <td>a convention speech</td>\n",
              "      <td>Johnson used the word \"insidious\" to describe ...</td>\n",
              "    </tr>\n",
              "  </tbody>\n",
              "</table>\n",
              "</div>"
            ],
            "text/plain": [
              "           ID  ...                                      Justification\n",
              "0   4880.json  ...  Mandel said hes always held the same view on a...\n",
              "1   2328.json  ...  So we see three main positions here: Crist has...\n",
              "2   1049.json  ...  Romney said it took the president 14 days befo...\n",
              "3  12914.json  ...  Gingrich said during the debate that \"by 2014,...\n",
              "4   6596.json  ...  Johnson used the word \"insidious\" to describe ...\n",
              "\n",
              "[5 rows x 15 columns]"
            ]
          },
          "metadata": {
            "tags": []
          },
          "execution_count": 5
        }
      ]
    },
    {
      "cell_type": "code",
      "metadata": {
        "id": "C2t03763_M2K",
        "colab_type": "code",
        "outputId": "24c94b41-dc70-456b-f87f-49f6da205530",
        "colab": {
          "base_uri": "https://localhost:8080/",
          "height": 298
        }
      },
      "source": [
        "data.apply(lambda x: sum(x.isnull()), axis=0)"
      ],
      "execution_count": 0,
      "outputs": [
        {
          "output_type": "execute_result",
          "data": {
            "text/plain": [
              "ID                  0\n",
              "Label               0\n",
              "Statement           0\n",
              "Subject             2\n",
              "Speaker             2\n",
              "Job              3567\n",
              "Location         2749\n",
              "Party               2\n",
              "BT                  2\n",
              "F                   2\n",
              "HT                  2\n",
              "MT                  2\n",
              "POF                 2\n",
              "Context           131\n",
              "Justification      97\n",
              "dtype: int64"
            ]
          },
          "metadata": {
            "tags": []
          },
          "execution_count": 6
        }
      ]
    },
    {
      "cell_type": "code",
      "metadata": {
        "id": "5JWNU-eL_My6",
        "colab_type": "code",
        "outputId": "c1ba4d57-4ae9-41cf-c0cc-84f253086f20",
        "colab": {
          "base_uri": "https://localhost:8080/",
          "height": 105
        }
      },
      "source": [
        "print(data[data['F'].isnull()])"
      ],
      "execution_count": 0,
      "outputs": [
        {
          "output_type": "stream",
          "text": [
            "              ID  ...                                      Justification\n",
            "325    1626.json  ...  Bill Clinton said, \"As secretary of state, (Hi...\n",
            "10679   638.json  ...  Perry says Paine wrote that the duty of a patr...\n",
            "\n",
            "[2 rows x 15 columns]\n"
          ],
          "name": "stdout"
        }
      ]
    },
    {
      "cell_type": "code",
      "metadata": {
        "id": "MnGVSGUD_MwY",
        "colab_type": "code",
        "colab": {}
      },
      "source": [
        "# Deleting rows which have barely-true, false, half-true, mostly-true and pants-on-fire are all null \n",
        "# and even other information is missing.\n",
        "\n",
        "data = data[data.ID != '638.json']\n",
        "data = data[data.ID != '1626.json']\n"
      ],
      "execution_count": 0,
      "outputs": []
    },
    {
      "cell_type": "code",
      "metadata": {
        "id": "qNkiwsrY_Mtx",
        "colab_type": "code",
        "outputId": "14dfe7c1-dd6e-48cc-958a-92bc6fad7b9d",
        "colab": {
          "base_uri": "https://localhost:8080/",
          "height": 34
        }
      },
      "source": [
        "data.shape"
      ],
      "execution_count": 0,
      "outputs": [
        {
          "output_type": "execute_result",
          "data": {
            "text/plain": [
              "(12789, 15)"
            ]
          },
          "metadata": {
            "tags": []
          },
          "execution_count": 9
        }
      ]
    },
    {
      "cell_type": "code",
      "metadata": {
        "id": "64weOwoo_MrL",
        "colab_type": "code",
        "outputId": "4de47bb4-30ad-458a-e6fa-e7fd2e70a2b2",
        "colab": {
          "base_uri": "https://localhost:8080/",
          "height": 534
        }
      },
      "source": [
        "#join all columns with text field \n",
        "temp = ['Statement', 'Subject', 'Speaker','Job', 'Location', 'Party', 'Context', 'Justification']\n",
        "\n",
        "#training data\n",
        "data_temp = data[temp]\n",
        "\n",
        "data['Full_Statement'] = data_temp.apply(lambda x: ' '.join(x.map(str)), axis=1)\n",
        "data.head()"
      ],
      "execution_count": 0,
      "outputs": [
        {
          "output_type": "execute_result",
          "data": {
            "text/html": [
              "<div>\n",
              "<style scoped>\n",
              "    .dataframe tbody tr th:only-of-type {\n",
              "        vertical-align: middle;\n",
              "    }\n",
              "\n",
              "    .dataframe tbody tr th {\n",
              "        vertical-align: top;\n",
              "    }\n",
              "\n",
              "    .dataframe thead th {\n",
              "        text-align: right;\n",
              "    }\n",
              "</style>\n",
              "<table border=\"1\" class=\"dataframe\">\n",
              "  <thead>\n",
              "    <tr style=\"text-align: right;\">\n",
              "      <th></th>\n",
              "      <th>ID</th>\n",
              "      <th>Label</th>\n",
              "      <th>Statement</th>\n",
              "      <th>Subject</th>\n",
              "      <th>Speaker</th>\n",
              "      <th>Job</th>\n",
              "      <th>Location</th>\n",
              "      <th>Party</th>\n",
              "      <th>BT</th>\n",
              "      <th>F</th>\n",
              "      <th>HT</th>\n",
              "      <th>MT</th>\n",
              "      <th>POF</th>\n",
              "      <th>Context</th>\n",
              "      <th>Justification</th>\n",
              "      <th>Full_Statement</th>\n",
              "    </tr>\n",
              "  </thead>\n",
              "  <tbody>\n",
              "    <tr>\n",
              "      <th>0</th>\n",
              "      <td>4880.json</td>\n",
              "      <td>false</td>\n",
              "      <td>Says his 9-9-9 tax reform plan is not regressive.</td>\n",
              "      <td>taxes</td>\n",
              "      <td>herman-cain</td>\n",
              "      <td>NaN</td>\n",
              "      <td>Georgia</td>\n",
              "      <td>republican</td>\n",
              "      <td>4.0</td>\n",
              "      <td>11.0</td>\n",
              "      <td>5.0</td>\n",
              "      <td>3.0</td>\n",
              "      <td>3.0</td>\n",
              "      <td>several public statements</td>\n",
              "      <td>Mandel said hes always held the same view on a...</td>\n",
              "      <td>Says his 9-9-9 tax reform plan is not regressi...</td>\n",
              "    </tr>\n",
              "    <tr>\n",
              "      <th>1</th>\n",
              "      <td>2328.json</td>\n",
              "      <td>half-true</td>\n",
              "      <td>Charlie Crist has six different positions on O...</td>\n",
              "      <td>health-care</td>\n",
              "      <td>marco-rubio</td>\n",
              "      <td>U.S. Senator</td>\n",
              "      <td>Florida</td>\n",
              "      <td>republican</td>\n",
              "      <td>33.0</td>\n",
              "      <td>24.0</td>\n",
              "      <td>32.0</td>\n",
              "      <td>35.0</td>\n",
              "      <td>5.0</td>\n",
              "      <td>a campaign website</td>\n",
              "      <td>So we see three main positions here: Crist has...</td>\n",
              "      <td>Charlie Crist has six different positions on O...</td>\n",
              "    </tr>\n",
              "    <tr>\n",
              "      <th>2</th>\n",
              "      <td>1049.json</td>\n",
              "      <td>false</td>\n",
              "      <td>Palin said stimulus money for weatherization r...</td>\n",
              "      <td>energy,stimulus</td>\n",
              "      <td>sarah-palin</td>\n",
              "      <td>NaN</td>\n",
              "      <td>Alaska</td>\n",
              "      <td>republican</td>\n",
              "      <td>9.0</td>\n",
              "      <td>19.0</td>\n",
              "      <td>9.0</td>\n",
              "      <td>6.0</td>\n",
              "      <td>6.0</td>\n",
              "      <td>an interview with Sean Hannity on Fox</td>\n",
              "      <td>Romney said it took the president 14 days befo...</td>\n",
              "      <td>Palin said stimulus money for weatherization r...</td>\n",
              "    </tr>\n",
              "    <tr>\n",
              "      <th>3</th>\n",
              "      <td>12914.json</td>\n",
              "      <td>true</td>\n",
              "      <td>50% of Hispanic students count on Pell Grants ...</td>\n",
              "      <td>education,federal-budget</td>\n",
              "      <td>ruben-hinojosa</td>\n",
              "      <td>U.S. House member</td>\n",
              "      <td>Texas</td>\n",
              "      <td>democrat</td>\n",
              "      <td>0.0</td>\n",
              "      <td>0.0</td>\n",
              "      <td>0.0</td>\n",
              "      <td>0.0</td>\n",
              "      <td>0.0</td>\n",
              "      <td>a tweet</td>\n",
              "      <td>Gingrich said during the debate that \"by 2014,...</td>\n",
              "      <td>50% of Hispanic students count on Pell Grants ...</td>\n",
              "    </tr>\n",
              "    <tr>\n",
              "      <th>4</th>\n",
              "      <td>6596.json</td>\n",
              "      <td>half-true</td>\n",
              "      <td>In Massachusetts, Gov. Romney narrowed the gap...</td>\n",
              "      <td>education</td>\n",
              "      <td>jeb-bush</td>\n",
              "      <td>NaN</td>\n",
              "      <td>Florida</td>\n",
              "      <td>republican</td>\n",
              "      <td>17.0</td>\n",
              "      <td>5.0</td>\n",
              "      <td>17.0</td>\n",
              "      <td>24.0</td>\n",
              "      <td>2.0</td>\n",
              "      <td>a convention speech</td>\n",
              "      <td>Johnson used the word \"insidious\" to describe ...</td>\n",
              "      <td>In Massachusetts, Gov. Romney narrowed the gap...</td>\n",
              "    </tr>\n",
              "  </tbody>\n",
              "</table>\n",
              "</div>"
            ],
            "text/plain": [
              "           ID  ...                                     Full_Statement\n",
              "0   4880.json  ...  Says his 9-9-9 tax reform plan is not regressi...\n",
              "1   2328.json  ...  Charlie Crist has six different positions on O...\n",
              "2   1049.json  ...  Palin said stimulus money for weatherization r...\n",
              "3  12914.json  ...  50% of Hispanic students count on Pell Grants ...\n",
              "4   6596.json  ...  In Massachusetts, Gov. Romney narrowed the gap...\n",
              "\n",
              "[5 rows x 16 columns]"
            ]
          },
          "metadata": {
            "tags": []
          },
          "execution_count": 10
        }
      ]
    },
    {
      "cell_type": "code",
      "metadata": {
        "id": "T3raj6Th_MoY",
        "colab_type": "code",
        "colab": {}
      },
      "source": [
        "# Drop all columns which we have combined earlier\n",
        "\n",
        "#Created new dataset with data_final\n",
        "data_final = data.copy()\n",
        "data_final = data.drop(temp, axis=1)"
      ],
      "execution_count": 0,
      "outputs": []
    },
    {
      "cell_type": "code",
      "metadata": {
        "id": "od99_q8l_Mlb",
        "colab_type": "code",
        "outputId": "8c9f9e84-fb9d-4b8c-b49d-11f41d2f946a",
        "colab": {
          "base_uri": "https://localhost:8080/",
          "height": 195
        }
      },
      "source": [
        "columns = ['ID', 'BT', 'F', 'HT', 'MT', 'POF']\n",
        "data_final.drop(columns, axis=1, inplace=True)\n",
        "\n",
        "data_final.head()"
      ],
      "execution_count": 0,
      "outputs": [
        {
          "output_type": "execute_result",
          "data": {
            "text/html": [
              "<div>\n",
              "<style scoped>\n",
              "    .dataframe tbody tr th:only-of-type {\n",
              "        vertical-align: middle;\n",
              "    }\n",
              "\n",
              "    .dataframe tbody tr th {\n",
              "        vertical-align: top;\n",
              "    }\n",
              "\n",
              "    .dataframe thead th {\n",
              "        text-align: right;\n",
              "    }\n",
              "</style>\n",
              "<table border=\"1\" class=\"dataframe\">\n",
              "  <thead>\n",
              "    <tr style=\"text-align: right;\">\n",
              "      <th></th>\n",
              "      <th>Label</th>\n",
              "      <th>Full_Statement</th>\n",
              "    </tr>\n",
              "  </thead>\n",
              "  <tbody>\n",
              "    <tr>\n",
              "      <th>0</th>\n",
              "      <td>false</td>\n",
              "      <td>Says his 9-9-9 tax reform plan is not regressi...</td>\n",
              "    </tr>\n",
              "    <tr>\n",
              "      <th>1</th>\n",
              "      <td>half-true</td>\n",
              "      <td>Charlie Crist has six different positions on O...</td>\n",
              "    </tr>\n",
              "    <tr>\n",
              "      <th>2</th>\n",
              "      <td>false</td>\n",
              "      <td>Palin said stimulus money for weatherization r...</td>\n",
              "    </tr>\n",
              "    <tr>\n",
              "      <th>3</th>\n",
              "      <td>true</td>\n",
              "      <td>50% of Hispanic students count on Pell Grants ...</td>\n",
              "    </tr>\n",
              "    <tr>\n",
              "      <th>4</th>\n",
              "      <td>half-true</td>\n",
              "      <td>In Massachusetts, Gov. Romney narrowed the gap...</td>\n",
              "    </tr>\n",
              "  </tbody>\n",
              "</table>\n",
              "</div>"
            ],
            "text/plain": [
              "       Label                                     Full_Statement\n",
              "0      false  Says his 9-9-9 tax reform plan is not regressi...\n",
              "1  half-true  Charlie Crist has six different positions on O...\n",
              "2      false  Palin said stimulus money for weatherization r...\n",
              "3       true  50% of Hispanic students count on Pell Grants ...\n",
              "4  half-true  In Massachusetts, Gov. Romney narrowed the gap..."
            ]
          },
          "metadata": {
            "tags": []
          },
          "execution_count": 12
        }
      ]
    },
    {
      "cell_type": "code",
      "metadata": {
        "id": "p_tNH5gKSGRn",
        "colab_type": "code",
        "colab": {}
      },
      "source": [
        "EMBEDDING_FILE = '/content/drive/My Drive/glove.6B/glove.6B.300d.txt'"
      ],
      "execution_count": 0,
      "outputs": []
    },
    {
      "cell_type": "code",
      "metadata": {
        "id": "hrx7aoTGAJgr",
        "colab_type": "code",
        "colab": {}
      },
      "source": [
        "data_train = data_final['Full_Statement'].str.lower()"
      ],
      "execution_count": 0,
      "outputs": []
    },
    {
      "cell_type": "code",
      "metadata": {
        "id": "IVPixneHGP-k",
        "colab_type": "code",
        "outputId": "2ce3f0ac-edc3-47fa-8a07-0cbaea1c1949",
        "colab": {
          "base_uri": "https://localhost:8080/",
          "height": 122
        }
      },
      "source": [
        "data_train.head()"
      ],
      "execution_count": 0,
      "outputs": [
        {
          "output_type": "execute_result",
          "data": {
            "text/plain": [
              "0    says his 9-9-9 tax reform plan is not regressi...\n",
              "1    charlie crist has six different positions on o...\n",
              "2    palin said stimulus money for weatherization r...\n",
              "3    50% of hispanic students count on pell grants ...\n",
              "4    in massachusetts, gov. romney narrowed the gap...\n",
              "Name: Full_Statement, dtype: object"
            ]
          },
          "metadata": {
            "tags": []
          },
          "execution_count": 15
        }
      ]
    },
    {
      "cell_type": "code",
      "metadata": {
        "id": "tFGGLzCed2wx",
        "colab_type": "code",
        "outputId": "2d02ece6-3bde-4e90-92af-e95a09896957",
        "colab": {
          "base_uri": "https://localhost:8080/",
          "height": 142
        }
      },
      "source": [
        "# convert categorical labels to numerical with one hot encoding\n",
        "from keras.utils import np_utils\n",
        "\n",
        "data_label = data_final[\"Label\"].tolist()\n",
        "print(data_label)\n",
        "\n",
        "encoder = LabelEncoder()\n",
        "encoder.fit(data_label)\n",
        "encoded_y = encoder.transform(data_label)\n",
        "print(encoded_y)\n",
        "# convert to dummy variables (i.e. one hot encoded)\n",
        "y_labels = np_utils.to_categorical(encoded_y, 6)\n",
        "\n",
        "print(y_labels[0:4])"
      ],
      "execution_count": 0,
      "outputs": [
        {
          "output_type": "stream",
          "text": [
            "['false', 'half-true', 'false', 'true', 'half-true', 'false', 'mostly-true', 'true', 'mostly-true', 'barely-true', 'mostly-true', 'barely-true', 'half-true', 'half-true', 'mostly-true', 'pants-fire', 'true', 'half-true', 'false', 'false', 'false', 'false', 'false', 'pants-fire', 'pants-fire', 'pants-fire', 'true', 'mostly-true', 'barely-true', 'pants-fire', 'true', 'true', 'false', 'mostly-true', 'false', 'false', 'half-true', 'pants-fire', 'pants-fire', 'barely-true', 'mostly-true', 'false', 'half-true', 'half-true', 'true', 'true', 'barely-true', 'true', 'true', 'barely-true', 'pants-fire', 'pants-fire', 'mostly-true', 'false', 'mostly-true', 'barely-true', 'false', 'true', 'mostly-true', 'false', 'barely-true', 'mostly-true', 'half-true', 'half-true', 'mostly-true', 'false', 'false', 'half-true', 'pants-fire', 'half-true', 'half-true', 'false', 'false', 'half-true', 'half-true', 'mostly-true', 'true', 'barely-true', 'true', 'half-true', 'barely-true', 'true', 'mostly-true', 'true', 'half-true', 'true', 'half-true', 'false', 'barely-true', 'barely-true', 'half-true', 'false', 'false', 'false', 'pants-fire', 'false', 'half-true', 'half-true', 'half-true', 'mostly-true', 'pants-fire', 'false', 'barely-true', 'mostly-true', 'pants-fire', 'pants-fire', 'false', 'true', 'false', 'mostly-true', 'half-true', 'mostly-true', 'pants-fire', 'mostly-true', 'true', 'half-true', 'false', 'mostly-true', 'half-true', 'false', 'half-true', 'false', 'pants-fire', 'pants-fire', 'mostly-true', 'mostly-true', 'mostly-true', 'half-true', 'pants-fire', 'false', 'true', 'true', 'barely-true', 'false', 'half-true', 'true', 'half-true', 'mostly-true', 'true', 'true', 'mostly-true', 'true', 'mostly-true', 'barely-true', 'half-true', 'pants-fire', 'mostly-true', 'mostly-true', 'pants-fire', 'false', 'half-true', 'half-true', 'barely-true', 'pants-fire', 'half-true', 'barely-true', 'mostly-true', 'mostly-true', 'barely-true', 'mostly-true', 'true', 'mostly-true', 'half-true', 'false', 'barely-true', 'barely-true', 'true', 'true', 'true', 'false', 'false', 'barely-true', 'half-true', 'mostly-true', 'true', 'half-true', 'mostly-true', 'mostly-true', 'mostly-true', 'pants-fire', 'true', 'half-true', 'mostly-true', 'half-true', 'barely-true', 'true', 'half-true', 'mostly-true', 'half-true', 'mostly-true', 'mostly-true', 'half-true', 'true', 'half-true', 'pants-fire', 'false', 'true', 'mostly-true', 'barely-true', 'barely-true', 'true', 'false', 'barely-true', 'true', 'pants-fire', 'pants-fire', 'half-true', 'half-true', 'barely-true', 'true', 'true', 'half-true', 'mostly-true', 'false', 'half-true', 'false', 'barely-true', 'mostly-true', 'mostly-true', 'barely-true', 'false', 'mostly-true', 'false', 'true', 'mostly-true', 'false', 'false', 'pants-fire', 'true', 'mostly-true', 'mostly-true', 'mostly-true', 'false', 'mostly-true', 'half-true', 'true', 'half-true', 'pants-fire', 'mostly-true', 'true', 'false', 'mostly-true', 'half-true', 'false', 'true', 'barely-true', 'half-true', 'true', 'false', 'pants-fire', 'mostly-true', 'half-true', 'false', 'pants-fire', 'half-true', 'mostly-true', 'false', 'half-true', 'half-true', 'true', 'false', 'mostly-true', 'false', 'half-true', 'barely-true', 'half-true', 'mostly-true', 'false', 'half-true', 'half-true', 'false', 'barely-true', 'half-true', 'half-true', 'barely-true', 'false', 'mostly-true', 'half-true', 'mostly-true', 'mostly-true', 'half-true', 'half-true', 'half-true', 'true', 'half-true', 'false', 'barely-true', 'mostly-true', 'mostly-true', 'mostly-true', 'false', 'barely-true', 'barely-true', 'half-true', 'barely-true', 'half-true', 'barely-true', 'half-true', 'barely-true', 'mostly-true', 'barely-true', 'mostly-true', 'barely-true', 'mostly-true', 'false', 'half-true', 'mostly-true', 'mostly-true', 'half-true', 'mostly-true', 'false', 'true', 'mostly-true', 'barely-true', 'false', 'half-true', 'mostly-true', 'half-true', 'barely-true', 'barely-true', 'mostly-true', 'half-true', 'half-true', 'mostly-true', 'mostly-true', 'mostly-true', 'mostly-true', 'true', 'false', 'barely-true', 'mostly-true', 'true', 'false', 'barely-true', 'mostly-true', 'mostly-true', 'true', 'half-true', 'barely-true', 'half-true', 'false', 'mostly-true', 'false', 'half-true', 'half-true', 'barely-true', 'pants-fire', 'half-true', 'half-true', 'false', 'half-true', 'true', 'half-true', 'false', 'false', 'pants-fire', 'false', 'half-true', 'barely-true', 'mostly-true', 'half-true', 'barely-true', 'mostly-true', 'mostly-true', 'false', 'mostly-true', 'barely-true', 'mostly-true', 'half-true', 'true', 'half-true', 'mostly-true', 'false', 'barely-true', 'true', 'mostly-true', 'barely-true', 'true', 'mostly-true', 'half-true', 'pants-fire', 'barely-true', 'half-true', 'barely-true', 'true', 'pants-fire', 'false', 'false', 'half-true', 'barely-true', 'true', 'true', 'false', 'barely-true', 'true', 'true', 'mostly-true', 'false', 'mostly-true', 'half-true', 'pants-fire', 'true', 'mostly-true', 'half-true', 'true', 'barely-true', 'true', 'false', 'true', 'mostly-true', 'mostly-true', 'pants-fire', 'barely-true', 'half-true', 'half-true', 'mostly-true', 'barely-true', 'half-true', 'true', 'true', 'half-true', 'barely-true', 'half-true', 'false', 'half-true', 'barely-true', 'mostly-true', 'true', 'barely-true', 'mostly-true', 'pants-fire', 'mostly-true', 'false', 'mostly-true', 'half-true', 'barely-true', 'true', 'false', 'mostly-true', 'false', 'barely-true', 'half-true', 'half-true', 'half-true', 'half-true', 'false', 'pants-fire', 'true', 'true', 'false', 'pants-fire', 'mostly-true', 'mostly-true', 'true', 'true', 'mostly-true', 'false', 'false', 'half-true', 'false', 'false', 'true', 'barely-true', 'false', 'barely-true', 'half-true', 'mostly-true', 'barely-true', 'mostly-true', 'false', 'pants-fire', 'true', 'false', 'barely-true', 'mostly-true', 'pants-fire', 'barely-true', 'false', 'half-true', 'barely-true', 'mostly-true', 'true', 'half-true', 'half-true', 'mostly-true', 'half-true', 'false', 'false', 'true', 'true', 'mostly-true', 'true', 'mostly-true', 'half-true', 'true', 'barely-true', 'barely-true', 'mostly-true', 'false', 'true', 'half-true', 'barely-true', 'half-true', 'barely-true', 'true', 'mostly-true', 'half-true', 'false', 'half-true', 'mostly-true', 'half-true', 'mostly-true', 'false', 'half-true', 'barely-true', 'barely-true', 'pants-fire', 'true', 'barely-true', 'half-true', 'half-true', 'half-true', 'barely-true', 'half-true', 'false', 'barely-true', 'false', 'false', 'half-true', 'mostly-true', 'half-true', 'mostly-true', 'half-true', 'barely-true', 'half-true', 'false', 'mostly-true', 'half-true', 'barely-true', 'false', 'mostly-true', 'true', 'barely-true', 'barely-true', 'mostly-true', 'false', 'false', 'true', 'false', 'true', 'mostly-true', 'false', 'true', 'half-true', 'barely-true', 'false', 'false', 'false', 'false', 'pants-fire', 'true', 'half-true', 'half-true', 'barely-true', 'false', 'false', 'mostly-true', 'barely-true', 'half-true', 'half-true', 'half-true', 'true', 'true', 'pants-fire', 'half-true', 'pants-fire', 'half-true', 'half-true', 'mostly-true', 'barely-true', 'true', 'true', 'mostly-true', 'half-true', 'pants-fire', 'half-true', 'pants-fire', 'true', 'mostly-true', 'half-true', 'false', 'barely-true', 'true', 'barely-true', 'false', 'barely-true', 'barely-true', 'half-true', 'half-true', 'false', 'false', 'barely-true', 'barely-true', 'pants-fire', 'false', 'half-true', 'mostly-true', 'true', 'mostly-true', 'mostly-true', 'barely-true', 'false', 'true', 'false', 'half-true', 'barely-true', 'false', 'half-true', 'pants-fire', 'barely-true', 'half-true', 'barely-true', 'barely-true', 'false', 'half-true', 'mostly-true', 'half-true', 'mostly-true', 'pants-fire', 'pants-fire', 'half-true', 'pants-fire', 'half-true', 'mostly-true', 'false', 'half-true', 'half-true', 'barely-true', 'false', 'true', 'false', 'half-true', 'false', 'true', 'mostly-true', 'mostly-true', 'mostly-true', 'half-true', 'true', 'false', 'barely-true', 'mostly-true', 'mostly-true', 'mostly-true', 'mostly-true', 'true', 'half-true', 'true', 'barely-true', 'half-true', 'half-true', 'half-true', 'true', 'half-true', 'true', 'barely-true', 'true', 'mostly-true', 'half-true', 'false', 'barely-true', 'half-true', 'barely-true', 'half-true', 'false', 'barely-true', 'false', 'mostly-true', 'false', 'half-true', 'false', 'false', 'true', 'false', 'false', 'barely-true', 'mostly-true', 'true', 'true', 'half-true', 'false', 'false', 'false', 'pants-fire', 'barely-true', 'barely-true', 'half-true', 'mostly-true', 'mostly-true', 'mostly-true', 'mostly-true', 'barely-true', 'barely-true', 'false', 'half-true', 'barely-true', 'false', 'mostly-true', 'half-true', 'pants-fire', 'mostly-true', 'half-true', 'pants-fire', 'false', 'half-true', 'pants-fire', 'mostly-true', 'barely-true', 'true', 'mostly-true', 'false', 'true', 'half-true', 'half-true', 'true', 'mostly-true', 'half-true', 'mostly-true', 'false', 'barely-true', 'mostly-true', 'barely-true', 'half-true', 'true', 'barely-true', 'mostly-true', 'half-true', 'true', 'mostly-true', 'half-true', 'true', 'true', 'pants-fire', 'true', 'false', 'mostly-true', 'barely-true', 'false', 'mostly-true', 'half-true', 'barely-true', 'pants-fire', 'half-true', 'barely-true', 'barely-true', 'mostly-true', 'mostly-true', 'half-true', 'false', 'mostly-true', 'mostly-true', 'half-true', 'half-true', 'true', 'true', 'mostly-true', 'half-true', 'pants-fire', 'half-true', 'half-true', 'mostly-true', 'false', 'pants-fire', 'pants-fire', 'false', 'half-true', 'barely-true', 'half-true', 'half-true', 'half-true', 'half-true', 'false', 'false', 'true', 'barely-true', 'barely-true', 'barely-true', 'half-true', 'barely-true', 'false', 'true', 'pants-fire', 'true', 'barely-true', 'mostly-true', 'barely-true', 'mostly-true', 'pants-fire', 'barely-true', 'mostly-true', 'false', 'half-true', 'false', 'true', 'false', 'barely-true', 'half-true', 'false', 'mostly-true', 'barely-true', 'mostly-true', 'barely-true', 'false', 'true', 'true', 'barely-true', 'half-true', 'false', 'false', 'barely-true', 'true', 'half-true', 'half-true', 'false', 'barely-true', 'half-true', 'barely-true', 'mostly-true', 'mostly-true', 'half-true', 'mostly-true', 'mostly-true', 'true', 'true', 'half-true', 'true', 'true', 'mostly-true', 'barely-true', 'false', 'half-true', 'half-true', 'half-true', 'false', 'pants-fire', 'barely-true', 'mostly-true', 'mostly-true', 'half-true', 'true', 'half-true', 'mostly-true', 'half-true', 'true', 'mostly-true', 'half-true', 'half-true', 'barely-true', 'half-true', 'half-true', 'pants-fire', 'false', 'true', 'barely-true', 'half-true', 'true', 'false', 'barely-true', 'true', 'false', 'barely-true', 'false', 'mostly-true', 'false', 'barely-true', 'mostly-true', 'half-true', 'barely-true', 'mostly-true', 'barely-true', 'false', 'barely-true', 'barely-true', 'false', 'barely-true', 'mostly-true', 'half-true', 'barely-true', 'true', 'barely-true', 'pants-fire', 'false', 'mostly-true', 'half-true', 'half-true', 'mostly-true', 'false', 'false', 'mostly-true', 'mostly-true', 'pants-fire', 'true', 'barely-true', 'half-true', 'half-true', 'true', 'true', 'false', 'false', 'barely-true', 'pants-fire', 'barely-true', 'mostly-true', 'true', 'false', 'barely-true', 'half-true', 'mostly-true', 'barely-true', 'barely-true', 'mostly-true', 'false', 'false', 'false', 'true', 'false', 'true', 'barely-true', 'mostly-true', 'false', 'half-true', 'mostly-true', 'barely-true', 'half-true', 'barely-true', 'half-true', 'barely-true', 'pants-fire', 'mostly-true', 'mostly-true', 'true', 'true', 'pants-fire', 'barely-true', 'mostly-true', 'mostly-true', 'barely-true', 'half-true', 'false', 'true', 'half-true', 'true', 'true', 'false', 'pants-fire', 'true', 'false', 'half-true', 'mostly-true', 'false', 'barely-true', 'barely-true', 'pants-fire', 'false', 'mostly-true', 'mostly-true', 'false', 'barely-true', 'barely-true', 'mostly-true', 'barely-true', 'false', 'half-true', 'half-true', 'true', 'pants-fire', 'true', 'false', 'true', 'false', 'barely-true', 'pants-fire', 'false', 'false', 'true', 'pants-fire', 'half-true', 'barely-true', 'mostly-true', 'barely-true', 'false', 'half-true', 'false', 'half-true', 'true', 'half-true', 'true', 'half-true', 'true', 'false', 'half-true', 'false', 'half-true', 'mostly-true', 'half-true', 'half-true', 'false', 'half-true', 'half-true', 'barely-true', 'barely-true', 'barely-true', 'mostly-true', 'mostly-true', 'barely-true', 'half-true', 'true', 'pants-fire', 'half-true', 'barely-true', 'true', 'half-true', 'barely-true', 'true', 'true', 'half-true', 'true', 'half-true', 'true', 'mostly-true', 'pants-fire', 'mostly-true', 'true', 'pants-fire', 'true', 'half-true', 'barely-true', 'false', 'mostly-true', 'false', 'true', 'barely-true', 'pants-fire', 'false', 'false', 'pants-fire', 'mostly-true', 'true', 'mostly-true', 'half-true', 'half-true', 'true', 'true', 'true', 'half-true', 'mostly-true', 'half-true', 'false', 'false', 'barely-true', 'mostly-true', 'pants-fire', 'barely-true', 'barely-true', 'half-true', 'half-true', 'false', 'pants-fire', 'false', 'true', 'false', 'true', 'mostly-true', 'true', 'barely-true', 'half-true', 'false', 'half-true', 'pants-fire', 'false', 'half-true', 'true', 'barely-true', 'true', 'barely-true', 'half-true', 'mostly-true', 'barely-true', 'barely-true', 'half-true', 'mostly-true', 'half-true', 'mostly-true', 'half-true', 'mostly-true', 'half-true', 'half-true', 'false', 'half-true', 'barely-true', 'false', 'false', 'mostly-true', 'pants-fire', 'barely-true', 'pants-fire', 'mostly-true', 'barely-true', 'half-true', 'barely-true', 'half-true', 'barely-true', 'true', 'true', 'false', 'true', 'half-true', 'false', 'true', 'mostly-true', 'false', 'true', 'barely-true', 'half-true', 'barely-true', 'half-true', 'half-true', 'true', 'pants-fire', 'half-true', 'pants-fire', 'true', 'mostly-true', 'barely-true', 'pants-fire', 'half-true', 'mostly-true', 'pants-fire', 'true', 'half-true', 'barely-true', 'half-true', 'true', 'barely-true', 'true', 'mostly-true', 'barely-true', 'mostly-true', 'half-true', 'false', 'barely-true', 'true', 'barely-true', 'false', 'pants-fire', 'half-true', 'false', 'false', 'mostly-true', 'pants-fire', 'half-true', 'mostly-true', 'barely-true', 'half-true', 'half-true', 'barely-true', 'false', 'mostly-true', 'mostly-true', 'half-true', 'barely-true', 'barely-true', 'false', 'barely-true', 'barely-true', 'half-true', 'barely-true', 'false', 'pants-fire', 'true', 'half-true', 'barely-true', 'half-true', 'mostly-true', 'false', 'mostly-true', 'barely-true', 'half-true', 'half-true', 'half-true', 'barely-true', 'false', 'pants-fire', 'false', 'mostly-true', 'barely-true', 'mostly-true', 'half-true', 'half-true', 'pants-fire', 'false', 'pants-fire', 'false', 'mostly-true', 'false', 'false', 'mostly-true', 'false', 'true', 'mostly-true', 'false', 'barely-true', 'barely-true', 'false', 'mostly-true', 'true', 'mostly-true', 'true', 'true', 'mostly-true', 'mostly-true', 'false', 'pants-fire', 'mostly-true', 'barely-true', 'barely-true', 'true', 'false', 'half-true', 'false', 'barely-true', 'mostly-true', 'half-true', 'half-true', 'false', 'mostly-true', 'false', 'false', 'barely-true', 'false', 'pants-fire', 'true', 'true', 'half-true', 'true', 'barely-true', 'true', 'half-true', 'true', 'true', 'true', 'mostly-true', 'half-true', 'half-true', 'barely-true', 'barely-true', 'barely-true', 'false', 'barely-true', 'pants-fire', 'pants-fire', 'false', 'barely-true', 'false', 'true', 'barely-true', 'barely-true', 'barely-true', 'false', 'half-true', 'true', 'false', 'barely-true', 'true', 'mostly-true', 'half-true', 'true', 'barely-true', 'true', 'half-true', 'false', 'pants-fire', 'mostly-true', 'barely-true', 'true', 'barely-true', 'half-true', 'half-true', 'pants-fire', 'mostly-true', 'true', 'mostly-true', 'false', 'pants-fire', 'pants-fire', 'barely-true', 'pants-fire', 'false', 'mostly-true', 'mostly-true', 'false', 'pants-fire', 'half-true', 'mostly-true', 'mostly-true', 'false', 'true', 'mostly-true', 'half-true', 'half-true', 'half-true', 'barely-true', 'mostly-true', 'true', 'half-true', 'barely-true', 'mostly-true', 'mostly-true', 'false', 'true', 'half-true', 'mostly-true', 'half-true', 'half-true', 'barely-true', 'mostly-true', 'barely-true', 'true', 'mostly-true', 'barely-true', 'mostly-true', 'half-true', 'pants-fire', 'half-true', 'true', 'false', 'true', 'false', 'barely-true', 'pants-fire', 'half-true', 'false', 'false', 'false', 'mostly-true', 'true', 'half-true', 'mostly-true', 'barely-true', 'true', 'mostly-true', 'mostly-true', 'mostly-true', 'barely-true', 'mostly-true', 'half-true', 'barely-true', 'mostly-true', 'true', 'true', 'barely-true', 'mostly-true', 'pants-fire', 'half-true', 'false', 'half-true', 'mostly-true', 'half-true', 'barely-true', 'barely-true', 'pants-fire', 'mostly-true', 'true', 'true', 'true', 'half-true', 'true', 'mostly-true', 'barely-true', 'barely-true', 'barely-true', 'false', 'false', 'false', 'true', 'true', 'mostly-true', 'half-true', 'true', 'mostly-true', 'half-true', 'half-true', 'false', 'mostly-true', 'mostly-true', 'false', 'true', 'mostly-true', 'half-true', 'half-true', 'false', 'half-true', 'mostly-true', 'pants-fire', 'true', 'pants-fire', 'barely-true', 'pants-fire', 'mostly-true', 'false', 'mostly-true', 'true', 'half-true', 'true', 'half-true', 'pants-fire', 'half-true', 'mostly-true', 'false', 'barely-true', 'false', 'barely-true', 'mostly-true', 'false', 'half-true', 'barely-true', 'half-true', 'mostly-true', 'pants-fire', 'true', 'true', 'mostly-true', 'half-true', 'half-true', 'false', 'mostly-true', 'false', 'half-true', 'mostly-true', 'barely-true', 'half-true', 'half-true', 'mostly-true', 'true', 'half-true', 'mostly-true', 'mostly-true', 'barely-true', 'false', 'barely-true', 'barely-true', 'false', 'false', 'pants-fire', 'false', 'true', 'mostly-true', 'mostly-true', 'false', 'true', 'half-true', 'true', 'false', 'half-true', 'false', 'half-true', 'true', 'false', 'true', 'half-true', 'mostly-true', 'barely-true', 'pants-fire', 'false', 'true', 'false', 'false', 'true', 'false', 'pants-fire', 'barely-true', 'barely-true', 'mostly-true', 'true', 'false', 'barely-true', 'mostly-true', 'true', 'false', 'half-true', 'true', 'barely-true', 'barely-true', 'false', 'half-true', 'half-true', 'pants-fire', 'false', 'mostly-true', 'barely-true', 'half-true', 'false', 'pants-fire', 'false', 'half-true', 'mostly-true', 'half-true', 'barely-true', 'barely-true', 'half-true', 'half-true', 'true', 'true', 'barely-true', 'half-true', 'true', 'true', 'pants-fire', 'false', 'false', 'mostly-true', 'false', 'true', 'mostly-true', 'mostly-true', 'barely-true', 'mostly-true', 'false', 'pants-fire', 'mostly-true', 'true', 'mostly-true', 'pants-fire', 'barely-true', 'half-true', 'half-true', 'mostly-true', 'false', 'barely-true', 'mostly-true', 'half-true', 'false', 'mostly-true', 'pants-fire', 'barely-true', 'false', 'true', 'false', 'true', 'pants-fire', 'mostly-true', 'pants-fire', 'barely-true', 'half-true', 'barely-true', 'mostly-true', 'half-true', 'true', 'barely-true', 'mostly-true', 'half-true', 'mostly-true', 'true', 'false', 'barely-true', 'false', 'half-true', 'barely-true', 'barely-true', 'pants-fire', 'barely-true', 'false', 'pants-fire', 'barely-true', 'half-true', 'false', 'false', 'pants-fire', 'false', 'half-true', 'mostly-true', 'half-true', 'half-true', 'barely-true', 'true', 'true', 'mostly-true', 'pants-fire', 'mostly-true', 'half-true', 'mostly-true', 'mostly-true', 'false', 'false', 'false', 'true', 'barely-true', 'true', 'true', 'half-true', 'barely-true', 'mostly-true', 'mostly-true', 'half-true', 'pants-fire', 'pants-fire', 'true', 'barely-true', 'barely-true', 'false', 'false', 'mostly-true', 'mostly-true', 'mostly-true', 'true', 'barely-true', 'false', 'true', 'true', 'false', 'half-true', 'false', 'half-true', 'barely-true', 'half-true', 'false', 'true', 'mostly-true', 'true', 'pants-fire', 'half-true', 'pants-fire', 'false', 'half-true', 'false', 'barely-true', 'half-true', 'true', 'mostly-true', 'barely-true', 'barely-true', 'mostly-true', 'barely-true', 'false', 'mostly-true', 'true', 'half-true', 'mostly-true', 'mostly-true', 'true', 'mostly-true', 'barely-true', 'half-true', 'half-true', 'barely-true', 'half-true', 'barely-true', 'false', 'half-true', 'barely-true', 'pants-fire', 'mostly-true', 'barely-true', 'half-true', 'true', 'false', 'true', 'false', 'true', 'true', 'pants-fire', 'mostly-true', 'mostly-true', 'half-true', 'false', 'true', 'false', 'half-true', 'pants-fire', 'pants-fire', 'true', 'barely-true', 'pants-fire', 'mostly-true', 'half-true', 'true', 'true', 'half-true', 'false', 'false', 'half-true', 'false', 'half-true', 'barely-true', 'half-true', 'mostly-true', 'false', 'half-true', 'mostly-true', 'mostly-true', 'half-true', 'pants-fire', 'mostly-true', 'true', 'true', 'false', 'false', 'true', 'true', 'mostly-true', 'mostly-true', 'true', 'half-true', 'false', 'false', 'false', 'false', 'barely-true', 'false', 'half-true', 'half-true', 'true', 'false', 'pants-fire', 'true', 'barely-true', 'half-true', 'true', 'pants-fire', 'barely-true', 'mostly-true', 'half-true', 'half-true', 'mostly-true', 'barely-true', 'true', 'half-true', 'barely-true', 'pants-fire', 'half-true', 'half-true', 'half-true', 'pants-fire', 'half-true', 'false', 'half-true', 'half-true', 'half-true', 'false', 'half-true', 'false', 'false', 'barely-true', 'half-true', 'true', 'barely-true', 'true', 'mostly-true', 'true', 'mostly-true', 'half-true', 'false', 'false', 'half-true', 'true', 'pants-fire', 'mostly-true', 'true', 'half-true', 'half-true', 'false', 'false', 'false', 'pants-fire', 'barely-true', 'false', 'barely-true', 'half-true', 'false', 'pants-fire', 'pants-fire', 'half-true', 'false', 'true', 'half-true', 'half-true', 'half-true', 'half-true', 'half-true', 'mostly-true', 'pants-fire', 'pants-fire', 'barely-true', 'mostly-true', 'mostly-true', 'true', 'half-true', 'barely-true', 'mostly-true', 'pants-fire', 'false', 'barely-true', 'mostly-true', 'true', 'barely-true', 'barely-true', 'true', 'mostly-true', 'barely-true', 'barely-true', 'false', 'barely-true', 'mostly-true', 'mostly-true', 'half-true', 'barely-true', 'barely-true', 'half-true', 'half-true', 'false', 'true', 'mostly-true', 'half-true', 'true', 'mostly-true', 'barely-true', 'barely-true', 'pants-fire', 'false', 'true', 'false', 'true', 'mostly-true', 'pants-fire', 'half-true', 'barely-true', 'half-true', 'mostly-true', 'mostly-true', 'barely-true', 'half-true', 'pants-fire', 'mostly-true', 'barely-true', 'mostly-true', 'true', 'false', 'true', 'pants-fire', 'false', 'barely-true', 'false', 'false', 'mostly-true', 'half-true', 'pants-fire', 'half-true', 'half-true', 'mostly-true', 'barely-true', 'mostly-true', 'barely-true', 'pants-fire', 'pants-fire', 'mostly-true', 'half-true', 'true', 'false', 'barely-true', 'mostly-true', 'barely-true', 'mostly-true', 'false', 'half-true', 'barely-true', 'false', 'mostly-true', 'true', 'mostly-true', 'barely-true', 'half-true', 'pants-fire', 'false', 'pants-fire', 'half-true', 'mostly-true', 'barely-true', 'barely-true', 'pants-fire', 'pants-fire', 'false', 'true', 'true', 'half-true', 'mostly-true', 'false', 'pants-fire', 'half-true', 'half-true', 'false', 'half-true', 'half-true', 'true', 'half-true', 'barely-true', 'false', 'mostly-true', 'false', 'half-true', 'mostly-true', 'barely-true', 'half-true', 'half-true', 'false', 'mostly-true', 'half-true', 'false', 'barely-true', 'half-true', 'half-true', 'mostly-true', 'false', 'false', 'mostly-true', 'true', 'half-true', 'true', 'barely-true', 'mostly-true', 'half-true', 'mostly-true', 'true', 'half-true', 'half-true', 'half-true', 'pants-fire', 'false', 'mostly-true', 'false', 'pants-fire', 'false', 'mostly-true', 'pants-fire', 'pants-fire', 'false', 'false', 'half-true', 'true', 'false', 'mostly-true', 'half-true', 'pants-fire', 'false', 'true', 'true', 'half-true', 'false', 'false', 'pants-fire', 'false', 'true', 'half-true', 'mostly-true', 'barely-true', 'mostly-true', 'pants-fire', 'barely-true', 'true', 'mostly-true', 'mostly-true', 'half-true', 'false', 'false', 'mostly-true', 'mostly-true', 'false', 'mostly-true', 'true', 'mostly-true', 'half-true', 'half-true', 'true', 'true', 'true', 'true', 'true', 'mostly-true', 'mostly-true', 'false', 'false', 'half-true', 'half-true', 'false', 'false', 'mostly-true', 'false', 'mostly-true', 'pants-fire', 'pants-fire', 'false', 'mostly-true', 'barely-true', 'barely-true', 'true', 'false', 'false', 'true', 'true', 'half-true', 'true', 'pants-fire', 'false', 'half-true', 'barely-true', 'half-true', 'true', 'barely-true', 'half-true', 'mostly-true', 'mostly-true', 'false', 'barely-true', 'barely-true', 'mostly-true', 'true', 'true', 'barely-true', 'half-true', 'half-true', 'pants-fire', 'true', 'false', 'mostly-true', 'half-true', 'half-true', 'barely-true', 'half-true', 'mostly-true', 'barely-true', 'mostly-true', 'mostly-true', 'mostly-true', 'false', 'barely-true', 'half-true', 'mostly-true', 'half-true', 'false', 'barely-true', 'barely-true', 'half-true', 'mostly-true', 'half-true', 'half-true', 'pants-fire', 'mostly-true', 'barely-true', 'false', 'mostly-true', 'mostly-true', 'half-true', 'true', 'half-true', 'true', 'half-true', 'false', 'pants-fire', 'half-true', 'mostly-true', 'false', 'half-true', 'barely-true', 'half-true', 'half-true', 'true', 'pants-fire', 'mostly-true', 'half-true', 'false', 'true', 'half-true', 'half-true', 'barely-true', 'true', 'half-true', 'barely-true', 'half-true', 'barely-true', 'half-true', 'half-true', 'barely-true', 'barely-true', 'barely-true', 'false', 'half-true', 'barely-true', 'mostly-true', 'true', 'mostly-true', 'mostly-true', 'pants-fire', 'false', 'barely-true', 'barely-true', 'pants-fire', 'true', 'true', 'mostly-true', 'pants-fire', 'barely-true', 'true', 'half-true', 'mostly-true', 'true', 'half-true', 'true', 'barely-true', 'false', 'mostly-true', 'mostly-true', 'false', 'true', 'barely-true', 'false', 'half-true', 'pants-fire', 'pants-fire', 'mostly-true', 'pants-fire', 'half-true', 'barely-true', 'barely-true', 'true', 'true', 'barely-true', 'mostly-true', 'true', 'pants-fire', 'half-true', 'half-true', 'mostly-true', 'false', 'barely-true', 'half-true', 'half-true', 'half-true', 'false', 'mostly-true', 'half-true', 'mostly-true', 'barely-true', 'false', 'true', 'true', 'false', 'mostly-true', 'half-true', 'pants-fire', 'true', 'half-true', 'false', 'false', 'false', 'false', 'mostly-true', 'true', 'barely-true', 'true', 'barely-true', 'true', 'true', 'true', 'true', 'pants-fire', 'mostly-true', 'half-true', 'half-true', 'half-true', 'false', 'mostly-true', 'half-true', 'pants-fire', 'barely-true', 'half-true', 'mostly-true', 'true', 'barely-true', 'mostly-true', 'half-true', 'barely-true', 'false', 'mostly-true', 'false', 'barely-true', 'true', 'mostly-true', 'mostly-true', 'true', 'barely-true', 'barely-true', 'half-true', 'true', 'pants-fire', 'false', 'half-true', 'mostly-true', 'mostly-true', 'barely-true', 'false', 'half-true', 'half-true', 'mostly-true', 'false', 'false', 'false', 'false', 'half-true', 'half-true', 'false', 'barely-true', 'pants-fire', 'half-true', 'false', 'false', 'false', 'barely-true', 'pants-fire', 'barely-true', 'barely-true', 'mostly-true', 'false', 'mostly-true', 'mostly-true', 'false', 'barely-true', 'false', 'half-true', 'barely-true', 'barely-true', 'false', 'mostly-true', 'half-true', 'true', 'false', 'mostly-true', 'half-true', 'barely-true', 'half-true', 'false', 'half-true', 'barely-true', 'barely-true', 'false', 'barely-true', 'mostly-true', 'pants-fire', 'pants-fire', 'false', 'half-true', 'false', 'pants-fire', 'pants-fire', 'mostly-true', 'true', 'barely-true', 'pants-fire', 'false', 'true', 'half-true', 'barely-true', 'true', 'true', 'true', 'false', 'false', 'pants-fire', 'false', 'half-true', 'barely-true', 'pants-fire', 'half-true', 'true', 'true', 'barely-true', 'mostly-true', 'pants-fire', 'true', 'true', 'barely-true', 'half-true', 'pants-fire', 'mostly-true', 'true', 'false', 'false', 'false', 'pants-fire', 'true', 'mostly-true', 'mostly-true', 'false', 'barely-true', 'true', 'pants-fire', 'mostly-true', 'false', 'false', 'false', 'half-true', 'mostly-true', 'false', 'true', 'mostly-true', 'false', 'false', 'half-true', 'barely-true', 'true', 'half-true', 'pants-fire', 'mostly-true', 'mostly-true', 'false', 'mostly-true', 'true', 'false', 'false', 'mostly-true', 'false', 'barely-true', 'false', 'barely-true', 'mostly-true', 'true', 'true', 'mostly-true', 'half-true', 'false', 'mostly-true', 'true', 'barely-true', 'true', 'pants-fire', 'true', 'barely-true', 'half-true', 'mostly-true', 'barely-true', 'half-true', 'pants-fire', 'half-true', 'pants-fire', 'half-true', 'half-true', 'mostly-true', 'mostly-true', 'true', 'half-true', 'mostly-true', 'half-true', 'false', 'barely-true', 'pants-fire', 'mostly-true', 'half-true', 'pants-fire', 'barely-true', 'false', 'half-true', 'mostly-true', 'true', 'half-true', 'false', 'false', 'barely-true', 'half-true', 'false', 'pants-fire', 'true', 'mostly-true', 'barely-true', 'mostly-true', 'half-true', 'true', 'barely-true', 'pants-fire', 'true', 'half-true', 'half-true', 'pants-fire', 'pants-fire', 'mostly-true', 'mostly-true', 'half-true', 'barely-true', 'half-true', 'barely-true', 'barely-true', 'pants-fire', 'false', 'barely-true', 'false', 'mostly-true', 'true', 'pants-fire', 'barely-true', 'half-true', 'mostly-true', 'false', 'mostly-true', 'false', 'barely-true', 'barely-true', 'pants-fire', 'pants-fire', 'half-true', 'true', 'false', 'false', 'barely-true', 'barely-true', 'pants-fire', 'true', 'half-true', 'true', 'true', 'true', 'mostly-true', 'mostly-true', 'false', 'barely-true', 'barely-true', 'barely-true', 'true', 'barely-true', 'false', 'mostly-true', 'mostly-true', 'mostly-true', 'half-true', 'half-true', 'true', 'half-true', 'mostly-true', 'true', 'barely-true', 'half-true', 'half-true', 'mostly-true', 'mostly-true', 'half-true', 'mostly-true', 'half-true', 'true', 'mostly-true', 'false', 'half-true', 'half-true', 'barely-true', 'true', 'true', 'true', 'true', 'true', 'barely-true', 'pants-fire', 'half-true', 'half-true', 'barely-true', 'false', 'half-true', 'barely-true', 'half-true', 'true', 'true', 'true', 'pants-fire', 'barely-true', 'false', 'false', 'true', 'false', 'true', 'true', 'pants-fire', 'half-true', 'barely-true', 'false', 'half-true', 'mostly-true', 'barely-true', 'pants-fire', 'mostly-true', 'mostly-true', 'mostly-true', 'half-true', 'pants-fire', 'false', 'barely-true', 'true', 'true', 'false', 'pants-fire', 'barely-true', 'mostly-true', 'false', 'half-true', 'barely-true', 'false', 'barely-true', 'half-true', 'half-true', 'mostly-true', 'true', 'mostly-true', 'false', 'half-true', 'half-true', 'false', 'half-true', 'false', 'mostly-true', 'half-true', 'mostly-true', 'false', 'barely-true', 'barely-true', 'true', 'half-true', 'true', 'mostly-true', 'half-true', 'mostly-true', 'false', 'true', 'barely-true', 'false', 'half-true', 'half-true', 'barely-true', 'half-true', 'barely-true', 'barely-true', 'half-true', 'half-true', 'barely-true', 'half-true', 'half-true', 'false', 'true', 'mostly-true', 'mostly-true', 'barely-true', 'barely-true', 'half-true', 'barely-true', 'false', 'mostly-true', 'mostly-true', 'barely-true', 'true', 'false', 'false', 'false', 'half-true', 'barely-true', 'barely-true', 'mostly-true', 'mostly-true', 'true', 'half-true', 'true', 'false', 'half-true', 'half-true', 'mostly-true', 'barely-true', 'barely-true', 'false', 'pants-fire', 'true', 'barely-true', 'true', 'barely-true', 'false', 'false', 'half-true', 'false', 'mostly-true', 'true', 'mostly-true', 'false', 'false', 'false', 'false', 'half-true', 'true', 'half-true', 'half-true', 'mostly-true', 'half-true', 'barely-true', 'true', 'barely-true', 'half-true', 'true', 'mostly-true', 'half-true', 'mostly-true', 'half-true', 'mostly-true', 'half-true', 'pants-fire', 'mostly-true', 'false', 'true', 'pants-fire', 'barely-true', 'false', 'barely-true', 'true', 'half-true', 'true', 'half-true', 'barely-true', 'true', 'false', 'true', 'half-true', 'false', 'mostly-true', 'half-true', 'true', 'half-true', 'barely-true', 'mostly-true', 'mostly-true', 'true', 'mostly-true', 'barely-true', 'mostly-true', 'false', 'false', 'mostly-true', 'half-true', 'mostly-true', 'false', 'mostly-true', 'half-true', 'false', 'barely-true', 'mostly-true', 'half-true', 'true', 'pants-fire', 'true', 'half-true', 'true', 'mostly-true', 'pants-fire', 'mostly-true', 'barely-true', 'pants-fire', 'true', 'true', 'mostly-true', 'true', 'mostly-true', 'mostly-true', 'mostly-true', 'pants-fire', 'false', 'pants-fire', 'barely-true', 'half-true', 'half-true', 'mostly-true', 'false', 'half-true', 'false', 'false', 'half-true', 'true', 'barely-true', 'half-true', 'true', 'false', 'half-true', 'half-true', 'half-true', 'half-true', 'pants-fire', 'false', 'half-true', 'mostly-true', 'true', 'false', 'mostly-true', 'false', 'false', 'false', 'barely-true', 'pants-fire', 'barely-true', 'true', 'barely-true', 'half-true', 'mostly-true', 'false', 'half-true', 'false', 'true', 'true', 'true', 'mostly-true', 'barely-true', 'half-true', 'barely-true', 'true', 'barely-true', 'half-true', 'true', 'pants-fire', 'false', 'barely-true', 'barely-true', 'mostly-true', 'false', 'mostly-true', 'true', 'half-true', 'barely-true', 'mostly-true', 'false', 'barely-true', 'half-true', 'false', 'false', 'mostly-true', 'true', 'mostly-true', 'pants-fire', 'barely-true', 'false', 'barely-true', 'half-true', 'true', 'half-true', 'half-true', 'pants-fire', 'mostly-true', 'true', 'pants-fire', 'false', 'false', 'mostly-true', 'barely-true', 'pants-fire', 'half-true', 'barely-true', 'mostly-true', 'false', 'barely-true', 'pants-fire', 'false', 'false', 'barely-true', 'mostly-true', 'barely-true', 'mostly-true', 'barely-true', 'mostly-true', 'pants-fire', 'barely-true', 'barely-true', 'half-true', 'barely-true', 'false', 'false', 'half-true', 'true', 'pants-fire', 'half-true', 'true', 'pants-fire', 'half-true', 'pants-fire', 'mostly-true', 'mostly-true', 'true', 'barely-true', 'false', 'mostly-true', 'true', 'pants-fire', 'true', 'barely-true', 'half-true', 'pants-fire', 'half-true', 'barely-true', 'true', 'pants-fire', 'false', 'mostly-true', 'false', 'pants-fire', 'half-true', 'true', 'half-true', 'false', 'false', 'true', 'half-true', 'false', 'pants-fire', 'false', 'true', 'true', 'false', 'mostly-true', 'barely-true', 'barely-true', 'half-true', 'barely-true', 'false', 'false', 'false', 'half-true', 'false', 'mostly-true', 'false', 'false', 'false', 'mostly-true', 'false', 'mostly-true', 'mostly-true', 'pants-fire', 'false', 'mostly-true', 'half-true', 'barely-true', 'mostly-true', 'barely-true', 'barely-true', 'pants-fire', 'false', 'false', 'mostly-true', 'half-true', 'half-true', 'mostly-true', 'false', 'barely-true', 'true', 'half-true', 'mostly-true', 'pants-fire', 'barely-true', 'true', 'false', 'mostly-true', 'mostly-true', 'pants-fire', 'mostly-true', 'half-true', 'mostly-true', 'mostly-true', 'true', 'true', 'true', 'true', 'half-true', 'half-true', 'barely-true', 'pants-fire', 'mostly-true', 'false', 'half-true', 'true', 'mostly-true', 'half-true', 'half-true', 'barely-true', 'mostly-true', 'true', 'false', 'false', 'mostly-true', 'mostly-true', 'half-true', 'mostly-true', 'mostly-true', 'barely-true', 'true', 'mostly-true', 'true', 'false', 'false', 'false', 'pants-fire', 'half-true', 'pants-fire', 'half-true', 'false', 'true', 'barely-true', 'half-true', 'barely-true', 'mostly-true', 'mostly-true', 'false', 'half-true', 'mostly-true', 'mostly-true', 'mostly-true', 'false', 'half-true', 'false', 'false', 'true', 'false', 'pants-fire', 'false', 'mostly-true', 'true', 'true', 'mostly-true', 'pants-fire', 'true', 'barely-true', 'false', 'half-true', 'false', 'false', 'false', 'false', 'mostly-true', 'half-true', 'barely-true', 'false', 'barely-true', 'barely-true', 'mostly-true', 'true', 'half-true', 'false', 'mostly-true', 'pants-fire', 'barely-true', 'mostly-true', 'barely-true', 'half-true', 'half-true', 'half-true', 'mostly-true', 'mostly-true', 'half-true', 'true', 'pants-fire', 'half-true', 'true', 'barely-true', 'mostly-true', 'false', 'false', 'half-true', 'barely-true', 'false', 'true', 'true', 'true', 'true', 'true', 'true', 'barely-true', 'mostly-true', 'barely-true', 'mostly-true', 'half-true', 'mostly-true', 'mostly-true', 'false', 'false', 'half-true', 'half-true', 'false', 'half-true', 'half-true', 'half-true', 'half-true', 'half-true', 'half-true', 'half-true', 'half-true', 'true', 'mostly-true', 'mostly-true', 'barely-true', 'barely-true', 'half-true', 'half-true', 'true', 'pants-fire', 'mostly-true', 'false', 'barely-true', 'mostly-true', 'true', 'half-true', 'barely-true', 'half-true', 'true', 'mostly-true', 'true', 'mostly-true', 'false', 'mostly-true', 'true', 'mostly-true', 'true', 'true', 'barely-true', 'mostly-true', 'mostly-true', 'true', 'half-true', 'half-true', 'pants-fire', 'half-true', 'false', 'false', 'false', 'false', 'barely-true', 'half-true', 'true', 'true', 'barely-true', 'half-true', 'half-true', 'false', 'half-true', 'false', 'half-true', 'half-true', 'false', 'half-true', 'false', 'false', 'true', 'half-true', 'barely-true', 'mostly-true', 'false', 'mostly-true', 'half-true', 'true', 'true', 'true', 'false', 'half-true', 'half-true', 'half-true', 'false', 'false', 'mostly-true', 'barely-true', 'mostly-true', 'true', 'false', 'mostly-true', 'false', 'pants-fire', 'barely-true', 'mostly-true', 'true', 'barely-true', 'mostly-true', 'mostly-true', 'half-true', 'false', 'half-true', 'pants-fire', 'half-true', 'half-true', 'pants-fire', 'mostly-true', 'half-true', 'half-true', 'barely-true', 'half-true', 'half-true', 'false', 'true', 'true', 'pants-fire', 'mostly-true', 'true', 'true', 'mostly-true', 'mostly-true', 'mostly-true', 'true', 'barely-true', 'true', 'half-true', 'mostly-true', 'half-true', 'half-true', 'false', 'half-true', 'half-true', 'mostly-true', 'half-true', 'true', 'mostly-true', 'true', 'barely-true', 'false', 'barely-true', 'true', 'mostly-true', 'barely-true', 'mostly-true', 'pants-fire', 'false', 'half-true', 'half-true', 'true', 'false', 'half-true', 'half-true', 'false', 'barely-true', 'false', 'mostly-true', 'barely-true', 'half-true', 'true', 'true', 'false', 'false', 'false', 'mostly-true', 'mostly-true', 'mostly-true', 'true', 'barely-true', 'barely-true', 'mostly-true', 'barely-true', 'pants-fire', 'pants-fire', 'barely-true', 'false', 'true', 'barely-true', 'half-true', 'mostly-true', 'half-true', 'true', 'barely-true', 'barely-true', 'barely-true', 'false', 'true', 'false', 'half-true', 'barely-true', 'false', 'true', 'true', 'false', 'half-true', 'barely-true', 'half-true', 'half-true', 'true', 'true', 'barely-true', 'half-true', 'half-true', 'pants-fire', 'false', 'false', 'pants-fire', 'false', 'half-true', 'false', 'mostly-true', 'true', 'true', 'true', 'true', 'false', 'mostly-true', 'false', 'half-true', 'half-true', 'mostly-true', 'half-true', 'false', 'false', 'false', 'barely-true', 'half-true', 'half-true', 'mostly-true', 'barely-true', 'pants-fire', 'barely-true', 'barely-true', 'true', 'mostly-true', 'half-true', 'true', 'pants-fire', 'false', 'barely-true', 'half-true', 'pants-fire', 'barely-true', 'half-true', 'half-true', 'true', 'barely-true', 'barely-true', 'mostly-true', 'barely-true', 'false', 'pants-fire', 'true', 'half-true', 'false', 'barely-true', 'false', 'barely-true', 'barely-true', 'false', 'true', 'barely-true', 'pants-fire', 'half-true', 'barely-true', 'mostly-true', 'barely-true', 'mostly-true', 'barely-true', 'false', 'false', 'half-true', 'pants-fire', 'pants-fire', 'barely-true', 'true', 'pants-fire', 'true', 'false', 'half-true', 'half-true', 'true', 'barely-true', 'false', 'barely-true', 'half-true', 'false', 'barely-true', 'barely-true', 'false', 'false', 'mostly-true', 'true', 'barely-true', 'true', 'mostly-true', 'true', 'half-true', 'mostly-true', 'pants-fire', 'half-true', 'mostly-true', 'mostly-true', 'half-true', 'half-true', 'false', 'false', 'half-true', 'false', 'true', 'barely-true', 'mostly-true', 'half-true', 'pants-fire', 'false', 'false', 'mostly-true', 'mostly-true', 'true', 'half-true', 'true', 'half-true', 'half-true', 'half-true', 'mostly-true', 'true', 'mostly-true', 'barely-true', 'half-true', 'barely-true', 'pants-fire', 'false', 'false', 'false', 'barely-true', 'mostly-true', 'half-true', 'mostly-true', 'pants-fire', 'barely-true', 'barely-true', 'true', 'true', 'barely-true', 'mostly-true', 'pants-fire', 'mostly-true', 'mostly-true', 'false', 'pants-fire', 'mostly-true', 'mostly-true', 'barely-true', 'mostly-true', 'barely-true', 'mostly-true', 'mostly-true', 'half-true', 'mostly-true', 'mostly-true', 'mostly-true', 'barely-true', 'true', 'half-true', 'true', 'true', 'pants-fire', 'pants-fire', 'false', 'false', 'half-true', 'mostly-true', 'false', 'barely-true', 'true', 'true', 'false', 'false', 'half-true', 'pants-fire', 'false', 'true', 'half-true', 'true', 'true', 'true', 'barely-true', 'barely-true', 'false', 'barely-true', 'mostly-true', 'mostly-true', 'false', 'mostly-true', 'true', 'true', 'mostly-true', 'barely-true', 'pants-fire', 'true', 'barely-true', 'half-true', 'false', 'half-true', 'mostly-true', 'mostly-true', 'mostly-true', 'pants-fire', 'mostly-true', 'half-true', 'barely-true', 'mostly-true', 'mostly-true', 'pants-fire', 'barely-true', 'false', 'false', 'barely-true', 'mostly-true', 'mostly-true', 'mostly-true', 'barely-true', 'pants-fire', 'half-true', 'barely-true', 'true', 'barely-true', 'true', 'mostly-true', 'true', 'half-true', 'false', 'barely-true', 'half-true', 'true', 'mostly-true', 'true', 'false', 'mostly-true', 'pants-fire', 'half-true', 'mostly-true', 'mostly-true', 'mostly-true', 'true', 'half-true', 'mostly-true', 'pants-fire', 'true', 'pants-fire', 'barely-true', 'half-true', 'half-true', 'true', 'true', 'false', 'true', 'pants-fire', 'barely-true', 'barely-true', 'false', 'barely-true', 'barely-true', 'mostly-true', 'half-true', 'barely-true', 'barely-true', 'pants-fire', 'mostly-true', 'mostly-true', 'mostly-true', 'true', 'false', 'mostly-true', 'false', 'barely-true', 'true', 'false', 'mostly-true', 'false', 'half-true', 'half-true', 'false', 'false', 'mostly-true', 'false', 'pants-fire', 'true', 'barely-true', 'false', 'true', 'false', 'mostly-true', 'barely-true', 'true', 'mostly-true', 'true', 'false', 'mostly-true', 'half-true', 'mostly-true', 'half-true', 'true', 'false', 'mostly-true', 'half-true', 'true', 'half-true', 'true', 'pants-fire', 'false', 'true', 'false', 'half-true', 'half-true', 'true', 'mostly-true', 'false', 'true', 'true', 'pants-fire', 'half-true', 'half-true', 'true', 'false', 'false', 'mostly-true', 'true', 'barely-true', 'true', 'false', 'half-true', 'mostly-true', 'true', 'false', 'mostly-true', 'false', 'true', 'true', 'half-true', 'barely-true', 'false', 'mostly-true', 'false', 'false', 'false', 'half-true', 'mostly-true', 'barely-true', 'mostly-true', 'half-true', 'false', 'barely-true', 'barely-true', 'false', 'false', 'mostly-true', 'mostly-true', 'half-true', 'half-true', 'half-true', 'half-true', 'half-true', 'half-true', 'mostly-true', 'barely-true', 'true', 'mostly-true', 'half-true', 'barely-true', 'false', 'barely-true', 'mostly-true', 'barely-true', 'half-true', 'barely-true', 'half-true', 'true', 'half-true', 'mostly-true', 'false', 'mostly-true', 'false', 'half-true', 'half-true', 'pants-fire', 'half-true', 'pants-fire', 'mostly-true', 'half-true', 'barely-true', 'true', 'mostly-true', 'false', 'mostly-true', 'half-true', 'mostly-true', 'half-true', 'mostly-true', 'mostly-true', 'pants-fire', 'false', 'false', 'true', 'pants-fire', 'pants-fire', 'mostly-true', 'false', 'half-true', 'true', 'true', 'mostly-true', 'true', 'true', 'mostly-true', 'barely-true', 'true', 'barely-true', 'mostly-true', 'pants-fire', 'mostly-true', 'true', 'true', 'false', 'barely-true', 'half-true', 'pants-fire', 'true', 'mostly-true', 'half-true', 'barely-true', 'half-true', 'half-true', 'mostly-true', 'true', 'false', 'true', 'half-true', 'false', 'true', 'pants-fire', 'half-true', 'half-true', 'mostly-true', 'half-true', 'barely-true', 'false', 'false', 'barely-true', 'mostly-true', 'barely-true', 'half-true', 'half-true', 'barely-true', 'mostly-true', 'false', 'half-true', 'half-true', 'half-true', 'false', 'barely-true', 'pants-fire', 'false', 'true', 'half-true', 'false', 'false', 'pants-fire', 'true', 'half-true', 'pants-fire', 'false', 'half-true', 'half-true', 'false', 'mostly-true', 'pants-fire', 'mostly-true', 'false', 'false', 'half-true', 'false', 'true', 'half-true', 'half-true', 'barely-true', 'half-true', 'true', 'true', 'half-true', 'true', 'false', 'mostly-true', 'true', 'barely-true', 'half-true', 'pants-fire', 'pants-fire', 'mostly-true', 'true', 'barely-true', 'barely-true', 'half-true', 'barely-true', 'pants-fire', 'mostly-true', 'mostly-true', 'false', 'false', 'pants-fire', 'pants-fire', 'half-true', 'half-true', 'half-true', 'pants-fire', 'barely-true', 'false', 'false', 'half-true', 'mostly-true', 'true', 'barely-true', 'mostly-true', 'barely-true', 'mostly-true', 'barely-true', 'mostly-true', 'pants-fire', 'false', 'half-true', 'pants-fire', 'mostly-true', 'mostly-true', 'true', 'false', 'true', 'true', 'barely-true', 'pants-fire', 'half-true', 'false', 'barely-true', 'pants-fire', 'false', 'false', 'pants-fire', 'mostly-true', 'barely-true', 'mostly-true', 'barely-true', 'half-true', 'barely-true', 'half-true', 'half-true', 'false', 'half-true', 'half-true', 'barely-true', 'mostly-true', 'barely-true', 'barely-true', 'false', 'true', 'false', 'false', 'pants-fire', 'half-true', 'barely-true', 'half-true', 'half-true', 'pants-fire', 'half-true', 'half-true', 'true', 'half-true', 'false', 'false', 'barely-true', 'half-true', 'false', 'false', 'true', 'pants-fire', 'barely-true', 'pants-fire', 'mostly-true', 'mostly-true', 'mostly-true', 'false', 'true', 'mostly-true', 'true', 'half-true', 'true', 'mostly-true', 'barely-true', 'half-true', 'barely-true', 'true', 'barely-true', 'mostly-true', 'false', 'half-true', 'pants-fire', 'mostly-true', 'pants-fire', 'half-true', 'half-true', 'mostly-true', 'false', 'pants-fire', 'half-true', 'half-true', 'half-true', 'barely-true', 'barely-true', 'mostly-true', 'barely-true', 'half-true', 'false', 'half-true', 'half-true', 'true', 'false', 'mostly-true', 'half-true', 'half-true', 'barely-true', 'pants-fire', 'mostly-true', 'mostly-true', 'mostly-true', 'true', 'true', 'barely-true', 'half-true', 'true', 'mostly-true', 'half-true', 'false', 'false', 'half-true', 'pants-fire', 'mostly-true', 'pants-fire', 'mostly-true', 'half-true', 'barely-true', 'pants-fire', 'barely-true', 'half-true', 'false', 'barely-true', 'false', 'mostly-true', 'half-true', 'false', 'false', 'half-true', 'barely-true', 'pants-fire', 'barely-true', 'mostly-true', 'mostly-true', 'mostly-true', 'mostly-true', 'false', 'false', 'false', 'barely-true', 'pants-fire', 'true', 'false', 'half-true', 'barely-true', 'false', 'mostly-true', 'mostly-true', 'true', 'half-true', 'mostly-true', 'half-true', 'mostly-true', 'pants-fire', 'barely-true', 'half-true', 'false', 'half-true', 'barely-true', 'mostly-true', 'false', 'true', 'true', 'half-true', 'true', 'false', 'mostly-true', 'barely-true', 'false', 'true', 'half-true', 'pants-fire', 'pants-fire', 'false', 'half-true', 'true', 'pants-fire', 'pants-fire', 'half-true', 'half-true', 'false', 'half-true', 'barely-true', 'true', 'half-true', 'mostly-true', 'half-true', 'mostly-true', 'true', 'false', 'false', 'half-true', 'false', 'half-true', 'false', 'false', 'barely-true', 'mostly-true', 'half-true', 'false', 'true', 'pants-fire', 'half-true', 'true', 'mostly-true', 'barely-true', 'barely-true', 'mostly-true', 'false', 'mostly-true', 'barely-true', 'barely-true', 'true', 'barely-true', 'true', 'half-true', 'half-true', 'true', 'half-true', 'mostly-true', 'false', 'false', 'half-true', 'mostly-true', 'mostly-true', 'true', 'true', 'false', 'false', 'false', 'true', 'half-true', 'mostly-true', 'half-true', 'mostly-true', 'half-true', 'mostly-true', 'half-true', 'half-true', 'false', 'pants-fire', 'mostly-true', 'pants-fire', 'true', 'false', 'false', 'mostly-true', 'false', 'true', 'false', 'pants-fire', 'barely-true', 'barely-true', 'false', 'half-true', 'false', 'mostly-true', 'half-true', 'mostly-true', 'half-true', 'false', 'barely-true', 'mostly-true', 'barely-true', 'false', 'mostly-true', 'half-true', 'true', 'mostly-true', 'half-true', 'half-true', 'barely-true', 'true', 'mostly-true', 'half-true', 'half-true', 'false', 'half-true', 'barely-true', 'barely-true', 'false', 'true', 'half-true', 'mostly-true', 'true', 'barely-true', 'half-true', 'mostly-true', 'false', 'mostly-true', 'false', 'mostly-true', 'false', 'barely-true', 'true', 'half-true', 'mostly-true', 'mostly-true', 'half-true', 'mostly-true', 'half-true', 'half-true', 'mostly-true', 'pants-fire', 'half-true', 'true', 'mostly-true', 'pants-fire', 'false', 'true', 'true', 'barely-true', 'half-true', 'false', 'mostly-true', 'half-true', 'true', 'pants-fire', 'mostly-true', 'true', 'barely-true', 'half-true', 'mostly-true', 'false', 'mostly-true', 'barely-true', 'half-true', 'true', 'true', 'mostly-true', 'mostly-true', 'pants-fire', 'mostly-true', 'barely-true', 'true', 'pants-fire', 'barely-true', 'barely-true', 'half-true', 'half-true', 'mostly-true', 'mostly-true', 'mostly-true', 'mostly-true', 'pants-fire', 'barely-true', 'half-true', 'half-true', 'half-true', 'true', 'barely-true', 'half-true', 'true', 'half-true', 'mostly-true', 'barely-true', 'true', 'barely-true', 'pants-fire', 'pants-fire', 'true', 'true', 'false', 'barely-true', 'true', 'mostly-true', 'pants-fire', 'false', 'half-true', 'barely-true', 'half-true', 'half-true', 'true', 'barely-true', 'false', 'false', 'barely-true', 'mostly-true', 'half-true', 'false', 'mostly-true', 'barely-true', 'mostly-true', 'barely-true', 'false', 'false', 'mostly-true', 'false', 'half-true', 'false', 'false', 'barely-true', 'half-true', 'half-true', 'false', 'half-true', 'pants-fire', 'mostly-true', 'false', 'false', 'pants-fire', 'false', 'pants-fire', 'barely-true', 'barely-true', 'mostly-true', 'barely-true', 'mostly-true', 'false', 'mostly-true', 'mostly-true', 'false', 'false', 'half-true', 'true', 'barely-true', 'barely-true', 'pants-fire', 'mostly-true', 'mostly-true', 'half-true', 'false', 'barely-true', 'false', 'mostly-true', 'barely-true', 'mostly-true', 'false', 'pants-fire', 'false', 'false', 'pants-fire', 'true', 'mostly-true', 'barely-true', 'barely-true', 'false', 'mostly-true', 'false', 'false', 'mostly-true', 'half-true', 'half-true', 'half-true', 'true', 'false', 'pants-fire', 'mostly-true', 'false', 'pants-fire', 'half-true', 'false', 'barely-true', 'half-true', 'half-true', 'half-true', 'barely-true', 'false', 'false', 'mostly-true', 'half-true', 'true', 'half-true', 'barely-true', 'mostly-true', 'true', 'barely-true', 'true', 'half-true', 'false', 'mostly-true', 'true', 'half-true', 'true', 'half-true', 'false', 'pants-fire', 'mostly-true', 'half-true', 'mostly-true', 'mostly-true', 'half-true', 'barely-true', 'true', 'false', 'barely-true', 'half-true', 'half-true', 'mostly-true', 'half-true', 'true', 'mostly-true', 'mostly-true', 'mostly-true', 'true', 'pants-fire', 'half-true', 'half-true', 'mostly-true', 'half-true', 'half-true', 'false', 'false', 'true', 'true', 'pants-fire', 'half-true', 'false', 'false', 'pants-fire', 'half-true', 'false', 'half-true', 'false', 'pants-fire', 'mostly-true', 'half-true', 'pants-fire', 'false', 'false', 'true', 'false', 'barely-true', 'half-true', 'barely-true', 'mostly-true', 'false', 'half-true', 'true', 'half-true', 'barely-true', 'half-true', 'half-true', 'false', 'true', 'pants-fire', 'mostly-true', 'pants-fire', 'mostly-true', 'mostly-true', 'barely-true', 'false', 'half-true', 'false', 'false', 'true', 'mostly-true', 'mostly-true', 'mostly-true', 'false', 'mostly-true', 'pants-fire', 'barely-true', 'barely-true', 'barely-true', 'mostly-true', 'true', 'pants-fire', 'barely-true', 'half-true', 'true', 'barely-true', 'mostly-true', 'half-true', 'half-true', 'mostly-true', 'false', 'barely-true', 'half-true', 'true', 'half-true', 'false', 'pants-fire', 'barely-true', 'half-true', 'true', 'false', 'false', 'half-true', 'true', 'false', 'mostly-true', 'half-true', 'mostly-true', 'mostly-true', 'false', 'false', 'false', 'half-true', 'half-true', 'pants-fire', 'pants-fire', 'barely-true', 'half-true', 'true', 'mostly-true', 'mostly-true', 'false', 'half-true', 'half-true', 'true', 'pants-fire', 'mostly-true', 'barely-true', 'false', 'mostly-true', 'barely-true', 'true', 'half-true', 'barely-true', 'mostly-true', 'barely-true', 'half-true', 'half-true', 'true', 'mostly-true', 'true', 'false', 'half-true', 'true', 'mostly-true', 'true', 'mostly-true', 'barely-true', 'false', 'mostly-true', 'pants-fire', 'mostly-true', 'barely-true', 'false', 'pants-fire', 'mostly-true', 'half-true', 'true', 'barely-true', 'pants-fire', 'barely-true', 'half-true', 'barely-true', 'true', 'half-true', 'mostly-true', 'false', 'barely-true', 'pants-fire', 'barely-true', 'true', 'false', 'mostly-true', 'false', 'barely-true', 'mostly-true', 'pants-fire', 'pants-fire', 'half-true', 'half-true', 'true', 'half-true', 'barely-true', 'half-true', 'true', 'true', 'true', 'barely-true', 'mostly-true', 'half-true', 'barely-true', 'false', 'true', 'false', 'true', 'true', 'barely-true', 'true', 'false', 'true', 'false', 'mostly-true', 'barely-true', 'true', 'false', 'barely-true', 'barely-true', 'pants-fire', 'half-true', 'false', 'barely-true', 'half-true', 'true', 'false', 'pants-fire', 'false', 'false', 'false', 'half-true', 'mostly-true', 'false', 'half-true', 'true', 'barely-true', 'barely-true', 'barely-true', 'half-true', 'barely-true', 'barely-true', 'barely-true', 'mostly-true', 'barely-true', 'true', 'mostly-true', 'half-true', 'pants-fire', 'true', 'mostly-true', 'false', 'mostly-true', 'true', 'true', 'false', 'true', 'half-true', 'mostly-true', 'mostly-true', 'true', 'barely-true', 'false', 'barely-true', 'true', 'half-true', 'false', 'false', 'mostly-true', 'barely-true', 'half-true', 'half-true', 'barely-true', 'mostly-true', 'barely-true', 'true', 'false', 'half-true', 'half-true', 'barely-true', 'pants-fire', 'mostly-true', 'barely-true', 'mostly-true', 'false', 'half-true', 'false', 'true', 'half-true', 'barely-true', 'mostly-true', 'half-true', 'false', 'half-true', 'pants-fire', 'half-true', 'half-true', 'mostly-true', 'false', 'barely-true', 'false', 'false', 'half-true', 'false', 'false', 'true', 'false', 'half-true', 'false', 'false', 'true', 'mostly-true', 'half-true', 'false', 'barely-true', 'mostly-true', 'half-true', 'false', 'true', 'true', 'true', 'mostly-true', 'false', 'mostly-true', 'pants-fire', 'mostly-true', 'barely-true', 'false', 'barely-true', 'false', 'mostly-true', 'mostly-true', 'mostly-true', 'false', 'barely-true', 'barely-true', 'barely-true', 'false', 'mostly-true', 'false', 'pants-fire', 'true', 'false', 'true', 'barely-true', 'barely-true', 'true', 'barely-true', 'pants-fire', 'false', 'pants-fire', 'half-true', 'half-true', 'false', 'false', 'half-true', 'pants-fire', 'half-true', 'mostly-true', 'barely-true', 'false', 'true', 'pants-fire', 'mostly-true', 'mostly-true', 'mostly-true', 'false', 'half-true', 'mostly-true', 'false', 'barely-true', 'mostly-true', 'false', 'barely-true', 'pants-fire', 'false', 'false', 'half-true', 'mostly-true', 'barely-true', 'half-true', 'true', 'mostly-true', 'barely-true', 'mostly-true', 'mostly-true', 'false', 'false', 'barely-true', 'barely-true', 'mostly-true', 'barely-true', 'half-true', 'true', 'mostly-true', 'half-true', 'false', 'false', 'barely-true', 'half-true', 'false', 'false', 'half-true', 'mostly-true', 'mostly-true', 'pants-fire', 'true', 'pants-fire', 'pants-fire', 'half-true', 'true', 'half-true', 'true', 'half-true', 'mostly-true', 'half-true', 'true', 'false', 'half-true', 'mostly-true', 'half-true', 'pants-fire', 'false', 'half-true', 'false', 'false', 'barely-true', 'pants-fire', 'true', 'true', 'true', 'barely-true', 'mostly-true', 'pants-fire', 'false', 'barely-true', 'false', 'true', 'true', 'half-true', 'barely-true', 'pants-fire', 'mostly-true', 'barely-true', 'half-true', 'true', 'false', 'mostly-true', 'false', 'pants-fire', 'mostly-true', 'true', 'true', 'mostly-true', 'true', 'true', 'mostly-true', 'barely-true', 'mostly-true', 'false', 'true', 'false', 'true', 'false', 'false', 'false', 'true', 'false', 'mostly-true', 'mostly-true', 'true', 'false', 'true', 'mostly-true', 'mostly-true', 'half-true', 'mostly-true', 'pants-fire', 'false', 'barely-true', 'barely-true', 'barely-true', 'false', 'half-true', 'false', 'half-true', 'mostly-true', 'mostly-true', 'half-true', 'mostly-true', 'false', 'mostly-true', 'barely-true', 'false', 'barely-true', 'half-true', 'false', 'barely-true', 'false', 'half-true', 'pants-fire', 'half-true', 'barely-true', 'pants-fire', 'false', 'false', 'mostly-true', 'mostly-true', 'true', 'pants-fire', 'false', 'barely-true', 'half-true', 'true', 'false', 'true', 'true', 'true', 'false', 'mostly-true', 'pants-fire', 'mostly-true', 'mostly-true', 'mostly-true', 'barely-true', 'mostly-true', 'pants-fire', 'barely-true', 'pants-fire', 'barely-true', 'half-true', 'barely-true', 'barely-true', 'half-true', 'half-true', 'half-true', 'false', 'barely-true', 'mostly-true', 'true', 'half-true', 'half-true', 'mostly-true', 'true', 'mostly-true', 'mostly-true', 'half-true', 'false', 'half-true', 'true', 'false', 'true', 'false', 'true', 'false', 'mostly-true', 'barely-true', 'true', 'false', 'mostly-true', 'false', 'half-true', 'mostly-true', 'barely-true', 'false', 'false', 'pants-fire', 'false', 'false', 'half-true', 'half-true', 'true', 'mostly-true', 'half-true', 'false', 'mostly-true', 'barely-true', 'mostly-true', 'mostly-true', 'false', 'false', 'barely-true', 'pants-fire', 'barely-true', 'true', 'false', 'false', 'barely-true', 'true', 'half-true', 'mostly-true', 'pants-fire', 'barely-true', 'false', 'mostly-true', 'half-true', 'true', 'false', 'barely-true', 'false', 'mostly-true', 'false', 'barely-true', 'false', 'half-true', 'half-true', 'barely-true', 'false', 'pants-fire', 'half-true', 'false', 'half-true', 'mostly-true', 'half-true', 'mostly-true', 'true', 'pants-fire', 'half-true', 'pants-fire', 'barely-true', 'mostly-true', 'true', 'false', 'mostly-true', 'half-true', 'mostly-true', 'barely-true', 'mostly-true', 'true', 'barely-true', 'pants-fire', 'false', 'mostly-true', 'barely-true', 'half-true', 'true', 'pants-fire', 'mostly-true', 'false', 'barely-true', 'half-true', 'barely-true', 'true', 'true', 'false', 'barely-true', 'half-true', 'mostly-true', 'mostly-true', 'barely-true', 'mostly-true', 'false', 'pants-fire', 'mostly-true', 'true', 'pants-fire', 'mostly-true', 'false', 'false', 'half-true', 'pants-fire', 'true', 'mostly-true', 'half-true', 'half-true', 'barely-true', 'mostly-true', 'half-true', 'pants-fire', 'barely-true', 'half-true', 'true', 'pants-fire', 'true', 'false', 'true', 'false', 'mostly-true', 'mostly-true', 'true', 'true', 'half-true', 'half-true', 'barely-true', 'mostly-true', 'mostly-true', 'true', 'mostly-true', 'half-true', 'true', 'pants-fire', 'pants-fire', 'mostly-true', 'half-true', 'false', 'barely-true', 'true', 'barely-true', 'true', 'false', 'false', 'half-true', 'true', 'true', 'true', 'barely-true', 'true', 'barely-true', 'mostly-true', 'false', 'barely-true', 'false', 'half-true', 'barely-true', 'half-true', 'half-true', 'mostly-true', 'barely-true', 'barely-true', 'mostly-true', 'half-true', 'mostly-true', 'pants-fire', 'false', 'pants-fire', 'true', 'mostly-true', 'false', 'barely-true', 'barely-true', 'true', 'true', 'pants-fire', 'mostly-true', 'false', 'false', 'half-true', 'half-true', 'half-true', 'true', 'false', 'barely-true', 'barely-true', 'true', 'barely-true', 'false', 'false', 'false', 'false', 'half-true', 'half-true', 'mostly-true', 'half-true', 'half-true', 'half-true', 'true', 'barely-true', 'mostly-true', 'mostly-true', 'half-true', 'false', 'mostly-true', 'mostly-true', 'true', 'mostly-true', 'mostly-true', 'half-true', 'pants-fire', 'true', 'mostly-true', 'barely-true', 'true', 'true', 'true', 'true', 'false', 'half-true', 'half-true', 'barely-true', 'true', 'barely-true', 'barely-true', 'mostly-true', 'mostly-true', 'false', 'mostly-true', 'barely-true', 'true', 'true', 'barely-true', 'false', 'true', 'half-true', 'false', 'false', 'half-true', 'barely-true', 'mostly-true', 'barely-true', 'false', 'mostly-true', 'half-true', 'false', 'barely-true', 'false', 'true', 'mostly-true', 'barely-true', 'mostly-true', 'barely-true', 'false', 'false', 'half-true', 'true', 'pants-fire', 'pants-fire', 'false', 'true', 'false', 'false', 'mostly-true', 'false', 'barely-true', 'barely-true', 'true', 'pants-fire', 'mostly-true', 'barely-true', 'half-true', 'true', 'pants-fire', 'pants-fire', 'half-true', 'false', 'mostly-true', 'false', 'true', 'mostly-true', 'half-true', 'true', 'pants-fire', 'true', 'true', 'mostly-true', 'false', 'false', 'mostly-true', 'half-true', 'false', 'mostly-true', 'barely-true', 'true', 'true', 'mostly-true', 'barely-true', 'true', 'barely-true', 'true', 'barely-true', 'barely-true', 'half-true', 'false', 'mostly-true', 'half-true', 'false', 'barely-true', 'true', 'barely-true', 'mostly-true', 'true', 'true', 'half-true', 'barely-true', 'false', 'true', 'half-true', 'mostly-true', 'barely-true', 'true', 'false', 'true', 'half-true', 'true', 'half-true', 'barely-true', 'half-true', 'mostly-true', 'pants-fire', 'false', 'false', 'false', 'mostly-true', 'mostly-true', 'barely-true', 'barely-true', 'true', 'mostly-true', 'barely-true', 'true', 'true', 'half-true', 'mostly-true', 'mostly-true', 'barely-true', 'true', 'mostly-true', 'mostly-true', 'mostly-true', 'false', 'true', 'true', 'pants-fire', 'half-true', 'barely-true', 'half-true', 'mostly-true', 'barely-true', 'mostly-true', 'mostly-true', 'half-true', 'false', 'mostly-true', 'true', 'true', 'pants-fire', 'pants-fire', 'true', 'barely-true', 'false', 'mostly-true', 'barely-true', 'mostly-true', 'mostly-true', 'mostly-true', 'barely-true', 'mostly-true', 'half-true', 'half-true', 'mostly-true', 'barely-true', 'mostly-true', 'true', 'mostly-true', 'barely-true', 'mostly-true', 'half-true', 'barely-true', 'half-true', 'true', 'half-true', 'half-true', 'barely-true', 'false', 'mostly-true', 'true', 'false', 'pants-fire', 'barely-true', 'false', 'true', 'barely-true', 'true', 'false', 'mostly-true', 'true', 'half-true', 'half-true', 'mostly-true', 'false', 'half-true', 'mostly-true', 'half-true', 'false', 'mostly-true', 'true', 'barely-true', 'true', 'mostly-true', 'true', 'false', 'barely-true', 'barely-true', 'barely-true', 'mostly-true', 'half-true', 'false', 'false', 'barely-true', 'pants-fire', 'barely-true', 'half-true', 'false', 'mostly-true', 'false', 'barely-true', 'mostly-true', 'mostly-true', 'true', 'true', 'mostly-true', 'mostly-true', 'barely-true', 'half-true', 'half-true', 'true', 'mostly-true', 'barely-true', 'barely-true', 'half-true', 'true', 'false', 'false', 'true', 'half-true', 'mostly-true', 'true', 'half-true', 'false', 'half-true', 'mostly-true', 'false', 'barely-true', 'mostly-true', 'mostly-true', 'half-true', 'pants-fire', 'false', 'false', 'false', 'mostly-true', 'barely-true', 'barely-true', 'half-true', 'false', 'mostly-true', 'barely-true', 'barely-true', 'barely-true', 'mostly-true', 'mostly-true', 'mostly-true', 'mostly-true', 'mostly-true', 'mostly-true', 'mostly-true', 'barely-true', 'barely-true', 'true', 'half-true', 'mostly-true', 'mostly-true', 'true', 'false', 'false', 'false', 'false', 'true', 'false', 'false', 'false', 'half-true', 'true', 'true', 'half-true', 'mostly-true', 'half-true', 'false', 'mostly-true', 'half-true', 'pants-fire', 'mostly-true', 'false', 'half-true', 'half-true', 'mostly-true', 'barely-true', 'mostly-true', 'half-true', 'pants-fire', 'barely-true', 'false', 'mostly-true', 'mostly-true', 'half-true', 'pants-fire', 'mostly-true', 'true', 'false', 'barely-true', 'true', 'half-true', 'mostly-true', 'false', 'half-true', 'half-true', 'mostly-true', 'false', 'true', 'true', 'true', 'pants-fire', 'pants-fire', 'false', 'true', 'pants-fire', 'true', 'mostly-true', 'barely-true', 'pants-fire', 'barely-true', 'barely-true', 'pants-fire', 'half-true', 'barely-true', 'true', 'true', 'barely-true', 'barely-true', 'true', 'true', 'mostly-true', 'half-true', 'mostly-true', 'mostly-true', 'half-true', 'pants-fire', 'true', 'barely-true', 'true', 'mostly-true', 'mostly-true', 'pants-fire', 'false', 'pants-fire', 'half-true', 'half-true', 'barely-true', 'half-true', 'mostly-true', 'barely-true', 'half-true', 'barely-true', 'true', 'false', 'barely-true', 'mostly-true', 'half-true', 'false', 'mostly-true', 'barely-true', 'half-true', 'barely-true', 'mostly-true', 'false', 'half-true', 'true', 'barely-true', 'barely-true', 'false', 'true', 'mostly-true', 'false', 'mostly-true', 'half-true', 'mostly-true', 'half-true', 'mostly-true', 'false', 'half-true', 'half-true', 'true', 'false', 'false', 'barely-true', 'true', 'mostly-true', 'false', 'false', 'false', 'barely-true', 'pants-fire', 'half-true', 'true', 'mostly-true', 'barely-true', 'false', 'mostly-true', 'true', 'half-true', 'barely-true', 'half-true', 'pants-fire', 'half-true', 'true', 'barely-true', 'half-true', 'pants-fire', 'false', 'mostly-true', 'half-true', 'half-true', 'false', 'half-true', 'false', 'false', 'barely-true', 'false', 'barely-true', 'true', 'false', 'true', 'mostly-true', 'mostly-true', 'barely-true', 'half-true', 'half-true', 'mostly-true', 'false', 'half-true', 'mostly-true', 'half-true', 'mostly-true', 'mostly-true', 'barely-true', 'true', 'true', 'mostly-true', 'mostly-true', 'barely-true', 'true', 'true', 'false', 'false', 'mostly-true', 'half-true', 'pants-fire', 'pants-fire', 'half-true', 'false', 'true', 'half-true', 'false', 'mostly-true', 'pants-fire', 'mostly-true', 'true', 'true', 'mostly-true', 'mostly-true', 'pants-fire', 'mostly-true', 'mostly-true', 'pants-fire', 'half-true', 'mostly-true', 'false', 'half-true', 'barely-true', 'barely-true', 'half-true', 'half-true', 'barely-true', 'barely-true', 'pants-fire', 'false', 'mostly-true', 'false', 'mostly-true', 'mostly-true', 'half-true', 'pants-fire', 'mostly-true', 'false', 'barely-true', 'half-true', 'false', 'pants-fire', 'true', 'barely-true', 'barely-true', 'pants-fire', 'barely-true', 'half-true', 'mostly-true', 'half-true', 'mostly-true', 'half-true', 'false', 'mostly-true', 'barely-true', 'false', 'false', 'mostly-true', 'false', 'mostly-true', 'false', 'barely-true', 'mostly-true', 'barely-true', 'half-true', 'pants-fire', 'half-true', 'mostly-true', 'half-true', 'barely-true', 'barely-true', 'half-true', 'true', 'mostly-true', 'half-true', 'pants-fire', 'mostly-true', 'mostly-true', 'mostly-true', 'half-true', 'false', 'true', 'false', 'half-true', 'mostly-true', 'mostly-true', 'false', 'false', 'barely-true', 'barely-true', 'half-true', 'barely-true', 'false', 'barely-true', 'barely-true', 'false', 'mostly-true', 'true', 'false', 'true', 'barely-true', 'false', 'barely-true', 'mostly-true', 'mostly-true', 'true', 'true', 'half-true', 'half-true', 'false', 'false', 'barely-true', 'true', 'half-true', 'true', 'half-true', 'barely-true', 'half-true', 'half-true', 'barely-true', 'false', 'barely-true', 'half-true', 'barely-true', 'barely-true', 'mostly-true', 'half-true', 'true', 'half-true', 'barely-true', 'half-true', 'true', 'barely-true', 'false', 'true', 'true', 'false', 'false', 'half-true', 'false', 'false', 'true', 'false', 'true', 'barely-true', 'half-true', 'barely-true', 'pants-fire', 'true', 'half-true', 'barely-true', 'mostly-true', 'pants-fire', 'barely-true', 'false', 'pants-fire', 'barely-true', 'half-true', 'half-true', 'pants-fire', 'false', 'barely-true', 'false', 'false', 'mostly-true', 'true', 'barely-true', 'pants-fire', 'mostly-true', 'mostly-true', 'false', 'barely-true', 'half-true', 'half-true', 'mostly-true', 'true', 'mostly-true', 'false', 'barely-true', 'half-true', 'true', 'half-true', 'barely-true', 'true', 'false', 'mostly-true', 'half-true', 'half-true', 'mostly-true', 'true', 'half-true', 'false', 'barely-true', 'false', 'half-true', 'false', 'pants-fire', 'half-true', 'mostly-true', 'barely-true', 'mostly-true', 'pants-fire', 'false', 'mostly-true', 'half-true', 'false', 'half-true', 'true', 'false', 'half-true', 'half-true', 'half-true', 'half-true', 'false', 'barely-true', 'mostly-true', 'barely-true', 'mostly-true', 'half-true', 'pants-fire', 'mostly-true', 'barely-true', 'pants-fire', 'true', 'barely-true', 'half-true', 'barely-true', 'half-true', 'false', 'pants-fire', 'barely-true', 'barely-true', 'barely-true', 'half-true', 'half-true', 'false', 'barely-true', 'mostly-true', 'pants-fire', 'pants-fire', 'mostly-true', 'true', 'half-true', 'false', 'true', 'true', 'false', 'mostly-true', 'barely-true', 'false', 'barely-true', 'mostly-true', 'mostly-true', 'half-true', 'true', 'half-true', 'pants-fire', 'true', 'mostly-true', 'pants-fire', 'false', 'false', 'false', 'false', 'half-true', 'false', 'barely-true', 'false', 'half-true', 'false', 'false', 'false', 'true', 'mostly-true', 'mostly-true', 'pants-fire', 'barely-true', 'barely-true', 'false', 'true', 'true', 'true', 'true', 'false', 'half-true', 'false', 'false', 'barely-true', 'mostly-true', 'false', 'mostly-true', 'false', 'false', 'false', 'half-true', 'barely-true', 'half-true', 'half-true', 'half-true', 'false', 'half-true', 'false', 'false', 'false', 'mostly-true', 'false', 'false', 'true', 'barely-true', 'barely-true', 'false', 'pants-fire', 'mostly-true', 'half-true', 'half-true', 'pants-fire', 'half-true', 'true', 'barely-true', 'true', 'true', 'mostly-true', 'mostly-true', 'mostly-true', 'pants-fire', 'barely-true', 'true', 'half-true', 'pants-fire', 'true', 'false', 'pants-fire', 'mostly-true', 'half-true', 'pants-fire', 'false', 'true', 'false', 'barely-true', 'half-true', 'pants-fire', 'barely-true', 'false', 'half-true', 'mostly-true', 'half-true', 'mostly-true', 'pants-fire', 'false', 'mostly-true', 'mostly-true', 'false', 'mostly-true', 'true', 'half-true', 'false', 'true', 'half-true', 'half-true', 'false', 'false', 'mostly-true', 'mostly-true', 'pants-fire', 'barely-true', 'barely-true', 'mostly-true', 'barely-true', 'false', 'false', 'pants-fire', 'mostly-true', 'true', 'true', 'mostly-true', 'pants-fire', 'pants-fire', 'true', 'barely-true', 'true', 'true', 'false', 'barely-true', 'true', 'barely-true', 'mostly-true', 'half-true', 'false', 'barely-true', 'mostly-true', 'false', 'half-true', 'half-true', 'pants-fire', 'barely-true', 'true', 'true', 'false', 'true', 'barely-true', 'false', 'half-true', 'barely-true', 'false', 'true', 'barely-true', 'half-true', 'barely-true', 'mostly-true', 'half-true', 'half-true', 'barely-true', 'mostly-true', 'false', 'pants-fire', 'false', 'half-true', 'mostly-true', 'barely-true', 'half-true', 'false', 'true', 'barely-true', 'half-true', 'half-true', 'half-true', 'barely-true', 'pants-fire', 'half-true', 'half-true', 'half-true', 'true', 'barely-true', 'mostly-true', 'true', 'mostly-true', 'false', 'barely-true', 'true', 'false', 'half-true', 'true', 'false', 'half-true', 'true', 'false', 'mostly-true', 'true', 'false', 'false', 'half-true', 'false', 'half-true', 'barely-true', 'true', 'mostly-true', 'half-true', 'mostly-true', 'half-true', 'mostly-true', 'mostly-true', 'pants-fire', 'barely-true', 'half-true', 'barely-true', 'false', 'barely-true', 'pants-fire', 'mostly-true', 'true', 'true', 'half-true', 'mostly-true', 'true', 'mostly-true', 'mostly-true', 'half-true', 'mostly-true', 'false', 'half-true', 'true', 'mostly-true', 'barely-true', 'barely-true', 'mostly-true', 'true', 'false', 'half-true', 'true', 'false', 'mostly-true', 'half-true', 'barely-true', 'false', 'true', 'barely-true', 'true', 'false', 'false', 'true', 'mostly-true', 'true', 'half-true', 'barely-true', 'mostly-true', 'false', 'pants-fire', 'mostly-true', 'pants-fire', 'pants-fire', 'true', 'pants-fire', 'half-true', 'mostly-true', 'barely-true', 'mostly-true', 'half-true', 'true', 'half-true', 'pants-fire', 'barely-true', 'mostly-true', 'false', 'half-true', 'half-true', 'false', 'barely-true', 'mostly-true', 'true', 'barely-true', 'false', 'mostly-true', 'true', 'barely-true', 'mostly-true', 'half-true', 'pants-fire', 'barely-true', 'false', 'true', 'half-true', 'false', 'barely-true', 'half-true', 'false', 'half-true', 'mostly-true', 'half-true', 'true', 'true', 'mostly-true', 'false', 'true', 'mostly-true', 'true', 'true', 'half-true', 'half-true', 'mostly-true', 'true', 'half-true', 'true', 'false', 'pants-fire', 'false', 'barely-true', 'false', 'false', 'false', 'true', 'false', 'half-true', 'true', 'false', 'barely-true', 'mostly-true', 'mostly-true', 'half-true', 'false', 'barely-true', 'true', 'mostly-true', 'barely-true', 'false', 'true', 'mostly-true', 'half-true', 'half-true', 'barely-true', 'mostly-true', 'half-true', 'false', 'false', 'half-true', 'half-true', 'mostly-true', 'half-true', 'half-true', 'true', 'barely-true', 'false', 'mostly-true', 'true', 'mostly-true', 'false', 'pants-fire', 'mostly-true', 'true', 'mostly-true', 'barely-true', 'barely-true', 'half-true', 'true', 'pants-fire', 'mostly-true', 'half-true', 'false', 'half-true', 'false', 'half-true', 'barely-true', 'false', 'pants-fire', 'mostly-true', 'pants-fire', 'mostly-true', 'false', 'mostly-true', 'half-true', 'true', 'false', 'true', 'mostly-true', 'barely-true', 'false', 'barely-true', 'barely-true', 'false', 'false', 'mostly-true', 'false', 'half-true', 'true', 'false', 'barely-true', 'half-true', 'mostly-true', 'true', 'true', 'false', 'false', 'half-true', 'barely-true', 'mostly-true', 'barely-true', 'barely-true', 'true', 'mostly-true', 'mostly-true', 'mostly-true', 'false', 'false', 'false', 'half-true', 'true', 'mostly-true', 'false', 'half-true', 'false', 'mostly-true', 'true', 'mostly-true', 'true', 'mostly-true', 'mostly-true', 'mostly-true', 'true', 'barely-true', 'mostly-true', 'true', 'true', 'half-true', 'mostly-true', 'barely-true', 'false', 'barely-true', 'mostly-true', 'barely-true', 'true', 'pants-fire', 'mostly-true', 'false', 'half-true', 'barely-true', 'half-true', 'pants-fire', 'false', 'false', 'false', 'half-true', 'false', 'false', 'mostly-true', 'mostly-true', 'true', 'mostly-true', 'barely-true', 'false', 'false', 'half-true', 'mostly-true', 'barely-true', 'mostly-true', 'true', 'false', 'mostly-true', 'pants-fire', 'true', 'false', 'true', 'half-true', 'half-true', 'half-true', 'mostly-true', 'barely-true', 'false', 'false', 'barely-true', 'half-true', 'true', 'half-true', 'barely-true', 'half-true', 'barely-true', 'false', 'barely-true', 'half-true', 'mostly-true', 'mostly-true', 'false', 'true', 'half-true', 'mostly-true', 'half-true', 'half-true', 'pants-fire', 'barely-true', 'barely-true', 'mostly-true', 'true', 'pants-fire', 'true', 'false', 'barely-true', 'half-true', 'barely-true', 'false', 'mostly-true', 'true', 'mostly-true', 'false', 'half-true', 'false', 'true', 'true', 'true', 'false', 'false', 'true', 'false', 'false', 'mostly-true', 'barely-true', 'true', 'barely-true', 'half-true', 'half-true', 'false', 'barely-true', 'pants-fire', 'half-true', 'half-true', 'false', 'half-true', 'mostly-true', 'barely-true', 'mostly-true', 'mostly-true', 'true', 'barely-true', 'barely-true', 'true', 'mostly-true', 'half-true', 'half-true', 'mostly-true', 'half-true', 'barely-true', 'barely-true', 'true', 'barely-true', 'half-true', 'pants-fire', 'false', 'false', 'mostly-true', 'pants-fire', 'mostly-true', 'pants-fire', 'true', 'false', 'half-true', 'half-true', 'mostly-true', 'false', 'true', 'barely-true', 'mostly-true', 'barely-true', 'true', 'barely-true', 'barely-true', 'true', 'true', 'true', 'true', 'false', 'half-true', 'true', 'mostly-true', 'true', 'half-true', 'false', 'mostly-true', 'barely-true', 'barely-true', 'half-true', 'barely-true', 'half-true', 'false', 'true', 'mostly-true', 'half-true', 'mostly-true', 'mostly-true', 'false', 'mostly-true', 'half-true', 'half-true', 'half-true', 'false', 'mostly-true', 'pants-fire', 'mostly-true', 'true', 'half-true', 'mostly-true', 'barely-true', 'false', 'mostly-true', 'half-true', 'barely-true', 'barely-true', 'mostly-true', 'pants-fire', 'true', 'barely-true', 'false', 'true', 'mostly-true', 'half-true', 'half-true', 'false', 'true', 'true', 'half-true', 'barely-true', 'half-true', 'pants-fire', 'half-true', 'false', 'mostly-true', 'false', 'half-true', 'barely-true', 'true', 'false', 'true', 'pants-fire', 'barely-true', 'true', 'false', 'false', 'false', 'true', 'mostly-true', 'half-true', 'barely-true', 'mostly-true', 'false', 'mostly-true', 'mostly-true', 'barely-true', 'false', 'half-true', 'half-true', 'false', 'barely-true', 'half-true', 'false', 'mostly-true', 'true', 'barely-true', 'barely-true', 'barely-true', 'barely-true', 'barely-true', 'mostly-true', 'half-true', 'true', 'true', 'mostly-true', 'false', 'false', 'mostly-true', 'pants-fire', 'pants-fire', 'barely-true', 'mostly-true', 'barely-true', 'pants-fire', 'false', 'false', 'mostly-true', 'barely-true', 'mostly-true', 'true', 'barely-true', 'true', 'half-true', 'pants-fire', 'true', 'barely-true', 'pants-fire', 'mostly-true', 'true', 'true', 'half-true', 'false', 'barely-true', 'half-true', 'false', 'false', 'half-true', 'pants-fire', 'false', 'pants-fire', 'half-true', 'mostly-true', 'mostly-true', 'barely-true', 'half-true', 'half-true', 'false', 'mostly-true', 'false', 'half-true', 'barely-true', 'true', 'barely-true', 'true', 'half-true', 'true', 'pants-fire', 'false', 'true', 'mostly-true', 'false', 'mostly-true', 'false', 'half-true', 'half-true', 'half-true', 'false', 'mostly-true', 'false', 'pants-fire', 'mostly-true', 'mostly-true', 'barely-true', 'false', 'true', 'true', 'pants-fire', 'false', 'pants-fire', 'half-true', 'barely-true', 'barely-true', 'half-true', 'mostly-true', 'true', 'true', 'half-true', 'half-true', 'half-true', 'true', 'false', 'mostly-true', 'barely-true', 'true', 'true', 'true', 'false', 'half-true', 'half-true', 'false', 'half-true', 'mostly-true', 'true', 'barely-true', 'pants-fire', 'half-true', 'mostly-true', 'true', 'barely-true', 'false', 'half-true', 'mostly-true', 'false', 'true', 'mostly-true', 'barely-true', 'false', 'half-true', 'mostly-true', 'false', 'barely-true', 'false', 'half-true', 'true', 'mostly-true', 'mostly-true', 'true', 'barely-true', 'true', 'true', 'mostly-true', 'pants-fire', 'pants-fire', 'false', 'mostly-true', 'true', 'half-true', 'pants-fire', 'pants-fire', 'mostly-true', 'false', 'true', 'half-true', 'mostly-true', 'half-true', 'mostly-true', 'pants-fire', 'mostly-true', 'true', 'false', 'half-true', 'mostly-true', 'half-true', 'true', 'true', 'false', 'half-true', 'mostly-true', 'half-true', 'half-true', 'pants-fire', 'half-true', 'true', 'mostly-true', 'true', 'half-true', 'true', 'false', 'true', 'half-true', 'pants-fire', 'half-true', 'pants-fire', 'false', 'half-true', 'true', 'mostly-true', 'false', 'barely-true', 'half-true', 'barely-true', 'barely-true', 'false', 'half-true', 'true', 'false', 'true', 'true', 'false', 'barely-true', 'half-true', 'false', 'barely-true', 'half-true', 'barely-true', 'pants-fire', 'mostly-true', 'half-true', 'pants-fire', 'mostly-true', 'true', 'mostly-true', 'mostly-true', 'barely-true', 'pants-fire', 'half-true', 'mostly-true', 'half-true', 'true', 'false', 'mostly-true', 'mostly-true', 'barely-true', 'mostly-true', 'half-true', 'mostly-true', 'true', 'barely-true', 'mostly-true', 'true', 'false', 'true', 'pants-fire', 'half-true', 'false', 'false', 'pants-fire', 'true', 'barely-true', 'false', 'mostly-true', 'true', 'half-true', 'mostly-true', 'barely-true', 'true', 'true', 'mostly-true', 'mostly-true', 'true', 'barely-true', 'half-true', 'true', 'true', 'half-true', 'false', 'barely-true', 'mostly-true', 'false', 'false', 'half-true', 'half-true', 'barely-true', 'barely-true', 'true', 'barely-true', 'false', 'true', 'half-true', 'half-true', 'barely-true', 'false', 'barely-true', 'mostly-true', 'mostly-true', 'false', 'half-true', 'half-true', 'barely-true', 'half-true', 'false', 'half-true', 'false', 'barely-true', 'barely-true', 'mostly-true', 'mostly-true', 'true', 'mostly-true', 'half-true', 'half-true', 'half-true', 'barely-true', 'false', 'true', 'false', 'mostly-true', 'false', 'barely-true', 'false', 'false', 'pants-fire', 'false', 'false', 'true', 'mostly-true', 'barely-true', 'true', 'half-true', 'false', 'half-true', 'barely-true', 'false', 'half-true', 'false', 'pants-fire', 'barely-true', 'true', 'mostly-true', 'barely-true', 'barely-true', 'false', 'barely-true', 'barely-true', 'false', 'mostly-true', 'false', 'half-true', 'half-true', 'mostly-true', 'half-true', 'half-true', 'half-true', 'false', 'false', 'false', 'half-true', 'barely-true', 'barely-true', 'false', 'true', 'half-true', 'half-true', 'true', 'true', 'half-true', 'true', 'false', 'half-true', 'false', 'mostly-true', 'half-true', 'barely-true', 'true', 'true', 'half-true', 'true', 'barely-true', 'false', 'half-true', 'false', 'mostly-true', 'mostly-true', 'half-true', 'pants-fire', 'true', 'true', 'pants-fire', 'half-true', 'false', 'false', 'false', 'true', 'false', 'true', 'true', 'mostly-true', 'mostly-true', 'half-true', 'false', 'pants-fire', 'half-true', 'half-true', 'false', 'true', 'mostly-true', 'barely-true', 'true', 'half-true', 'pants-fire', 'false', 'half-true', 'half-true', 'true', 'half-true', 'false', 'true', 'mostly-true', 'mostly-true', 'false', 'true', 'false', 'false', 'barely-true', 'pants-fire', 'half-true', 'barely-true', 'barely-true', 'mostly-true', 'half-true', 'false', 'barely-true', 'true', 'false', 'false', 'true', 'false', 'false', 'barely-true', 'mostly-true', 'mostly-true', 'half-true', 'true', 'mostly-true', 'barely-true', 'false', 'mostly-true', 'mostly-true', 'barely-true', 'true', 'half-true', 'half-true', 'half-true', 'barely-true', 'mostly-true', 'false', 'barely-true', 'false', 'mostly-true', 'mostly-true', 'false', 'mostly-true', 'half-true', 'barely-true', 'mostly-true', 'false', 'false', 'false', 'false', 'barely-true', 'true', 'pants-fire', 'mostly-true', 'mostly-true', 'half-true', 'true', 'false', 'barely-true', 'half-true', 'false', 'pants-fire', 'half-true', 'mostly-true', 'barely-true', 'false', 'false', 'half-true', 'false', 'half-true', 'pants-fire', 'false', 'barely-true', 'pants-fire', 'half-true', 'false', 'false', 'mostly-true', 'false', 'false', 'barely-true', 'mostly-true', 'true', 'pants-fire', 'mostly-true', 'half-true', 'barely-true', 'false', 'false', 'false', 'mostly-true', 'mostly-true', 'false', 'mostly-true', 'pants-fire', 'barely-true', 'true', 'barely-true', 'half-true', 'false', 'false', 'true', 'false', 'mostly-true', 'false', 'barely-true', 'barely-true', 'false', 'half-true', 'mostly-true', 'half-true', 'false', 'half-true', 'mostly-true', 'true', 'pants-fire', 'barely-true', 'true', 'false', 'true', 'true', 'true', 'half-true', 'barely-true', 'mostly-true', 'true', 'pants-fire', 'false', 'false', 'true', 'true', 'pants-fire', 'false', 'true', 'barely-true', 'mostly-true', 'false', 'false', 'mostly-true', 'half-true', 'mostly-true', 'half-true', 'mostly-true', 'barely-true', 'mostly-true', 'true', 'false', 'true', 'false', 'mostly-true', 'pants-fire', 'false', 'false', 'barely-true', 'half-true', 'half-true', 'pants-fire', 'half-true', 'pants-fire', 'true', 'false', 'half-true', 'mostly-true', 'mostly-true', 'half-true', 'half-true', 'mostly-true', 'half-true', 'true', 'barely-true', 'false', 'half-true', 'mostly-true', 'mostly-true', 'barely-true', 'false', 'mostly-true', 'false', 'barely-true', 'true', 'false', 'mostly-true', 'half-true', 'barely-true', 'pants-fire', 'pants-fire', 'barely-true', 'half-true', 'true', 'mostly-true', 'barely-true', 'half-true', 'barely-true', 'false', 'mostly-true', 'false', 'pants-fire', 'false', 'false', 'pants-fire', 'half-true', 'mostly-true', 'mostly-true', 'half-true', 'false', 'half-true', 'true', 'barely-true', 'half-true', 'pants-fire', 'half-true', 'half-true', 'false', 'true', 'barely-true', 'half-true', 'pants-fire', 'true', 'false', 'mostly-true', 'pants-fire', 'mostly-true', 'barely-true', 'false', 'mostly-true', 'false', 'false', 'half-true', 'mostly-true', 'half-true', 'mostly-true', 'mostly-true', 'pants-fire', 'true', 'false', 'false', 'false', 'pants-fire', 'mostly-true', 'mostly-true', 'half-true', 'barely-true', 'half-true', 'true', 'mostly-true', 'barely-true', 'half-true', 'true', 'pants-fire', 'half-true', 'half-true', 'half-true', 'barely-true', 'true', 'half-true', 'half-true', 'false', 'half-true', 'true', 'true', 'true', 'mostly-true', 'true', 'true', 'true', 'mostly-true', 'half-true', 'true', 'false', 'mostly-true', 'mostly-true', 'mostly-true', 'half-true', 'mostly-true', 'half-true', 'true', 'false', 'false', 'half-true', 'barely-true', 'half-true', 'mostly-true', 'barely-true', 'half-true', 'pants-fire', 'pants-fire', 'half-true', 'false', 'barely-true', 'false', 'barely-true', 'mostly-true', 'barely-true', 'true', 'barely-true', 'false', 'barely-true', 'mostly-true', 'false', 'barely-true', 'half-true', 'barely-true', 'false', 'barely-true', 'mostly-true', 'barely-true', 'false', 'mostly-true', 'pants-fire', 'false', 'mostly-true', 'false', 'false', 'false', 'false', 'false', 'half-true', 'false', 'true', 'true', 'barely-true', 'true', 'mostly-true', 'pants-fire', 'pants-fire', 'true', 'false', 'true', 'mostly-true', 'false', 'mostly-true', 'half-true', 'false', 'half-true', 'barely-true', 'barely-true', 'barely-true', 'half-true', 'barely-true', 'false', 'true', 'mostly-true', 'half-true', 'barely-true', 'barely-true', 'half-true', 'mostly-true', 'half-true', 'mostly-true', 'half-true', 'mostly-true', 'half-true', 'true', 'true', 'false', 'half-true', 'half-true', 'false', 'pants-fire', 'barely-true', 'barely-true', 'half-true', 'barely-true', 'barely-true', 'mostly-true', 'mostly-true', 'mostly-true', 'false', 'barely-true', 'mostly-true', 'barely-true', 'true', 'barely-true', 'barely-true', 'true', 'false', 'pants-fire', 'false', 'pants-fire', 'half-true', 'true', 'mostly-true', 'barely-true', 'false', 'true', 'barely-true', 'half-true', 'pants-fire', 'mostly-true', 'barely-true', 'false', 'pants-fire', 'true', 'true', 'false', 'true', 'half-true', 'mostly-true', 'mostly-true', 'half-true', 'pants-fire', 'barely-true', 'pants-fire', 'barely-true', 'pants-fire', 'pants-fire', 'barely-true', 'false', 'false', 'false', 'false', 'barely-true', 'barely-true', 'barely-true', 'true', 'true', 'true', 'mostly-true', 'barely-true', 'false', 'mostly-true', 'false', 'mostly-true', 'true', 'barely-true', 'half-true', 'pants-fire', 'half-true', 'false', 'false', 'half-true', 'true', 'true', 'barely-true', 'barely-true', 'mostly-true', 'true', 'false', 'half-true', 'false', 'pants-fire', 'false', 'half-true', 'false', 'true', 'half-true', 'barely-true', 'false', 'pants-fire', 'true', 'barely-true', 'pants-fire', 'false', 'pants-fire', 'false', 'barely-true', 'barely-true', 'true', 'half-true', 'barely-true', 'false', 'half-true', 'true', 'barely-true', 'barely-true', 'half-true', 'barely-true', 'barely-true', 'false', 'true', 'true', 'mostly-true', 'false', 'half-true', 'mostly-true', 'mostly-true', 'mostly-true', 'mostly-true', 'half-true', 'barely-true', 'barely-true', 'half-true', 'false', 'true', 'half-true', 'true', 'mostly-true', 'mostly-true', 'mostly-true', 'false', 'half-true', 'barely-true', 'mostly-true', 'true', 'false', 'mostly-true', 'true', 'barely-true', 'false', 'mostly-true', 'mostly-true', 'false', 'mostly-true', 'true', 'mostly-true', 'true', 'mostly-true', 'false', 'mostly-true', 'false', 'mostly-true', 'true', 'false', 'barely-true', 'barely-true', 'mostly-true', 'pants-fire', 'mostly-true', 'mostly-true', 'half-true', 'barely-true', 'true', 'true', 'barely-true', 'false', 'half-true', 'false', 'mostly-true', 'false', 'barely-true', 'half-true', 'false', 'barely-true', 'false', 'mostly-true', 'half-true', 'true', 'pants-fire', 'half-true', 'false', 'half-true', 'false', 'true', 'mostly-true', 'half-true', 'half-true', 'pants-fire', 'true', 'true', 'half-true', 'barely-true', 'pants-fire', 'mostly-true', 'true', 'pants-fire', 'pants-fire', 'true', 'pants-fire', 'mostly-true', 'half-true', 'false', 'true', 'barely-true', 'true', 'true', 'true', 'barely-true', 'half-true', 'half-true', 'true', 'barely-true', 'half-true', 'false', 'pants-fire', 'true', 'pants-fire', 'pants-fire', 'barely-true', 'true', 'mostly-true', 'mostly-true', 'half-true', 'false', 'false', 'mostly-true', 'barely-true', 'half-true', 'true', 'barely-true', 'half-true', 'true', 'false', 'true', 'half-true', 'true', 'half-true', 'barely-true', 'mostly-true', 'half-true', 'true', 'mostly-true', 'half-true', 'mostly-true', 'mostly-true', 'barely-true', 'false', 'false', 'true', 'mostly-true', 'true', 'true', 'mostly-true', 'half-true', 'true', 'false', 'pants-fire', 'half-true', 'true', 'true', 'barely-true', 'mostly-true', 'true', 'mostly-true', 'barely-true', 'false', 'barely-true', 'half-true', 'pants-fire', 'false', 'mostly-true', 'barely-true', 'barely-true', 'half-true', 'half-true', 'half-true', 'true', 'mostly-true', 'half-true', 'true', 'half-true', 'pants-fire', 'true', 'true', 'true', 'barely-true', 'barely-true', 'pants-fire', 'mostly-true', 'mostly-true', 'mostly-true', 'true', 'half-true', 'mostly-true', 'false', 'mostly-true', 'true', 'mostly-true', 'barely-true', 'false', 'mostly-true', 'pants-fire', 'mostly-true', 'mostly-true', 'barely-true', 'mostly-true', 'half-true', 'mostly-true', 'true', 'false', 'half-true', 'half-true', 'true', 'false', 'true', 'pants-fire', 'true', 'true', 'false', 'barely-true', 'barely-true', 'false', 'true', 'false', 'mostly-true', 'half-true', 'false', 'mostly-true', 'barely-true', 'mostly-true', 'barely-true', 'pants-fire', 'half-true', 'half-true', 'false', 'false', 'false', 'barely-true', 'mostly-true', 'half-true', 'barely-true', 'barely-true', 'half-true', 'false', 'false', 'false', 'barely-true', 'barely-true', 'barely-true', 'mostly-true', 'false', 'pants-fire', 'pants-fire', 'false', 'half-true', 'mostly-true', 'barely-true', 'mostly-true', 'true', 'mostly-true', 'half-true', 'mostly-true', 'half-true', 'true', 'half-true', 'mostly-true', 'mostly-true', 'pants-fire', 'pants-fire', 'false', 'half-true', 'mostly-true', 'half-true', 'false', 'mostly-true', 'half-true', 'true', 'true', 'false', 'false', 'false', 'barely-true', 'mostly-true', 'false', 'barely-true', 'half-true', 'barely-true', 'half-true', 'mostly-true', 'false', 'mostly-true', 'false', 'half-true', 'mostly-true', 'false', 'barely-true', 'true', 'half-true', 'false', 'false', 'barely-true', 'true', 'false', 'mostly-true', 'pants-fire', 'half-true', 'false', 'false', 'barely-true', 'false', 'pants-fire', 'mostly-true', 'mostly-true', 'mostly-true', 'false', 'half-true', 'barely-true', 'barely-true', 'false', 'barely-true', 'barely-true', 'pants-fire', 'true', 'half-true', 'barely-true', 'pants-fire', 'false', 'pants-fire', 'false', 'half-true', 'false', 'false', 'half-true', 'half-true', 'barely-true', 'mostly-true', 'mostly-true', 'barely-true', 'mostly-true', 'false', 'barely-true', 'false', 'barely-true', 'true', 'half-true', 'false', 'true', 'barely-true', 'true', 'mostly-true', 'mostly-true', 'half-true', 'barely-true', 'true', 'true', 'mostly-true', 'false', 'mostly-true', 'false', 'true', 'half-true', 'half-true', 'mostly-true', 'mostly-true', 'mostly-true', 'true', 'barely-true', 'half-true', 'mostly-true', 'barely-true', 'false', 'mostly-true', 'true', 'mostly-true', 'pants-fire', 'mostly-true', 'mostly-true', 'true', 'true', 'pants-fire', 'barely-true', 'barely-true', 'mostly-true', 'mostly-true', 'pants-fire', 'false', 'true', 'barely-true', 'false', 'true', 'half-true', 'false', 'false', 'barely-true', 'true', 'barely-true', 'mostly-true', 'half-true', 'mostly-true', 'false', 'barely-true', 'half-true', 'false', 'half-true', 'half-true', 'half-true', 'barely-true', 'barely-true', 'barely-true', 'half-true', 'half-true', 'barely-true', 'barely-true', 'true', 'barely-true', 'half-true', 'false', 'pants-fire', 'mostly-true', 'true', 'true', 'true', 'half-true', 'pants-fire', 'half-true', 'true', 'false', 'true', 'barely-true', 'barely-true', 'false', 'false', 'true', 'pants-fire', 'mostly-true', 'true', 'true', 'half-true', 'false', 'pants-fire', 'barely-true', 'true', 'half-true', 'barely-true', 'barely-true', 'half-true', 'false', 'barely-true', 'barely-true', 'half-true', 'half-true', 'mostly-true', 'false', 'true', 'mostly-true', 'half-true', 'true', 'half-true', 'false', 'half-true', 'true', 'false', 'pants-fire', 'pants-fire', 'true', 'false', 'false', 'false', 'half-true', 'true', 'half-true', 'barely-true', 'pants-fire', 'barely-true', 'true', 'mostly-true', 'half-true', 'true', 'false', 'false', 'pants-fire', 'true', 'barely-true', 'half-true', 'pants-fire', 'true', 'mostly-true', 'false', 'mostly-true', 'pants-fire', 'half-true', 'mostly-true', 'true', 'false', 'false', 'barely-true', 'barely-true', 'true', 'barely-true', 'true', 'barely-true', 'false', 'false', 'true', 'mostly-true', 'false', 'barely-true', 'barely-true', 'false', 'barely-true', 'half-true', 'mostly-true', 'pants-fire', 'barely-true', 'false', 'half-true', 'half-true', 'mostly-true', 'pants-fire', 'false', 'true', 'mostly-true', 'half-true', 'half-true', 'mostly-true', 'half-true', 'mostly-true', 'false', 'pants-fire', 'barely-true', 'pants-fire', 'half-true', 'false', 'true', 'barely-true', 'barely-true', 'true', 'true', 'false', 'mostly-true', 'mostly-true', 'pants-fire', 'true', 'false', 'half-true', 'false', 'true', 'pants-fire', 'half-true', 'pants-fire', 'half-true', 'half-true', 'barely-true', 'mostly-true', 'barely-true', 'false', 'mostly-true', 'false', 'false', 'half-true', 'true', 'false', 'false', 'half-true', 'true', 'false', 'barely-true', 'true', 'half-true', 'mostly-true', 'barely-true', 'pants-fire', 'mostly-true', 'false', 'pants-fire', 'true', 'false', 'mostly-true', 'barely-true', 'false', 'barely-true', 'mostly-true', 'mostly-true', 'mostly-true', 'barely-true', 'barely-true', 'half-true', 'barely-true', 'true', 'true', 'mostly-true', 'half-true', 'half-true', 'mostly-true', 'true', 'barely-true', 'half-true', 'pants-fire', 'true', 'false', 'mostly-true', 'pants-fire', 'false', 'true', 'false', 'mostly-true', 'true', 'mostly-true', 'half-true', 'half-true', 'mostly-true', 'true', 'false', 'true', 'false', 'barely-true', 'mostly-true', 'true', 'mostly-true', 'half-true', 'half-true', 'mostly-true', 'true', 'pants-fire', 'false', 'half-true', 'barely-true', 'pants-fire', 'false', 'half-true', 'half-true', 'half-true', 'pants-fire', 'true', 'half-true', 'barely-true', 'mostly-true', 'half-true', 'true', 'half-true', 'pants-fire', 'barely-true', 'false', 'half-true', 'half-true', 'true', 'pants-fire', 'half-true', 'false', 'mostly-true', 'barely-true', 'barely-true', 'half-true', 'false', 'barely-true', 'false', 'barely-true', 'mostly-true', 'barely-true', 'half-true', 'half-true', 'mostly-true', 'false', 'false', 'pants-fire', 'false', 'barely-true', 'true', 'false', 'half-true', 'half-true', 'pants-fire', 'false', 'false', 'barely-true', 'false', 'barely-true', 'pants-fire', 'pants-fire', 'mostly-true', 'half-true', 'false', 'true', 'mostly-true', 'mostly-true', 'mostly-true', 'half-true', 'true', 'barely-true', 'barely-true', 'pants-fire', 'false', 'mostly-true', 'false', 'half-true', 'true', 'pants-fire', 'pants-fire', 'pants-fire', 'half-true', 'true', 'false', 'barely-true', 'pants-fire', 'false', 'mostly-true', 'half-true', 'barely-true', 'mostly-true', 'true', 'pants-fire', 'mostly-true', 'mostly-true', 'half-true', 'true', 'pants-fire', 'mostly-true', 'true', 'pants-fire', 'barely-true', 'false', 'mostly-true', 'false', 'mostly-true', 'barely-true', 'true', 'true', 'true', 'half-true', 'false', 'barely-true', 'false', 'barely-true', 'half-true', 'mostly-true', 'half-true', 'false', 'half-true', 'barely-true', 'half-true', 'barely-true', 'false', 'false', 'half-true', 'half-true', 'mostly-true', 'mostly-true', 'true', 'false', 'pants-fire', 'half-true', 'half-true', 'half-true', 'barely-true', 'barely-true', 'true', 'barely-true', 'false', 'half-true', 'mostly-true', 'mostly-true', 'mostly-true', 'half-true', 'false', 'true', 'false', 'half-true', 'barely-true', 'mostly-true', 'mostly-true', 'false', 'half-true', 'false', 'mostly-true', 'half-true', 'false', 'true', 'half-true', 'mostly-true', 'true', 'half-true', 'mostly-true', 'true', 'mostly-true', 'barely-true', 'false', 'barely-true', 'mostly-true', 'barely-true', 'barely-true', 'true', 'false', 'true', 'false', 'half-true', 'half-true', 'half-true', 'mostly-true', 'mostly-true', 'true', 'barely-true', 'true', 'half-true', 'pants-fire', 'true', 'true', 'half-true', 'barely-true', 'mostly-true', 'mostly-true', 'half-true', 'half-true', 'false', 'half-true', 'pants-fire', 'mostly-true', 'half-true', 'half-true', 'true', 'barely-true', 'half-true', 'half-true', 'pants-fire', 'barely-true', 'barely-true', 'mostly-true', 'barely-true', 'mostly-true', 'false', 'pants-fire', 'false', 'mostly-true', 'half-true', 'mostly-true', 'half-true', 'false', 'true', 'half-true', 'true', 'false', 'pants-fire', 'false', 'mostly-true', 'barely-true', 'barely-true', 'barely-true', 'half-true', 'half-true', 'mostly-true', 'half-true', 'half-true', 'false', 'half-true', 'false', 'half-true', 'mostly-true', 'barely-true', 'mostly-true', 'false', 'mostly-true', 'half-true', 'barely-true', 'half-true', 'false', 'false', 'true', 'true', 'barely-true', 'mostly-true', 'true', 'false', 'mostly-true', 'barely-true', 'half-true', 'half-true', 'false', 'pants-fire', 'half-true', 'pants-fire', 'half-true', 'half-true', 'mostly-true', 'pants-fire', 'false', 'true', 'barely-true', 'false', 'false', 'half-true', 'pants-fire', 'half-true', 'barely-true', 'mostly-true', 'false', 'true', 'true', 'true', 'mostly-true', 'half-true', 'mostly-true', 'barely-true', 'mostly-true', 'half-true', 'true', 'barely-true', 'barely-true', 'half-true', 'half-true', 'barely-true', 'half-true', 'true', 'half-true', 'mostly-true', 'false', 'mostly-true', 'mostly-true', 'half-true', 'barely-true', 'half-true', 'mostly-true', 'half-true', 'barely-true', 'pants-fire', 'true', 'barely-true', 'false', 'pants-fire', 'true', 'barely-true', 'barely-true', 'true', 'false', 'mostly-true', 'false', 'barely-true', 'mostly-true', 'barely-true', 'false', 'mostly-true', 'barely-true', 'half-true', 'false', 'false', 'mostly-true', 'mostly-true', 'false', 'barely-true', 'true', 'false', 'false', 'half-true', 'barely-true', 'half-true', 'barely-true', 'false', 'pants-fire', 'mostly-true', 'true', 'pants-fire', 'true', 'pants-fire', 'half-true', 'barely-true', 'barely-true', 'half-true', 'pants-fire', 'true', 'half-true', 'false', 'false', 'half-true', 'mostly-true', 'false', 'barely-true', 'half-true', 'true', 'mostly-true', 'false', 'false', 'mostly-true', 'mostly-true', 'false', 'true', 'true', 'mostly-true', 'true', 'half-true', 'true', 'barely-true', 'mostly-true', 'half-true', 'pants-fire', 'barely-true', 'mostly-true', 'mostly-true', 'true', 'pants-fire', 'mostly-true', 'false', 'false', 'half-true', 'false', 'false', 'barely-true', 'barely-true', 'true', 'true', 'true', 'mostly-true', 'true', 'false', 'barely-true', 'half-true', 'half-true', 'barely-true', 'true', 'mostly-true', 'false', 'false', 'barely-true', 'mostly-true', 'half-true', 'half-true', 'half-true', 'true', 'false', 'false', 'false', 'half-true', 'true', 'mostly-true', 'false', 'mostly-true', 'pants-fire', 'true', 'half-true', 'half-true', 'mostly-true', 'false', 'true', 'half-true', 'false', 'barely-true', 'barely-true', 'barely-true', 'true', 'pants-fire', 'barely-true', 'false', 'true', 'barely-true', 'pants-fire', 'half-true', 'false', 'false', 'pants-fire', 'false', 'false', 'half-true', 'half-true', 'mostly-true', 'mostly-true', 'true', 'half-true', 'false', 'false', 'barely-true', 'half-true', 'false', 'mostly-true', 'false', 'false', 'false', 'half-true', 'half-true', 'half-true', 'barely-true', 'half-true', 'pants-fire', 'barely-true', 'barely-true', 'mostly-true', 'barely-true', 'false', 'barely-true', 'mostly-true', 'mostly-true', 'mostly-true', 'false', 'mostly-true', 'true', 'mostly-true', 'barely-true', 'mostly-true', 'barely-true', 'false', 'mostly-true', 'half-true', 'false', 'true', 'barely-true', 'pants-fire', 'half-true', 'mostly-true', 'half-true', 'true', 'barely-true', 'half-true', 'barely-true', 'half-true', 'half-true', 'barely-true', 'mostly-true', 'half-true', 'false', 'false', 'pants-fire', 'false', 'pants-fire', 'barely-true', 'barely-true', 'half-true', 'false', 'true', 'false', 'barely-true', 'false', 'barely-true', 'false', 'pants-fire', 'half-true', 'mostly-true', 'half-true', 'half-true', 'half-true', 'true', 'mostly-true', 'false', 'barely-true', 'true', 'false', 'mostly-true', 'barely-true', 'half-true', 'false', 'barely-true', 'mostly-true', 'mostly-true', 'barely-true', 'false', 'pants-fire', 'true', 'half-true', 'half-true', 'pants-fire', 'false', 'false', 'false', 'mostly-true', 'barely-true', 'mostly-true', 'false', 'mostly-true', 'true', 'half-true', 'true', 'false', 'half-true', 'true', 'false', 'false', 'pants-fire', 'half-true', 'true', 'false', 'half-true', 'true', 'mostly-true', 'true', 'half-true', 'half-true', 'false', 'true', 'half-true', 'true', 'true', 'mostly-true', 'false', 'false', 'pants-fire', 'barely-true', 'half-true', 'true', 'barely-true', 'barely-true', 'mostly-true', 'false', 'barely-true', 'false', 'false', 'half-true', 'half-true', 'barely-true', 'barely-true', 'half-true', 'pants-fire', 'mostly-true', 'pants-fire', 'false', 'half-true', 'barely-true', 'false', 'half-true', 'pants-fire', 'false', 'barely-true', 'false', 'half-true', 'half-true', 'mostly-true', 'mostly-true', 'pants-fire', 'true', 'barely-true', 'half-true', 'barely-true', 'half-true', 'half-true', 'true', 'pants-fire', 'false', 'half-true', 'true', 'true', 'mostly-true', 'true', 'half-true', 'mostly-true', 'false', 'barely-true', 'barely-true', 'mostly-true', 'mostly-true', 'false', 'barely-true', 'true', 'mostly-true', 'mostly-true', 'half-true', 'half-true', 'mostly-true', 'half-true', 'true', 'half-true', 'pants-fire', 'true', 'mostly-true', 'half-true', 'mostly-true', 'false', 'barely-true', 'false', 'mostly-true', 'false', 'half-true', 'false', 'false', 'mostly-true', 'half-true', 'mostly-true', 'half-true', 'false', 'half-true', 'false', 'mostly-true', 'true', 'half-true', 'pants-fire', 'false', 'false', 'barely-true', 'half-true', 'barely-true', 'mostly-true', 'half-true', 'false', 'mostly-true', 'false', 'true', 'false', 'false', 'barely-true', 'true', 'barely-true', 'false', 'false', 'mostly-true', 'half-true', 'false', 'half-true', 'half-true', 'true', 'false', 'false', 'mostly-true', 'false', 'half-true', 'false', 'pants-fire', 'mostly-true', 'false', 'false', 'false', 'pants-fire', 'half-true', 'false', 'barely-true', 'half-true', 'true', 'half-true', 'true', 'mostly-true', 'false', 'barely-true', 'mostly-true', 'half-true', 'mostly-true', 'false', 'false', 'false', 'false', 'barely-true', 'false', 'true', 'false', 'mostly-true', 'mostly-true', 'false', 'mostly-true', 'half-true', 'false', 'half-true', 'mostly-true', 'pants-fire', 'barely-true', 'true', 'true', 'half-true', 'false', 'barely-true', 'half-true', 'half-true', 'pants-fire', 'false', 'false', 'mostly-true', 'barely-true', 'false', 'false', 'mostly-true', 'true', 'mostly-true', 'barely-true', 'false', 'half-true', 'mostly-true', 'mostly-true', 'barely-true', 'true', 'false', 'barely-true', 'barely-true', 'false', 'true', 'true', 'true', 'barely-true', 'true', 'barely-true', 'true', 'mostly-true', 'half-true', 'half-true', 'false', 'mostly-true', 'half-true', 'true', 'barely-true', 'half-true', 'true', 'half-true', 'mostly-true', 'mostly-true', 'barely-true', 'mostly-true', 'half-true', 'true', 'true', 'half-true', 'true', 'false', 'barely-true', 'half-true', 'false', 'pants-fire', 'false', 'true', 'pants-fire', 'true', 'mostly-true', 'false', 'pants-fire', 'pants-fire', 'mostly-true', 'mostly-true', 'mostly-true', 'false', 'half-true', 'half-true', 'false', 'barely-true', 'false', 'true', 'barely-true', 'mostly-true', 'mostly-true', 'barely-true', 'false', 'true', 'false', 'false', 'mostly-true', 'false', 'half-true', 'false', 'barely-true', 'false', 'true', 'true', 'mostly-true', 'true', 'barely-true', 'barely-true', 'barely-true', 'mostly-true', 'half-true', 'half-true', 'barely-true', 'barely-true', 'mostly-true', 'false', 'mostly-true', 'false', 'mostly-true', 'mostly-true', 'true', 'true', 'barely-true', 'mostly-true', 'barely-true', 'half-true', 'half-true', 'true', 'mostly-true', 'barely-true', 'half-true', 'barely-true', 'false', 'half-true', 'mostly-true', 'mostly-true', 'true', 'false', 'mostly-true', 'mostly-true', 'barely-true', 'barely-true', 'false', 'barely-true', 'false', 'false', 'half-true', 'half-true', 'false', 'barely-true', 'mostly-true', 'half-true', 'true', 'true', 'false', 'false', 'half-true', 'half-true', 'false', 'half-true', 'mostly-true', 'barely-true', 'mostly-true', 'mostly-true', 'true', 'false', 'barely-true', 'false', 'false', 'false', 'true', 'false', 'pants-fire', 'barely-true', 'true', 'mostly-true', 'barely-true', 'half-true', 'true', 'barely-true', 'false', 'half-true', 'false', 'mostly-true', 'pants-fire', 'false', 'mostly-true', 'false', 'true', 'half-true', 'true', 'false', 'pants-fire', 'true', 'false', 'mostly-true', 'false', 'true', 'barely-true', 'true', 'half-true', 'half-true', 'false', 'barely-true', 'half-true', 'barely-true', 'mostly-true', 'mostly-true', 'false', 'mostly-true', 'half-true', 'half-true', 'true', 'mostly-true', 'false', 'true', 'mostly-true', 'true', 'mostly-true', 'barely-true', 'false', 'mostly-true', 'true', 'false', 'barely-true', 'pants-fire', 'barely-true', 'true', 'barely-true', 'barely-true', 'half-true', 'mostly-true', 'half-true', 'barely-true', 'barely-true', 'mostly-true', 'mostly-true', 'mostly-true', 'true', 'false', 'barely-true', 'true', 'true', 'pants-fire', 'false', 'half-true', 'true', 'barely-true', 'mostly-true', 'false', 'true', 'false', 'pants-fire', 'half-true', 'true', 'mostly-true', 'barely-true', 'barely-true', 'true', 'true', 'false', 'false', 'true', 'half-true', 'half-true', 'mostly-true', 'half-true', 'mostly-true', 'true', 'false', 'mostly-true', 'false', 'half-true', 'mostly-true', 'mostly-true', 'barely-true', 'half-true', 'barely-true', 'mostly-true', 'true', 'false', 'barely-true', 'mostly-true', 'false', 'false', 'mostly-true', 'mostly-true', 'mostly-true', 'false', 'barely-true', 'true', 'half-true', 'mostly-true', 'mostly-true', 'true', 'true', 'barely-true', 'pants-fire', 'mostly-true', 'false', 'half-true', 'pants-fire', 'half-true', 'half-true', 'barely-true', 'false', 'false', 'true', 'half-true', 'mostly-true', 'true', 'false', 'barely-true', 'half-true', 'barely-true', 'half-true', 'barely-true', 'half-true', 'false', 'half-true', 'mostly-true', 'pants-fire', 'barely-true', 'false', 'half-true', 'half-true', 'half-true', 'barely-true', 'pants-fire', 'true', 'true', 'barely-true', 'pants-fire', 'false', 'false', 'half-true', 'mostly-true', 'half-true', 'mostly-true', 'false', 'half-true', 'mostly-true', 'barely-true', 'mostly-true', 'half-true', 'mostly-true', 'false', 'false', 'barely-true', 'false', 'half-true', 'half-true', 'true', 'barely-true', 'true', 'false', 'half-true', 'false', 'half-true', 'true', 'half-true', 'half-true', 'false', 'half-true', 'mostly-true', 'pants-fire', 'true', 'mostly-true', 'mostly-true', 'false', 'half-true', 'barely-true', 'false', 'barely-true', 'false', 'half-true', 'true', 'false', 'true', 'half-true', 'mostly-true', 'half-true', 'half-true', 'false', 'mostly-true', 'mostly-true', 'mostly-true', 'pants-fire', 'barely-true', 'mostly-true', 'half-true', 'half-true', 'half-true', 'false', 'mostly-true', 'false', 'barely-true', 'mostly-true', 'true', 'half-true', 'pants-fire', 'true', 'half-true', 'pants-fire', 'barely-true', 'mostly-true', 'true', 'true', 'half-true', 'mostly-true', 'false', 'barely-true', 'barely-true', 'barely-true', 'true', 'pants-fire', 'half-true', 'half-true', 'half-true', 'barely-true', 'mostly-true', 'half-true', 'barely-true', 'true', 'mostly-true', 'barely-true', 'mostly-true', 'barely-true', 'mostly-true', 'half-true', 'barely-true', 'true', 'barely-true', 'mostly-true', 'false', 'barely-true', 'false', 'mostly-true', 'true', 'false', 'mostly-true', 'mostly-true', 'pants-fire', 'false', 'false', 'false', 'barely-true', 'true', 'half-true', 'half-true', 'true', 'mostly-true', 'barely-true', 'true', 'mostly-true', 'half-true', 'half-true', 'true', 'false', 'half-true', 'half-true', 'mostly-true', 'barely-true', 'half-true', 'half-true', 'false', 'half-true', 'mostly-true', 'barely-true', 'false', 'mostly-true', 'barely-true', 'half-true', 'half-true', 'false', 'pants-fire', 'half-true', 'false', 'half-true', 'false', 'half-true', 'mostly-true', 'half-true', 'barely-true', 'barely-true', 'barely-true', 'half-true', 'barely-true', 'true', 'mostly-true', 'mostly-true', 'barely-true', 'barely-true', 'half-true', 'mostly-true', 'barely-true', 'half-true', 'mostly-true', 'half-true', 'half-true', 'barely-true', 'barely-true', 'false', 'pants-fire', 'pants-fire', 'false', 'barely-true', 'pants-fire', 'barely-true', 'mostly-true', 'half-true', 'mostly-true', 'mostly-true', 'false', 'pants-fire', 'false', 'barely-true', 'barely-true', 'half-true', 'false', 'half-true', 'mostly-true', 'true', 'mostly-true', 'true', 'false', 'pants-fire', 'mostly-true', 'mostly-true', 'true', 'barely-true', 'true', 'barely-true', 'barely-true', 'false', 'barely-true', 'pants-fire', 'mostly-true', 'false', 'mostly-true', 'pants-fire', 'half-true', 'mostly-true', 'mostly-true', 'barely-true', 'false', 'false', 'mostly-true', 'mostly-true', 'mostly-true', 'half-true', 'mostly-true', 'false', 'mostly-true', 'half-true', 'half-true', 'false', 'barely-true', 'true', 'barely-true', 'barely-true', 'false', 'barely-true', 'barely-true', 'mostly-true', 'true', 'true', 'barely-true', 'false', 'mostly-true', 'half-true', 'true', 'barely-true', 'false', 'mostly-true', 'half-true', 'false', 'half-true', 'pants-fire', 'pants-fire', 'true', 'half-true', 'mostly-true', 'mostly-true', 'mostly-true', 'barely-true', 'pants-fire', 'barely-true', 'barely-true', 'barely-true', 'true', 'pants-fire', 'half-true', 'true', 'true', 'half-true', 'barely-true', 'mostly-true', 'false', 'half-true', 'barely-true', 'pants-fire', 'pants-fire', 'half-true', 'half-true', 'false', 'true', 'false', 'false', 'false', 'false', 'false', 'false', 'pants-fire', 'pants-fire', 'true', 'mostly-true', 'mostly-true', 'half-true', 'half-true', 'pants-fire', 'half-true', 'pants-fire', 'false', 'mostly-true', 'true', 'half-true', 'pants-fire', 'mostly-true', 'mostly-true', 'mostly-true', 'barely-true', 'true', 'false', 'false', 'mostly-true', 'mostly-true', 'half-true', 'barely-true', 'half-true', 'pants-fire', 'true', 'mostly-true', 'false', 'true', 'mostly-true', 'barely-true', 'mostly-true', 'half-true', 'mostly-true', 'true', 'pants-fire', 'barely-true', 'true', 'false', 'half-true', 'true', 'false', 'true', 'mostly-true', 'true', 'half-true', 'true', 'barely-true', 'true', 'false', 'barely-true', 'false', 'true', 'mostly-true', 'pants-fire', 'pants-fire', 'false', 'mostly-true', 'false', 'half-true', 'false', 'barely-true', 'false', 'mostly-true', 'mostly-true', 'pants-fire', 'false', 'barely-true', 'mostly-true', 'half-true', 'barely-true', 'mostly-true', 'half-true', 'true', 'half-true', 'true', 'false', 'true', 'true', 'false', 'pants-fire', 'barely-true', 'half-true', 'half-true', 'mostly-true', 'false', 'barely-true', 'half-true', 'barely-true', 'false', 'barely-true', 'true', 'mostly-true', 'true', 'mostly-true', 'false', 'half-true', 'barely-true', 'half-true', 'mostly-true', 'barely-true', 'barely-true', 'half-true', 'false', 'mostly-true', 'barely-true', 'false', 'half-true', 'barely-true', 'half-true', 'half-true', 'false', 'barely-true', 'mostly-true', 'mostly-true', 'barely-true', 'half-true', 'mostly-true', 'false', 'false', 'pants-fire', 'true', 'false', 'true', 'pants-fire', 'true', 'half-true', 'mostly-true', 'mostly-true', 'half-true', 'true', 'mostly-true', 'mostly-true', 'half-true', 'half-true', 'barely-true', 'true', 'barely-true', 'mostly-true', 'true', 'barely-true', 'mostly-true', 'barely-true', 'half-true', 'barely-true', 'mostly-true', 'true', 'barely-true', 'false', 'half-true', 'false', 'mostly-true', 'mostly-true', 'pants-fire', 'false', 'mostly-true', 'half-true', 'mostly-true', 'barely-true', 'true', 'pants-fire', 'half-true', 'true', 'true', 'false', 'barely-true', 'true', 'mostly-true', 'pants-fire', 'half-true', 'false', 'barely-true', 'barely-true', 'mostly-true', 'true', 'barely-true', 'true', 'false', 'mostly-true', 'true', 'barely-true', 'barely-true', 'barely-true', 'half-true', 'mostly-true', 'false', 'true', 'false', 'false', 'mostly-true', 'mostly-true', 'true', 'barely-true', 'barely-true', 'barely-true', 'half-true', 'true', 'half-true', 'pants-fire', 'half-true', 'barely-true', 'true', 'false', 'pants-fire', 'pants-fire', 'true', 'pants-fire', 'half-true', 'false', 'half-true', 'pants-fire', 'mostly-true', 'false', 'half-true', 'barely-true', 'false', 'true', 'pants-fire', 'barely-true', 'pants-fire', 'pants-fire', 'barely-true', 'barely-true', 'mostly-true', 'half-true', 'barely-true', 'false', 'barely-true', 'half-true', 'false', 'false', 'half-true', 'false', 'true', 'true', 'false', 'pants-fire', 'mostly-true', 'half-true', 'mostly-true', 'barely-true', 'false', 'half-true', 'true', 'half-true', 'true', 'mostly-true', 'false', 'true', 'mostly-true', 'mostly-true', 'barely-true', 'half-true', 'false', 'half-true', 'pants-fire', 'half-true', 'barely-true', 'barely-true', 'half-true', 'half-true', 'pants-fire', 'false', 'barely-true', 'half-true', 'mostly-true', 'false', 'mostly-true', 'true', 'mostly-true', 'barely-true', 'false', 'true', 'half-true', 'barely-true', 'mostly-true', 'half-true', 'barely-true', 'half-true', 'false', 'mostly-true', 'true', 'true', 'mostly-true', 'barely-true', 'false', 'true', 'true', 'half-true', 'true', 'true', 'mostly-true', 'false', 'barely-true', 'half-true', 'mostly-true', 'mostly-true', 'false', 'half-true', 'half-true', 'false', 'half-true', 'half-true', 'barely-true', 'barely-true', 'false', 'false', 'false', 'true', 'half-true', 'mostly-true', 'true', 'half-true', 'false', 'barely-true', 'half-true', 'pants-fire', 'pants-fire', 'false', 'false', 'mostly-true', 'false', 'half-true', 'half-true', 'false', 'mostly-true', 'false', 'barely-true', 'pants-fire', 'mostly-true', 'barely-true', 'half-true', 'mostly-true', 'half-true', 'half-true', 'false', 'barely-true', 'half-true', 'true', 'mostly-true', 'barely-true', 'mostly-true', 'half-true', 'half-true', 'mostly-true', 'barely-true', 'false', 'true', 'barely-true', 'pants-fire', 'false', 'half-true', 'true', 'true', 'true', 'mostly-true', 'mostly-true', 'false', 'half-true', 'false', 'pants-fire', 'half-true', 'mostly-true', 'true', 'true', 'mostly-true', 'true', 'mostly-true', 'half-true', 'pants-fire', 'half-true', 'half-true', 'true', 'mostly-true', 'true', 'pants-fire', 'mostly-true', 'false', 'pants-fire', 'barely-true', 'half-true', 'false', 'barely-true', 'true', 'half-true', 'mostly-true', 'pants-fire', 'pants-fire', 'mostly-true', 'barely-true', 'half-true', 'mostly-true', 'false', 'mostly-true', 'half-true', 'false', 'half-true', 'half-true', 'pants-fire', 'half-true', 'half-true', 'mostly-true', 'half-true', 'pants-fire', 'half-true', 'half-true', 'half-true', 'half-true', 'true', 'mostly-true', 'barely-true', 'mostly-true', 'mostly-true', 'mostly-true', 'half-true', 'true', 'false', 'false', 'mostly-true', 'false', 'true', 'half-true', 'pants-fire', 'pants-fire', 'half-true', 'true', 'barely-true', 'barely-true', 'false', 'mostly-true', 'false', 'half-true', 'mostly-true', 'mostly-true', 'true', 'barely-true', 'barely-true', 'true', 'half-true', 'half-true', 'false', 'pants-fire', 'barely-true', 'barely-true', 'pants-fire', 'half-true', 'mostly-true', 'half-true', 'mostly-true', 'half-true', 'false', 'mostly-true', 'barely-true', 'half-true', 'barely-true', 'true', 'false', 'mostly-true', 'mostly-true', 'false', 'half-true', 'pants-fire', 'barely-true', 'mostly-true', 'mostly-true', 'pants-fire', 'pants-fire', 'true', 'barely-true', 'false', 'barely-true', 'barely-true', 'half-true', 'true', 'mostly-true', 'pants-fire', 'mostly-true', 'barely-true', 'mostly-true', 'true', 'false', 'half-true', 'barely-true', 'half-true', 'half-true', 'half-true', 'false', 'false', 'false', 'mostly-true', 'true', 'true', 'half-true', 'false', 'true', 'barely-true', 'barely-true', 'mostly-true', 'false', 'pants-fire', 'mostly-true', 'mostly-true', 'false', 'false', 'barely-true', 'mostly-true', 'pants-fire', 'true', 'false', 'barely-true', 'true', 'mostly-true', 'half-true', 'barely-true', 'barely-true', 'mostly-true', 'true', 'pants-fire', 'false', 'pants-fire', 'barely-true', 'false', 'pants-fire', 'barely-true', 'barely-true', 'half-true', 'true', 'half-true', 'true', 'barely-true', 'false', 'half-true', 'mostly-true', 'barely-true', 'mostly-true', 'pants-fire', 'true', 'mostly-true', 'half-true', 'mostly-true', 'half-true', 'pants-fire', 'false', 'true', 'pants-fire', 'half-true', 'half-true', 'true', 'half-true', 'barely-true', 'false', 'true', 'pants-fire', 'mostly-true', 'mostly-true', 'half-true', 'true', 'barely-true', 'barely-true', 'half-true', 'false', 'mostly-true', 'mostly-true', 'mostly-true', 'true', 'half-true', 'barely-true', 'half-true', 'mostly-true', 'pants-fire', 'half-true', 'barely-true', 'barely-true', 'barely-true', 'false', 'pants-fire', 'true', 'pants-fire', 'half-true', 'half-true', 'barely-true', 'false', 'false', 'barely-true', 'false', 'mostly-true', 'barely-true', 'half-true', 'pants-fire', 'barely-true', 'false', 'mostly-true', 'mostly-true', 'mostly-true', 'false', 'half-true', 'mostly-true', 'mostly-true', 'barely-true', 'mostly-true', 'false', 'true', 'false', 'pants-fire', 'mostly-true', 'true', 'true', 'false', 'mostly-true', 'mostly-true', 'true', 'barely-true', 'true', 'true', 'barely-true', 'barely-true', 'true', 'mostly-true', 'false', 'barely-true', 'half-true', 'true', 'mostly-true', 'false', 'false', 'half-true', 'false', 'half-true', 'barely-true', 'false', 'true', 'half-true', 'barely-true', 'true', 'false', 'false', 'half-true', 'false', 'mostly-true', 'true', 'mostly-true', 'pants-fire', 'half-true', 'half-true', 'pants-fire', 'true', 'barely-true', 'mostly-true', 'mostly-true', 'true', 'true', 'mostly-true', 'half-true', 'half-true', 'false', 'false', 'half-true', 'false', 'true', 'half-true', 'pants-fire', 'mostly-true', 'barely-true', 'false', 'false', 'false', 'half-true', 'mostly-true', 'barely-true', 'pants-fire', 'half-true', 'false', 'pants-fire', 'false', 'true', 'mostly-true', 'half-true', 'mostly-true', 'mostly-true', 'false', 'false', 'half-true', 'pants-fire', 'half-true', 'half-true', 'true', 'half-true', 'false', 'mostly-true', 'false', 'barely-true', 'mostly-true', 'half-true', 'false', 'mostly-true', 'barely-true', 'pants-fire', 'half-true', 'pants-fire', 'true', 'mostly-true', 'mostly-true', 'true', 'pants-fire', 'mostly-true', 'true', 'true', 'true', 'barely-true', 'barely-true', 'barely-true', 'barely-true', 'true', 'mostly-true', 'half-true', 'half-true', 'false', 'barely-true', 'true', 'barely-true', 'barely-true', 'barely-true', 'false', 'half-true', 'barely-true', 'false', 'mostly-true', 'half-true', 'barely-true', 'half-true', 'half-true', 'mostly-true', 'pants-fire', 'mostly-true', 'true', 'mostly-true', 'half-true', 'barely-true', 'half-true', 'false', 'mostly-true', 'true', 'pants-fire', 'true', 'true', 'pants-fire', 'false', 'true', 'half-true', 'true', 'true', 'false', 'half-true', 'mostly-true', 'barely-true', 'mostly-true', 'barely-true', 'false', 'false', 'barely-true', 'pants-fire', 'mostly-true', 'false', 'barely-true', 'half-true', 'mostly-true', 'half-true', 'barely-true', 'barely-true', 'mostly-true', 'false', 'half-true', 'barely-true', 'pants-fire', 'false', 'mostly-true', 'half-true', 'false', 'mostly-true', 'half-true', 'false', 'pants-fire', 'mostly-true', 'barely-true', 'pants-fire', 'false', 'barely-true', 'half-true', 'mostly-true', 'mostly-true', 'true', 'barely-true', 'half-true', 'true', 'half-true', 'half-true', 'true', 'pants-fire', 'mostly-true', 'false', 'half-true', 'false', 'half-true', 'false', 'pants-fire', 'true', 'true', 'true', 'half-true', 'mostly-true', 'mostly-true', 'barely-true', 'true', 'false', 'mostly-true', 'mostly-true', 'half-true', 'false', 'mostly-true', 'pants-fire', 'mostly-true', 'true', 'false', 'mostly-true', 'false', 'barely-true', 'mostly-true', 'barely-true', 'false', 'half-true', 'half-true', 'true', 'mostly-true', 'half-true', 'mostly-true', 'false', 'true', 'mostly-true', 'barely-true', 'barely-true', 'half-true', 'half-true', 'true', 'true', 'mostly-true', 'half-true', 'half-true', 'false', 'mostly-true', 'barely-true', 'true', 'barely-true', 'false', 'true', 'half-true', 'half-true', 'half-true', 'barely-true', 'pants-fire', 'mostly-true', 'mostly-true', 'half-true', 'mostly-true', 'barely-true', 'mostly-true', 'half-true', 'half-true', 'mostly-true', 'pants-fire', 'barely-true', 'half-true', 'barely-true', 'pants-fire', 'false', 'barely-true', 'barely-true', 'half-true', 'true', 'half-true', 'false', 'pants-fire', 'false', 'true', 'half-true', 'false', 'false', 'true', 'half-true', 'pants-fire', 'pants-fire', 'mostly-true', 'barely-true', 'barely-true', 'half-true', 'true', 'mostly-true', 'false', 'mostly-true', 'barely-true', 'barely-true', 'barely-true', 'half-true', 'pants-fire', 'half-true', 'half-true', 'true', 'false', 'barely-true', 'barely-true', 'half-true', 'barely-true', 'false', 'false', 'false', 'true', 'barely-true', 'mostly-true', 'mostly-true', 'half-true', 'false', 'pants-fire', 'false', 'false', 'barely-true', 'false', 'pants-fire', 'true', 'mostly-true', 'mostly-true', 'half-true', 'true', 'true', 'false', 'mostly-true', 'half-true', 'true', 'false', 'true', 'true', 'mostly-true', 'half-true', 'half-true', 'mostly-true', 'barely-true', 'false', 'mostly-true', 'mostly-true', 'false', 'half-true', 'half-true', 'false', 'barely-true', 'mostly-true', 'false', 'barely-true', 'half-true', 'true', 'barely-true', 'true', 'true', 'pants-fire', 'mostly-true', 'half-true', 'mostly-true', 'mostly-true', 'true', 'mostly-true', 'barely-true', 'half-true', 'mostly-true', 'true', 'true', 'mostly-true', 'pants-fire', 'pants-fire', 'barely-true', 'mostly-true', 'false', 'pants-fire', 'barely-true', 'false', 'half-true', 'mostly-true', 'mostly-true', 'pants-fire', 'true', 'barely-true', 'true', 'true', 'pants-fire', 'mostly-true', 'half-true', 'true', 'half-true', 'true', 'true', 'true', 'false', 'true', 'pants-fire', 'pants-fire', 'half-true', 'pants-fire', 'false', 'false', 'true', 'mostly-true', 'true', 'mostly-true', 'half-true', 'pants-fire', 'half-true', 'false', 'false', 'half-true', 'mostly-true', 'false', 'mostly-true', 'mostly-true', 'false', 'false', 'mostly-true', 'barely-true', 'true', 'mostly-true', 'true', 'half-true', 'true', 'true', 'barely-true', 'false', 'half-true', 'mostly-true', 'pants-fire', 'half-true', 'true', 'mostly-true', 'false', 'barely-true', 'mostly-true', 'false', 'mostly-true', 'barely-true', 'half-true', 'false', 'mostly-true', 'half-true', 'false', 'false', 'half-true', 'false', 'half-true', 'false', 'mostly-true', 'pants-fire', 'mostly-true', 'half-true', 'pants-fire', 'true', 'false', 'true', 'barely-true', 'half-true', 'half-true', 'half-true', 'mostly-true', 'false', 'barely-true', 'barely-true', 'false', 'false', 'half-true', 'barely-true', 'pants-fire', 'half-true', 'half-true', 'half-true', 'true', 'barely-true', 'mostly-true', 'half-true', 'barely-true', 'half-true', 'barely-true', 'true', 'pants-fire', 'mostly-true', 'pants-fire', 'pants-fire', 'pants-fire', 'false', 'half-true', 'half-true', 'barely-true', 'false', 'false', 'pants-fire', 'mostly-true', 'barely-true', 'false', 'barely-true', 'barely-true', 'barely-true', 'mostly-true', 'barely-true', 'half-true', 'true', 'mostly-true', 'mostly-true', 'half-true', 'barely-true', 'mostly-true', 'true', 'barely-true', 'true', 'pants-fire', 'barely-true', 'pants-fire', 'pants-fire', 'pants-fire', 'pants-fire', 'half-true', 'true', 'half-true', 'barely-true', 'barely-true', 'pants-fire', 'pants-fire', 'false', 'false', 'false', 'false', 'half-true', 'false', 'false', 'false', 'barely-true', 'mostly-true', 'pants-fire', 'pants-fire', 'pants-fire', 'half-true', 'false', 'mostly-true', 'half-true', 'false', 'half-true', 'true', 'false', 'true', 'mostly-true', 'half-true', 'false', 'barely-true', 'false', 'half-true', 'true', 'half-true', 'half-true', 'true', 'half-true', 'barely-true', 'false', 'true', 'true', 'true', 'true', 'half-true', 'false', 'false', 'mostly-true', 'true', 'pants-fire', 'barely-true', 'half-true', 'false', 'false', 'barely-true', 'true', 'half-true', 'barely-true', 'half-true', 'false', 'true', 'mostly-true', 'true', 'half-true', 'mostly-true', 'false', 'false', 'true', 'true', 'true', 'mostly-true', 'pants-fire', 'true', 'barely-true', 'false', 'barely-true', 'mostly-true', 'barely-true', 'true', 'mostly-true', 'mostly-true', 'mostly-true', 'pants-fire', 'barely-true', 'pants-fire', 'pants-fire', 'mostly-true', 'barely-true', 'false', 'barely-true', 'half-true', 'half-true', 'half-true', 'false', 'true', 'half-true', 'half-true', 'true', 'pants-fire', 'half-true', 'barely-true', 'true', 'half-true', 'mostly-true', 'mostly-true', 'half-true', 'true', 'true', 'false', 'true', 'barely-true', 'pants-fire', 'mostly-true', 'half-true', 'true', 'false', 'half-true', 'true', 'barely-true', 'mostly-true', 'false', 'true', 'true', 'mostly-true', 'half-true', 'true', 'mostly-true', 'true', 'pants-fire', 'false', 'half-true', 'half-true', 'false', 'false', 'barely-true', 'mostly-true', 'half-true', 'barely-true', 'half-true', 'mostly-true', 'true', 'pants-fire', 'mostly-true', 'half-true', 'pants-fire', 'false', 'true', 'true', 'true', 'true', 'half-true', 'mostly-true', 'mostly-true', 'true', 'half-true', 'mostly-true', 'barely-true', 'false', 'barely-true', 'false', 'true', 'pants-fire', 'barely-true', 'true', 'true', 'mostly-true', 'barely-true', 'pants-fire', 'false', 'half-true', 'true', 'pants-fire', 'true', 'true', 'true', 'barely-true', 'true', 'half-true', 'half-true', 'false', 'mostly-true', 'mostly-true', 'mostly-true', 'true', 'true', 'false', 'false', 'barely-true', 'mostly-true', 'half-true', 'mostly-true', 'barely-true', 'false', 'mostly-true', 'false', 'barely-true', 'half-true', 'barely-true', 'half-true', 'mostly-true', 'barely-true', 'barely-true', 'pants-fire', 'mostly-true', 'half-true', 'barely-true', 'half-true', 'true', 'false', 'false', 'mostly-true', 'mostly-true', 'barely-true', 'mostly-true', 'true', 'half-true', 'barely-true', 'half-true', 'mostly-true', 'half-true', 'mostly-true', 'barely-true', 'half-true', 'mostly-true', 'barely-true', 'pants-fire', 'half-true', 'true', 'half-true', 'mostly-true', 'false', 'true', 'true', 'half-true', 'barely-true', 'barely-true', 'false', 'mostly-true', 'half-true', 'barely-true', 'half-true', 'true', 'barely-true', 'pants-fire', 'true', 'mostly-true', 'true', 'barely-true', 'half-true', 'mostly-true', 'pants-fire', 'mostly-true', 'barely-true', 'barely-true', 'mostly-true', 'half-true', 'barely-true', 'barely-true', 'mostly-true', 'false', 'barely-true', 'half-true', 'half-true', 'barely-true', 'mostly-true', 'mostly-true', 'pants-fire', 'false', 'barely-true', 'true', 'barely-true', 'mostly-true', 'mostly-true', 'true', 'half-true', 'barely-true', 'mostly-true', 'half-true', 'half-true', 'half-true', 'false', 'mostly-true', 'pants-fire', 'pants-fire', 'half-true', 'false', 'false', 'false', 'false', 'mostly-true', 'barely-true', 'pants-fire', 'pants-fire', 'barely-true', 'half-true', 'half-true', 'half-true', 'true', 'true', 'half-true', 'barely-true', 'mostly-true', 'barely-true', 'half-true', 'half-true', 'mostly-true', 'half-true', 'true', 'false', 'barely-true', 'barely-true', 'mostly-true', 'false', 'true', 'true', 'false', 'true', 'pants-fire', 'true', 'mostly-true', 'true', 'barely-true', 'half-true', 'mostly-true', 'half-true', 'mostly-true', 'barely-true', 'true', 'half-true', 'false', 'true', 'half-true', 'mostly-true', 'half-true', 'true', 'pants-fire', 'false', 'half-true', 'mostly-true', 'true', 'mostly-true', 'half-true', 'false', 'true', 'false', 'half-true', 'true', 'mostly-true', 'barely-true', 'false', 'mostly-true', 'half-true', 'half-true', 'half-true', 'half-true', 'half-true', 'true', 'barely-true', 'half-true', 'half-true', 'mostly-true', 'mostly-true', 'barely-true', 'mostly-true', 'false', 'barely-true', 'true', 'true', 'mostly-true', 'false', 'barely-true', 'true', 'barely-true', 'true', 'mostly-true', 'barely-true', 'false', 'pants-fire', 'false', 'half-true', 'barely-true', 'half-true', 'mostly-true', 'false', 'false', 'mostly-true', 'pants-fire', 'barely-true', 'false', 'mostly-true', 'true', 'half-true', 'false', 'false', 'mostly-true', 'false', 'mostly-true', 'mostly-true', 'mostly-true', 'true', 'false', 'false', 'barely-true', 'half-true', 'half-true', 'true', 'barely-true', 'half-true', 'half-true', 'half-true', 'half-true', 'pants-fire', 'mostly-true', 'barely-true', 'true', 'barely-true', 'half-true', 'half-true', 'false', 'mostly-true', 'pants-fire', 'false', 'true', 'true', 'true', 'half-true', 'true', 'true', 'half-true', 'mostly-true', 'false', 'false', 'barely-true', 'false', 'true', 'half-true', 'mostly-true', 'mostly-true', 'half-true', 'mostly-true', 'half-true', 'half-true', 'true', 'pants-fire', 'true', 'mostly-true', 'true', 'pants-fire', 'half-true', 'half-true', 'false', 'mostly-true', 'mostly-true', 'mostly-true', 'barely-true', 'true', 'mostly-true', 'barely-true', 'false', 'pants-fire', 'true', 'mostly-true', 'true', 'false', 'mostly-true', 'true', 'pants-fire', 'barely-true', 'false', 'half-true', 'barely-true', 'barely-true', 'false', 'true', 'false', 'half-true', 'half-true', 'mostly-true', 'true', 'barely-true', 'half-true', 'true', 'false', 'half-true', 'false', 'half-true', 'mostly-true', 'mostly-true', 'true', 'false', 'false', 'false', 'mostly-true', 'mostly-true', 'true', 'mostly-true', 'false', 'barely-true', 'half-true', 'pants-fire', 'true', 'half-true', 'true', 'mostly-true', 'half-true', 'mostly-true', 'barely-true', 'pants-fire', 'mostly-true', 'false', 'mostly-true', 'half-true', 'false', 'mostly-true', 'true', 'half-true', 'false', 'true', 'false', 'half-true', 'true', 'false', 'false', 'mostly-true', 'mostly-true', 'false', 'pants-fire', 'mostly-true', 'mostly-true', 'mostly-true', 'false', 'false', 'false', 'mostly-true', 'half-true', 'half-true', 'true', 'barely-true', 'false', 'half-true', 'false', 'barely-true', 'mostly-true', 'half-true', 'barely-true', 'barely-true', 'barely-true', 'false', 'pants-fire', 'half-true', 'barely-true', 'false', 'false', 'pants-fire', 'false', 'mostly-true', 'half-true', 'pants-fire', 'half-true', 'barely-true', 'false', 'false', 'false', 'true', 'true', 'mostly-true', 'barely-true', 'false', 'false', 'mostly-true', 'false', 'half-true', 'mostly-true', 'half-true', 'pants-fire', 'half-true', 'true', 'half-true', 'pants-fire', 'true', 'false', 'half-true', 'false', 'false', 'true', 'pants-fire', 'mostly-true', 'false', 'mostly-true', 'true', 'false', 'half-true', 'true', 'false', 'mostly-true', 'pants-fire', 'barely-true', 'half-true', 'true', 'barely-true', 'half-true', 'mostly-true', 'mostly-true', 'false', 'half-true', 'true', 'half-true', 'half-true', 'mostly-true', 'false', 'mostly-true', 'false', 'mostly-true', 'half-true', 'false', 'barely-true', 'half-true', 'false', 'half-true', 'mostly-true', 'half-true', 'false', 'pants-fire', 'half-true', 'half-true', 'false', 'true', 'barely-true', 'half-true', 'pants-fire', 'half-true', 'half-true', 'mostly-true', 'barely-true', 'mostly-true', 'half-true', 'false', 'true', 'true', 'half-true', 'true', 'barely-true', 'pants-fire', 'true', 'pants-fire', 'half-true', 'true', 'mostly-true', 'true', 'false', 'true', 'barely-true', 'false', 'half-true', 'barely-true', 'pants-fire', 'half-true', 'half-true', 'false', 'false', 'pants-fire', 'pants-fire', 'pants-fire', 'mostly-true', 'false', 'barely-true', 'false', 'barely-true', 'false', 'true', 'mostly-true', 'false', 'true', 'mostly-true', 'barely-true', 'true', 'true', 'mostly-true', 'pants-fire', 'false', 'half-true', 'barely-true', 'half-true', 'false', 'pants-fire', 'false', 'barely-true', 'false', 'half-true', 'true', 'mostly-true', 'mostly-true', 'barely-true', 'mostly-true', 'half-true', 'false', 'false', 'mostly-true', 'pants-fire', 'true', 'true', 'barely-true', 'barely-true', 'pants-fire', 'mostly-true', 'false', 'true', 'half-true', 'half-true', 'mostly-true', 'barely-true', 'true', 'half-true', 'mostly-true', 'mostly-true', 'true', 'true', 'barely-true', 'pants-fire', 'half-true', 'barely-true', 'mostly-true', 'mostly-true', 'mostly-true', 'true', 'half-true', 'mostly-true', 'true', 'false', 'false', 'barely-true', 'false', 'true', 'true', 'false', 'true', 'false', 'half-true', 'half-true', 'mostly-true', 'barely-true', 'half-true', 'false', 'pants-fire', 'pants-fire', 'barely-true', 'half-true', 'half-true', 'half-true', 'half-true', 'mostly-true', 'false', 'false', 'half-true', 'half-true', 'true', 'half-true', 'half-true', 'false', 'mostly-true', 'false', 'half-true', 'half-true', 'false', 'mostly-true', 'barely-true', 'false', 'false', 'half-true', 'half-true', 'true', 'half-true', 'false', 'true', 'true', 'false', 'pants-fire', 'half-true', 'mostly-true', 'mostly-true', 'barely-true', 'half-true', 'false', 'half-true', 'mostly-true', 'mostly-true', 'true', 'false', 'half-true', 'pants-fire', 'true', 'true', 'mostly-true', 'mostly-true', 'true', 'half-true', 'mostly-true', 'pants-fire', 'pants-fire', 'false', 'mostly-true', 'mostly-true', 'true', 'false', 'true', 'false', 'true', 'mostly-true', 'mostly-true', 'mostly-true', 'false', 'false', 'false', 'pants-fire', 'mostly-true', 'half-true', 'half-true', 'true', 'true', 'half-true', 'false', 'barely-true', 'half-true', 'true', 'true', 'mostly-true', 'mostly-true', 'mostly-true', 'barely-true', 'false', 'half-true', 'false', 'mostly-true', 'mostly-true', 'mostly-true', 'false', 'true', 'false', 'mostly-true', 'false', 'barely-true', 'half-true', 'false', 'half-true', 'mostly-true', 'false', 'false', 'false', 'false', 'mostly-true', 'mostly-true', 'true', 'half-true', 'half-true', 'false', 'half-true', 'barely-true', 'half-true', 'barely-true', 'half-true', 'true', 'mostly-true', 'mostly-true', 'false', 'false', 'mostly-true', 'true', 'false', 'true', 'true', 'barely-true', 'barely-true', 'barely-true', 'half-true', 'mostly-true', 'half-true', 'barely-true', 'pants-fire', 'true', 'false', 'true', 'false', 'half-true', 'false', 'barely-true', 'mostly-true', 'false', 'half-true', 'pants-fire', 'mostly-true', 'half-true', 'barely-true', 'barely-true', 'barely-true', 'barely-true', 'half-true', 'mostly-true', 'true', 'false', 'mostly-true', 'true', 'half-true', 'false', 'mostly-true', 'mostly-true', 'barely-true', 'half-true', 'mostly-true', 'half-true', 'barely-true', 'pants-fire', 'false', 'true', 'pants-fire', 'barely-true', 'true', 'mostly-true', 'false', 'false', 'half-true', 'mostly-true', 'mostly-true', 'false', 'true', 'barely-true', 'half-true', 'false', 'true', 'false', 'mostly-true', 'mostly-true', 'mostly-true', 'half-true', 'false', 'true', 'pants-fire', 'barely-true', 'false', 'mostly-true', 'mostly-true', 'barely-true', 'false', 'mostly-true', 'pants-fire', 'barely-true', 'false', 'half-true', 'true', 'half-true', 'false', 'pants-fire', 'barely-true', 'barely-true', 'barely-true', 'false', 'half-true', 'half-true', 'true', 'false', 'barely-true', 'half-true', 'false', 'half-true', 'true', 'true', 'half-true', 'true', 'mostly-true', 'mostly-true', 'false', 'mostly-true', 'true', 'false', 'barely-true', 'true', 'mostly-true', 'pants-fire', 'false', 'half-true', 'pants-fire', 'false', 'true', 'barely-true', 'half-true', 'barely-true', 'pants-fire', 'false', 'barely-true', 'half-true', 'true', 'barely-true', 'pants-fire', 'true', 'barely-true', 'false', 'true', 'mostly-true', 'false', 'pants-fire', 'mostly-true', 'half-true', 'half-true', 'half-true', 'true', 'barely-true', 'mostly-true', 'false', 'true', 'false', 'mostly-true', 'true', 'barely-true', 'true', 'false', 'pants-fire', 'pants-fire', 'barely-true', 'false', 'true', 'false', 'mostly-true', 'half-true', 'true', 'barely-true', 'mostly-true', 'barely-true', 'barely-true', 'half-true', 'mostly-true', 'half-true', 'barely-true', 'true', 'true', 'half-true', 'true', 'half-true', 'false', 'half-true', 'half-true', 'false', 'half-true', 'true', 'mostly-true', 'true', 'barely-true', 'false', 'half-true', 'true', 'mostly-true', 'pants-fire', 'barely-true', 'half-true', 'true', 'mostly-true', 'true', 'barely-true', 'true', 'half-true', 'half-true', 'half-true', 'false', 'pants-fire', 'barely-true', 'true', 'barely-true', 'half-true', 'mostly-true', 'mostly-true', 'half-true', 'half-true', 'false', 'mostly-true', 'barely-true', 'barely-true', 'false', 'half-true', 'mostly-true', 'barely-true', 'true', 'mostly-true', 'mostly-true', 'false', 'true', 'mostly-true', 'false', 'pants-fire', 'pants-fire', 'pants-fire', 'half-true', 'true', 'false', 'false', 'false', 'half-true', 'pants-fire', 'false', 'barely-true', 'true', 'half-true', 'mostly-true', 'barely-true', 'true', 'false', 'true', 'true', 'pants-fire', 'pants-fire', 'pants-fire', 'half-true', 'half-true', 'mostly-true', 'barely-true', 'half-true', 'false', 'half-true', 'barely-true', 'false', 'half-true', 'mostly-true', 'false', 'barely-true', 'false', 'barely-true', 'true', 'false', 'true', 'half-true', 'true', 'false', 'pants-fire', 'false', 'false', 'half-true', 'barely-true', 'half-true', 'mostly-true', 'mostly-true', 'half-true', 'false', 'mostly-true', 'true', 'false', 'half-true', 'false', 'false', 'barely-true', 'true', 'barely-true', 'false', 'pants-fire', 'mostly-true', 'half-true', 'mostly-true', 'mostly-true', 'false', 'false', 'true', 'false', 'false', 'true', 'barely-true', 'barely-true', 'mostly-true', 'half-true', 'mostly-true', 'half-true', 'false', 'half-true', 'barely-true', 'mostly-true', 'mostly-true', 'pants-fire', 'half-true', 'true', 'pants-fire', 'pants-fire', 'pants-fire', 'false', 'true', 'barely-true', 'mostly-true', 'false', 'half-true', 'true', 'half-true', 'barely-true', 'true', 'mostly-true', 'barely-true', 'barely-true', 'false', 'false', 'mostly-true', 'half-true', 'false', 'false', 'false', 'false', 'barely-true', 'mostly-true', 'half-true', 'half-true', 'mostly-true', 'barely-true', 'mostly-true', 'mostly-true', 'pants-fire', 'barely-true', 'false', 'mostly-true', 'half-true', 'mostly-true', 'mostly-true', 'false', 'half-true', 'mostly-true', 'false', 'true', 'mostly-true', 'mostly-true', 'pants-fire', 'mostly-true', 'barely-true', 'false', 'mostly-true', 'half-true', 'true', 'mostly-true', 'half-true', 'pants-fire', 'true', 'half-true', 'mostly-true', 'false', 'true', 'mostly-true', 'half-true', 'mostly-true', 'pants-fire', 'mostly-true', 'barely-true', 'false', 'true', 'half-true', 'barely-true', 'barely-true', 'half-true', 'mostly-true', 'true', 'half-true', 'mostly-true', 'true', 'pants-fire', 'barely-true', 'mostly-true', 'barely-true', 'barely-true', 'true', 'true', 'mostly-true', 'mostly-true', 'half-true', 'barely-true', 'barely-true', 'mostly-true', 'false', 'pants-fire', 'false', 'true', 'mostly-true', 'half-true', 'mostly-true', 'true', 'true', 'barely-true', 'mostly-true', 'half-true', 'barely-true', 'half-true', 'pants-fire', 'barely-true', 'barely-true', 'true', 'mostly-true', 'half-true', 'mostly-true', 'barely-true', 'mostly-true', 'mostly-true', 'pants-fire', 'barely-true', 'false', 'true', 'true', 'true', 'true', 'pants-fire', 'true', 'true', 'half-true', 'barely-true', 'half-true', 'false', 'half-true', 'mostly-true', 'half-true', 'barely-true', 'false', 'true', 'half-true', 'true', 'pants-fire', 'barely-true', 'pants-fire', 'pants-fire', 'false', 'half-true', 'true', 'pants-fire', 'barely-true', 'barely-true', 'barely-true', 'half-true', 'half-true', 'barely-true', 'barely-true', 'barely-true', 'false', 'half-true', 'barely-true', 'true', 'true', 'mostly-true', 'mostly-true', 'true', 'mostly-true', 'mostly-true', 'barely-true', 'half-true', 'true', 'barely-true', 'true', 'mostly-true', 'false', 'mostly-true', 'false', 'mostly-true', 'false', 'half-true', 'barely-true', 'mostly-true', 'false', 'half-true', 'mostly-true', 'false', 'false', 'pants-fire', 'half-true', 'true', 'half-true', 'false', 'true', 'true', 'half-true', 'mostly-true', 'barely-true', 'pants-fire', 'true', 'true', 'mostly-true', 'pants-fire', 'barely-true', 'barely-true', 'true', 'half-true', 'half-true', 'barely-true', 'half-true', 'pants-fire', 'barely-true', 'pants-fire', 'pants-fire', 'true', 'mostly-true', 'pants-fire', 'half-true', 'false', 'false', 'pants-fire', 'half-true', 'mostly-true', 'false', 'barely-true', 'pants-fire', 'half-true', 'false', 'false', 'mostly-true', 'half-true', 'mostly-true', 'pants-fire', 'mostly-true', 'false', 'false', 'false', 'false', 'false', 'false', 'false', 'mostly-true', 'false', 'half-true', 'barely-true', 'false', 'pants-fire', 'pants-fire', 'false', 'half-true', 'barely-true', 'barely-true', 'half-true', 'true', 'half-true', 'false', 'mostly-true', 'mostly-true', 'mostly-true', 'false', 'false', 'pants-fire', 'barely-true', 'true', 'half-true', 'mostly-true', 'half-true', 'true', 'mostly-true', 'true', 'true', 'true', 'half-true', 'pants-fire', 'barely-true', 'false', 'half-true', 'barely-true', 'mostly-true', 'barely-true', 'half-true', 'half-true', 'half-true', 'barely-true', 'half-true', 'mostly-true', 'false', 'false', 'true', 'mostly-true', 'mostly-true', 'false', 'mostly-true', 'true', 'true', 'true', 'false', 'true', 'mostly-true', 'true', 'pants-fire', 'half-true', 'false', 'false', 'true', 'barely-true', 'barely-true', 'false', 'pants-fire', 'mostly-true', 'true', 'false', 'half-true', 'false', 'half-true', 'half-true', 'half-true', 'half-true', 'mostly-true', 'mostly-true', 'mostly-true', 'false', 'barely-true', 'mostly-true', 'barely-true', 'true', 'true', 'pants-fire', 'false', 'half-true', 'mostly-true', 'barely-true', 'true', 'true', 'mostly-true', 'true', 'false', 'false', 'mostly-true', 'barely-true', 'barely-true', 'false', 'true', 'false', 'true', 'false', 'half-true', 'barely-true', 'mostly-true', 'half-true', 'pants-fire', 'false', 'half-true', 'pants-fire', 'false', 'false', 'barely-true', 'half-true', 'pants-fire', 'pants-fire', 'half-true', 'false', 'mostly-true', 'pants-fire', 'barely-true', 'mostly-true', 'false', 'false', 'true', 'false', 'false', 'half-true', 'mostly-true', 'pants-fire', 'false', 'mostly-true', 'false', 'barely-true', 'false', 'true', 'barely-true', 'half-true', 'half-true', 'barely-true', 'false', 'mostly-true', 'true', 'true', 'half-true', 'false', 'half-true', 'mostly-true', 'half-true', 'mostly-true', 'barely-true', 'mostly-true', 'true', 'half-true', 'true', 'barely-true', 'true', 'barely-true', 'true', 'half-true', 'false', 'mostly-true', 'half-true', 'mostly-true', 'barely-true', 'false', 'true', 'false', 'mostly-true', 'barely-true', 'mostly-true', 'false', 'half-true', 'mostly-true', 'false', 'half-true', 'true', 'barely-true', 'half-true', 'true', 'true', 'half-true', 'mostly-true', 'barely-true', 'mostly-true', 'true', 'half-true', 'half-true', 'mostly-true', 'mostly-true', 'true', 'false', 'half-true', 'true', 'mostly-true', 'half-true', 'pants-fire', 'barely-true', 'false', 'pants-fire', 'barely-true', 'true', 'mostly-true', 'false', 'mostly-true', 'barely-true', 'true', 'mostly-true', 'barely-true', 'true', 'barely-true', 'mostly-true', 'half-true', 'half-true', 'half-true', 'half-true', 'false', 'barely-true', 'barely-true', 'mostly-true', 'true', 'barely-true', 'true', 'mostly-true', 'barely-true', 'pants-fire', 'true', 'mostly-true', 'half-true', 'true', 'half-true', 'false', 'mostly-true', 'false', 'false', 'true', 'mostly-true', 'false', 'mostly-true', 'true', 'false', 'mostly-true', 'true', 'barely-true', 'barely-true', 'false', 'false', 'mostly-true', 'true', 'true', 'true', 'half-true', 'half-true', 'mostly-true', 'true', 'false', 'half-true', 'false', 'half-true', 'true', 'mostly-true', 'false', 'pants-fire', 'half-true', 'barely-true', 'barely-true', 'half-true', 'barely-true', 'barely-true', 'half-true', 'mostly-true', 'barely-true', 'mostly-true', 'half-true', 'pants-fire', 'mostly-true', 'barely-true', 'true', 'true', 'half-true', 'true', 'half-true', 'barely-true', 'mostly-true', 'mostly-true', 'true', 'true', 'mostly-true', 'barely-true', 'true', 'mostly-true', 'true', 'false', 'false', 'half-true', 'false', 'false', 'false', 'false', 'half-true', 'pants-fire', 'mostly-true', 'barely-true', 'true', 'mostly-true', 'false', 'half-true', 'false', 'half-true', 'true', 'barely-true', 'half-true', 'false', 'half-true', 'pants-fire', 'false', 'half-true', 'mostly-true', 'half-true', 'false', 'barely-true', 'half-true', 'barely-true', 'barely-true', 'barely-true', 'barely-true', 'barely-true', 'true', 'false', 'true', 'false', 'false', 'half-true', 'barely-true', 'true', 'mostly-true', 'mostly-true', 'barely-true', 'false', 'mostly-true', 'half-true', 'barely-true', 'barely-true', 'half-true', 'half-true', 'mostly-true', 'barely-true', 'true', 'half-true', 'half-true', 'barely-true', 'pants-fire', 'false', 'half-true', 'barely-true', 'mostly-true', 'mostly-true', 'half-true', 'true', 'half-true', 'false', 'half-true', 'half-true', 'pants-fire', 'barely-true', 'false', 'false', 'barely-true', 'true', 'false', 'barely-true', 'half-true', 'half-true', 'true', 'barely-true', 'false', 'mostly-true', 'mostly-true', 'mostly-true', 'half-true', 'half-true', 'half-true', 'barely-true', 'pants-fire', 'barely-true', 'true', 'true', 'mostly-true', 'mostly-true', 'pants-fire', 'mostly-true', 'half-true', 'half-true', 'barely-true', 'true', 'mostly-true', 'true', 'barely-true', 'true', 'pants-fire', 'half-true', 'barely-true', 'mostly-true', 'mostly-true', 'half-true', 'false', 'true', 'half-true', 'barely-true', 'barely-true', 'mostly-true', 'half-true', 'true', 'false', 'pants-fire', 'pants-fire', 'false', 'pants-fire', 'false', 'half-true', 'barely-true', 'half-true', 'true', 'false', 'pants-fire', 'half-true', 'false', 'half-true', 'true', 'half-true', 'mostly-true', 'true', 'half-true', 'false', 'half-true', 'false', 'false', 'true', 'pants-fire', 'barely-true', 'barely-true', 'barely-true', 'false', 'false', 'false', 'mostly-true', 'true', 'half-true', 'barely-true', 'false', 'true', 'false', 'true', 'false', 'mostly-true', 'true', 'mostly-true', 'half-true', 'true', 'half-true', 'mostly-true', 'half-true', 'true', 'mostly-true', 'mostly-true', 'true', 'mostly-true', 'barely-true', 'barely-true', 'pants-fire', 'barely-true', 'true', 'mostly-true', 'true', 'mostly-true', 'barely-true', 'barely-true', 'true', 'true', 'pants-fire', 'true', 'half-true', 'false', 'mostly-true', 'false', 'barely-true', 'half-true', 'true', 'false', 'true', 'true', 'false', 'half-true', 'true', 'mostly-true', 'false', 'pants-fire', 'half-true', 'true', 'mostly-true', 'pants-fire', 'mostly-true', 'barely-true', 'true', 'half-true', 'true', 'mostly-true', 'pants-fire', 'pants-fire', 'barely-true', 'half-true', 'true', 'pants-fire', 'true', 'false', 'half-true', 'pants-fire', 'false', 'false', 'barely-true', 'true', 'false', 'half-true', 'half-true', 'half-true', 'true', 'barely-true', 'half-true', 'half-true', 'false', 'false', 'barely-true', 'half-true', 'half-true', 'barely-true', 'half-true', 'half-true', 'half-true', 'barely-true', 'mostly-true', 'half-true', 'false', 'pants-fire', 'mostly-true', 'false', 'mostly-true', 'half-true', 'barely-true', 'mostly-true', 'half-true', 'mostly-true', 'barely-true', 'mostly-true', 'half-true', 'true', 'true', 'mostly-true', 'mostly-true', 'false', 'half-true', 'mostly-true', 'true', 'mostly-true', 'true', 'half-true', 'mostly-true', 'barely-true', 'false', 'pants-fire', 'false', 'barely-true', 'true', 'barely-true', 'barely-true', 'mostly-true', 'barely-true', 'mostly-true', 'false', 'mostly-true', 'false', 'half-true', 'barely-true', 'half-true', 'pants-fire', 'half-true', 'half-true', 'half-true', 'false', 'barely-true', 'barely-true', 'mostly-true', 'true', 'half-true', 'mostly-true', 'true', 'half-true', 'half-true', 'false', 'false', 'true', 'mostly-true', 'true', 'false', 'mostly-true', 'half-true', 'true', 'half-true', 'false', 'half-true', 'barely-true', 'mostly-true', 'true', 'true', 'false', 'mostly-true', 'true', 'true', 'false', 'mostly-true', 'true', 'half-true', 'half-true', 'pants-fire', 'half-true', 'true', 'mostly-true', 'false', 'false', 'false', 'pants-fire', 'barely-true', 'barely-true', 'mostly-true', 'half-true', 'pants-fire', 'false', 'mostly-true', 'half-true', 'barely-true', 'barely-true', 'pants-fire', 'true', 'true', 'pants-fire', 'barely-true', 'pants-fire', 'mostly-true', 'half-true', 'half-true', 'mostly-true', 'barely-true', 'pants-fire', 'barely-true', 'false', 'false', 'true', 'mostly-true', 'true', 'mostly-true', 'mostly-true', 'barely-true', 'barely-true', 'barely-true', 'false', 'true', 'barely-true', 'half-true', 'false', 'true', 'half-true', 'half-true', 'true', 'barely-true', 'barely-true', 'false', 'mostly-true', 'mostly-true', 'true', 'mostly-true', 'true', 'pants-fire', 'false', 'false', 'barely-true', 'true', 'mostly-true', 'true', 'pants-fire', 'true', 'barely-true', 'pants-fire', 'false', 'mostly-true', 'false', 'half-true', 'mostly-true', 'mostly-true', 'false', 'barely-true', 'mostly-true', 'true', 'pants-fire', 'pants-fire', 'barely-true', 'true', 'false', 'half-true', 'mostly-true', 'pants-fire', 'false', 'half-true', 'false', 'half-true', 'mostly-true', 'half-true', 'mostly-true', 'pants-fire', 'half-true', 'barely-true', 'true', 'half-true', 'true', 'barely-true', 'false', 'mostly-true', 'half-true', 'true', 'mostly-true', 'half-true', 'false', 'barely-true', 'pants-fire', 'half-true', 'barely-true', 'true', 'mostly-true', 'true', 'mostly-true', 'pants-fire', 'mostly-true', 'half-true', 'barely-true', 'true', 'mostly-true', 'half-true', 'half-true', 'mostly-true', 'false', 'half-true', 'pants-fire', 'false', 'barely-true', 'mostly-true', 'half-true', 'barely-true', 'false', 'half-true', 'mostly-true', 'false', 'half-true', 'barely-true', 'true', 'false', 'true', 'mostly-true', 'false', 'barely-true', 'pants-fire', 'half-true', 'mostly-true', 'true', 'mostly-true', 'mostly-true', 'false', 'barely-true', 'mostly-true', 'false', 'barely-true', 'mostly-true', 'barely-true', 'mostly-true', 'half-true', 'true', 'true', 'mostly-true', 'barely-true', 'half-true', 'pants-fire', 'mostly-true', 'barely-true', 'mostly-true', 'true', 'half-true', 'barely-true', 'barely-true', 'false', 'mostly-true', 'false', 'half-true', 'barely-true', 'half-true', 'false', 'mostly-true', 'mostly-true', 'mostly-true', 'barely-true', 'barely-true', 'true', 'mostly-true', 'half-true', 'false', 'false', 'half-true', 'pants-fire', 'mostly-true', 'mostly-true', 'mostly-true', 'mostly-true', 'mostly-true', 'mostly-true', 'mostly-true', 'half-true', 'false', 'half-true', 'true', 'false', 'false', 'barely-true', 'mostly-true', 'pants-fire', 'true', 'true', 'false', 'half-true', 'false', 'true', 'true', 'false', 'half-true', 'pants-fire', 'mostly-true', 'false', 'true', 'mostly-true', 'half-true', 'barely-true', 'true', 'half-true', 'true', 'false', 'false', 'half-true', 'false', 'true', 'false', 'half-true', 'pants-fire', 'false', 'false', 'false', 'barely-true', 'pants-fire', 'false', 'mostly-true', 'false', 'mostly-true', 'barely-true', 'half-true', 'mostly-true', 'barely-true', 'barely-true', 'false', 'mostly-true', 'true', 'false', 'pants-fire', 'false', 'true', 'true', 'barely-true', 'half-true', 'barely-true', 'false', 'false', 'half-true', 'barely-true', 'mostly-true', 'true', 'barely-true', 'barely-true', 'false', 'half-true', 'false', 'false', 'pants-fire', 'true', 'barely-true', 'barely-true', 'false', 'half-true', 'mostly-true', 'true', 'false', 'half-true', 'pants-fire', 'false', 'barely-true', 'barely-true', 'true', 'half-true', 'false', 'true', 'mostly-true', 'false', 'half-true', 'true', 'mostly-true', 'mostly-true', 'half-true', 'false', 'pants-fire', 'false', 'false', 'false', 'mostly-true', 'half-true', 'barely-true', 'mostly-true', 'pants-fire', 'mostly-true', 'barely-true', 'false', 'barely-true', 'true', 'half-true', 'half-true', 'barely-true', 'mostly-true', 'barely-true', 'mostly-true', 'false', 'half-true', 'true', 'half-true', 'mostly-true', 'false', 'barely-true', 'barely-true', 'mostly-true', 'mostly-true', 'mostly-true', 'false', 'true', 'mostly-true', 'mostly-true', 'false', 'true', 'mostly-true', 'true', 'mostly-true', 'barely-true', 'false', 'false', 'false', 'half-true', 'pants-fire', 'half-true', 'half-true', 'false', 'barely-true', 'half-true', 'half-true', 'half-true', 'mostly-true', 'mostly-true', 'false', 'pants-fire', 'half-true', 'half-true', 'barely-true', 'mostly-true', 'half-true', 'false', 'false', 'half-true', 'barely-true', 'mostly-true', 'barely-true', 'barely-true', 'half-true', 'mostly-true', 'mostly-true', 'half-true', 'half-true', 'pants-fire', 'false', 'true', 'false', 'mostly-true', 'half-true', 'half-true', 'mostly-true', 'half-true', 'half-true', 'half-true', 'half-true', 'pants-fire', 'half-true', 'false', 'half-true', 'barely-true', 'false', 'half-true', 'true', 'barely-true', 'half-true', 'false', 'barely-true', 'half-true', 'true', 'mostly-true', 'true', 'mostly-true', 'mostly-true', 'false', 'true', 'mostly-true', 'false', 'false', 'barely-true', 'mostly-true', 'half-true', 'true', 'true', 'pants-fire', 'false', 'half-true', 'half-true', 'true', 'mostly-true', 'half-true', 'true', 'half-true', 'mostly-true', 'pants-fire', 'false', 'false', 'false', 'barely-true', 'mostly-true', 'true', 'false', 'barely-true', 'false', 'true', 'true', 'barely-true', 'true', 'true', 'true', 'barely-true', 'pants-fire', 'true', 'half-true', 'true', 'true', 'mostly-true', 'mostly-true', 'mostly-true', 'half-true', 'true', 'mostly-true', 'true', 'false', 'barely-true', 'half-true', 'pants-fire', 'true', 'half-true', 'true', 'mostly-true', 'barely-true', 'barely-true', 'mostly-true', 'half-true', 'pants-fire', 'half-true', 'true', 'false', 'true', 'half-true', 'true', 'true', 'mostly-true', 'false', 'mostly-true', 'barely-true', 'half-true', 'pants-fire', 'mostly-true', 'false', 'barely-true', 'true', 'false', 'half-true', 'mostly-true', 'half-true', 'half-true', 'barely-true', 'half-true', 'false', 'true', 'false', 'true', 'half-true', 'false', 'true', 'barely-true', 'mostly-true', 'half-true', 'half-true', 'false', 'false', 'mostly-true', 'half-true', 'false', 'half-true', 'half-true', 'barely-true']\n",
            "[1 2 1 ... 2 2 0]\n",
            "[[0. 1. 0. 0. 0. 0.]\n",
            " [0. 0. 1. 0. 0. 0.]\n",
            " [0. 1. 0. 0. 0. 0.]\n",
            " [0. 0. 0. 0. 0. 1.]]\n"
          ],
          "name": "stdout"
        }
      ]
    },
    {
      "cell_type": "code",
      "metadata": {
        "id": "pcr4YhbBAWe9",
        "colab_type": "code",
        "colab": {}
      },
      "source": [
        "X_train, X_test, y_train, y_test = train_test_split(data_train, y_labels, \n",
        "                                                    test_size=0.2, random_state=13)\n"
      ],
      "execution_count": 0,
      "outputs": []
    },
    {
      "cell_type": "code",
      "metadata": {
        "id": "gEL9ObQmA5X5",
        "colab_type": "code",
        "outputId": "30dfde55-7e35-4eb3-8687-0109235208a6",
        "colab": {
          "base_uri": "https://localhost:8080/",
          "height": 87
        }
      },
      "source": [
        "print(X_train.shape)\n",
        "print(y_train.shape)\n",
        "print(X_test.shape)\n",
        "print(y_test.shape)"
      ],
      "execution_count": 0,
      "outputs": [
        {
          "output_type": "stream",
          "text": [
            "(10231,)\n",
            "(10231, 6)\n",
            "(2558,)\n",
            "(2558, 6)\n"
          ],
          "name": "stdout"
        }
      ]
    },
    {
      "cell_type": "code",
      "metadata": {
        "id": "OfqmKyg4BBuD",
        "colab_type": "code",
        "outputId": "91c88a7b-920f-41b5-cc69-a4df02683b9f",
        "colab": {
          "base_uri": "https://localhost:8080/",
          "height": 122
        }
      },
      "source": [
        "X_train.head()"
      ],
      "execution_count": 0,
      "outputs": [
        {
          "output_type": "execute_result",
          "data": {
            "text/plain": [
              "11810    since the passage of the affordable care act, ...\n",
              "8613     about 40 percent of hispanic homeowners have s...\n",
              "12025    eighty-five percent . . . of rhode island tax ...\n",
              "5713     governing magazine has estimated that in the s...\n",
              "2879     the media widely overlooked comments made by f...\n",
              "Name: Full_Statement, dtype: object"
            ]
          },
          "metadata": {
            "tags": []
          },
          "execution_count": 19
        }
      ]
    },
    {
      "cell_type": "code",
      "metadata": {
        "id": "r8iJo8TuBD_K",
        "colab_type": "code",
        "outputId": "80796845-26dc-4f64-aeb6-d8ee59fe1229",
        "colab": {
          "base_uri": "https://localhost:8080/",
          "height": 122
        }
      },
      "source": [
        "X_test.head()"
      ],
      "execution_count": 0,
      "outputs": [
        {
          "output_type": "execute_result",
          "data": {
            "text/plain": [
              "12154    there have been more than 300 mass shootings i...\n",
              "536      when mitt romney chose paul ryan as his vice-p...\n",
              "9498     of six rhode island tax-credit programs worth ...\n",
              "7774     hillary's baby bond proposal would give $5,000...\n",
              "10602    on the night of the wisconsin state senate vot...\n",
              "Name: Full_Statement, dtype: object"
            ]
          },
          "metadata": {
            "tags": []
          },
          "execution_count": 20
        }
      ]
    },
    {
      "cell_type": "code",
      "metadata": {
        "id": "W2hbLZ1-d5bA",
        "colab_type": "code",
        "colab": {}
      },
      "source": [
        "max_features=20000\n",
        "maxlen=150\n",
        "embed_size=300"
      ],
      "execution_count": 0,
      "outputs": []
    },
    {
      "cell_type": "code",
      "metadata": {
        "id": "4M68NXhKd9Vq",
        "colab_type": "code",
        "colab": {}
      },
      "source": [
        "tok=text.Tokenizer(num_words=max_features,lower=True)\n",
        "tok.fit_on_texts(list(X_train)+list(X_test))\n",
        "X_train=tok.texts_to_sequences(X_train)\n",
        "X_test=tok.texts_to_sequences(X_test)\n",
        "x_train=sequence.pad_sequences(X_train,maxlen=maxlen)\n",
        "x_test=sequence.pad_sequences(X_test,maxlen=maxlen)"
      ],
      "execution_count": 0,
      "outputs": []
    },
    {
      "cell_type": "code",
      "metadata": {
        "id": "xiGmr_b8d9Yg",
        "colab_type": "code",
        "colab": {}
      },
      "source": [
        "embeddings_index = {}\n",
        "with open(EMBEDDING_FILE,encoding='utf8') as f:\n",
        "    for line in f:\n",
        "        values = line.rstrip().rsplit(' ')\n",
        "        word = values[0]\n",
        "        coefs = np.asarray(values[1:], dtype='float32')\n",
        "        embeddings_index[word] = coefs"
      ],
      "execution_count": 0,
      "outputs": []
    },
    {
      "cell_type": "code",
      "metadata": {
        "id": "2mbU4azqd9bH",
        "colab_type": "code",
        "colab": {}
      },
      "source": [
        "word_index = tok.word_index\n",
        "#prepare embedding matrix\n",
        "num_words = min(max_features, len(word_index) + 1)\n",
        "embedding_matrix = np.zeros((num_words, embed_size))\n",
        "for word, i in word_index.items():\n",
        "    if i >= max_features:\n",
        "        continue\n",
        "    embedding_vector = embeddings_index.get(word)\n",
        "    if embedding_vector is not None:\n",
        "        # words not found in embedding index will be all-zeros.\n",
        "        embedding_matrix[i] = embedding_vector"
      ],
      "execution_count": 0,
      "outputs": []
    },
    {
      "cell_type": "code",
      "metadata": {
        "id": "jxDmRVxAd9ef",
        "colab_type": "code",
        "outputId": "c3908e08-d6a7-43c5-92b0-4fb2474b1db2",
        "colab": {
          "base_uri": "https://localhost:8080/",
          "height": 776
        }
      },
      "source": [
        "sequence_input = Input(shape=(maxlen, ))\n",
        "x = Embedding(max_features, embed_size, weights=[embedding_matrix],trainable = False)(sequence_input)\n",
        "x = SpatialDropout1D(0.2)(x)\n",
        "x = Bidirectional(GRU(128, return_sequences=True,dropout=0.1,recurrent_dropout=0.1))(x)\n",
        "x = Conv1D(64, kernel_size = 3, padding = \"valid\", kernel_initializer = \"glorot_uniform\")(x)\n",
        "avg_pool = GlobalAveragePooling1D()(x)\n",
        "max_pool = GlobalMaxPooling1D()(x)\n",
        "x = concatenate([avg_pool, max_pool]) \n",
        "# x = Dense(128, activation='relu')(x)\n",
        "# x = Dropout(0.1)(x)\n",
        "preds = Dense(6, activation=\"sigmoid\")(x)\n",
        "model = Model(sequence_input, preds)\n",
        "model.compile(loss='categorical_crossentropy',optimizer=Adam(lr=1e-3),metrics=['accuracy'])\n",
        "model.summary()"
      ],
      "execution_count": 0,
      "outputs": [
        {
          "output_type": "stream",
          "text": [
            "WARNING:tensorflow:From /usr/local/lib/python3.6/dist-packages/keras/backend/tensorflow_backend.py:66: The name tf.get_default_graph is deprecated. Please use tf.compat.v1.get_default_graph instead.\n",
            "\n",
            "WARNING:tensorflow:From /usr/local/lib/python3.6/dist-packages/keras/backend/tensorflow_backend.py:541: The name tf.placeholder is deprecated. Please use tf.compat.v1.placeholder instead.\n",
            "\n",
            "WARNING:tensorflow:From /usr/local/lib/python3.6/dist-packages/keras/backend/tensorflow_backend.py:4432: The name tf.random_uniform is deprecated. Please use tf.random.uniform instead.\n",
            "\n",
            "WARNING:tensorflow:From /usr/local/lib/python3.6/dist-packages/keras/backend/tensorflow_backend.py:190: The name tf.get_default_session is deprecated. Please use tf.compat.v1.get_default_session instead.\n",
            "\n",
            "WARNING:tensorflow:From /usr/local/lib/python3.6/dist-packages/keras/backend/tensorflow_backend.py:197: The name tf.ConfigProto is deprecated. Please use tf.compat.v1.ConfigProto instead.\n",
            "\n",
            "WARNING:tensorflow:From /usr/local/lib/python3.6/dist-packages/keras/backend/tensorflow_backend.py:3733: calling dropout (from tensorflow.python.ops.nn_ops) with keep_prob is deprecated and will be removed in a future version.\n",
            "Instructions for updating:\n",
            "Please use `rate` instead of `keep_prob`. Rate should be set to `rate = 1 - keep_prob`.\n",
            "WARNING:tensorflow:From /usr/local/lib/python3.6/dist-packages/keras/optimizers.py:793: The name tf.train.Optimizer is deprecated. Please use tf.compat.v1.train.Optimizer instead.\n",
            "\n",
            "Model: \"model_1\"\n",
            "__________________________________________________________________________________________________\n",
            "Layer (type)                    Output Shape         Param #     Connected to                     \n",
            "==================================================================================================\n",
            "input_1 (InputLayer)            (None, 150)          0                                            \n",
            "__________________________________________________________________________________________________\n",
            "embedding_1 (Embedding)         (None, 150, 300)     6000000     input_1[0][0]                    \n",
            "__________________________________________________________________________________________________\n",
            "spatial_dropout1d_1 (SpatialDro (None, 150, 300)     0           embedding_1[0][0]                \n",
            "__________________________________________________________________________________________________\n",
            "bidirectional_1 (Bidirectional) (None, 150, 256)     329472      spatial_dropout1d_1[0][0]        \n",
            "__________________________________________________________________________________________________\n",
            "conv1d_1 (Conv1D)               (None, 148, 64)      49216       bidirectional_1[0][0]            \n",
            "__________________________________________________________________________________________________\n",
            "global_average_pooling1d_1 (Glo (None, 64)           0           conv1d_1[0][0]                   \n",
            "__________________________________________________________________________________________________\n",
            "global_max_pooling1d_1 (GlobalM (None, 64)           0           conv1d_1[0][0]                   \n",
            "__________________________________________________________________________________________________\n",
            "concatenate_1 (Concatenate)     (None, 128)          0           global_average_pooling1d_1[0][0] \n",
            "                                                                 global_max_pooling1d_1[0][0]     \n",
            "__________________________________________________________________________________________________\n",
            "dense_1 (Dense)                 (None, 6)            774         concatenate_1[0][0]              \n",
            "==================================================================================================\n",
            "Total params: 6,379,462\n",
            "Trainable params: 379,462\n",
            "Non-trainable params: 6,000,000\n",
            "__________________________________________________________________________________________________\n"
          ],
          "name": "stdout"
        }
      ]
    },
    {
      "cell_type": "code",
      "metadata": {
        "id": "XQSSA3oueJGB",
        "colab_type": "code",
        "colab": {}
      },
      "source": [
        "batch_size = 128\n",
        "epochs = 4\n",
        "X_tra, X_val, y_tra, y_val = train_test_split(x_train, y_train, train_size=0.9, random_state=233)"
      ],
      "execution_count": 0,
      "outputs": []
    },
    {
      "cell_type": "code",
      "metadata": {
        "id": "OEXmjaR1eNOY",
        "colab_type": "code",
        "outputId": "d6539784-8852-4994-8523-fdffe88c80d5",
        "colab": {
          "base_uri": "https://localhost:8080/",
          "height": 283
        }
      },
      "source": [
        "#model.fit(X_tra, y_tra, batch_size=batch_size, epochs=epochs, validation_data=(X_val, y_val),callbacks = callbacks_list,verbose=1)\n",
        "model.fit(X_tra, y_tra, batch_size=batch_size, epochs=epochs, validation_data=(X_val, y_val),verbose=1)\n",
        "#Loading model weights\n",
        "#model.load_weights(filepath)\n",
        "print('Predicting....')\n",
        "y_pred = model.predict(x_test,batch_size=1024,verbose=1)"
      ],
      "execution_count": 0,
      "outputs": [
        {
          "output_type": "stream",
          "text": [
            "WARNING:tensorflow:From /usr/local/lib/python3.6/dist-packages/tensorflow/python/ops/math_grad.py:1250: add_dispatch_support.<locals>.wrapper (from tensorflow.python.ops.array_ops) is deprecated and will be removed in a future version.\n",
            "Instructions for updating:\n",
            "Use tf.where in 2.0, which has the same broadcast rule as np.where\n",
            "Train on 9207 samples, validate on 1024 samples\n",
            "Epoch 1/4\n",
            "9207/9207 [==============================] - 88s 10ms/step - loss: 1.7551 - acc: 0.2098 - val_loss: 1.7533 - val_acc: 0.2051\n",
            "Epoch 2/4\n",
            "9207/9207 [==============================] - 85s 9ms/step - loss: 1.7219 - acc: 0.2307 - val_loss: 1.7256 - val_acc: 0.2256\n",
            "Epoch 3/4\n",
            "9207/9207 [==============================] - 87s 9ms/step - loss: 1.6908 - acc: 0.2508 - val_loss: 1.6945 - val_acc: 0.2627\n",
            "Epoch 4/4\n",
            "9207/9207 [==============================] - 87s 9ms/step - loss: 1.6485 - acc: 0.2872 - val_loss: 1.6975 - val_acc: 0.2725\n",
            "Predicting....\n",
            "2558/2558 [==============================] - 8s 3ms/step\n"
          ],
          "name": "stdout"
        }
      ]
    },
    {
      "cell_type": "code",
      "metadata": {
        "id": "0e-_6Db5DnlK",
        "colab_type": "code",
        "colab": {}
      },
      "source": [
        "from sklearn.metrics import accuracy_score, f1_score, precision_score, recall_score, classification_report\n",
        "\n",
        "def get_metrics(y_test, y_predicted):  \n",
        "    # true positives / (true positives+false positives)\n",
        "    precision = precision_score(y_test, y_predicted, pos_label=None,\n",
        "                                    average='weighted')             \n",
        "    # true positives / (true positives + false negatives)\n",
        "    recall = recall_score(y_test, y_predicted, pos_label=None,\n",
        "                              average='weighted')\n",
        "    \n",
        "    # harmonic mean of precision and recall\n",
        "    f1 = f1_score(y_test, y_predicted, pos_label=None, average='weighted')\n",
        "    \n",
        "    # true positives + true negatives/ total\n",
        "    accuracy = accuracy_score(y_test, y_predicted)\n",
        "    return accuracy, precision, recall, f1"
      ],
      "execution_count": 0,
      "outputs": []
    },
    {
      "cell_type": "code",
      "metadata": {
        "id": "0qMEBrkGV7KT",
        "colab_type": "code",
        "outputId": "e0c348af-6447-474f-baa7-33d0a69c276d",
        "colab": {
          "base_uri": "https://localhost:8080/"
        }
      },
      "source": [
        "print(y_test[0:4])"
      ],
      "execution_count": 0,
      "outputs": [
        {
          "output_type": "stream",
          "text": [
            "[[0. 0. 1. 0. 0. 0.]\n",
            " [0. 1. 0. 0. 0. 0.]\n",
            " [0. 0. 0. 0. 0. 1.]\n",
            " [0. 1. 0. 0. 0. 0.]]\n"
          ],
          "name": "stdout"
        }
      ]
    },
    {
      "cell_type": "code",
      "metadata": {
        "id": "Lnh9MFqTVuVD",
        "colab_type": "code",
        "outputId": "5993a9f9-4be9-429f-92cf-faef687a6fdf",
        "colab": {
          "base_uri": "https://localhost:8080/"
        }
      },
      "source": [
        "y_test_encode = np.argmax(y_test, axis=1)\n",
        "\n",
        "print(y_test_encode[0:4])"
      ],
      "execution_count": 0,
      "outputs": [
        {
          "output_type": "stream",
          "text": [
            "[2 1 5 1]\n"
          ],
          "name": "stdout"
        }
      ]
    },
    {
      "cell_type": "code",
      "metadata": {
        "id": "lF0Ucl5JV_93",
        "colab_type": "code",
        "outputId": "b0dfc07f-e579-44ab-940b-05d838db601e",
        "colab": {
          "base_uri": "https://localhost:8080/"
        }
      },
      "source": [
        "print(y_pred[0:4])"
      ],
      "execution_count": 0,
      "outputs": [
        {
          "output_type": "stream",
          "text": [
            "[[0.27534664 0.22430205 0.46653906 0.55066514 0.0859209  0.6223705 ]\n",
            " [0.47326207 0.5655838  0.15101412 0.18073514 0.4873682  0.08750907]\n",
            " [0.25933692 0.2302689  0.518626   0.47115806 0.07337144 0.49401316]\n",
            " [0.32970807 0.1978175  0.42330426 0.21765995 0.1754928  0.24193871]]\n"
          ],
          "name": "stdout"
        }
      ]
    },
    {
      "cell_type": "code",
      "metadata": {
        "id": "IX5uzl0FQRmK",
        "colab_type": "code",
        "outputId": "043d43a7-b404-4be7-b7c7-e85e59ac8bba",
        "colab": {
          "base_uri": "https://localhost:8080/",
          "height": 34
        }
      },
      "source": [
        "y_predict=np.argmax(y_pred, axis=1)\n",
        "\n",
        "print(y_predict[0:4])"
      ],
      "execution_count": 0,
      "outputs": [
        {
          "output_type": "stream",
          "text": [
            "[5 1 2 2]\n"
          ],
          "name": "stdout"
        }
      ]
    },
    {
      "cell_type": "code",
      "metadata": {
        "id": "c06GIU4_eNRP",
        "colab_type": "code",
        "outputId": "3bd48a02-df93-49e2-fb7d-d84b072125a0",
        "colab": {
          "base_uri": "https://localhost:8080/",
          "height": 34
        }
      },
      "source": [
        "accuracy, precision, recall, F1 = get_metrics(y_test_encode, y_predict)\n",
        "print(\"accuracy = %.3f, precision = %.3f, recall = %.3f, F1 = %.3f\" % (accuracy, precision, \n",
        "                                                                       recall, F1))"
      ],
      "execution_count": 0,
      "outputs": [
        {
          "output_type": "stream",
          "text": [
            "accuracy = 0.248, precision = 0.247, recall = 0.248, F1 = 0.242\n"
          ],
          "name": "stdout"
        }
      ]
    },
    {
      "cell_type": "code",
      "metadata": {
        "id": "OjWtrxc8eNUm",
        "colab_type": "code",
        "colab": {}
      },
      "source": [
        ""
      ],
      "execution_count": 0,
      "outputs": []
    }
  ]
}