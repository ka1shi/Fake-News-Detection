{
  "nbformat": 4,
  "nbformat_minor": 0,
  "metadata": {
    "kernelspec": {
      "display_name": "Python 3",
      "language": "python",
      "name": "python3"
    },
    "language_info": {
      "codemirror_mode": {
        "name": "ipython",
        "version": 3
      },
      "file_extension": ".py",
      "mimetype": "text/x-python",
      "name": "python",
      "nbconvert_exporter": "python",
      "pygments_lexer": "ipython3",
      "version": "3.7.3"
    },
    "colab": {
      "name": "LIAR_DATA_TESTING_CNN.ipynb",
      "version": "0.3.2",
      "provenance": [],
      "collapsed_sections": [],
      "include_colab_link": true
    }
  },
  "cells": [
    {
      "cell_type": "markdown",
      "metadata": {
        "id": "view-in-github",
        "colab_type": "text"
      },
      "source": [
        "<a href=\"https://colab.research.google.com/github/ka1shi/Fake-News-Detection/blob/master/LIAR_DATA_TESTING_CNN.ipynb\" target=\"_parent\"><img src=\"https://colab.research.google.com/assets/colab-badge.svg\" alt=\"Open In Colab\"/></a>"
      ]
    },
    {
      "cell_type": "code",
      "metadata": {
        "id": "BmZhBP75zhD3",
        "colab_type": "code",
        "outputId": "1a93baf1-bd44-46be-df1d-daa54ac97186",
        "colab": {
          "base_uri": "https://localhost:8080/",
          "height": 34
        }
      },
      "source": [
        "#Libraries used\n",
        "\n",
        "import sklearn\n",
        "from sklearn.preprocessing import StandardScaler\n",
        "from sklearn.preprocessing import LabelEncoder\n",
        "import matplotlib.pyplot as plt\n",
        "import pandas as pd\n",
        "import numpy as np \n",
        "#from numpy import numpy.ndarray.flatten\n",
        "import os\n",
        "\n",
        "#nltk.download()\n",
        "import nltk\n",
        "from nltk.stem.porter import PorterStemmer\n",
        "from nltk.tokenize import word_tokenize\n",
        "from nltk.tokenize import RegexpTokenizer\n",
        "\n",
        "\n",
        "from keras.preprocessing.text import Tokenizer\n",
        "from keras.preprocessing.sequence import pad_sequences\n",
        "from keras.utils import to_categorical\n",
        "from keras.utils import np_utils\n",
        "\n",
        "from keras.layers import Dense, Input, Flatten, Dropout, Activation\n",
        "from keras.layers import Conv1D, MaxPooling1D, Embedding\n",
        "from keras.layers import LSTM, Bidirectional\n",
        "from keras.models import Model, Sequential\n",
        "from keras.layers import Concatenate\n",
        "import time\n",
        "import math"
      ],
      "execution_count": 0,
      "outputs": [
        {
          "output_type": "stream",
          "text": [
            "Using TensorFlow backend.\n"
          ],
          "name": "stderr"
        }
      ]
    },
    {
      "cell_type": "code",
      "metadata": {
        "id": "Xz9EI2zDKkcZ",
        "colab_type": "code",
        "outputId": "1429a510-a43b-4c28-9e28-90f645097907",
        "colab": {
          "base_uri": "https://localhost:8080/",
          "height": 125
        }
      },
      "source": [
        "from google.colab import drive\n",
        "drive.mount('/content/drive')"
      ],
      "execution_count": 0,
      "outputs": [
        {
          "output_type": "stream",
          "text": [
            "Go to this URL in a browser: https://accounts.google.com/o/oauth2/auth?client_id=947318989803-6bn6qk8qdgf4n4g3pfee6491hc0brc4i.apps.googleusercontent.com&redirect_uri=urn%3Aietf%3Awg%3Aoauth%3A2.0%3Aoob&scope=email%20https%3A%2F%2Fwww.googleapis.com%2Fauth%2Fdocs.test%20https%3A%2F%2Fwww.googleapis.com%2Fauth%2Fdrive%20https%3A%2F%2Fwww.googleapis.com%2Fauth%2Fdrive.photos.readonly%20https%3A%2F%2Fwww.googleapis.com%2Fauth%2Fpeopleapi.readonly&response_type=code\n",
            "\n",
            "Enter your authorization code:\n",
            "··········\n",
            "Mounted at /content/drive\n"
          ],
          "name": "stdout"
        }
      ]
    },
    {
      "cell_type": "code",
      "metadata": {
        "id": "ioNERb30zhEA",
        "colab_type": "code",
        "colab": {}
      },
      "source": [
        "def load_data(filename):\n",
        "    \"\"\"\n",
        "    \n",
        "    Load Fake news dataset\n",
        "    \n",
        "    Input:\n",
        "    filename : CSV file that contains data\n",
        "    \n",
        "    Output:\n",
        "    data : Fake news data in pandas dataframe\n",
        "    \"\"\"\n",
        "    \n",
        "    data = pd.read_csv(filename, sep='\\t')\n",
        "    \n",
        "    return data"
      ],
      "execution_count": 0,
      "outputs": []
    },
    {
      "cell_type": "code",
      "metadata": {
        "id": "nOkUNmfXzhEE",
        "colab_type": "code",
        "outputId": "3d3ca00c-5451-41d7-9f57-f8a811432804",
        "colab": {
          "base_uri": "https://localhost:8080/",
          "height": 70
        }
      },
      "source": [
        "#Load data\n",
        "\n",
        "#filename1 = '/home/charmi/Documents/Fake_news_detection/Nikita_Gupta/LIAR_PLUS_data/train'\n",
        "#filename2 = '/home/charmi/Documents/Fake_news_detection/Nikita_Gupta/LIAR_PLUS_data/test'\n",
        "#filename3 = '/home/charmi/Documents/Fake_news_detection/Nikita_Gupta/LIAR_PLUS_data/val'\n",
        "\n",
        "filename1 = '/content/drive/My Drive/LIAR_PLUS_data/train'\n",
        "filename2 = '/content/drive/My Drive/LIAR_PLUS_data/test'\n",
        "filename3 = '/content/drive/My Drive/LIAR_PLUS_data/val'\n",
        "\n",
        "data_train = load_data(filename1)\n",
        "data_test = load_data(filename2)\n",
        "data_val = load_data(filename3)\n",
        "\n",
        "print(data_train.shape)\n",
        "print(data_test.shape)\n",
        "print(data_val.shape)\n",
        "\n"
      ],
      "execution_count": 0,
      "outputs": [
        {
          "output_type": "stream",
          "text": [
            "(10240, 15)\n",
            "(1267, 15)\n",
            "(1284, 15)\n"
          ],
          "name": "stdout"
        }
      ]
    },
    {
      "cell_type": "code",
      "metadata": {
        "id": "U_gQ-WoozhEO",
        "colab_type": "code",
        "outputId": "6e6b7ec2-518c-471e-b3ff-635315f5dad3",
        "colab": {
          "base_uri": "https://localhost:8080/",
          "height": 465
        }
      },
      "source": [
        "# Combining all data\n",
        "\n",
        "frame = [data_train, data_test, data_val]\n",
        "data = pd.concat(frame)\n",
        "\n",
        "data = sklearn.utils.shuffle(data)\n",
        "data.reset_index(inplace=True, drop=True) \n",
        "\n",
        "data.to_csv('Liar_plus_data_final.csv')\n",
        "\n",
        "print(data.shape)\n",
        "\n",
        "data.head()"
      ],
      "execution_count": 0,
      "outputs": [
        {
          "output_type": "stream",
          "text": [
            "(12791, 15)\n"
          ],
          "name": "stdout"
        },
        {
          "output_type": "execute_result",
          "data": {
            "text/html": [
              "<div>\n",
              "<style scoped>\n",
              "    .dataframe tbody tr th:only-of-type {\n",
              "        vertical-align: middle;\n",
              "    }\n",
              "\n",
              "    .dataframe tbody tr th {\n",
              "        vertical-align: top;\n",
              "    }\n",
              "\n",
              "    .dataframe thead th {\n",
              "        text-align: right;\n",
              "    }\n",
              "</style>\n",
              "<table border=\"1\" class=\"dataframe\">\n",
              "  <thead>\n",
              "    <tr style=\"text-align: right;\">\n",
              "      <th></th>\n",
              "      <th>ID</th>\n",
              "      <th>Label</th>\n",
              "      <th>Statement</th>\n",
              "      <th>Subject</th>\n",
              "      <th>Speaker</th>\n",
              "      <th>Job</th>\n",
              "      <th>Location</th>\n",
              "      <th>Party</th>\n",
              "      <th>BT</th>\n",
              "      <th>F</th>\n",
              "      <th>HT</th>\n",
              "      <th>MT</th>\n",
              "      <th>POF</th>\n",
              "      <th>Context</th>\n",
              "      <th>Justification</th>\n",
              "    </tr>\n",
              "  </thead>\n",
              "  <tbody>\n",
              "    <tr>\n",
              "      <th>0</th>\n",
              "      <td>10194.json</td>\n",
              "      <td>barely-true</td>\n",
              "      <td>One-hundred times as many people worked their ...</td>\n",
              "      <td>economy,job-accomplishments,jobs,poverty,workers</td>\n",
              "      <td>bill-clinton</td>\n",
              "      <td>former president</td>\n",
              "      <td>Arkansas</td>\n",
              "      <td>democrat</td>\n",
              "      <td>4.0</td>\n",
              "      <td>2.0</td>\n",
              "      <td>12.0</td>\n",
              "      <td>11.0</td>\n",
              "      <td>3.0</td>\n",
              "      <td>a speech</td>\n",
              "      <td>By contrast, under Walker, his proposed 2015-1...</td>\n",
              "    </tr>\n",
              "    <tr>\n",
              "      <th>1</th>\n",
              "      <td>6513.json</td>\n",
              "      <td>false</td>\n",
              "      <td>The Obama administration leaked information, d...</td>\n",
              "      <td>foreign-policy,message-machine-2012,military,t...</td>\n",
              "      <td>special-operations-opsec-education-fund</td>\n",
              "      <td>NaN</td>\n",
              "      <td>NaN</td>\n",
              "      <td>none</td>\n",
              "      <td>1.0</td>\n",
              "      <td>1.0</td>\n",
              "      <td>1.0</td>\n",
              "      <td>0.0</td>\n",
              "      <td>0.0</td>\n",
              "      <td>a web video</td>\n",
              "      <td>The Special Operations - OPSEC Education Fund ...</td>\n",
              "    </tr>\n",
              "    <tr>\n",
              "      <th>2</th>\n",
              "      <td>11650.json</td>\n",
              "      <td>barely-true</td>\n",
              "      <td>Each vegan spares more than 100 animals every ...</td>\n",
              "      <td>agriculture,animals,food-safety,health-care</td>\n",
              "      <td>heather-moore</td>\n",
              "      <td>PETA writer</td>\n",
              "      <td>NaN</td>\n",
              "      <td>none</td>\n",
              "      <td>1.0</td>\n",
              "      <td>0.0</td>\n",
              "      <td>0.0</td>\n",
              "      <td>0.0</td>\n",
              "      <td>0.0</td>\n",
              "      <td>a Providence Journal commentary</td>\n",
              "      <td>To put matters clearly: You pay into the unemp...</td>\n",
              "    </tr>\n",
              "    <tr>\n",
              "      <th>3</th>\n",
              "      <td>755.json</td>\n",
              "      <td>half-true</td>\n",
              "      <td>There are so many loopholes ... our businesses...</td>\n",
              "      <td>taxes</td>\n",
              "      <td>barack-obama</td>\n",
              "      <td>President</td>\n",
              "      <td>Illinois</td>\n",
              "      <td>democrat</td>\n",
              "      <td>70.0</td>\n",
              "      <td>71.0</td>\n",
              "      <td>160.0</td>\n",
              "      <td>163.0</td>\n",
              "      <td>9.0</td>\n",
              "      <td>a debate in Oxford, Miss.</td>\n",
              "      <td>Dont Let Florida Go To Pot said, \"25 percent o...</td>\n",
              "    </tr>\n",
              "    <tr>\n",
              "      <th>4</th>\n",
              "      <td>11519.json</td>\n",
              "      <td>true</td>\n",
              "      <td>Dark money spending in the 2016 election cycle...</td>\n",
              "      <td>campaign-finance,congress,elections</td>\n",
              "      <td>tammy-baldwin</td>\n",
              "      <td>U.S. Representative</td>\n",
              "      <td>Wisconsin</td>\n",
              "      <td>democrat</td>\n",
              "      <td>5.0</td>\n",
              "      <td>5.0</td>\n",
              "      <td>7.0</td>\n",
              "      <td>4.0</td>\n",
              "      <td>0.0</td>\n",
              "      <td>a campaign email</td>\n",
              "      <td>Scott Walker's views on abortion are more rest...</td>\n",
              "    </tr>\n",
              "  </tbody>\n",
              "</table>\n",
              "</div>"
            ],
            "text/plain": [
              "           ID  ...                                      Justification\n",
              "0  10194.json  ...  By contrast, under Walker, his proposed 2015-1...\n",
              "1   6513.json  ...  The Special Operations - OPSEC Education Fund ...\n",
              "2  11650.json  ...  To put matters clearly: You pay into the unemp...\n",
              "3    755.json  ...  Dont Let Florida Go To Pot said, \"25 percent o...\n",
              "4  11519.json  ...  Scott Walker's views on abortion are more rest...\n",
              "\n",
              "[5 rows x 15 columns]"
            ]
          },
          "metadata": {
            "tags": []
          },
          "execution_count": 5
        }
      ]
    },
    {
      "cell_type": "code",
      "metadata": {
        "id": "cmLp28XnzhET",
        "colab_type": "code",
        "outputId": "ddd9eb12-b149-4af5-fe6b-7d481fe3a11b",
        "colab": {
          "base_uri": "https://localhost:8080/",
          "height": 284
        }
      },
      "source": [
        "data.describe()"
      ],
      "execution_count": 0,
      "outputs": [
        {
          "output_type": "execute_result",
          "data": {
            "text/html": [
              "<div>\n",
              "<style scoped>\n",
              "    .dataframe tbody tr th:only-of-type {\n",
              "        vertical-align: middle;\n",
              "    }\n",
              "\n",
              "    .dataframe tbody tr th {\n",
              "        vertical-align: top;\n",
              "    }\n",
              "\n",
              "    .dataframe thead th {\n",
              "        text-align: right;\n",
              "    }\n",
              "</style>\n",
              "<table border=\"1\" class=\"dataframe\">\n",
              "  <thead>\n",
              "    <tr style=\"text-align: right;\">\n",
              "      <th></th>\n",
              "      <th>BT</th>\n",
              "      <th>F</th>\n",
              "      <th>HT</th>\n",
              "      <th>MT</th>\n",
              "      <th>POF</th>\n",
              "    </tr>\n",
              "  </thead>\n",
              "  <tbody>\n",
              "    <tr>\n",
              "      <th>count</th>\n",
              "      <td>12789.000000</td>\n",
              "      <td>12789.000000</td>\n",
              "      <td>12789.000000</td>\n",
              "      <td>12789.000000</td>\n",
              "      <td>12789.000000</td>\n",
              "    </tr>\n",
              "    <tr>\n",
              "      <th>mean</th>\n",
              "      <td>11.583939</td>\n",
              "      <td>13.359059</td>\n",
              "      <td>17.185785</td>\n",
              "      <td>16.497850</td>\n",
              "      <td>6.251388</td>\n",
              "    </tr>\n",
              "    <tr>\n",
              "      <th>std</th>\n",
              "      <td>18.978037</td>\n",
              "      <td>24.140086</td>\n",
              "      <td>35.847678</td>\n",
              "      <td>36.165276</td>\n",
              "      <td>16.180777</td>\n",
              "    </tr>\n",
              "    <tr>\n",
              "      <th>min</th>\n",
              "      <td>0.000000</td>\n",
              "      <td>0.000000</td>\n",
              "      <td>0.000000</td>\n",
              "      <td>0.000000</td>\n",
              "      <td>0.000000</td>\n",
              "    </tr>\n",
              "    <tr>\n",
              "      <th>25%</th>\n",
              "      <td>0.000000</td>\n",
              "      <td>0.000000</td>\n",
              "      <td>0.000000</td>\n",
              "      <td>0.000000</td>\n",
              "      <td>0.000000</td>\n",
              "    </tr>\n",
              "    <tr>\n",
              "      <th>50%</th>\n",
              "      <td>2.000000</td>\n",
              "      <td>2.000000</td>\n",
              "      <td>3.000000</td>\n",
              "      <td>3.000000</td>\n",
              "      <td>1.000000</td>\n",
              "    </tr>\n",
              "    <tr>\n",
              "      <th>75%</th>\n",
              "      <td>12.000000</td>\n",
              "      <td>15.000000</td>\n",
              "      <td>13.000000</td>\n",
              "      <td>12.000000</td>\n",
              "      <td>5.000000</td>\n",
              "    </tr>\n",
              "    <tr>\n",
              "      <th>max</th>\n",
              "      <td>70.000000</td>\n",
              "      <td>114.000000</td>\n",
              "      <td>160.000000</td>\n",
              "      <td>163.000000</td>\n",
              "      <td>105.000000</td>\n",
              "    </tr>\n",
              "  </tbody>\n",
              "</table>\n",
              "</div>"
            ],
            "text/plain": [
              "                 BT             F            HT            MT           POF\n",
              "count  12789.000000  12789.000000  12789.000000  12789.000000  12789.000000\n",
              "mean      11.583939     13.359059     17.185785     16.497850      6.251388\n",
              "std       18.978037     24.140086     35.847678     36.165276     16.180777\n",
              "min        0.000000      0.000000      0.000000      0.000000      0.000000\n",
              "25%        0.000000      0.000000      0.000000      0.000000      0.000000\n",
              "50%        2.000000      2.000000      3.000000      3.000000      1.000000\n",
              "75%       12.000000     15.000000     13.000000     12.000000      5.000000\n",
              "max       70.000000    114.000000    160.000000    163.000000    105.000000"
            ]
          },
          "metadata": {
            "tags": []
          },
          "execution_count": 6
        }
      ]
    },
    {
      "cell_type": "code",
      "metadata": {
        "id": "0WQjZFydz1nu",
        "colab_type": "code",
        "colab": {}
      },
      "source": [
        "#graph between labels how many of each presnt and also betwwn these values"
      ],
      "execution_count": 0,
      "outputs": []
    },
    {
      "cell_type": "code",
      "metadata": {
        "id": "YgsCAlLczhEW",
        "colab_type": "code",
        "outputId": "4b4392c2-3df9-4aab-854d-dc5c13984ac1",
        "colab": {
          "base_uri": "https://localhost:8080/",
          "height": 298
        }
      },
      "source": [
        "data.apply(lambda x: sum(x.isnull()), axis=0)"
      ],
      "execution_count": 0,
      "outputs": [
        {
          "output_type": "execute_result",
          "data": {
            "text/plain": [
              "ID                  0\n",
              "Label               0\n",
              "Statement           0\n",
              "Subject             2\n",
              "Speaker             2\n",
              "Job              3567\n",
              "Location         2749\n",
              "Party               2\n",
              "BT                  2\n",
              "F                   2\n",
              "HT                  2\n",
              "MT                  2\n",
              "POF                 2\n",
              "Context           131\n",
              "Justification      97\n",
              "dtype: int64"
            ]
          },
          "metadata": {
            "tags": []
          },
          "execution_count": 8
        }
      ]
    },
    {
      "cell_type": "code",
      "metadata": {
        "id": "tr6nWzVSzhEa",
        "colab_type": "code",
        "outputId": "52524bdb-73a3-4395-f46f-2ebfc511402b",
        "colab": {
          "base_uri": "https://localhost:8080/",
          "height": 105
        }
      },
      "source": [
        "print(data[data['F'].isnull()])"
      ],
      "execution_count": 0,
      "outputs": [
        {
          "output_type": "stream",
          "text": [
            "             ID  ...                                      Justification\n",
            "2086  1626.json  ...  Bill Clinton said, \"As secretary of state, (Hi...\n",
            "5675   638.json  ...  Perry says Paine wrote that the duty of a patr...\n",
            "\n",
            "[2 rows x 15 columns]\n"
          ],
          "name": "stdout"
        }
      ]
    },
    {
      "cell_type": "code",
      "metadata": {
        "id": "2c-5rOz4zhEd",
        "colab_type": "code",
        "colab": {}
      },
      "source": [
        "# Deleting rows which have barely-true, false, half-true, mostly-true and pants-on-fire are all null \n",
        "# and even other information is missing.\n",
        "\n",
        "data = data[data.ID != '638.json']\n",
        "data = data[data.ID != '1626.json']\n"
      ],
      "execution_count": 0,
      "outputs": []
    },
    {
      "cell_type": "code",
      "metadata": {
        "id": "VW4VmrIuzhEi",
        "colab_type": "code",
        "outputId": "e96310ac-9ad8-442e-d8f7-8bee04f20784",
        "colab": {
          "base_uri": "https://localhost:8080/",
          "height": 70
        }
      },
      "source": [
        "#Checking\n",
        "\n",
        "print(data[data['F'].isnull()])"
      ],
      "execution_count": 0,
      "outputs": [
        {
          "output_type": "stream",
          "text": [
            "Empty DataFrame\n",
            "Columns: [ID, Label, Statement, Subject, Speaker, Job, Location, Party, BT, F, HT, MT, POF, Context, Justification]\n",
            "Index: []\n"
          ],
          "name": "stdout"
        }
      ]
    },
    {
      "cell_type": "code",
      "metadata": {
        "id": "-vxEK_vZzhEn",
        "colab_type": "code",
        "outputId": "70fdac1b-1036-4e01-aa76-cbd1dd63a4d3",
        "colab": {
          "base_uri": "https://localhost:8080/",
          "height": 34
        }
      },
      "source": [
        "data.shape"
      ],
      "execution_count": 0,
      "outputs": [
        {
          "output_type": "execute_result",
          "data": {
            "text/plain": [
              "(12789, 15)"
            ]
          },
          "metadata": {
            "tags": []
          },
          "execution_count": 12
        }
      ]
    },
    {
      "cell_type": "code",
      "metadata": {
        "id": "b0nCuCeZzhEv",
        "colab_type": "code",
        "outputId": "2ea7efe0-522b-412f-e4f1-f045d1e83e92",
        "colab": {
          "base_uri": "https://localhost:8080/",
          "height": 34
        }
      },
      "source": [
        "#checking rows where all four of job, location, justification and context is missing\n",
        "\n",
        "t1 = data[data['Justification'].isnull()]\n",
        "t2 = t1[t1['Context'].isnull()]\n",
        "t3 = t1[t1['Location'].isnull()]\n",
        "t4 = t3[t3['Job'].isnull()]\n",
        "\n",
        "t5 = t4[t4['Context'].isnull()]\n",
        "\n",
        "#print(t2)\n",
        "#print(t3)\n",
        "print(t4.shape)\n",
        "\n",
        "# t4 represent 17 rows where Job, Location and Justification information is missing.\n",
        "#print(t5)"
      ],
      "execution_count": 0,
      "outputs": [
        {
          "output_type": "stream",
          "text": [
            "(17, 15)\n"
          ],
          "name": "stdout"
        }
      ]
    },
    {
      "cell_type": "code",
      "metadata": {
        "id": "sstc9y5ezhEz",
        "colab_type": "code",
        "outputId": "f9e829f6-804d-40c9-d0e5-041d5d4c40dc",
        "colab": {
          "base_uri": "https://localhost:8080/",
          "height": 34
        }
      },
      "source": [
        "data['Speaker'].nunique()"
      ],
      "execution_count": 0,
      "outputs": [
        {
          "output_type": "execute_result",
          "data": {
            "text/plain": [
              "3309"
            ]
          },
          "metadata": {
            "tags": []
          },
          "execution_count": 14
        }
      ]
    },
    {
      "cell_type": "code",
      "metadata": {
        "id": "24156DGhzhE6",
        "colab_type": "code",
        "colab": {}
      },
      "source": [
        "data['ID'] = data['ID'].astype('str')"
      ],
      "execution_count": 0,
      "outputs": []
    },
    {
      "cell_type": "code",
      "metadata": {
        "id": "AsHsZjrezhE9",
        "colab_type": "code",
        "outputId": "b483b7ec-104f-4755-9d55-df2c9413164f",
        "colab": {
          "base_uri": "https://localhost:8080/",
          "height": 298
        }
      },
      "source": [
        "data.dtypes"
      ],
      "execution_count": 0,
      "outputs": [
        {
          "output_type": "execute_result",
          "data": {
            "text/plain": [
              "ID                object\n",
              "Label             object\n",
              "Statement         object\n",
              "Subject           object\n",
              "Speaker           object\n",
              "Job               object\n",
              "Location          object\n",
              "Party             object\n",
              "BT               float64\n",
              "F                float64\n",
              "HT               float64\n",
              "MT               float64\n",
              "POF              float64\n",
              "Context           object\n",
              "Justification     object\n",
              "dtype: object"
            ]
          },
          "metadata": {
            "tags": []
          },
          "execution_count": 16
        }
      ]
    },
    {
      "cell_type": "code",
      "metadata": {
        "id": "N-Kob8xzzhFD",
        "colab_type": "code",
        "outputId": "2c4e5e85-6369-45c8-94b1-a155581d09be",
        "colab": {
          "base_uri": "https://localhost:8080/",
          "height": 447
        }
      },
      "source": [
        "temp = data['ID'].str.split(\".\", n = 1, expand = True) \n",
        "#print(temp)\n",
        "\n",
        "data['ID'] = temp[0]\n",
        "data.head()"
      ],
      "execution_count": 0,
      "outputs": [
        {
          "output_type": "execute_result",
          "data": {
            "text/html": [
              "<div>\n",
              "<style scoped>\n",
              "    .dataframe tbody tr th:only-of-type {\n",
              "        vertical-align: middle;\n",
              "    }\n",
              "\n",
              "    .dataframe tbody tr th {\n",
              "        vertical-align: top;\n",
              "    }\n",
              "\n",
              "    .dataframe thead th {\n",
              "        text-align: right;\n",
              "    }\n",
              "</style>\n",
              "<table border=\"1\" class=\"dataframe\">\n",
              "  <thead>\n",
              "    <tr style=\"text-align: right;\">\n",
              "      <th></th>\n",
              "      <th>ID</th>\n",
              "      <th>Label</th>\n",
              "      <th>Statement</th>\n",
              "      <th>Subject</th>\n",
              "      <th>Speaker</th>\n",
              "      <th>Job</th>\n",
              "      <th>Location</th>\n",
              "      <th>Party</th>\n",
              "      <th>BT</th>\n",
              "      <th>F</th>\n",
              "      <th>HT</th>\n",
              "      <th>MT</th>\n",
              "      <th>POF</th>\n",
              "      <th>Context</th>\n",
              "      <th>Justification</th>\n",
              "    </tr>\n",
              "  </thead>\n",
              "  <tbody>\n",
              "    <tr>\n",
              "      <th>0</th>\n",
              "      <td>10194</td>\n",
              "      <td>barely-true</td>\n",
              "      <td>One-hundred times as many people worked their ...</td>\n",
              "      <td>economy,job-accomplishments,jobs,poverty,workers</td>\n",
              "      <td>bill-clinton</td>\n",
              "      <td>former president</td>\n",
              "      <td>Arkansas</td>\n",
              "      <td>democrat</td>\n",
              "      <td>4.0</td>\n",
              "      <td>2.0</td>\n",
              "      <td>12.0</td>\n",
              "      <td>11.0</td>\n",
              "      <td>3.0</td>\n",
              "      <td>a speech</td>\n",
              "      <td>By contrast, under Walker, his proposed 2015-1...</td>\n",
              "    </tr>\n",
              "    <tr>\n",
              "      <th>1</th>\n",
              "      <td>6513</td>\n",
              "      <td>false</td>\n",
              "      <td>The Obama administration leaked information, d...</td>\n",
              "      <td>foreign-policy,message-machine-2012,military,t...</td>\n",
              "      <td>special-operations-opsec-education-fund</td>\n",
              "      <td>NaN</td>\n",
              "      <td>NaN</td>\n",
              "      <td>none</td>\n",
              "      <td>1.0</td>\n",
              "      <td>1.0</td>\n",
              "      <td>1.0</td>\n",
              "      <td>0.0</td>\n",
              "      <td>0.0</td>\n",
              "      <td>a web video</td>\n",
              "      <td>The Special Operations - OPSEC Education Fund ...</td>\n",
              "    </tr>\n",
              "    <tr>\n",
              "      <th>2</th>\n",
              "      <td>11650</td>\n",
              "      <td>barely-true</td>\n",
              "      <td>Each vegan spares more than 100 animals every ...</td>\n",
              "      <td>agriculture,animals,food-safety,health-care</td>\n",
              "      <td>heather-moore</td>\n",
              "      <td>PETA writer</td>\n",
              "      <td>NaN</td>\n",
              "      <td>none</td>\n",
              "      <td>1.0</td>\n",
              "      <td>0.0</td>\n",
              "      <td>0.0</td>\n",
              "      <td>0.0</td>\n",
              "      <td>0.0</td>\n",
              "      <td>a Providence Journal commentary</td>\n",
              "      <td>To put matters clearly: You pay into the unemp...</td>\n",
              "    </tr>\n",
              "    <tr>\n",
              "      <th>3</th>\n",
              "      <td>755</td>\n",
              "      <td>half-true</td>\n",
              "      <td>There are so many loopholes ... our businesses...</td>\n",
              "      <td>taxes</td>\n",
              "      <td>barack-obama</td>\n",
              "      <td>President</td>\n",
              "      <td>Illinois</td>\n",
              "      <td>democrat</td>\n",
              "      <td>70.0</td>\n",
              "      <td>71.0</td>\n",
              "      <td>160.0</td>\n",
              "      <td>163.0</td>\n",
              "      <td>9.0</td>\n",
              "      <td>a debate in Oxford, Miss.</td>\n",
              "      <td>Dont Let Florida Go To Pot said, \"25 percent o...</td>\n",
              "    </tr>\n",
              "    <tr>\n",
              "      <th>4</th>\n",
              "      <td>11519</td>\n",
              "      <td>true</td>\n",
              "      <td>Dark money spending in the 2016 election cycle...</td>\n",
              "      <td>campaign-finance,congress,elections</td>\n",
              "      <td>tammy-baldwin</td>\n",
              "      <td>U.S. Representative</td>\n",
              "      <td>Wisconsin</td>\n",
              "      <td>democrat</td>\n",
              "      <td>5.0</td>\n",
              "      <td>5.0</td>\n",
              "      <td>7.0</td>\n",
              "      <td>4.0</td>\n",
              "      <td>0.0</td>\n",
              "      <td>a campaign email</td>\n",
              "      <td>Scott Walker's views on abortion are more rest...</td>\n",
              "    </tr>\n",
              "  </tbody>\n",
              "</table>\n",
              "</div>"
            ],
            "text/plain": [
              "      ID  ...                                      Justification\n",
              "0  10194  ...  By contrast, under Walker, his proposed 2015-1...\n",
              "1   6513  ...  The Special Operations - OPSEC Education Fund ...\n",
              "2  11650  ...  To put matters clearly: You pay into the unemp...\n",
              "3    755  ...  Dont Let Florida Go To Pot said, \"25 percent o...\n",
              "4  11519  ...  Scott Walker's views on abortion are more rest...\n",
              "\n",
              "[5 rows x 15 columns]"
            ]
          },
          "metadata": {
            "tags": []
          },
          "execution_count": 17
        }
      ]
    },
    {
      "cell_type": "code",
      "metadata": {
        "id": "GTT_kv3DzhFI",
        "colab_type": "code",
        "outputId": "40baa365-7738-4973-d16e-b4ae101a825f",
        "colab": {
          "base_uri": "https://localhost:8080/",
          "height": 447
        }
      },
      "source": [
        "#Data cleaning, removing all special chararcters \n",
        "#from statement subject speaker job location party context and justification\n",
        "\n",
        "#remove all characters which are not A-Z,a-z or 0-9\n",
        "\n",
        "def data_clean(data, field):\n",
        "    data[field] = data[field].str.replace(r\"@\\S+\", \"\")\n",
        "    data[field] = data[field].str.replace(r\"[^A-Za-z0-9]\", \" \")\n",
        "    data[field] = data[field].str.replace(r\"(),!?@\\'\\`\\\"\\_\\n\", \" \")\n",
        "    data[field] = data[field].str.replace(r\"@\", \"at\")\n",
        "    data[field] = data[field].str.replace(r\"http\\S+\", \"\")\n",
        "    data[field] = data[field].str.replace(r\"http\", \"\")\n",
        "    data[field] = data[field].str.lower()\n",
        "    return data\n",
        "\n",
        "data = data_clean(data, \"Statement\")\n",
        "data = data_clean(data, \"Subject\")\n",
        "data = data_clean(data, \"Job\")\n",
        "data = data_clean(data, \"Location\")\n",
        "data = data_clean(data, \"Party\")\n",
        "data = data_clean(data, \"Context\")\n",
        "data = data_clean(data, \"Justification\")\n",
        "\n",
        "#Saved clean data files\n",
        "data.to_csv(\"clean_LIAR_PLUS_data.csv\")\n",
        "\n",
        "#checking\n",
        "data.head()"
      ],
      "execution_count": 0,
      "outputs": [
        {
          "output_type": "execute_result",
          "data": {
            "text/html": [
              "<div>\n",
              "<style scoped>\n",
              "    .dataframe tbody tr th:only-of-type {\n",
              "        vertical-align: middle;\n",
              "    }\n",
              "\n",
              "    .dataframe tbody tr th {\n",
              "        vertical-align: top;\n",
              "    }\n",
              "\n",
              "    .dataframe thead th {\n",
              "        text-align: right;\n",
              "    }\n",
              "</style>\n",
              "<table border=\"1\" class=\"dataframe\">\n",
              "  <thead>\n",
              "    <tr style=\"text-align: right;\">\n",
              "      <th></th>\n",
              "      <th>ID</th>\n",
              "      <th>Label</th>\n",
              "      <th>Statement</th>\n",
              "      <th>Subject</th>\n",
              "      <th>Speaker</th>\n",
              "      <th>Job</th>\n",
              "      <th>Location</th>\n",
              "      <th>Party</th>\n",
              "      <th>BT</th>\n",
              "      <th>F</th>\n",
              "      <th>HT</th>\n",
              "      <th>MT</th>\n",
              "      <th>POF</th>\n",
              "      <th>Context</th>\n",
              "      <th>Justification</th>\n",
              "    </tr>\n",
              "  </thead>\n",
              "  <tbody>\n",
              "    <tr>\n",
              "      <th>0</th>\n",
              "      <td>10194</td>\n",
              "      <td>barely-true</td>\n",
              "      <td>one hundred times as many people worked their ...</td>\n",
              "      <td>economy job accomplishments jobs poverty workers</td>\n",
              "      <td>bill-clinton</td>\n",
              "      <td>former president</td>\n",
              "      <td>arkansas</td>\n",
              "      <td>democrat</td>\n",
              "      <td>4.0</td>\n",
              "      <td>2.0</td>\n",
              "      <td>12.0</td>\n",
              "      <td>11.0</td>\n",
              "      <td>3.0</td>\n",
              "      <td>a speech</td>\n",
              "      <td>by contrast  under walker  his proposed 2015 1...</td>\n",
              "    </tr>\n",
              "    <tr>\n",
              "      <th>1</th>\n",
              "      <td>6513</td>\n",
              "      <td>false</td>\n",
              "      <td>the obama administration leaked information  d...</td>\n",
              "      <td>foreign policy message machine 2012 military t...</td>\n",
              "      <td>special-operations-opsec-education-fund</td>\n",
              "      <td>NaN</td>\n",
              "      <td>NaN</td>\n",
              "      <td>none</td>\n",
              "      <td>1.0</td>\n",
              "      <td>1.0</td>\n",
              "      <td>1.0</td>\n",
              "      <td>0.0</td>\n",
              "      <td>0.0</td>\n",
              "      <td>a web video</td>\n",
              "      <td>the special operations   opsec education fund ...</td>\n",
              "    </tr>\n",
              "    <tr>\n",
              "      <th>2</th>\n",
              "      <td>11650</td>\n",
              "      <td>barely-true</td>\n",
              "      <td>each vegan spares more than 100 animals every ...</td>\n",
              "      <td>agriculture animals food safety health care</td>\n",
              "      <td>heather-moore</td>\n",
              "      <td>peta writer</td>\n",
              "      <td>NaN</td>\n",
              "      <td>none</td>\n",
              "      <td>1.0</td>\n",
              "      <td>0.0</td>\n",
              "      <td>0.0</td>\n",
              "      <td>0.0</td>\n",
              "      <td>0.0</td>\n",
              "      <td>a providence journal commentary</td>\n",
              "      <td>to put matters clearly  you pay into the unemp...</td>\n",
              "    </tr>\n",
              "    <tr>\n",
              "      <th>3</th>\n",
              "      <td>755</td>\n",
              "      <td>half-true</td>\n",
              "      <td>there are so many loopholes     our businesses...</td>\n",
              "      <td>taxes</td>\n",
              "      <td>barack-obama</td>\n",
              "      <td>president</td>\n",
              "      <td>illinois</td>\n",
              "      <td>democrat</td>\n",
              "      <td>70.0</td>\n",
              "      <td>71.0</td>\n",
              "      <td>160.0</td>\n",
              "      <td>163.0</td>\n",
              "      <td>9.0</td>\n",
              "      <td>a debate in oxford  miss</td>\n",
              "      <td>dont let florida go to pot said   25 percent o...</td>\n",
              "    </tr>\n",
              "    <tr>\n",
              "      <th>4</th>\n",
              "      <td>11519</td>\n",
              "      <td>true</td>\n",
              "      <td>dark money spending in the 2016 election cycle...</td>\n",
              "      <td>campaign finance congress elections</td>\n",
              "      <td>tammy-baldwin</td>\n",
              "      <td>u s  representative</td>\n",
              "      <td>wisconsin</td>\n",
              "      <td>democrat</td>\n",
              "      <td>5.0</td>\n",
              "      <td>5.0</td>\n",
              "      <td>7.0</td>\n",
              "      <td>4.0</td>\n",
              "      <td>0.0</td>\n",
              "      <td>a campaign email</td>\n",
              "      <td>scott walker s views on abortion are more rest...</td>\n",
              "    </tr>\n",
              "  </tbody>\n",
              "</table>\n",
              "</div>"
            ],
            "text/plain": [
              "      ID  ...                                      Justification\n",
              "0  10194  ...  by contrast  under walker  his proposed 2015 1...\n",
              "1   6513  ...  the special operations   opsec education fund ...\n",
              "2  11650  ...  to put matters clearly  you pay into the unemp...\n",
              "3    755  ...  dont let florida go to pot said   25 percent o...\n",
              "4  11519  ...  scott walker s views on abortion are more rest...\n",
              "\n",
              "[5 rows x 15 columns]"
            ]
          },
          "metadata": {
            "tags": []
          },
          "execution_count": 18
        }
      ]
    },
    {
      "cell_type": "code",
      "metadata": {
        "id": "rRhgx2ztzhFL",
        "colab_type": "code",
        "outputId": "3760957b-8449-427d-bec3-ab70244609ce",
        "colab": {
          "base_uri": "https://localhost:8080/",
          "height": 447
        }
      },
      "source": [
        "#join all columns with text field \n",
        "temp = ['Statement', 'Subject', 'Speaker','Job', 'Location', 'Party', 'Context', 'Justification']\n",
        "\n",
        "#training data\n",
        "data_temp = data[temp]\n",
        "\n",
        "data['Full_Statement'] = data_temp.apply(lambda x: ' '.join(x.map(str)), axis=1)\n",
        "data.head()"
      ],
      "execution_count": 0,
      "outputs": [
        {
          "output_type": "execute_result",
          "data": {
            "text/html": [
              "<div>\n",
              "<style scoped>\n",
              "    .dataframe tbody tr th:only-of-type {\n",
              "        vertical-align: middle;\n",
              "    }\n",
              "\n",
              "    .dataframe tbody tr th {\n",
              "        vertical-align: top;\n",
              "    }\n",
              "\n",
              "    .dataframe thead th {\n",
              "        text-align: right;\n",
              "    }\n",
              "</style>\n",
              "<table border=\"1\" class=\"dataframe\">\n",
              "  <thead>\n",
              "    <tr style=\"text-align: right;\">\n",
              "      <th></th>\n",
              "      <th>ID</th>\n",
              "      <th>Label</th>\n",
              "      <th>Statement</th>\n",
              "      <th>Subject</th>\n",
              "      <th>Speaker</th>\n",
              "      <th>Job</th>\n",
              "      <th>Location</th>\n",
              "      <th>Party</th>\n",
              "      <th>BT</th>\n",
              "      <th>F</th>\n",
              "      <th>HT</th>\n",
              "      <th>MT</th>\n",
              "      <th>POF</th>\n",
              "      <th>Context</th>\n",
              "      <th>Justification</th>\n",
              "      <th>Full_Statement</th>\n",
              "    </tr>\n",
              "  </thead>\n",
              "  <tbody>\n",
              "    <tr>\n",
              "      <th>0</th>\n",
              "      <td>10194</td>\n",
              "      <td>barely-true</td>\n",
              "      <td>one hundred times as many people worked their ...</td>\n",
              "      <td>economy job accomplishments jobs poverty workers</td>\n",
              "      <td>bill-clinton</td>\n",
              "      <td>former president</td>\n",
              "      <td>arkansas</td>\n",
              "      <td>democrat</td>\n",
              "      <td>4.0</td>\n",
              "      <td>2.0</td>\n",
              "      <td>12.0</td>\n",
              "      <td>11.0</td>\n",
              "      <td>3.0</td>\n",
              "      <td>a speech</td>\n",
              "      <td>by contrast  under walker  his proposed 2015 1...</td>\n",
              "      <td>one hundred times as many people worked their ...</td>\n",
              "    </tr>\n",
              "    <tr>\n",
              "      <th>1</th>\n",
              "      <td>6513</td>\n",
              "      <td>false</td>\n",
              "      <td>the obama administration leaked information  d...</td>\n",
              "      <td>foreign policy message machine 2012 military t...</td>\n",
              "      <td>special-operations-opsec-education-fund</td>\n",
              "      <td>NaN</td>\n",
              "      <td>NaN</td>\n",
              "      <td>none</td>\n",
              "      <td>1.0</td>\n",
              "      <td>1.0</td>\n",
              "      <td>1.0</td>\n",
              "      <td>0.0</td>\n",
              "      <td>0.0</td>\n",
              "      <td>a web video</td>\n",
              "      <td>the special operations   opsec education fund ...</td>\n",
              "      <td>the obama administration leaked information  d...</td>\n",
              "    </tr>\n",
              "    <tr>\n",
              "      <th>2</th>\n",
              "      <td>11650</td>\n",
              "      <td>barely-true</td>\n",
              "      <td>each vegan spares more than 100 animals every ...</td>\n",
              "      <td>agriculture animals food safety health care</td>\n",
              "      <td>heather-moore</td>\n",
              "      <td>peta writer</td>\n",
              "      <td>NaN</td>\n",
              "      <td>none</td>\n",
              "      <td>1.0</td>\n",
              "      <td>0.0</td>\n",
              "      <td>0.0</td>\n",
              "      <td>0.0</td>\n",
              "      <td>0.0</td>\n",
              "      <td>a providence journal commentary</td>\n",
              "      <td>to put matters clearly  you pay into the unemp...</td>\n",
              "      <td>each vegan spares more than 100 animals every ...</td>\n",
              "    </tr>\n",
              "    <tr>\n",
              "      <th>3</th>\n",
              "      <td>755</td>\n",
              "      <td>half-true</td>\n",
              "      <td>there are so many loopholes     our businesses...</td>\n",
              "      <td>taxes</td>\n",
              "      <td>barack-obama</td>\n",
              "      <td>president</td>\n",
              "      <td>illinois</td>\n",
              "      <td>democrat</td>\n",
              "      <td>70.0</td>\n",
              "      <td>71.0</td>\n",
              "      <td>160.0</td>\n",
              "      <td>163.0</td>\n",
              "      <td>9.0</td>\n",
              "      <td>a debate in oxford  miss</td>\n",
              "      <td>dont let florida go to pot said   25 percent o...</td>\n",
              "      <td>there are so many loopholes     our businesses...</td>\n",
              "    </tr>\n",
              "    <tr>\n",
              "      <th>4</th>\n",
              "      <td>11519</td>\n",
              "      <td>true</td>\n",
              "      <td>dark money spending in the 2016 election cycle...</td>\n",
              "      <td>campaign finance congress elections</td>\n",
              "      <td>tammy-baldwin</td>\n",
              "      <td>u s  representative</td>\n",
              "      <td>wisconsin</td>\n",
              "      <td>democrat</td>\n",
              "      <td>5.0</td>\n",
              "      <td>5.0</td>\n",
              "      <td>7.0</td>\n",
              "      <td>4.0</td>\n",
              "      <td>0.0</td>\n",
              "      <td>a campaign email</td>\n",
              "      <td>scott walker s views on abortion are more rest...</td>\n",
              "      <td>dark money spending in the 2016 election cycle...</td>\n",
              "    </tr>\n",
              "  </tbody>\n",
              "</table>\n",
              "</div>"
            ],
            "text/plain": [
              "      ID  ...                                     Full_Statement\n",
              "0  10194  ...  one hundred times as many people worked their ...\n",
              "1   6513  ...  the obama administration leaked information  d...\n",
              "2  11650  ...  each vegan spares more than 100 animals every ...\n",
              "3    755  ...  there are so many loopholes     our businesses...\n",
              "4  11519  ...  dark money spending in the 2016 election cycle...\n",
              "\n",
              "[5 rows x 16 columns]"
            ]
          },
          "metadata": {
            "tags": []
          },
          "execution_count": 19
        }
      ]
    },
    {
      "cell_type": "code",
      "metadata": {
        "id": "CVGqJqW_zhFU",
        "colab_type": "code",
        "colab": {}
      },
      "source": [
        "# Drop all columns which we have combined earlier\n",
        "\n",
        "#Created new dataset with data_final\n",
        "data_final = data.copy()\n",
        "data_final = data.drop(temp, axis=1)"
      ],
      "execution_count": 0,
      "outputs": []
    },
    {
      "cell_type": "code",
      "metadata": {
        "id": "CgDo8xFyzhFa",
        "colab_type": "code",
        "outputId": "55c9198c-93b2-4e86-d552-e4ebd5cf6fe9",
        "colab": {
          "base_uri": "https://localhost:8080/",
          "height": 195
        }
      },
      "source": [
        "#Checking\n",
        "\n",
        "data_final.head()"
      ],
      "execution_count": 0,
      "outputs": [
        {
          "output_type": "execute_result",
          "data": {
            "text/html": [
              "<div>\n",
              "<style scoped>\n",
              "    .dataframe tbody tr th:only-of-type {\n",
              "        vertical-align: middle;\n",
              "    }\n",
              "\n",
              "    .dataframe tbody tr th {\n",
              "        vertical-align: top;\n",
              "    }\n",
              "\n",
              "    .dataframe thead th {\n",
              "        text-align: right;\n",
              "    }\n",
              "</style>\n",
              "<table border=\"1\" class=\"dataframe\">\n",
              "  <thead>\n",
              "    <tr style=\"text-align: right;\">\n",
              "      <th></th>\n",
              "      <th>ID</th>\n",
              "      <th>Label</th>\n",
              "      <th>BT</th>\n",
              "      <th>F</th>\n",
              "      <th>HT</th>\n",
              "      <th>MT</th>\n",
              "      <th>POF</th>\n",
              "      <th>Full_Statement</th>\n",
              "    </tr>\n",
              "  </thead>\n",
              "  <tbody>\n",
              "    <tr>\n",
              "      <th>0</th>\n",
              "      <td>10194</td>\n",
              "      <td>barely-true</td>\n",
              "      <td>4.0</td>\n",
              "      <td>2.0</td>\n",
              "      <td>12.0</td>\n",
              "      <td>11.0</td>\n",
              "      <td>3.0</td>\n",
              "      <td>one hundred times as many people worked their ...</td>\n",
              "    </tr>\n",
              "    <tr>\n",
              "      <th>1</th>\n",
              "      <td>6513</td>\n",
              "      <td>false</td>\n",
              "      <td>1.0</td>\n",
              "      <td>1.0</td>\n",
              "      <td>1.0</td>\n",
              "      <td>0.0</td>\n",
              "      <td>0.0</td>\n",
              "      <td>the obama administration leaked information  d...</td>\n",
              "    </tr>\n",
              "    <tr>\n",
              "      <th>2</th>\n",
              "      <td>11650</td>\n",
              "      <td>barely-true</td>\n",
              "      <td>1.0</td>\n",
              "      <td>0.0</td>\n",
              "      <td>0.0</td>\n",
              "      <td>0.0</td>\n",
              "      <td>0.0</td>\n",
              "      <td>each vegan spares more than 100 animals every ...</td>\n",
              "    </tr>\n",
              "    <tr>\n",
              "      <th>3</th>\n",
              "      <td>755</td>\n",
              "      <td>half-true</td>\n",
              "      <td>70.0</td>\n",
              "      <td>71.0</td>\n",
              "      <td>160.0</td>\n",
              "      <td>163.0</td>\n",
              "      <td>9.0</td>\n",
              "      <td>there are so many loopholes     our businesses...</td>\n",
              "    </tr>\n",
              "    <tr>\n",
              "      <th>4</th>\n",
              "      <td>11519</td>\n",
              "      <td>true</td>\n",
              "      <td>5.0</td>\n",
              "      <td>5.0</td>\n",
              "      <td>7.0</td>\n",
              "      <td>4.0</td>\n",
              "      <td>0.0</td>\n",
              "      <td>dark money spending in the 2016 election cycle...</td>\n",
              "    </tr>\n",
              "  </tbody>\n",
              "</table>\n",
              "</div>"
            ],
            "text/plain": [
              "      ID        Label  ...  POF                                     Full_Statement\n",
              "0  10194  barely-true  ...  3.0  one hundred times as many people worked their ...\n",
              "1   6513        false  ...  0.0  the obama administration leaked information  d...\n",
              "2  11650  barely-true  ...  0.0  each vegan spares more than 100 animals every ...\n",
              "3    755    half-true  ...  9.0  there are so many loopholes     our businesses...\n",
              "4  11519         true  ...  0.0  dark money spending in the 2016 election cycle...\n",
              "\n",
              "[5 rows x 8 columns]"
            ]
          },
          "metadata": {
            "tags": []
          },
          "execution_count": 21
        }
      ]
    },
    {
      "cell_type": "code",
      "metadata": {
        "id": "cfShmxWi1BVf",
        "colab_type": "code",
        "outputId": "f6046ebf-b386-4cdc-a380-ff7f814695bf",
        "colab": {
          "base_uri": "https://localhost:8080/",
          "height": 195
        }
      },
      "source": [
        "columns = ['ID', 'BT', 'F', 'HT', 'MT', 'POF']\n",
        "data_final.drop(columns, axis=1, inplace=True)\n",
        "\n",
        "data_final.head()"
      ],
      "execution_count": 0,
      "outputs": [
        {
          "output_type": "execute_result",
          "data": {
            "text/html": [
              "<div>\n",
              "<style scoped>\n",
              "    .dataframe tbody tr th:only-of-type {\n",
              "        vertical-align: middle;\n",
              "    }\n",
              "\n",
              "    .dataframe tbody tr th {\n",
              "        vertical-align: top;\n",
              "    }\n",
              "\n",
              "    .dataframe thead th {\n",
              "        text-align: right;\n",
              "    }\n",
              "</style>\n",
              "<table border=\"1\" class=\"dataframe\">\n",
              "  <thead>\n",
              "    <tr style=\"text-align: right;\">\n",
              "      <th></th>\n",
              "      <th>Label</th>\n",
              "      <th>Full_Statement</th>\n",
              "    </tr>\n",
              "  </thead>\n",
              "  <tbody>\n",
              "    <tr>\n",
              "      <th>0</th>\n",
              "      <td>barely-true</td>\n",
              "      <td>one hundred times as many people worked their ...</td>\n",
              "    </tr>\n",
              "    <tr>\n",
              "      <th>1</th>\n",
              "      <td>false</td>\n",
              "      <td>the obama administration leaked information  d...</td>\n",
              "    </tr>\n",
              "    <tr>\n",
              "      <th>2</th>\n",
              "      <td>barely-true</td>\n",
              "      <td>each vegan spares more than 100 animals every ...</td>\n",
              "    </tr>\n",
              "    <tr>\n",
              "      <th>3</th>\n",
              "      <td>half-true</td>\n",
              "      <td>there are so many loopholes     our businesses...</td>\n",
              "    </tr>\n",
              "    <tr>\n",
              "      <th>4</th>\n",
              "      <td>true</td>\n",
              "      <td>dark money spending in the 2016 election cycle...</td>\n",
              "    </tr>\n",
              "  </tbody>\n",
              "</table>\n",
              "</div>"
            ],
            "text/plain": [
              "         Label                                     Full_Statement\n",
              "0  barely-true  one hundred times as many people worked their ...\n",
              "1        false  the obama administration leaked information  d...\n",
              "2  barely-true  each vegan spares more than 100 animals every ...\n",
              "3    half-true  there are so many loopholes     our businesses...\n",
              "4         true  dark money spending in the 2016 election cycle..."
            ]
          },
          "metadata": {
            "tags": []
          },
          "execution_count": 22
        }
      ]
    },
    {
      "cell_type": "code",
      "metadata": {
        "id": "wbYCfvV0zhFk",
        "colab_type": "code",
        "outputId": "279f1b6d-9781-4b4a-e0ef-d63ce39975c8",
        "colab": {
          "base_uri": "https://localhost:8080/",
          "height": 54
        }
      },
      "source": [
        "datalist = data_final[\"Full_Statement\"].tolist()\n",
        "\n",
        "print(datalist[0:4])"
      ],
      "execution_count": 0,
      "outputs": [
        {
          "output_type": "stream",
          "text": [
            "['one hundred times as many people worked their way from poverty into the american middle class during his presidency compared to ronald reagans presidency  economy job accomplishments jobs poverty workers bill-clinton former president arkansas democrat a speech by contrast  under walker  his proposed 2015 17 reduction comes four years after cuts of  250 million to universities in his first budget  2011 13   our rating vos said walkers proposed reduction in university spending is  about the size of the one that happened  under doyle  but democrats didnt treat that cut as so dire  the one cut vos referred to  in 2003 under doyle and legislators  was very similar in size to walkers current proposal  its worth pointing out though that doyle  unlike walker  allowed big tuition hikes to ease the 2003 budget cuts  and that walker has proposed deeper cuts in the uw system than doyle in less time ', 'the obama administration leaked information  deliberately or otherwise  that led to the identification of the pakistani doctor that helped us in achieving our goals and killing bin laden  foreign policy message machine 2012 military terrorism special-operations-opsec-education-fund nan nan none a web video the special operations   opsec education fund said   this administration leaked information  deliberately or otherwise  that led to the identification of the pakistani doctor that helped us in achieving our goals and killing bin laden   the bin laden raid triggered the isi investigation  not anything said by u  s   officials  in fact  the cia had urged the doctor to leave the country and when pakistan provided the name of the doctor  us officials tried to prevent it being published ', 'each vegan spares more than 100 animals every year  agriculture animals food safety health care heather-moore peta writer nan none a providence journal commentary to put matters clearly  you pay into the unemployment compensation through your employer  and that pool of money pays for your state benefits    but not your federal benefits    if you lose your job  or we could turn to the principles of the truth o meter ', 'there are so many loopholes     our businesses pay effectively one of the lowest tax rates in the world  taxes barack-obama president illinois democrat a debate in oxford  miss  dont let florida go to pot said   25 percent of all fatal drug related vehicle accidents in the u  s   involve marijuana   some other research backs up that number  although the studies are limited in scope and descriptiveness  reports usually dont show whether marijuana use was the cause of the accident or how long ago the drug was ingested  and are limited in several other ways  marijuana  for example  can be detected in persons system for weeks after ingestion  the study cited by the group also only measured drivers that died and were tested for drugs  a very specific scope that doesnt tell the whole story  experts warned its not wise to imply causation among marijuana users in fatal crashes  but a 25 percent rate of involvement has been established in some studies ']\n"
          ],
          "name": "stdout"
        }
      ]
    },
    {
      "cell_type": "code",
      "metadata": {
        "id": "ZYOUvXZ_3bjS",
        "colab_type": "code",
        "colab": {}
      },
      "source": [
        "#--NotebookApp.iopub_data_rate_limit=10000000;"
      ],
      "execution_count": 0,
      "outputs": []
    },
    {
      "cell_type": "code",
      "metadata": {
        "id": "ozEultq912Oh",
        "colab_type": "code",
        "colab": {}
      },
      "source": [
        "# Integer encode the data\n",
        "\n",
        "from keras.preprocessing.text import one_hot\n",
        "\n",
        "vocab_size = 30000 # as we have checked earlier with tokens \n",
        "encoded_data = [one_hot(d, vocab_size) for d in datalist]\n",
        "#print(encoded_data)\n",
        "# getting error while trying to print full file but we can check few\n",
        "\n"
      ],
      "execution_count": 0,
      "outputs": []
    },
    {
      "cell_type": "code",
      "metadata": {
        "id": "tsjaRnh04ZhP",
        "colab_type": "code",
        "outputId": "733b3658-5e3b-4841-bf18-7a34961124e5",
        "colab": {
          "base_uri": "https://localhost:8080/",
          "height": 54
        }
      },
      "source": [
        "print(encoded_data[0:4])"
      ],
      "execution_count": 0,
      "outputs": [
        {
          "output_type": "stream",
          "text": [
            "[[15224, 6658, 16450, 6314, 145, 23104, 25204, 12796, 27539, 8094, 25062, 11227, 17323, 6229, 1499, 29729, 20291, 7058, 2482, 18872, 20730, 19557, 12682, 2482, 18771, 5114, 15886, 22846, 25062, 16401, 8254, 20048, 19899, 24601, 9833, 15604, 16068, 3544, 15533, 8097, 8680, 1841, 7058, 21222, 2979, 12560, 2800, 17465, 27845, 26050, 19463, 29495, 1874, 26320, 16715, 20730, 25399, 23559, 7058, 2183, 16142, 17030, 14587, 13430, 23115, 26590, 18210, 13885, 21222, 2800, 23559, 654, 14170, 29564, 11649, 17323, 13477, 1874, 17323, 15224, 8861, 28028, 8680, 21365, 4463, 27876, 12617, 6560, 8861, 13904, 6314, 21236, 14080, 17323, 15224, 13904, 26590, 23784, 20730, 23559, 8168, 8680, 21365, 3498, 8359, 18977, 24443, 15466, 23559, 13477, 20730, 13885, 17638, 9054, 1036, 2572, 8474, 13543, 10201, 8861, 21365, 17661, 1841, 13872, 1729, 20249, 24933, 20730, 7480, 17323, 8168, 16142, 29495, 3498, 8861, 1841, 12002, 21222, 14451, 29495, 23559, 17323, 26530, 15126, 17227, 21365, 23559, 4601, 24614], [17323, 5412, 8521, 24979, 9546, 29253, 18522, 25433, 8861, 14466, 20730, 17323, 1939, 1874, 17323, 9273, 16611, 8861, 2765, 2164, 23559, 3221, 13430, 19761, 3498, 4152, 21061, 4941, 24336, 11928, 23889, 5954, 1352, 5975, 19751, 10312, 17727, 9770, 26728, 4178, 8680, 8680, 13696, 16068, 14760, 867, 17323, 10312, 17727, 9770, 26728, 4178, 18210, 24309, 8521, 24979, 9546, 29253, 18522, 25433, 8861, 14466, 20730, 17323, 1939, 1874, 17323, 9273, 16611, 8861, 2765, 2164, 23559, 3221, 13430, 19761, 3498, 4152, 21061, 4941, 17323, 21061, 4941, 16585, 22007, 17323, 24761, 1701, 3894, 9374, 18210, 15533, 8478, 1442, 26996, 23559, 28770, 17323, 23016, 3566, 14448, 17323, 16611, 20730, 11380, 17323, 19397, 3498, 23776, 22770, 26263, 17323, 17938, 1874, 17323, 16611, 2164, 26996, 13800, 20730, 16912, 14708, 2484, 6367], [13530, 9092, 21430, 9463, 17227, 11268, 7705, 21849, 1814, 10076, 7705, 4794, 26369, 7140, 29910, 19478, 23376, 8784, 8607, 8680, 13696, 16068, 16374, 4887, 11882, 20730, 5624, 26481, 13755, 26122, 26011, 11227, 17323, 23906, 21000, 3487, 3088, 19846, 3498, 8861, 19623, 1874, 16564, 10071, 12520, 3088, 22376, 12113, 4463, 3894, 3088, 8777, 12113, 12810, 26122, 7259, 3088, 5114, 18522, 13766, 24377, 28929, 20730, 17323, 853, 1874, 17323, 5766, 25598, 7625], [11951, 13535, 21236, 145, 24560, 13430, 13815, 26011, 27191, 15224, 1874, 17323, 1347, 529, 26288, 23559, 17323, 18969, 16662, 27909, 5412, 24601, 13454, 15604, 16068, 7216, 23559, 25954, 4698, 4306, 7868, 3592, 28168, 20730, 10652, 18210, 5369, 2551, 1874, 8336, 7449, 11421, 5157, 6710, 25822, 23559, 17323, 8478, 1442, 22901, 26770, 20701, 13863, 3318, 15437, 5698, 8861, 17370, 19215, 17323, 24228, 13535, 22732, 23559, 20567, 3498, 14020, 14644, 8820, 4306, 6051, 25154, 26770, 26797, 18977, 17323, 6030, 1874, 17323, 12140, 18522, 18371, 6447, 18267, 17323, 11421, 18977, 6905, 3498, 13535, 22732, 23559, 618, 13863, 5596, 26770, 12520, 3698, 20406, 16491, 16351, 23559, 20958, 15126, 12520, 8374, 19463, 28912, 17323, 11780, 23760, 15533, 17323, 17789, 26530, 23258, 7166, 16933, 8861, 2792, 3498, 14334, 7380, 12520, 2983, 16068, 24443, 1409, 20567, 8861, 20150, 12168, 17323, 21726, 26870, 17271, 7943, 1036, 3894, 399, 20730, 25653, 29435, 20208, 26770, 19091, 23559, 7449, 2161, 4463, 16068, 5369, 2551, 25372, 1874, 28572, 12002, 7808, 24355, 23559, 20701, 24228]]\n"
          ],
          "name": "stdout"
        }
      ]
    },
    {
      "cell_type": "code",
      "metadata": {
        "id": "31-8om5D499v",
        "colab_type": "code",
        "outputId": "6fc2163b-4d31-4d90-f82f-559d7ccd4da2",
        "colab": {
          "base_uri": "https://localhost:8080/",
          "height": 52
        }
      },
      "source": [
        "# Find min length of list in encoded_data\n",
        "\n",
        "max_length = min(map(len, encoded_data))\n",
        "temp = max(map(len,encoded_data)) # just curious\n",
        "print(max_length)\n",
        "print(temp)"
      ],
      "execution_count": 0,
      "outputs": [
        {
          "output_type": "stream",
          "text": [
            "19\n",
            "1398\n"
          ],
          "name": "stdout"
        }
      ]
    },
    {
      "cell_type": "code",
      "metadata": {
        "id": "S-eNpB_S40T_",
        "colab_type": "code",
        "outputId": "fb3b0867-c5af-418c-e9e7-702b0032c206",
        "colab": {
          "base_uri": "https://localhost:8080/",
          "height": 105
        }
      },
      "source": [
        "#The sequences have different lengths and Keras prefers inputs to be vectorized and all inputs to have the same length. \n",
        "# pad documents to a max length of 19 words\n",
        "\n",
        "padded_data = pad_sequences(encoded_data, maxlen=1398, padding='post')\n",
        "print(padded_data[0:5])"
      ],
      "execution_count": 0,
      "outputs": [
        {
          "output_type": "stream",
          "text": [
            "[[15224  6658 16450 ...     0     0     0]\n",
            " [17323  5412  8521 ...     0     0     0]\n",
            " [13530  9092 21430 ...     0     0     0]\n",
            " [11951 13535 21236 ...     0     0     0]\n",
            " [16638 16564 14170 ...     0     0     0]]\n"
          ],
          "name": "stdout"
        }
      ]
    },
    {
      "cell_type": "code",
      "metadata": {
        "id": "6ur6W-XUzhFw",
        "colab_type": "code",
        "outputId": "481f806f-9d1c-41e2-e004-8836b7c9444d",
        "colab": {
          "base_uri": "https://localhost:8080/",
          "height": 142
        }
      },
      "source": [
        "# convert categorical labels to numerical with one hot encoding\n",
        "\n",
        "data_label = data_final[\"Label\"].tolist()\n",
        "print(data_label)\n",
        "\n",
        "encoder = LabelEncoder()\n",
        "encoder.fit(data_label)\n",
        "encoded_y = encoder.transform(data_label)\n",
        "print(encoded_y)\n",
        "# convert to dummy variables (i.e. one hot encoded)\n",
        "y_labels = np_utils.to_categorical(encoded_y, 6)\n",
        "\n",
        "print(y_labels[0:4])"
      ],
      "execution_count": 0,
      "outputs": [
        {
          "output_type": "stream",
          "text": [
            "['barely-true', 'false', 'barely-true', 'half-true', 'true', 'barely-true', 'half-true', 'barely-true', 'mostly-true', 'half-true', 'barely-true', 'half-true', 'true', 'half-true', 'barely-true', 'false', 'false', 'half-true', 'mostly-true', 'mostly-true', 'pants-fire', 'mostly-true', 'half-true', 'false', 'mostly-true', 'mostly-true', 'true', 'true', 'half-true', 'true', 'pants-fire', 'half-true', 'barely-true', 'true', 'true', 'half-true', 'half-true', 'barely-true', 'pants-fire', 'false', 'mostly-true', 'true', 'true', 'pants-fire', 'half-true', 'barely-true', 'half-true', 'barely-true', 'true', 'mostly-true', 'true', 'barely-true', 'half-true', 'half-true', 'mostly-true', 'mostly-true', 'true', 'pants-fire', 'false', 'half-true', 'pants-fire', 'true', 'barely-true', 'barely-true', 'barely-true', 'mostly-true', 'pants-fire', 'half-true', 'true', 'false', 'half-true', 'half-true', 'pants-fire', 'true', 'true', 'pants-fire', 'half-true', 'half-true', 'half-true', 'barely-true', 'barely-true', 'mostly-true', 'barely-true', 'true', 'half-true', 'false', 'half-true', 'false', 'false', 'false', 'false', 'half-true', 'half-true', 'half-true', 'false', 'mostly-true', 'barely-true', 'barely-true', 'false', 'mostly-true', 'half-true', 'false', 'half-true', 'barely-true', 'barely-true', 'false', 'true', 'true', 'mostly-true', 'barely-true', 'false', 'half-true', 'mostly-true', 'mostly-true', 'pants-fire', 'false', 'mostly-true', 'false', 'barely-true', 'false', 'false', 'true', 'true', 'half-true', 'half-true', 'barely-true', 'pants-fire', 'mostly-true', 'mostly-true', 'mostly-true', 'half-true', 'half-true', 'barely-true', 'false', 'mostly-true', 'half-true', 'half-true', 'true', 'pants-fire', 'false', 'false', 'true', 'barely-true', 'pants-fire', 'mostly-true', 'true', 'pants-fire', 'barely-true', 'mostly-true', 'true', 'true', 'false', 'half-true', 'false', 'true', 'barely-true', 'barely-true', 'false', 'mostly-true', 'pants-fire', 'barely-true', 'barely-true', 'half-true', 'false', 'mostly-true', 'barely-true', 'pants-fire', 'true', 'mostly-true', 'barely-true', 'pants-fire', 'barely-true', 'mostly-true', 'barely-true', 'half-true', 'mostly-true', 'half-true', 'false', 'mostly-true', 'true', 'false', 'mostly-true', 'false', 'false', 'false', 'pants-fire', 'barely-true', 'mostly-true', 'pants-fire', 'mostly-true', 'barely-true', 'mostly-true', 'true', 'half-true', 'true', 'false', 'half-true', 'true', 'half-true', 'false', 'mostly-true', 'pants-fire', 'false', 'false', 'pants-fire', 'true', 'half-true', 'half-true', 'barely-true', 'half-true', 'half-true', 'half-true', 'true', 'false', 'mostly-true', 'false', 'mostly-true', 'barely-true', 'mostly-true', 'true', 'half-true', 'mostly-true', 'half-true', 'mostly-true', 'half-true', 'mostly-true', 'false', 'barely-true', 'false', 'false', 'half-true', 'half-true', 'half-true', 'true', 'false', 'false', 'half-true', 'pants-fire', 'barely-true', 'barely-true', 'half-true', 'half-true', 'half-true', 'true', 'half-true', 'false', 'false', 'half-true', 'barely-true', 'mostly-true', 'half-true', 'barely-true', 'barely-true', 'mostly-true', 'barely-true', 'true', 'pants-fire', 'half-true', 'half-true', 'mostly-true', 'false', 'true', 'half-true', 'pants-fire', 'pants-fire', 'half-true', 'false', 'barely-true', 'half-true', 'half-true', 'mostly-true', 'barely-true', 'half-true', 'false', 'half-true', 'false', 'false', 'false', 'barely-true', 'false', 'barely-true', 'false', 'half-true', 'mostly-true', 'half-true', 'barely-true', 'half-true', 'half-true', 'true', 'pants-fire', 'pants-fire', 'false', 'barely-true', 'false', 'false', 'pants-fire', 'false', 'barely-true', 'half-true', 'mostly-true', 'true', 'mostly-true', 'half-true', 'true', 'pants-fire', 'pants-fire', 'half-true', 'barely-true', 'mostly-true', 'false', 'barely-true', 'mostly-true', 'false', 'half-true', 'false', 'mostly-true', 'false', 'half-true', 'false', 'mostly-true', 'half-true', 'true', 'mostly-true', 'pants-fire', 'mostly-true', 'half-true', 'pants-fire', 'true', 'true', 'true', 'true', 'false', 'false', 'mostly-true', 'barely-true', 'mostly-true', 'barely-true', 'half-true', 'mostly-true', 'half-true', 'false', 'true', 'barely-true', 'barely-true', 'half-true', 'true', 'half-true', 'true', 'true', 'half-true', 'half-true', 'half-true', 'barely-true', 'half-true', 'mostly-true', 'half-true', 'true', 'pants-fire', 'mostly-true', 'pants-fire', 'mostly-true', 'barely-true', 'mostly-true', 'true', 'mostly-true', 'half-true', 'mostly-true', 'false', 'mostly-true', 'pants-fire', 'barely-true', 'pants-fire', 'false', 'half-true', 'half-true', 'barely-true', 'half-true', 'half-true', 'false', 'false', 'barely-true', 'false', 'barely-true', 'half-true', 'pants-fire', 'half-true', 'true', 'true', 'half-true', 'false', 'mostly-true', 'barely-true', 'false', 'half-true', 'false', 'half-true', 'mostly-true', 'false', 'mostly-true', 'half-true', 'barely-true', 'true', 'pants-fire', 'mostly-true', 'mostly-true', 'false', 'mostly-true', 'false', 'half-true', 'pants-fire', 'true', 'mostly-true', 'barely-true', 'pants-fire', 'barely-true', 'half-true', 'half-true', 'mostly-true', 'half-true', 'barely-true', 'false', 'mostly-true', 'half-true', 'barely-true', 'barely-true', 'true', 'mostly-true', 'half-true', 'true', 'mostly-true', 'pants-fire', 'half-true', 'half-true', 'mostly-true', 'false', 'false', 'barely-true', 'barely-true', 'false', 'false', 'false', 'half-true', 'true', 'barely-true', 'half-true', 'false', 'false', 'mostly-true', 'barely-true', 'false', 'false', 'mostly-true', 'true', 'true', 'half-true', 'false', 'false', 'true', 'pants-fire', 'barely-true', 'false', 'false', 'half-true', 'pants-fire', 'mostly-true', 'mostly-true', 'false', 'false', 'true', 'true', 'mostly-true', 'half-true', 'true', 'mostly-true', 'false', 'half-true', 'true', 'mostly-true', 'mostly-true', 'barely-true', 'false', 'mostly-true', 'mostly-true', 'half-true', 'pants-fire', 'barely-true', 'half-true', 'barely-true', 'mostly-true', 'false', 'true', 'false', 'half-true', 'barely-true', 'half-true', 'mostly-true', 'true', 'mostly-true', 'mostly-true', 'false', 'false', 'false', 'barely-true', 'barely-true', 'false', 'half-true', 'half-true', 'false', 'false', 'half-true', 'mostly-true', 'barely-true', 'true', 'half-true', 'barely-true', 'half-true', 'half-true', 'pants-fire', 'barely-true', 'barely-true', 'mostly-true', 'pants-fire', 'mostly-true', 'pants-fire', 'half-true', 'mostly-true', 'barely-true', 'true', 'half-true', 'barely-true', 'barely-true', 'true', 'false', 'pants-fire', 'mostly-true', 'pants-fire', 'barely-true', 'half-true', 'barely-true', 'mostly-true', 'mostly-true', 'true', 'pants-fire', 'false', 'pants-fire', 'false', 'false', 'pants-fire', 'mostly-true', 'barely-true', 'barely-true', 'true', 'true', 'half-true', 'true', 'pants-fire', 'false', 'mostly-true', 'false', 'true', 'mostly-true', 'true', 'half-true', 'mostly-true', 'mostly-true', 'false', 'mostly-true', 'true', 'half-true', 'half-true', 'half-true', 'true', 'true', 'true', 'mostly-true', 'mostly-true', 'false', 'true', 'barely-true', 'true', 'true', 'mostly-true', 'true', 'mostly-true', 'false', 'half-true', 'pants-fire', 'false', 'barely-true', 'mostly-true', 'barely-true', 'false', 'barely-true', 'barely-true', 'half-true', 'true', 'half-true', 'barely-true', 'mostly-true', 'true', 'barely-true', 'true', 'barely-true', 'mostly-true', 'half-true', 'half-true', 'half-true', 'mostly-true', 'true', 'mostly-true', 'pants-fire', 'false', 'true', 'mostly-true', 'false', 'mostly-true', 'false', 'half-true', 'false', 'mostly-true', 'true', 'false', 'false', 'pants-fire', 'half-true', 'pants-fire', 'false', 'mostly-true', 'false', 'half-true', 'mostly-true', 'false', 'barely-true', 'false', 'mostly-true', 'true', 'false', 'mostly-true', 'barely-true', 'false', 'half-true', 'false', 'barely-true', 'pants-fire', 'half-true', 'false', 'pants-fire', 'false', 'pants-fire', 'half-true', 'mostly-true', 'barely-true', 'mostly-true', 'false', 'barely-true', 'half-true', 'mostly-true', 'true', 'pants-fire', 'false', 'true', 'mostly-true', 'half-true', 'false', 'false', 'true', 'barely-true', 'half-true', 'false', 'pants-fire', 'false', 'half-true', 'mostly-true', 'barely-true', 'half-true', 'pants-fire', 'barely-true', 'half-true', 'half-true', 'false', 'false', 'true', 'barely-true', 'true', 'true', 'half-true', 'true', 'barely-true', 'barely-true', 'mostly-true', 'half-true', 'mostly-true', 'mostly-true', 'false', 'true', 'false', 'half-true', 'true', 'half-true', 'barely-true', 'true', 'half-true', 'mostly-true', 'barely-true', 'pants-fire', 'mostly-true', 'mostly-true', 'pants-fire', 'true', 'false', 'mostly-true', 'half-true', 'mostly-true', 'false', 'barely-true', 'pants-fire', 'pants-fire', 'half-true', 'half-true', 'barely-true', 'mostly-true', 'true', 'true', 'false', 'true', 'pants-fire', 'mostly-true', 'barely-true', 'barely-true', 'mostly-true', 'true', 'half-true', 'false', 'false', 'half-true', 'barely-true', 'false', 'half-true', 'mostly-true', 'mostly-true', 'half-true', 'half-true', 'false', 'true', 'true', 'mostly-true', 'false', 'mostly-true', 'false', 'barely-true', 'true', 'barely-true', 'mostly-true', 'true', 'false', 'mostly-true', 'pants-fire', 'barely-true', 'barely-true', 'true', 'true', 'mostly-true', 'true', 'true', 'pants-fire', 'false', 'mostly-true', 'half-true', 'half-true', 'half-true', 'false', 'false', 'mostly-true', 'half-true', 'mostly-true', 'barely-true', 'half-true', 'false', 'true', 'barely-true', 'barely-true', 'half-true', 'mostly-true', 'true', 'half-true', 'mostly-true', 'true', 'half-true', 'mostly-true', 'half-true', 'barely-true', 'false', 'false', 'mostly-true', 'half-true', 'mostly-true', 'barely-true', 'false', 'false', 'false', 'half-true', 'half-true', 'pants-fire', 'mostly-true', 'mostly-true', 'barely-true', 'barely-true', 'false', 'half-true', 'mostly-true', 'barely-true', 'false', 'false', 'half-true', 'mostly-true', 'false', 'false', 'true', 'mostly-true', 'mostly-true', 'true', 'pants-fire', 'false', 'false', 'false', 'half-true', 'half-true', 'half-true', 'half-true', 'half-true', 'true', 'true', 'true', 'mostly-true', 'mostly-true', 'barely-true', 'false', 'half-true', 'false', 'mostly-true', 'true', 'half-true', 'false', 'false', 'true', 'mostly-true', 'true', 'true', 'half-true', 'true', 'false', 'pants-fire', 'mostly-true', 'false', 'false', 'barely-true', 'true', 'false', 'mostly-true', 'half-true', 'half-true', 'pants-fire', 'pants-fire', 'mostly-true', 'barely-true', 'barely-true', 'false', 'true', 'true', 'half-true', 'pants-fire', 'barely-true', 'barely-true', 'false', 'half-true', 'pants-fire', 'true', 'true', 'true', 'false', 'half-true', 'half-true', 'pants-fire', 'true', 'half-true', 'false', 'barely-true', 'barely-true', 'half-true', 'barely-true', 'half-true', 'false', 'barely-true', 'half-true', 'false', 'true', 'true', 'pants-fire', 'mostly-true', 'barely-true', 'barely-true', 'barely-true', 'false', 'pants-fire', 'barely-true', 'false', 'half-true', 'true', 'half-true', 'half-true', 'mostly-true', 'barely-true', 'half-true', 'barely-true', 'mostly-true', 'barely-true', 'mostly-true', 'false', 'mostly-true', 'true', 'half-true', 'false', 'half-true', 'pants-fire', 'barely-true', 'mostly-true', 'true', 'false', 'half-true', 'mostly-true', 'false', 'false', 'barely-true', 'half-true', 'barely-true', 'pants-fire', 'half-true', 'half-true', 'barely-true', 'half-true', 'half-true', 'mostly-true', 'half-true', 'mostly-true', 'false', 'mostly-true', 'pants-fire', 'mostly-true', 'mostly-true', 'barely-true', 'pants-fire', 'true', 'barely-true', 'true', 'true', 'true', 'barely-true', 'false', 'true', 'mostly-true', 'mostly-true', 'mostly-true', 'mostly-true', 'half-true', 'barely-true', 'pants-fire', 'pants-fire', 'mostly-true', 'half-true', 'true', 'false', 'half-true', 'barely-true', 'mostly-true', 'barely-true', 'mostly-true', 'mostly-true', 'pants-fire', 'mostly-true', 'false', 'half-true', 'barely-true', 'half-true', 'barely-true', 'mostly-true', 'half-true', 'barely-true', 'barely-true', 'mostly-true', 'barely-true', 'mostly-true', 'mostly-true', 'pants-fire', 'half-true', 'barely-true', 'half-true', 'barely-true', 'true', 'mostly-true', 'true', 'half-true', 'mostly-true', 'pants-fire', 'pants-fire', 'half-true', 'mostly-true', 'true', 'false', 'true', 'mostly-true', 'pants-fire', 'half-true', 'half-true', 'mostly-true', 'half-true', 'false', 'barely-true', 'barely-true', 'mostly-true', 'barely-true', 'barely-true', 'pants-fire', 'barely-true', 'half-true', 'mostly-true', 'half-true', 'false', 'half-true', 'half-true', 'barely-true', 'barely-true', 'mostly-true', 'false', 'barely-true', 'false', 'false', 'half-true', 'half-true', 'mostly-true', 'true', 'barely-true', 'mostly-true', 'half-true', 'true', 'mostly-true', 'false', 'pants-fire', 'barely-true', 'half-true', 'barely-true', 'true', 'barely-true', 'pants-fire', 'barely-true', 'true', 'barely-true', 'false', 'false', 'false', 'pants-fire', 'barely-true', 'half-true', 'barely-true', 'mostly-true', 'true', 'mostly-true', 'half-true', 'barely-true', 'false', 'barely-true', 'false', 'barely-true', 'mostly-true', 'barely-true', 'barely-true', 'pants-fire', 'true', 'half-true', 'false', 'mostly-true', 'false', 'half-true', 'half-true', 'true', 'half-true', 'mostly-true', 'barely-true', 'pants-fire', 'true', 'pants-fire', 'true', 'false', 'pants-fire', 'barely-true', 'mostly-true', 'pants-fire', 'mostly-true', 'pants-fire', 'barely-true', 'pants-fire', 'true', 'barely-true', 'pants-fire', 'half-true', 'mostly-true', 'mostly-true', 'barely-true', 'true', 'mostly-true', 'true', 'true', 'true', 'half-true', 'true', 'false', 'false', 'true', 'false', 'barely-true', 'half-true', 'half-true', 'barely-true', 'barely-true', 'true', 'barely-true', 'barely-true', 'half-true', 'half-true', 'half-true', 'true', 'half-true', 'half-true', 'half-true', 'true', 'true', 'pants-fire', 'true', 'mostly-true', 'barely-true', 'false', 'half-true', 'barely-true', 'half-true', 'mostly-true', 'pants-fire', 'half-true', 'false', 'true', 'barely-true', 'false', 'mostly-true', 'barely-true', 'false', 'barely-true', 'barely-true', 'half-true', 'false', 'half-true', 'pants-fire', 'pants-fire', 'mostly-true', 'true', 'half-true', 'pants-fire', 'true', 'false', 'false', 'false', 'false', 'barely-true', 'mostly-true', 'half-true', 'false', 'barely-true', 'false', 'true', 'false', 'false', 'mostly-true', 'false', 'false', 'barely-true', 'true', 'half-true', 'pants-fire', 'barely-true', 'false', 'true', 'half-true', 'half-true', 'mostly-true', 'false', 'barely-true', 'barely-true', 'half-true', 'mostly-true', 'true', 'false', 'false', 'half-true', 'barely-true', 'barely-true', 'false', 'mostly-true', 'mostly-true', 'half-true', 'mostly-true', 'true', 'half-true', 'mostly-true', 'false', 'half-true', 'pants-fire', 'barely-true', 'true', 'mostly-true', 'mostly-true', 'barely-true', 'barely-true', 'false', 'half-true', 'true', 'barely-true', 'mostly-true', 'false', 'false', 'pants-fire', 'half-true', 'mostly-true', 'pants-fire', 'true', 'barely-true', 'pants-fire', 'pants-fire', 'barely-true', 'true', 'false', 'barely-true', 'false', 'pants-fire', 'mostly-true', 'half-true', 'mostly-true', 'false', 'true', 'pants-fire', 'barely-true', 'true', 'barely-true', 'half-true', 'false', 'true', 'false', 'barely-true', 'barely-true', 'false', 'true', 'barely-true', 'half-true', 'pants-fire', 'false', 'barely-true', 'barely-true', 'barely-true', 'false', 'barely-true', 'false', 'barely-true', 'barely-true', 'barely-true', 'half-true', 'true', 'false', 'barely-true', 'false', 'mostly-true', 'mostly-true', 'half-true', 'half-true', 'pants-fire', 'pants-fire', 'half-true', 'false', 'false', 'false', 'mostly-true', 'mostly-true', 'false', 'true', 'true', 'mostly-true', 'true', 'false', 'false', 'half-true', 'barely-true', 'half-true', 'true', 'true', 'false', 'true', 'mostly-true', 'half-true', 'mostly-true', 'true', 'barely-true', 'half-true', 'true', 'half-true', 'false', 'true', 'barely-true', 'pants-fire', 'false', 'mostly-true', 'barely-true', 'mostly-true', 'mostly-true', 'barely-true', 'true', 'false', 'barely-true', 'mostly-true', 'mostly-true', 'mostly-true', 'false', 'mostly-true', 'true', 'half-true', 'barely-true', 'barely-true', 'false', 'true', 'mostly-true', 'barely-true', 'mostly-true', 'true', 'false', 'pants-fire', 'half-true', 'mostly-true', 'mostly-true', 'barely-true', 'false', 'mostly-true', 'half-true', 'pants-fire', 'pants-fire', 'barely-true', 'mostly-true', 'pants-fire', 'false', 'half-true', 'mostly-true', 'half-true', 'true', 'half-true', 'false', 'barely-true', 'half-true', 'false', 'mostly-true', 'mostly-true', 'barely-true', 'mostly-true', 'half-true', 'mostly-true', 'barely-true', 'mostly-true', 'half-true', 'false', 'half-true', 'mostly-true', 'mostly-true', 'barely-true', 'pants-fire', 'barely-true', 'false', 'mostly-true', 'true', 'pants-fire', 'mostly-true', 'mostly-true', 'half-true', 'mostly-true', 'mostly-true', 'half-true', 'mostly-true', 'false', 'barely-true', 'barely-true', 'false', 'barely-true', 'false', 'barely-true', 'half-true', 'half-true', 'half-true', 'barely-true', 'mostly-true', 'half-true', 'mostly-true', 'false', 'barely-true', 'barely-true', 'false', 'false', 'half-true', 'half-true', 'true', 'pants-fire', 'false', 'false', 'barely-true', 'true', 'true', 'false', 'false', 'barely-true', 'false', 'mostly-true', 'half-true', 'half-true', 'true', 'barely-true', 'barely-true', 'false', 'barely-true', 'false', 'half-true', 'false', 'mostly-true', 'barely-true', 'barely-true', 'half-true', 'half-true', 'false', 'false', 'half-true', 'true', 'true', 'half-true', 'half-true', 'barely-true', 'half-true', 'half-true', 'mostly-true', 'half-true', 'barely-true', 'barely-true', 'true', 'false', 'barely-true', 'true', 'barely-true', 'true', 'mostly-true', 'mostly-true', 'mostly-true', 'false', 'true', 'half-true', 'half-true', 'true', 'half-true', 'true', 'half-true', 'barely-true', 'mostly-true', 'barely-true', 'pants-fire', 'barely-true', 'false', 'mostly-true', 'barely-true', 'mostly-true', 'half-true', 'true', 'true', 'half-true', 'barely-true', 'barely-true', 'false', 'half-true', 'pants-fire', 'true', 'half-true', 'half-true', 'barely-true', 'barely-true', 'false', 'half-true', 'mostly-true', 'pants-fire', 'barely-true', 'false', 'mostly-true', 'barely-true', 'half-true', 'barely-true', 'mostly-true', 'pants-fire', 'mostly-true', 'barely-true', 'false', 'half-true', 'half-true', 'false', 'true', 'barely-true', 'half-true', 'half-true', 'half-true', 'half-true', 'barely-true', 'false', 'half-true', 'mostly-true', 'true', 'half-true', 'true', 'true', 'pants-fire', 'mostly-true', 'barely-true', 'barely-true', 'true', 'false', 'barely-true', 'pants-fire', 'false', 'false', 'mostly-true', 'pants-fire', 'barely-true', 'half-true', 'true', 'barely-true', 'false', 'pants-fire', 'pants-fire', 'true', 'true', 'half-true', 'true', 'barely-true', 'barely-true', 'false', 'true', 'mostly-true', 'barely-true', 'barely-true', 'half-true', 'mostly-true', 'barely-true', 'false', 'false', 'half-true', 'true', 'true', 'barely-true', 'barely-true', 'mostly-true', 'barely-true', 'true', 'true', 'false', 'true', 'half-true', 'mostly-true', 'barely-true', 'false', 'barely-true', 'false', 'half-true', 'false', 'half-true', 'barely-true', 'mostly-true', 'half-true', 'true', 'barely-true', 'false', 'half-true', 'false', 'false', 'barely-true', 'true', 'barely-true', 'false', 'half-true', 'half-true', 'barely-true', 'true', 'half-true', 'barely-true', 'barely-true', 'pants-fire', 'barely-true', 'false', 'mostly-true', 'true', 'false', 'true', 'half-true', 'false', 'half-true', 'false', 'mostly-true', 'mostly-true', 'mostly-true', 'half-true', 'pants-fire', 'mostly-true', 'mostly-true', 'false', 'true', 'half-true', 'true', 'mostly-true', 'true', 'mostly-true', 'false', 'mostly-true', 'false', 'pants-fire', 'half-true', 'barely-true', 'true', 'half-true', 'half-true', 'half-true', 'barely-true', 'half-true', 'barely-true', 'false', 'true', 'true', 'false', 'half-true', 'false', 'false', 'half-true', 'true', 'half-true', 'barely-true', 'pants-fire', 'mostly-true', 'false', 'half-true', 'true', 'half-true', 'true', 'false', 'false', 'mostly-true', 'half-true', 'false', 'pants-fire', 'barely-true', 'mostly-true', 'false', 'half-true', 'true', 'false', 'barely-true', 'false', 'pants-fire', 'pants-fire', 'mostly-true', 'false', 'half-true', 'false', 'true', 'false', 'barely-true', 'false', 'mostly-true', 'half-true', 'true', 'mostly-true', 'barely-true', 'half-true', 'true', 'half-true', 'false', 'pants-fire', 'half-true', 'half-true', 'half-true', 'true', 'half-true', 'half-true', 'barely-true', 'barely-true', 'false', 'false', 'false', 'false', 'false', 'half-true', 'mostly-true', 'pants-fire', 'false', 'half-true', 'barely-true', 'false', 'barely-true', 'half-true', 'mostly-true', 'true', 'mostly-true', 'true', 'half-true', 'mostly-true', 'barely-true', 'mostly-true', 'half-true', 'true', 'mostly-true', 'pants-fire', 'mostly-true', 'mostly-true', 'half-true', 'mostly-true', 'false', 'true', 'half-true', 'true', 'barely-true', 'half-true', 'true', 'false', 'mostly-true', 'false', 'false', 'true', 'false', 'mostly-true', 'mostly-true', 'half-true', 'mostly-true', 'half-true', 'true', 'pants-fire', 'half-true', 'mostly-true', 'mostly-true', 'true', 'pants-fire', 'half-true', 'true', 'barely-true', 'true', 'half-true', 'half-true', 'false', 'mostly-true', 'true', 'mostly-true', 'half-true', 'true', 'half-true', 'half-true', 'true', 'mostly-true', 'pants-fire', 'mostly-true', 'half-true', 'mostly-true', 'true', 'mostly-true', 'false', 'false', 'mostly-true', 'half-true', 'true', 'half-true', 'mostly-true', 'true', 'true', 'half-true', 'barely-true', 'false', 'false', 'true', 'barely-true', 'true', 'false', 'false', 'mostly-true', 'barely-true', 'true', 'half-true', 'false', 'mostly-true', 'mostly-true', 'barely-true', 'false', 'false', 'half-true', 'barely-true', 'half-true', 'true', 'mostly-true', 'false', 'barely-true', 'half-true', 'half-true', 'true', 'true', 'half-true', 'mostly-true', 'barely-true', 'false', 'true', 'mostly-true', 'false', 'half-true', 'barely-true', 'barely-true', 'mostly-true', 'barely-true', 'pants-fire', 'half-true', 'pants-fire', 'true', 'mostly-true', 'pants-fire', 'true', 'barely-true', 'false', 'pants-fire', 'mostly-true', 'false', 'barely-true', 'true', 'true', 'false', 'false', 'true', 'mostly-true', 'mostly-true', 'pants-fire', 'true', 'barely-true', 'true', 'mostly-true', 'barely-true', 'mostly-true', 'mostly-true', 'barely-true', 'barely-true', 'true', 'half-true', 'half-true', 'false', 'mostly-true', 'mostly-true', 'half-true', 'pants-fire', 'false', 'half-true', 'false', 'false', 'half-true', 'half-true', 'barely-true', 'false', 'half-true', 'barely-true', 'half-true', 'barely-true', 'mostly-true', 'mostly-true', 'true', 'mostly-true', 'half-true', 'mostly-true', 'true', 'barely-true', 'true', 'true', 'false', 'false', 'mostly-true', 'half-true', 'true', 'mostly-true', 'mostly-true', 'pants-fire', 'barely-true', 'barely-true', 'half-true', 'half-true', 'mostly-true', 'half-true', 'barely-true', 'half-true', 'pants-fire', 'half-true', 'half-true', 'false', 'mostly-true', 'barely-true', 'pants-fire', 'false', 'true', 'half-true', 'mostly-true', 'mostly-true', 'false', 'mostly-true', 'half-true', 'true', 'false', 'half-true', 'true', 'half-true', 'mostly-true', 'barely-true', 'mostly-true', 'true', 'false', 'barely-true', 'true', 'barely-true', 'pants-fire', 'false', 'barely-true', 'true', 'true', 'false', 'barely-true', 'barely-true', 'barely-true', 'mostly-true', 'false', 'half-true', 'true', 'false', 'true', 'barely-true', 'false', 'half-true', 'barely-true', 'barely-true', 'false', 'half-true', 'mostly-true', 'half-true', 'false', 'mostly-true', 'true', 'true', 'true', 'mostly-true', 'half-true', 'mostly-true', 'mostly-true', 'barely-true', 'false', 'pants-fire', 'mostly-true', 'half-true', 'barely-true', 'true', 'true', 'half-true', 'half-true', 'barely-true', 'false', 'false', 'barely-true', 'half-true', 'half-true', 'half-true', 'half-true', 'half-true', 'true', 'half-true', 'mostly-true', 'false', 'mostly-true', 'half-true', 'false', 'false', 'barely-true', 'false', 'true', 'barely-true', 'true', 'mostly-true', 'barely-true', 'barely-true', 'true', 'false', 'false', 'half-true', 'barely-true', 'mostly-true', 'true', 'mostly-true', 'true', 'true', 'pants-fire', 'false', 'barely-true', 'false', 'half-true', 'pants-fire', 'true', 'mostly-true', 'true', 'barely-true', 'barely-true', 'barely-true', 'false', 'half-true', 'pants-fire', 'mostly-true', 'barely-true', 'mostly-true', 'pants-fire', 'pants-fire', 'true', 'mostly-true', 'mostly-true', 'pants-fire', 'true', 'half-true', 'false', 'mostly-true', 'false', 'mostly-true', 'half-true', 'false', 'false', 'true', 'barely-true', 'pants-fire', 'mostly-true', 'mostly-true', 'mostly-true', 'half-true', 'half-true', 'pants-fire', 'true', 'half-true', 'mostly-true', 'mostly-true', 'barely-true', 'true', 'barely-true', 'mostly-true', 'mostly-true', 'true', 'true', 'pants-fire', 'true', 'false', 'half-true', 'false', 'false', 'half-true', 'mostly-true', 'false', 'false', 'true', 'mostly-true', 'half-true', 'false', 'pants-fire', 'mostly-true', 'true', 'true', 'false', 'true', 'half-true', 'mostly-true', 'pants-fire', 'mostly-true', 'true', 'half-true', 'half-true', 'mostly-true', 'barely-true', 'mostly-true', 'half-true', 'half-true', 'false', 'true', 'pants-fire', 'half-true', 'false', 'mostly-true', 'barely-true', 'barely-true', 'mostly-true', 'half-true', 'true', 'half-true', 'half-true', 'pants-fire', 'false', 'barely-true', 'barely-true', 'barely-true', 'true', 'false', 'mostly-true', 'mostly-true', 'pants-fire', 'false', 'true', 'mostly-true', 'barely-true', 'half-true', 'pants-fire', 'mostly-true', 'true', 'false', 'half-true', 'true', 'half-true', 'pants-fire', 'half-true', 'half-true', 'mostly-true', 'half-true', 'barely-true', 'pants-fire', 'false', 'true', 'false', 'false', 'false', 'mostly-true', 'barely-true', 'true', 'half-true', 'half-true', 'true', 'true', 'mostly-true', 'half-true', 'barely-true', 'pants-fire', 'false', 'false', 'false', 'pants-fire', 'pants-fire', 'barely-true', 'mostly-true', 'barely-true', 'false', 'false', 'barely-true', 'barely-true', 'pants-fire', 'half-true', 'pants-fire', 'true', 'false', 'mostly-true', 'half-true', 'pants-fire', 'half-true', 'pants-fire', 'half-true', 'barely-true', 'false', 'pants-fire', 'half-true', 'true', 'pants-fire', 'mostly-true', 'mostly-true', 'half-true', 'half-true', 'false', 'half-true', 'false', 'mostly-true', 'pants-fire', 'false', 'true', 'mostly-true', 'false', 'half-true', 'barely-true', 'pants-fire', 'false', 'false', 'barely-true', 'true', 'barely-true', 'half-true', 'false', 'barely-true', 'barely-true', 'true', 'mostly-true', 'barely-true', 'false', 'false', 'false', 'true', 'half-true', 'false', 'pants-fire', 'half-true', 'true', 'false', 'mostly-true', 'barely-true', 'barely-true', 'mostly-true', 'half-true', 'true', 'true', 'true', 'true', 'half-true', 'half-true', 'false', 'barely-true', 'true', 'pants-fire', 'pants-fire', 'true', 'half-true', 'mostly-true', 'half-true', 'half-true', 'barely-true', 'barely-true', 'false', 'barely-true', 'half-true', 'half-true', 'true', 'barely-true', 'barely-true', 'true', 'mostly-true', 'false', 'false', 'mostly-true', 'barely-true', 'false', 'barely-true', 'half-true', 'true', 'half-true', 'mostly-true', 'half-true', 'mostly-true', 'half-true', 'false', 'mostly-true', 'mostly-true', 'half-true', 'false', 'half-true', 'barely-true', 'half-true', 'mostly-true', 'true', 'true', 'true', 'false', 'half-true', 'true', 'false', 'false', 'mostly-true', 'barely-true', 'half-true', 'mostly-true', 'pants-fire', 'barely-true', 'false', 'mostly-true', 'barely-true', 'false', 'true', 'half-true', 'barely-true', 'mostly-true', 'true', 'true', 'false', 'false', 'false', 'pants-fire', 'half-true', 'false', 'false', 'mostly-true', 'true', 'false', 'false', 'pants-fire', 'false', 'half-true', 'half-true', 'half-true', 'mostly-true', 'half-true', 'barely-true', 'true', 'half-true', 'mostly-true', 'mostly-true', 'false', 'half-true', 'true', 'mostly-true', 'mostly-true', 'half-true', 'half-true', 'barely-true', 'mostly-true', 'mostly-true', 'false', 'false', 'half-true', 'mostly-true', 'pants-fire', 'true', 'pants-fire', 'half-true', 'false', 'half-true', 'pants-fire', 'true', 'mostly-true', 'half-true', 'mostly-true', 'false', 'mostly-true', 'true', 'true', 'half-true', 'barely-true', 'false', 'barely-true', 'barely-true', 'half-true', 'mostly-true', 'barely-true', 'half-true', 'false', 'true', 'mostly-true', 'false', 'half-true', 'mostly-true', 'false', 'mostly-true', 'false', 'false', 'half-true', 'pants-fire', 'true', 'pants-fire', 'half-true', 'false', 'false', 'true', 'true', 'pants-fire', 'false', 'mostly-true', 'half-true', 'pants-fire', 'false', 'mostly-true', 'false', 'true', 'half-true', 'mostly-true', 'mostly-true', 'half-true', 'barely-true', 'half-true', 'true', 'false', 'barely-true', 'mostly-true', 'false', 'barely-true', 'false', 'half-true', 'barely-true', 'barely-true', 'mostly-true', 'half-true', 'half-true', 'mostly-true', 'half-true', 'mostly-true', 'mostly-true', 'mostly-true', 'false', 'mostly-true', 'false', 'mostly-true', 'false', 'false', 'false', 'mostly-true', 'false', 'false', 'mostly-true', 'barely-true', 'true', 'pants-fire', 'false', 'pants-fire', 'false', 'mostly-true', 'mostly-true', 'barely-true', 'mostly-true', 'false', 'false', 'mostly-true', 'true', 'pants-fire', 'true', 'barely-true', 'half-true', 'true', 'true', 'false', 'barely-true', 'half-true', 'false', 'false', 'half-true', 'false', 'barely-true', 'false', 'half-true', 'half-true', 'barely-true', 'mostly-true', 'true', 'half-true', 'false', 'mostly-true', 'false', 'true', 'true', 'barely-true', 'half-true', 'mostly-true', 'barely-true', 'false', 'barely-true', 'false', 'mostly-true', 'barely-true', 'half-true', 'mostly-true', 'true', 'mostly-true', 'half-true', 'mostly-true', 'false', 'barely-true', 'false', 'barely-true', 'true', 'mostly-true', 'false', 'false', 'barely-true', 'barely-true', 'barely-true', 'half-true', 'false', 'true', 'barely-true', 'mostly-true', 'mostly-true', 'mostly-true', 'half-true', 'pants-fire', 'false', 'true', 'false', 'barely-true', 'true', 'false', 'false', 'true', 'mostly-true', 'false', 'true', 'true', 'mostly-true', 'half-true', 'false', 'barely-true', 'mostly-true', 'mostly-true', 'pants-fire', 'half-true', 'half-true', 'false', 'true', 'true', 'false', 'half-true', 'half-true', 'mostly-true', 'mostly-true', 'half-true', 'half-true', 'pants-fire', 'barely-true', 'pants-fire', 'false', 'barely-true', 'true', 'pants-fire', 'true', 'pants-fire', 'barely-true', 'barely-true', 'barely-true', 'true', 'pants-fire', 'mostly-true', 'false', 'mostly-true', 'true', 'half-true', 'true', 'half-true', 'barely-true', 'true', 'false', 'half-true', 'mostly-true', 'false', 'true', 'barely-true', 'false', 'mostly-true', 'half-true', 'half-true', 'true', 'pants-fire', 'barely-true', 'false', 'pants-fire', 'half-true', 'true', 'barely-true', 'barely-true', 'barely-true', 'pants-fire', 'false', 'true', 'mostly-true', 'barely-true', 'barely-true', 'true', 'barely-true', 'true', 'false', 'false', 'true', 'mostly-true', 'half-true', 'half-true', 'half-true', 'true', 'mostly-true', 'half-true', 'true', 'true', 'mostly-true', 'false', 'half-true', 'pants-fire', 'mostly-true', 'half-true', 'true', 'half-true', 'false', 'true', 'false', 'true', 'true', 'true', 'true', 'false', 'half-true', 'mostly-true', 'barely-true', 'false', 'mostly-true', 'half-true', 'pants-fire', 'false', 'mostly-true', 'false', 'half-true', 'false', 'false', 'half-true', 'true', 'half-true', 'false', 'true', 'mostly-true', 'half-true', 'false', 'mostly-true', 'pants-fire', 'pants-fire', 'half-true', 'mostly-true', 'half-true', 'pants-fire', 'true', 'mostly-true', 'false', 'barely-true', 'true', 'mostly-true', 'half-true', 'mostly-true', 'barely-true', 'mostly-true', 'false', 'true', 'half-true', 'true', 'barely-true', 'half-true', 'mostly-true', 'barely-true', 'mostly-true', 'half-true', 'half-true', 'barely-true', 'false', 'false', 'barely-true', 'mostly-true', 'false', 'true', 'true', 'pants-fire', 'pants-fire', 'barely-true', 'mostly-true', 'half-true', 'true', 'false', 'mostly-true', 'true', 'half-true', 'true', 'true', 'barely-true', 'pants-fire', 'barely-true', 'half-true', 'mostly-true', 'barely-true', 'false', 'mostly-true', 'false', 'false', 'true', 'half-true', 'mostly-true', 'false', 'mostly-true', 'half-true', 'false', 'mostly-true', 'mostly-true', 'true', 'barely-true', 'barely-true', 'false', 'barely-true', 'half-true', 'false', 'mostly-true', 'true', 'pants-fire', 'true', 'true', 'false', 'pants-fire', 'barely-true', 'mostly-true', 'true', 'half-true', 'barely-true', 'barely-true', 'half-true', 'half-true', 'half-true', 'half-true', 'mostly-true', 'barely-true', 'barely-true', 'barely-true', 'false', 'barely-true', 'true', 'half-true', 'mostly-true', 'barely-true', 'pants-fire', 'true', 'mostly-true', 'mostly-true', 'barely-true', 'half-true', 'false', 'false', 'half-true', 'false', 'half-true', 'mostly-true', 'mostly-true', 'half-true', 'half-true', 'pants-fire', 'false', 'pants-fire', 'mostly-true', 'false', 'barely-true', 'half-true', 'false', 'half-true', 'barely-true', 'mostly-true', 'false', 'mostly-true', 'half-true', 'half-true', 'false', 'mostly-true', 'half-true', 'half-true', 'false', 'half-true', 'barely-true', 'true', 'false', 'false', 'mostly-true', 'mostly-true', 'half-true', 'barely-true', 'half-true', 'half-true', 'half-true', 'half-true', 'barely-true', 'true', 'barely-true', 'barely-true', 'half-true', 'true', 'barely-true', 'half-true', 'barely-true', 'mostly-true', 'mostly-true', 'barely-true', 'barely-true', 'mostly-true', 'false', 'barely-true', 'true', 'false', 'half-true', 'half-true', 'pants-fire', 'false', 'half-true', 'true', 'half-true', 'mostly-true', 'false', 'false', 'barely-true', 'true', 'half-true', 'true', 'barely-true', 'true', 'pants-fire', 'false', 'false', 'pants-fire', 'false', 'true', 'pants-fire', 'barely-true', 'false', 'half-true', 'false', 'false', 'half-true', 'false', 'true', 'true', 'barely-true', 'mostly-true', 'half-true', 'true', 'half-true', 'half-true', 'mostly-true', 'false', 'mostly-true', 'mostly-true', 'mostly-true', 'half-true', 'true', 'false', 'mostly-true', 'pants-fire', 'half-true', 'mostly-true', 'mostly-true', 'false', 'half-true', 'pants-fire', 'true', 'mostly-true', 'half-true', 'barely-true', 'barely-true', 'mostly-true', 'mostly-true', 'pants-fire', 'barely-true', 'false', 'false', 'half-true', 'pants-fire', 'half-true', 'false', 'false', 'true', 'false', 'false', 'pants-fire', 'mostly-true', 'barely-true', 'half-true', 'barely-true', 'false', 'half-true', 'false', 'mostly-true', 'barely-true', 'true', 'mostly-true', 'true', 'half-true', 'true', 'false', 'barely-true', 'true', 'mostly-true', 'mostly-true', 'mostly-true', 'half-true', 'false', 'false', 'barely-true', 'barely-true', 'half-true', 'false', 'half-true', 'true', 'half-true', 'barely-true', 'mostly-true', 'barely-true', 'half-true', 'barely-true', 'false', 'half-true', 'mostly-true', 'barely-true', 'mostly-true', 'mostly-true', 'false', 'mostly-true', 'half-true', 'mostly-true', 'false', 'false', 'half-true', 'false', 'half-true', 'true', 'half-true', 'half-true', 'half-true', 'true', 'true', 'pants-fire', 'false', 'half-true', 'false', 'true', 'barely-true', 'mostly-true', 'false', 'barely-true', 'mostly-true', 'false', 'mostly-true', 'barely-true', 'false', 'mostly-true', 'mostly-true', 'false', 'half-true', 'false', 'half-true', 'half-true', 'false', 'false', 'barely-true', 'false', 'barely-true', 'pants-fire', 'true', 'barely-true', 'half-true', 'half-true', 'barely-true', 'barely-true', 'barely-true', 'true', 'mostly-true', 'false', 'mostly-true', 'mostly-true', 'true', 'mostly-true', 'half-true', 'barely-true', 'false', 'barely-true', 'half-true', 'mostly-true', 'half-true', 'pants-fire', 'true', 'half-true', 'barely-true', 'false', 'false', 'half-true', 'mostly-true', 'pants-fire', 'mostly-true', 'false', 'false', 'mostly-true', 'true', 'half-true', 'mostly-true', 'mostly-true', 'mostly-true', 'false', 'false', 'false', 'mostly-true', 'true', 'half-true', 'half-true', 'barely-true', 'true', 'barely-true', 'false', 'half-true', 'half-true', 'true', 'half-true', 'true', 'half-true', 'true', 'false', 'false', 'false', 'true', 'mostly-true', 'mostly-true', 'mostly-true', 'barely-true', 'true', 'half-true', 'true', 'pants-fire', 'half-true', 'pants-fire', 'barely-true', 'false', 'barely-true', 'barely-true', 'mostly-true', 'true', 'barely-true', 'pants-fire', 'mostly-true', 'pants-fire', 'half-true', 'barely-true', 'false', 'true', 'false', 'false', 'false', 'half-true', 'false', 'mostly-true', 'true', 'true', 'mostly-true', 'true', 'half-true', 'barely-true', 'half-true', 'true', 'mostly-true', 'true', 'true', 'false', 'false', 'barely-true', 'mostly-true', 'barely-true', 'half-true', 'false', 'barely-true', 'false', 'false', 'half-true', 'false', 'true', 'mostly-true', 'false', 'mostly-true', 'barely-true', 'half-true', 'mostly-true', 'true', 'mostly-true', 'barely-true', 'half-true', 'barely-true', 'barely-true', 'true', 'mostly-true', 'false', 'barely-true', 'false', 'half-true', 'true', 'pants-fire', 'half-true', 'half-true', 'mostly-true', 'half-true', 'mostly-true', 'barely-true', 'mostly-true', 'false', 'half-true', 'true', 'pants-fire', 'pants-fire', 'barely-true', 'true', 'true', 'half-true', 'barely-true', 'barely-true', 'mostly-true', 'half-true', 'false', 'false', 'barely-true', 'mostly-true', 'pants-fire', 'pants-fire', 'true', 'true', 'half-true', 'mostly-true', 'false', 'pants-fire', 'half-true', 'mostly-true', 'half-true', 'true', 'mostly-true', 'false', 'mostly-true', 'pants-fire', 'half-true', 'false', 'half-true', 'half-true', 'true', 'false', 'false', 'half-true', 'half-true', 'half-true', 'barely-true', 'pants-fire', 'true', 'mostly-true', 'half-true', 'half-true', 'true', 'barely-true', 'false', 'true', 'barely-true', 'barely-true', 'pants-fire', 'false', 'half-true', 'false', 'false', 'false', 'half-true', 'mostly-true', 'mostly-true', 'mostly-true', 'half-true', 'barely-true', 'false', 'false', 'pants-fire', 'true', 'pants-fire', 'pants-fire', 'half-true', 'false', 'mostly-true', 'true', 'mostly-true', 'mostly-true', 'false', 'false', 'barely-true', 'mostly-true', 'false', 'mostly-true', 'mostly-true', 'half-true', 'barely-true', 'barely-true', 'half-true', 'half-true', 'half-true', 'barely-true', 'mostly-true', 'half-true', 'barely-true', 'half-true', 'false', 'barely-true', 'true', 'true', 'mostly-true', 'half-true', 'pants-fire', 'barely-true', 'mostly-true', 'half-true', 'mostly-true', 'false', 'half-true', 'mostly-true', 'half-true', 'half-true', 'false', 'half-true', 'true', 'mostly-true', 'half-true', 'barely-true', 'half-true', 'true', 'pants-fire', 'mostly-true', 'barely-true', 'pants-fire', 'false', 'half-true', 'mostly-true', 'true', 'half-true', 'false', 'barely-true', 'false', 'half-true', 'false', 'half-true', 'false', 'mostly-true', 'barely-true', 'pants-fire', 'barely-true', 'true', 'barely-true', 'pants-fire', 'mostly-true', 'false', 'mostly-true', 'mostly-true', 'mostly-true', 'true', 'barely-true', 'mostly-true', 'half-true', 'false', 'mostly-true', 'barely-true', 'half-true', 'mostly-true', 'pants-fire', 'half-true', 'half-true', 'true', 'mostly-true', 'mostly-true', 'barely-true', 'pants-fire', 'false', 'false', 'mostly-true', 'mostly-true', 'false', 'mostly-true', 'half-true', 'pants-fire', 'false', 'pants-fire', 'mostly-true', 'false', 'half-true', 'mostly-true', 'half-true', 'pants-fire', 'barely-true', 'mostly-true', 'true', 'mostly-true', 'false', 'mostly-true', 'pants-fire', 'barely-true', 'half-true', 'false', 'half-true', 'mostly-true', 'barely-true', 'barely-true', 'true', 'half-true', 'true', 'barely-true', 'pants-fire', 'false', 'barely-true', 'mostly-true', 'false', 'false', 'barely-true', 'barely-true', 'half-true', 'mostly-true', 'mostly-true', 'pants-fire', 'pants-fire', 'pants-fire', 'pants-fire', 'mostly-true', 'false', 'false', 'mostly-true', 'half-true', 'pants-fire', 'true', 'pants-fire', 'half-true', 'mostly-true', 'false', 'pants-fire', 'barely-true', 'barely-true', 'false', 'barely-true', 'true', 'true', 'false', 'pants-fire', 'mostly-true', 'true', 'false', 'half-true', 'half-true', 'pants-fire', 'true', 'barely-true', 'false', 'half-true', 'barely-true', 'half-true', 'barely-true', 'barely-true', 'mostly-true', 'barely-true', 'barely-true', 'half-true', 'pants-fire', 'true', 'half-true', 'mostly-true', 'mostly-true', 'barely-true', 'barely-true', 'half-true', 'half-true', 'half-true', 'false', 'half-true', 'false', 'mostly-true', 'true', 'barely-true', 'false', 'barely-true', 'barely-true', 'mostly-true', 'mostly-true', 'half-true', 'barely-true', 'false', 'mostly-true', 'false', 'true', 'false', 'barely-true', 'false', 'barely-true', 'half-true', 'true', 'false', 'half-true', 'half-true', 'true', 'true', 'mostly-true', 'mostly-true', 'half-true', 'mostly-true', 'half-true', 'true', 'true', 'half-true', 'true', 'pants-fire', 'mostly-true', 'false', 'true', 'true', 'false', 'barely-true', 'false', 'true', 'false', 'mostly-true', 'mostly-true', 'true', 'false', 'false', 'pants-fire', 'half-true', 'barely-true', 'mostly-true', 'false', 'true', 'barely-true', 'barely-true', 'half-true', 'mostly-true', 'half-true', 'half-true', 'half-true', 'true', 'barely-true', 'barely-true', 'half-true', 'false', 'half-true', 'false', 'true', 'false', 'pants-fire', 'half-true', 'half-true', 'false', 'true', 'half-true', 'pants-fire', 'barely-true', 'true', 'false', 'barely-true', 'true', 'false', 'false', 'false', 'half-true', 'barely-true', 'half-true', 'barely-true', 'mostly-true', 'true', 'half-true', 'mostly-true', 'pants-fire', 'false', 'mostly-true', 'barely-true', 'false', 'barely-true', 'half-true', 'false', 'true', 'false', 'barely-true', 'half-true', 'half-true', 'barely-true', 'false', 'barely-true', 'half-true', 'false', 'mostly-true', 'false', 'false', 'barely-true', 'pants-fire', 'half-true', 'mostly-true', 'true', 'true', 'false', 'pants-fire', 'false', 'barely-true', 'true', 'false', 'pants-fire', 'half-true', 'false', 'barely-true', 'true', 'mostly-true', 'true', 'false', 'false', 'false', 'half-true', 'false', 'mostly-true', 'half-true', 'mostly-true', 'false', 'false', 'pants-fire', 'half-true', 'half-true', 'half-true', 'half-true', 'barely-true', 'true', 'false', 'mostly-true', 'pants-fire', 'half-true', 'false', 'mostly-true', 'pants-fire', 'barely-true', 'false', 'false', 'barely-true', 'false', 'half-true', 'false', 'mostly-true', 'barely-true', 'true', 'false', 'barely-true', 'barely-true', 'half-true', 'half-true', 'half-true', 'barely-true', 'pants-fire', 'mostly-true', 'false', 'false', 'pants-fire', 'true', 'half-true', 'pants-fire', 'mostly-true', 'half-true', 'barely-true', 'half-true', 'true', 'half-true', 'pants-fire', 'pants-fire', 'half-true', 'barely-true', 'barely-true', 'true', 'false', 'false', 'half-true', 'pants-fire', 'false', 'mostly-true', 'true', 'mostly-true', 'pants-fire', 'false', 'barely-true', 'false', 'true', 'mostly-true', 'true', 'false', 'true', 'mostly-true', 'true', 'mostly-true', 'mostly-true', 'barely-true', 'true', 'half-true', 'barely-true', 'true', 'mostly-true', 'half-true', 'true', 'mostly-true', 'half-true', 'mostly-true', 'half-true', 'mostly-true', 'barely-true', 'pants-fire', 'half-true', 'true', 'true', 'pants-fire', 'true', 'half-true', 'half-true', 'pants-fire', 'false', 'pants-fire', 'mostly-true', 'false', 'false', 'pants-fire', 'false', 'false', 'false', 'half-true', 'mostly-true', 'true', 'half-true', 'half-true', 'mostly-true', 'mostly-true', 'true', 'half-true', 'half-true', 'half-true', 'false', 'true', 'pants-fire', 'mostly-true', 'false', 'false', 'barely-true', 'half-true', 'pants-fire', 'true', 'barely-true', 'mostly-true', 'half-true', 'mostly-true', 'mostly-true', 'mostly-true', 'true', 'half-true', 'mostly-true', 'true', 'false', 'half-true', 'half-true', 'barely-true', 'false', 'mostly-true', 'half-true', 'barely-true', 'false', 'false', 'false', 'false', 'true', 'false', 'half-true', 'barely-true', 'half-true', 'half-true', 'half-true', 'half-true', 'false', 'pants-fire', 'pants-fire', 'half-true', 'false', 'mostly-true', 'true', 'mostly-true', 'true', 'false', 'mostly-true', 'false', 'false', 'mostly-true', 'mostly-true', 'barely-true', 'mostly-true', 'mostly-true', 'half-true', 'false', 'false', 'half-true', 'half-true', 'mostly-true', 'false', 'true', 'true', 'true', 'mostly-true', 'pants-fire', 'barely-true', 'pants-fire', 'mostly-true', 'false', 'half-true', 'false', 'false', 'pants-fire', 'pants-fire', 'pants-fire', 'half-true', 'mostly-true', 'true', 'half-true', 'half-true', 'false', 'barely-true', 'false', 'half-true', 'true', 'false', 'half-true', 'false', 'mostly-true', 'barely-true', 'mostly-true', 'true', 'mostly-true', 'true', 'half-true', 'barely-true', 'barely-true', 'half-true', 'pants-fire', 'half-true', 'barely-true', 'false', 'half-true', 'mostly-true', 'true', 'mostly-true', 'mostly-true', 'false', 'false', 'false', 'true', 'mostly-true', 'false', 'mostly-true', 'half-true', 'half-true', 'false', 'barely-true', 'half-true', 'mostly-true', 'half-true', 'false', 'false', 'half-true', 'false', 'true', 'pants-fire', 'true', 'barely-true', 'mostly-true', 'mostly-true', 'false', 'half-true', 'barely-true', 'barely-true', 'false', 'false', 'mostly-true', 'barely-true', 'mostly-true', 'barely-true', 'mostly-true', 'false', 'true', 'half-true', 'false', 'mostly-true', 'true', 'barely-true', 'mostly-true', 'pants-fire', 'false', 'barely-true', 'true', 'mostly-true', 'pants-fire', 'false', 'false', 'mostly-true', 'half-true', 'pants-fire', 'false', 'barely-true', 'mostly-true', 'barely-true', 'half-true', 'half-true', 'barely-true', 'mostly-true', 'true', 'barely-true', 'mostly-true', 'false', 'half-true', 'mostly-true', 'pants-fire', 'half-true', 'true', 'half-true', 'mostly-true', 'mostly-true', 'false', 'true', 'mostly-true', 'true', 'mostly-true', 'true', 'pants-fire', 'barely-true', 'true', 'false', 'half-true', 'half-true', 'false', 'false', 'true', 'pants-fire', 'half-true', 'true', 'half-true', 'barely-true', 'true', 'false', 'true', 'mostly-true', 'false', 'mostly-true', 'mostly-true', 'half-true', 'mostly-true', 'mostly-true', 'mostly-true', 'half-true', 'false', 'mostly-true', 'true', 'mostly-true', 'half-true', 'pants-fire', 'false', 'barely-true', 'false', 'false', 'barely-true', 'mostly-true', 'half-true', 'pants-fire', 'barely-true', 'mostly-true', 'mostly-true', 'false', 'mostly-true', 'barely-true', 'true', 'mostly-true', 'false', 'half-true', 'true', 'true', 'pants-fire', 'pants-fire', 'mostly-true', 'half-true', 'mostly-true', 'mostly-true', 'barely-true', 'barely-true', 'barely-true', 'mostly-true', 'false', 'true', 'true', 'pants-fire', 'half-true', 'half-true', 'mostly-true', 'half-true', 'pants-fire', 'barely-true', 'half-true', 'false', 'mostly-true', 'pants-fire', 'barely-true', 'true', 'false', 'barely-true', 'barely-true', 'true', 'half-true', 'mostly-true', 'false', 'barely-true', 'false', 'mostly-true', 'true', 'true', 'mostly-true', 'barely-true', 'barely-true', 'false', 'true', 'half-true', 'barely-true', 'mostly-true', 'pants-fire', 'half-true', 'mostly-true', 'false', 'mostly-true', 'mostly-true', 'mostly-true', 'mostly-true', 'true', 'half-true', 'true', 'mostly-true', 'false', 'mostly-true', 'true', 'mostly-true', 'pants-fire', 'pants-fire', 'false', 'true', 'false', 'false', 'mostly-true', 'pants-fire', 'pants-fire', 'barely-true', 'mostly-true', 'barely-true', 'half-true', 'half-true', 'mostly-true', 'true', 'true', 'mostly-true', 'mostly-true', 'true', 'mostly-true', 'barely-true', 'barely-true', 'false', 'half-true', 'half-true', 'mostly-true', 'false', 'mostly-true', 'mostly-true', 'true', 'pants-fire', 'half-true', 'mostly-true', 'barely-true', 'barely-true', 'barely-true', 'half-true', 'mostly-true', 'false', 'false', 'half-true', 'false', 'barely-true', 'true', 'half-true', 'false', 'true', 'half-true', 'half-true', 'false', 'mostly-true', 'barely-true', 'mostly-true', 'mostly-true', 'half-true', 'barely-true', 'false', 'half-true', 'false', 'false', 'half-true', 'false', 'true', 'true', 'false', 'false', 'false', 'half-true', 'true', 'barely-true', 'true', 'true', 'pants-fire', 'half-true', 'mostly-true', 'half-true', 'false', 'barely-true', 'barely-true', 'half-true', 'half-true', 'true', 'false', 'true', 'barely-true', 'barely-true', 'mostly-true', 'mostly-true', 'true', 'mostly-true', 'barely-true', 'half-true', 'half-true', 'false', 'barely-true', 'false', 'pants-fire', 'mostly-true', 'false', 'true', 'half-true', 'true', 'false', 'mostly-true', 'half-true', 'mostly-true', 'mostly-true', 'barely-true', 'mostly-true', 'false', 'true', 'half-true', 'true', 'false', 'mostly-true', 'true', 'barely-true', 'false', 'mostly-true', 'barely-true', 'barely-true', 'half-true', 'false', 'false', 'false', 'false', 'mostly-true', 'barely-true', 'pants-fire', 'barely-true', 'mostly-true', 'barely-true', 'true', 'false', 'mostly-true', 'half-true', 'false', 'false', 'barely-true', 'mostly-true', 'false', 'barely-true', 'half-true', 'half-true', 'mostly-true', 'false', 'true', 'true', 'false', 'true', 'barely-true', 'half-true', 'false', 'false', 'true', 'mostly-true', 'half-true', 'false', 'pants-fire', 'false', 'true', 'half-true', 'half-true', 'true', 'barely-true', 'barely-true', 'false', 'pants-fire', 'false', 'true', 'pants-fire', 'true', 'false', 'mostly-true', 'barely-true', 'true', 'mostly-true', 'true', 'pants-fire', 'half-true', 'mostly-true', 'half-true', 'mostly-true', 'barely-true', 'mostly-true', 'half-true', 'barely-true', 'true', 'half-true', 'mostly-true', 'false', 'true', 'mostly-true', 'mostly-true', 'half-true', 'mostly-true', 'barely-true', 'mostly-true', 'false', 'mostly-true', 'pants-fire', 'true', 'mostly-true', 'false', 'false', 'false', 'true', 'true', 'mostly-true', 'true', 'barely-true', 'barely-true', 'half-true', 'false', 'half-true', 'mostly-true', 'mostly-true', 'pants-fire', 'half-true', 'mostly-true', 'barely-true', 'true', 'half-true', 'half-true', 'half-true', 'barely-true', 'mostly-true', 'half-true', 'pants-fire', 'mostly-true', 'true', 'pants-fire', 'false', 'pants-fire', 'mostly-true', 'mostly-true', 'half-true', 'false', 'half-true', 'false', 'true', 'half-true', 'mostly-true', 'barely-true', 'pants-fire', 'half-true', 'mostly-true', 'barely-true', 'mostly-true', 'false', 'mostly-true', 'half-true', 'half-true', 'pants-fire', 'half-true', 'false', 'true', 'barely-true', 'barely-true', 'true', 'true', 'true', 'mostly-true', 'true', 'barely-true', 'barely-true', 'false', 'true', 'pants-fire', 'barely-true', 'mostly-true', 'pants-fire', 'true', 'mostly-true', 'mostly-true', 'barely-true', 'mostly-true', 'true', 'false', 'false', 'mostly-true', 'mostly-true', 'true', 'mostly-true', 'half-true', 'half-true', 'true', 'barely-true', 'true', 'half-true', 'mostly-true', 'barely-true', 'false', 'true', 'mostly-true', 'mostly-true', 'barely-true', 'barely-true', 'false', 'true', 'pants-fire', 'true', 'pants-fire', 'false', 'true', 'true', 'barely-true', 'mostly-true', 'half-true', 'false', 'barely-true', 'half-true', 'false', 'half-true', 'barely-true', 'half-true', 'false', 'false', 'true', 'mostly-true', 'true', 'half-true', 'mostly-true', 'half-true', 'pants-fire', 'false', 'true', 'false', 'barely-true', 'barely-true', 'mostly-true', 'false', 'pants-fire', 'mostly-true', 'barely-true', 'half-true', 'half-true', 'false', 'mostly-true', 'barely-true', 'barely-true', 'half-true', 'true', 'barely-true', 'false', 'half-true', 'half-true', 'true', 'mostly-true', 'pants-fire', 'true', 'barely-true', 'half-true', 'barely-true', 'pants-fire', 'false', 'true', 'false', 'barely-true', 'true', 'true', 'true', 'false', 'barely-true', 'false', 'true', 'mostly-true', 'true', 'true', 'half-true', 'half-true', 'false', 'barely-true', 'false', 'half-true', 'half-true', 'barely-true', 'mostly-true', 'false', 'half-true', 'barely-true', 'barely-true', 'mostly-true', 'false', 'mostly-true', 'half-true', 'mostly-true', 'half-true', 'true', 'false', 'barely-true', 'barely-true', 'barely-true', 'half-true', 'pants-fire', 'false', 'pants-fire', 'true', 'pants-fire', 'barely-true', 'mostly-true', 'false', 'true', 'barely-true', 'true', 'half-true', 'true', 'half-true', 'pants-fire', 'true', 'false', 'false', 'mostly-true', 'false', 'half-true', 'mostly-true', 'barely-true', 'true', 'mostly-true', 'half-true', 'mostly-true', 'half-true', 'barely-true', 'mostly-true', 'false', 'pants-fire', 'barely-true', 'pants-fire', 'mostly-true', 'false', 'barely-true', 'false', 'mostly-true', 'half-true', 'mostly-true', 'half-true', 'barely-true', 'barely-true', 'barely-true', 'half-true', 'pants-fire', 'pants-fire', 'pants-fire', 'true', 'half-true', 'true', 'false', 'false', 'true', 'half-true', 'mostly-true', 'half-true', 'half-true', 'false', 'barely-true', 'half-true', 'half-true', 'barely-true', 'pants-fire', 'barely-true', 'barely-true', 'barely-true', 'barely-true', 'barely-true', 'false', 'mostly-true', 'mostly-true', 'barely-true', 'false', 'false', 'mostly-true', 'half-true', 'false', 'half-true', 'mostly-true', 'half-true', 'pants-fire', 'false', 'barely-true', 'half-true', 'half-true', 'pants-fire', 'half-true', 'false', 'mostly-true', 'false', 'true', 'barely-true', 'mostly-true', 'mostly-true', 'half-true', 'mostly-true', 'true', 'mostly-true', 'false', 'mostly-true', 'mostly-true', 'barely-true', 'barely-true', 'half-true', 'barely-true', 'half-true', 'half-true', 'false', 'mostly-true', 'true', 'true', 'pants-fire', 'false', 'pants-fire', 'mostly-true', 'half-true', 'barely-true', 'half-true', 'half-true', 'false', 'true', 'half-true', 'mostly-true', 'half-true', 'false', 'pants-fire', 'pants-fire', 'pants-fire', 'true', 'barely-true', 'true', 'half-true', 'mostly-true', 'false', 'half-true', 'barely-true', 'pants-fire', 'mostly-true', 'barely-true', 'pants-fire', 'false', 'pants-fire', 'barely-true', 'mostly-true', 'pants-fire', 'mostly-true', 'pants-fire', 'half-true', 'half-true', 'barely-true', 'half-true', 'barely-true', 'barely-true', 'true', 'false', 'false', 'false', 'true', 'false', 'true', 'true', 'true', 'mostly-true', 'mostly-true', 'false', 'true', 'barely-true', 'false', 'barely-true', 'false', 'barely-true', 'mostly-true', 'mostly-true', 'mostly-true', 'mostly-true', 'false', 'half-true', 'true', 'mostly-true', 'half-true', 'false', 'mostly-true', 'pants-fire', 'barely-true', 'true', 'mostly-true', 'barely-true', 'barely-true', 'half-true', 'mostly-true', 'half-true', 'barely-true', 'false', 'mostly-true', 'mostly-true', 'half-true', 'false', 'mostly-true', 'true', 'true', 'half-true', 'mostly-true', 'mostly-true', 'half-true', 'barely-true', 'mostly-true', 'false', 'false', 'true', 'barely-true', 'mostly-true', 'pants-fire', 'false', 'mostly-true', 'false', 'barely-true', 'pants-fire', 'barely-true', 'barely-true', 'pants-fire', 'half-true', 'pants-fire', 'true', 'mostly-true', 'mostly-true', 'false', 'true', 'half-true', 'true', 'mostly-true', 'false', 'barely-true', 'false', 'mostly-true', 'false', 'true', 'barely-true', 'mostly-true', 'false', 'barely-true', 'mostly-true', 'false', 'half-true', 'false', 'mostly-true', 'half-true', 'false', 'false', 'mostly-true', 'true', 'mostly-true', 'true', 'half-true', 'half-true', 'true', 'mostly-true', 'true', 'pants-fire', 'true', 'true', 'barely-true', 'false', 'true', 'half-true', 'false', 'half-true', 'half-true', 'half-true', 'false', 'mostly-true', 'half-true', 'false', 'true', 'pants-fire', 'half-true', 'pants-fire', 'true', 'barely-true', 'false', 'mostly-true', 'true', 'barely-true', 'barely-true', 'false', 'half-true', 'barely-true', 'pants-fire', 'pants-fire', 'half-true', 'barely-true', 'false', 'barely-true', 'pants-fire', 'true', 'barely-true', 'mostly-true', 'true', 'half-true', 'pants-fire', 'mostly-true', 'false', 'barely-true', 'pants-fire', 'false', 'mostly-true', 'mostly-true', 'true', 'false', 'false', 'mostly-true', 'true', 'false', 'pants-fire', 'half-true', 'false', 'barely-true', 'barely-true', 'false', 'false', 'barely-true', 'barely-true', 'half-true', 'half-true', 'half-true', 'half-true', 'pants-fire', 'true', 'half-true', 'half-true', 'mostly-true', 'pants-fire', 'barely-true', 'barely-true', 'barely-true', 'mostly-true', 'half-true', 'true', 'barely-true', 'mostly-true', 'pants-fire', 'true', 'barely-true', 'barely-true', 'true', 'mostly-true', 'mostly-true', 'half-true', 'mostly-true', 'mostly-true', 'false', 'true', 'barely-true', 'true', 'half-true', 'barely-true', 'true', 'barely-true', 'half-true', 'pants-fire', 'pants-fire', 'mostly-true', 'half-true', 'mostly-true', 'pants-fire', 'false', 'barely-true', 'half-true', 'mostly-true', 'pants-fire', 'pants-fire', 'half-true', 'mostly-true', 'true', 'half-true', 'half-true', 'mostly-true', 'half-true', 'pants-fire', 'false', 'true', 'true', 'false', 'mostly-true', 'mostly-true', 'true', 'barely-true', 'half-true', 'barely-true', 'true', 'mostly-true', 'true', 'false', 'false', 'mostly-true', 'half-true', 'mostly-true', 'barely-true', 'pants-fire', 'false', 'mostly-true', 'half-true', 'barely-true', 'pants-fire', 'barely-true', 'barely-true', 'half-true', 'mostly-true', 'true', 'true', 'false', 'half-true', 'barely-true', 'mostly-true', 'false', 'true', 'half-true', 'mostly-true', 'mostly-true', 'barely-true', 'true', 'pants-fire', 'pants-fire', 'true', 'true', 'barely-true', 'pants-fire', 'true', 'true', 'mostly-true', 'pants-fire', 'half-true', 'mostly-true', 'mostly-true', 'mostly-true', 'pants-fire', 'pants-fire', 'mostly-true', 'half-true', 'barely-true', 'half-true', 'pants-fire', 'true', 'barely-true', 'barely-true', 'true', 'half-true', 'mostly-true', 'mostly-true', 'mostly-true', 'half-true', 'barely-true', 'true', 'true', 'true', 'false', 'true', 'barely-true', 'true', 'false', 'mostly-true', 'false', 'pants-fire', 'mostly-true', 'false', 'half-true', 'true', 'pants-fire', 'barely-true', 'mostly-true', 'barely-true', 'mostly-true', 'half-true', 'half-true', 'half-true', 'half-true', 'half-true', 'false', 'false', 'true', 'true', 'mostly-true', 'false', 'mostly-true', 'barely-true', 'barely-true', 'half-true', 'true', 'mostly-true', 'true', 'false', 'barely-true', 'barely-true', 'barely-true', 'barely-true', 'false', 'false', 'mostly-true', 'true', 'mostly-true', 'half-true', 'false', 'mostly-true', 'barely-true', 'barely-true', 'false', 'mostly-true', 'mostly-true', 'pants-fire', 'pants-fire', 'mostly-true', 'half-true', 'half-true', 'false', 'barely-true', 'pants-fire', 'mostly-true', 'mostly-true', 'mostly-true', 'false', 'true', 'false', 'half-true', 'half-true', 'false', 'barely-true', 'half-true', 'true', 'half-true', 'mostly-true', 'false', 'half-true', 'half-true', 'half-true', 'mostly-true', 'true', 'false', 'half-true', 'half-true', 'true', 'true', 'half-true', 'false', 'half-true', 'half-true', 'mostly-true', 'half-true', 'pants-fire', 'false', 'false', 'false', 'mostly-true', 'barely-true', 'true', 'false', 'half-true', 'half-true', 'barely-true', 'false', 'mostly-true', 'true', 'half-true', 'half-true', 'pants-fire', 'false', 'false', 'half-true', 'half-true', 'false', 'half-true', 'half-true', 'mostly-true', 'barely-true', 'mostly-true', 'true', 'true', 'true', 'barely-true', 'mostly-true', 'half-true', 'true', 'false', 'half-true', 'false', 'barely-true', 'half-true', 'barely-true', 'half-true', 'mostly-true', 'false', 'half-true', 'barely-true', 'pants-fire', 'true', 'mostly-true', 'false', 'mostly-true', 'true', 'false', 'pants-fire', 'half-true', 'true', 'barely-true', 'mostly-true', 'false', 'true', 'barely-true', 'false', 'true', 'true', 'barely-true', 'false', 'mostly-true', 'barely-true', 'half-true', 'barely-true', 'false', 'half-true', 'pants-fire', 'true', 'true', 'true', 'false', 'false', 'barely-true', 'false', 'true', 'false', 'barely-true', 'mostly-true', 'barely-true', 'barely-true', 'barely-true', 'half-true', 'true', 'mostly-true', 'false', 'half-true', 'barely-true', 'false', 'half-true', 'barely-true', 'pants-fire', 'half-true', 'false', 'true', 'barely-true', 'mostly-true', 'half-true', 'true', 'mostly-true', 'half-true', 'barely-true', 'false', 'barely-true', 'false', 'barely-true', 'barely-true', 'barely-true', 'mostly-true', 'false', 'pants-fire', 'mostly-true', 'false', 'half-true', 'barely-true', 'half-true', 'half-true', 'mostly-true', 'true', 'barely-true', 'half-true', 'false', 'barely-true', 'barely-true', 'half-true', 'true', 'barely-true', 'half-true', 'mostly-true', 'false', 'true', 'true', 'barely-true', 'true', 'true', 'true', 'mostly-true', 'half-true', 'false', 'barely-true', 'half-true', 'true', 'half-true', 'false', 'barely-true', 'barely-true', 'pants-fire', 'half-true', 'barely-true', 'barely-true', 'true', 'true', 'mostly-true', 'false', 'false', 'barely-true', 'false', 'mostly-true', 'false', 'barely-true', 'true', 'mostly-true', 'true', 'pants-fire', 'mostly-true', 'half-true', 'pants-fire', 'true', 'mostly-true', 'mostly-true', 'half-true', 'true', 'false', 'false', 'true', 'mostly-true', 'false', 'barely-true', 'false', 'mostly-true', 'half-true', 'barely-true', 'mostly-true', 'false', 'pants-fire', 'true', 'false', 'mostly-true', 'half-true', 'false', 'true', 'half-true', 'barely-true', 'half-true', 'barely-true', 'mostly-true', 'false', 'mostly-true', 'half-true', 'half-true', 'mostly-true', 'mostly-true', 'barely-true', 'mostly-true', 'false', 'true', 'false', 'mostly-true', 'barely-true', 'half-true', 'false', 'false', 'true', 'half-true', 'mostly-true', 'barely-true', 'half-true', 'half-true', 'true', 'half-true', 'mostly-true', 'false', 'false', 'false', 'true', 'false', 'mostly-true', 'half-true', 'mostly-true', 'mostly-true', 'half-true', 'mostly-true', 'barely-true', 'half-true', 'half-true', 'true', 'mostly-true', 'half-true', 'mostly-true', 'half-true', 'barely-true', 'barely-true', 'false', 'barely-true', 'false', 'mostly-true', 'barely-true', 'false', 'mostly-true', 'false', 'true', 'barely-true', 'mostly-true', 'barely-true', 'barely-true', 'false', 'true', 'half-true', 'mostly-true', 'false', 'half-true', 'barely-true', 'half-true', 'barely-true', 'false', 'false', 'barely-true', 'false', 'barely-true', 'false', 'true', 'barely-true', 'true', 'false', 'false', 'true', 'mostly-true', 'barely-true', 'mostly-true', 'pants-fire', 'false', 'half-true', 'half-true', 'true', 'pants-fire', 'barely-true', 'mostly-true', 'mostly-true', 'true', 'true', 'true', 'false', 'barely-true', 'true', 'mostly-true', 'mostly-true', 'half-true', 'true', 'mostly-true', 'half-true', 'mostly-true', 'pants-fire', 'true', 'barely-true', 'half-true', 'true', 'pants-fire', 'false', 'barely-true', 'barely-true', 'mostly-true', 'half-true', 'pants-fire', 'false', 'pants-fire', 'true', 'half-true', 'half-true', 'true', 'barely-true', 'true', 'pants-fire', 'true', 'barely-true', 'barely-true', 'barely-true', 'false', 'false', 'false', 'false', 'true', 'half-true', 'half-true', 'half-true', 'false', 'barely-true', 'half-true', 'half-true', 'pants-fire', 'false', 'half-true', 'half-true', 'half-true', 'false', 'false', 'half-true', 'true', 'half-true', 'true', 'mostly-true', 'mostly-true', 'mostly-true', 'half-true', 'false', 'barely-true', 'mostly-true', 'false', 'mostly-true', 'pants-fire', 'half-true', 'false', 'half-true', 'true', 'half-true', 'barely-true', 'half-true', 'pants-fire', 'true', 'half-true', 'true', 'barely-true', 'true', 'half-true', 'mostly-true', 'half-true', 'barely-true', 'mostly-true', 'half-true', 'true', 'false', 'barely-true', 'true', 'true', 'pants-fire', 'true', 'mostly-true', 'false', 'half-true', 'true', 'false', 'false', 'mostly-true', 'pants-fire', 'false', 'half-true', 'true', 'half-true', 'true', 'true', 'mostly-true', 'false', 'pants-fire', 'half-true', 'false', 'true', 'half-true', 'half-true', 'barely-true', 'false', 'mostly-true', 'barely-true', 'false', 'half-true', 'barely-true', 'mostly-true', 'false', 'mostly-true', 'barely-true', 'mostly-true', 'true', 'false', 'false', 'mostly-true', 'mostly-true', 'mostly-true', 'mostly-true', 'half-true', 'mostly-true', 'half-true', 'true', 'true', 'false', 'pants-fire', 'barely-true', 'false', 'barely-true', 'half-true', 'mostly-true', 'barely-true', 'pants-fire', 'mostly-true', 'false', 'true', 'true', 'false', 'half-true', 'barely-true', 'half-true', 'false', 'false', 'false', 'half-true', 'half-true', 'half-true', 'half-true', 'mostly-true', 'false', 'mostly-true', 'barely-true', 'barely-true', 'mostly-true', 'barely-true', 'mostly-true', 'false', 'false', 'pants-fire', 'mostly-true', 'mostly-true', 'false', 'pants-fire', 'true', 'pants-fire', 'true', 'barely-true', 'mostly-true', 'half-true', 'mostly-true', 'mostly-true', 'true', 'mostly-true', 'pants-fire', 'pants-fire', 'barely-true', 'barely-true', 'barely-true', 'true', 'mostly-true', 'mostly-true', 'true', 'false', 'barely-true', 'half-true', 'false', 'half-true', 'pants-fire', 'false', 'half-true', 'false', 'pants-fire', 'barely-true', 'mostly-true', 'mostly-true', 'pants-fire', 'barely-true', 'false', 'true', 'half-true', 'mostly-true', 'false', 'half-true', 'half-true', 'true', 'false', 'mostly-true', 'half-true', 'mostly-true', 'true', 'true', 'barely-true', 'barely-true', 'mostly-true', 'barely-true', 'mostly-true', 'true', 'true', 'half-true', 'false', 'half-true', 'mostly-true', 'barely-true', 'half-true', 'half-true', 'mostly-true', 'barely-true', 'false', 'barely-true', 'mostly-true', 'mostly-true', 'true', 'half-true', 'false', 'true', 'true', 'pants-fire', 'mostly-true', 'mostly-true', 'half-true', 'half-true', 'barely-true', 'half-true', 'false', 'false', 'false', 'half-true', 'mostly-true', 'half-true', 'mostly-true', 'half-true', 'barely-true', 'false', 'barely-true', 'half-true', 'true', 'pants-fire', 'true', 'false', 'mostly-true', 'half-true', 'barely-true', 'false', 'barely-true', 'mostly-true', 'false', 'half-true', 'barely-true', 'pants-fire', 'pants-fire', 'pants-fire', 'barely-true', 'mostly-true', 'false', 'false', 'false', 'true', 'mostly-true', 'half-true', 'false', 'half-true', 'half-true', 'barely-true', 'half-true', 'mostly-true', 'half-true', 'barely-true', 'mostly-true', 'true', 'true', 'barely-true', 'half-true', 'true', 'half-true', 'barely-true', 'false', 'barely-true', 'false', 'true', 'mostly-true', 'half-true', 'half-true', 'half-true', 'barely-true', 'true', 'barely-true', 'true', 'half-true', 'false', 'barely-true', 'barely-true', 'false', 'half-true', 'false', 'true', 'mostly-true', 'false', 'false', 'true', 'true', 'half-true', 'barely-true', 'false', 'false', 'mostly-true', 'half-true', 'true', 'barely-true', 'barely-true', 'false', 'pants-fire', 'true', 'barely-true', 'half-true', 'false', 'false', 'pants-fire', 'mostly-true', 'half-true', 'mostly-true', 'barely-true', 'barely-true', 'barely-true', 'mostly-true', 'true', 'false', 'true', 'true', 'half-true', 'half-true', 'half-true', 'half-true', 'false', 'mostly-true', 'mostly-true', 'barely-true', 'pants-fire', 'mostly-true', 'barely-true', 'true', 'pants-fire', 'half-true', 'false', 'barely-true', 'mostly-true', 'half-true', 'mostly-true', 'mostly-true', 'false', 'true', 'barely-true', 'true', 'barely-true', 'false', 'false', 'half-true', 'pants-fire', 'pants-fire', 'false', 'true', 'barely-true', 'barely-true', 'false', 'half-true', 'half-true', 'true', 'true', 'barely-true', 'mostly-true', 'half-true', 'mostly-true', 'false', 'half-true', 'mostly-true', 'half-true', 'half-true', 'mostly-true', 'true', 'mostly-true', 'pants-fire', 'pants-fire', 'mostly-true', 'half-true', 'false', 'mostly-true', 'mostly-true', 'half-true', 'false', 'true', 'false', 'half-true', 'true', 'false', 'barely-true', 'barely-true', 'barely-true', 'false', 'barely-true', 'true', 'mostly-true', 'true', 'barely-true', 'barely-true', 'half-true', 'half-true', 'half-true', 'pants-fire', 'mostly-true', 'false', 'false', 'barely-true', 'true', 'pants-fire', 'mostly-true', 'half-true', 'false', 'barely-true', 'mostly-true', 'barely-true', 'barely-true', 'true', 'barely-true', 'half-true', 'true', 'true', 'half-true', 'false', 'half-true', 'mostly-true', 'half-true', 'false', 'barely-true', 'false', 'pants-fire', 'true', 'half-true', 'false', 'pants-fire', 'pants-fire', 'true', 'barely-true', 'false', 'half-true', 'barely-true', 'pants-fire', 'true', 'half-true', 'false', 'false', 'barely-true', 'mostly-true', 'false', 'false', 'mostly-true', 'true', 'false', 'false', 'true', 'true', 'true', 'barely-true', 'pants-fire', 'half-true', 'mostly-true', 'mostly-true', 'half-true', 'half-true', 'half-true', 'barely-true', 'true', 'true', 'half-true', 'true', 'false', 'false', 'half-true', 'mostly-true', 'true', 'half-true', 'true', 'pants-fire', 'barely-true', 'mostly-true', 'barely-true', 'barely-true', 'half-true', 'pants-fire', 'false', 'half-true', 'true', 'half-true', 'true', 'false', 'false', 'half-true', 'false', 'false', 'pants-fire', 'barely-true', 'barely-true', 'half-true', 'mostly-true', 'false', 'false', 'half-true', 'false', 'half-true', 'false', 'mostly-true', 'false', 'true', 'false', 'mostly-true', 'half-true', 'half-true', 'false', 'false', 'mostly-true', 'mostly-true', 'half-true', 'half-true', 'barely-true', 'false', 'false', 'mostly-true', 'mostly-true', 'pants-fire', 'false', 'barely-true', 'false', 'false', 'true', 'half-true', 'half-true', 'barely-true', 'half-true', 'true', 'half-true', 'mostly-true', 'half-true', 'false', 'false', 'half-true', 'mostly-true', 'true', 'barely-true', 'half-true', 'half-true', 'mostly-true', 'barely-true', 'half-true', 'false', 'false', 'false', 'half-true', 'barely-true', 'half-true', 'mostly-true', 'true', 'half-true', 'true', 'true', 'mostly-true', 'mostly-true', 'false', 'mostly-true', 'half-true', 'mostly-true', 'true', 'false', 'barely-true', 'half-true', 'mostly-true', 'true', 'true', 'false', 'false', 'true', 'false', 'half-true', 'half-true', 'true', 'barely-true', 'true', 'half-true', 'barely-true', 'true', 'false', 'half-true', 'true', 'barely-true', 'half-true', 'pants-fire', 'barely-true', 'false', 'false', 'true', 'true', 'true', 'true', 'false', 'true', 'barely-true', 'true', 'half-true', 'half-true', 'half-true', 'mostly-true', 'false', 'true', 'barely-true', 'half-true', 'mostly-true', 'pants-fire', 'mostly-true', 'barely-true', 'false', 'half-true', 'barely-true', 'half-true', 'true', 'half-true', 'half-true', 'half-true', 'barely-true', 'mostly-true', 'half-true', 'barely-true', 'pants-fire', 'barely-true', 'false', 'barely-true', 'false', 'false', 'false', 'mostly-true', 'barely-true', 'barely-true', 'false', 'barely-true', 'mostly-true', 'barely-true', 'pants-fire', 'barely-true', 'pants-fire', 'pants-fire', 'barely-true', 'barely-true', 'mostly-true', 'half-true', 'half-true', 'mostly-true', 'barely-true', 'barely-true', 'half-true', 'mostly-true', 'true', 'false', 'mostly-true', 'half-true', 'false', 'half-true', 'true', 'half-true', 'false', 'false', 'half-true', 'true', 'barely-true', 'false', 'true', 'true', 'barely-true', 'mostly-true', 'barely-true', 'false', 'half-true', 'mostly-true', 'mostly-true', 'barely-true', 'false', 'false', 'barely-true', 'false', 'barely-true', 'barely-true', 'half-true', 'true', 'half-true', 'true', 'barely-true', 'mostly-true', 'half-true', 'barely-true', 'barely-true', 'true', 'half-true', 'half-true', 'false', 'true', 'barely-true', 'half-true', 'true', 'half-true', 'half-true', 'true', 'true', 'mostly-true', 'barely-true', 'false', 'half-true', 'pants-fire', 'true', 'false', 'true', 'false', 'pants-fire', 'mostly-true', 'half-true', 'barely-true', 'barely-true', 'half-true', 'true', 'false', 'barely-true', 'mostly-true', 'true', 'mostly-true', 'barely-true', 'barely-true', 'false', 'false', 'pants-fire', 'pants-fire', 'true', 'half-true', 'half-true', 'true', 'mostly-true', 'false', 'true', 'mostly-true', 'mostly-true', 'false', 'false', 'pants-fire', 'true', 'mostly-true', 'half-true', 'false', 'barely-true', 'half-true', 'barely-true', 'half-true', 'barely-true', 'barely-true', 'barely-true', 'mostly-true', 'mostly-true', 'barely-true', 'false', 'true', 'pants-fire', 'false', 'pants-fire', 'half-true', 'true', 'true', 'mostly-true', 'mostly-true', 'barely-true', 'mostly-true', 'half-true', 'true', 'barely-true', 'mostly-true', 'mostly-true', 'mostly-true', 'barely-true', 'barely-true', 'barely-true', 'mostly-true', 'pants-fire', 'barely-true', 'barely-true', 'mostly-true', 'mostly-true', 'half-true', 'pants-fire', 'true', 'false', 'true', 'pants-fire', 'false', 'true', 'pants-fire', 'mostly-true', 'mostly-true', 'half-true', 'half-true', 'mostly-true', 'half-true', 'barely-true', 'mostly-true', 'mostly-true', 'mostly-true', 'half-true', 'false', 'half-true', 'true', 'half-true', 'mostly-true', 'mostly-true', 'barely-true', 'true', 'true', 'half-true', 'false', 'half-true', 'pants-fire', 'barely-true', 'pants-fire', 'half-true', 'false', 'pants-fire', 'barely-true', 'true', 'mostly-true', 'half-true', 'true', 'true', 'barely-true', 'false', 'pants-fire', 'barely-true', 'true', 'half-true', 'barely-true', 'barely-true', 'true', 'true', 'half-true', 'false', 'mostly-true', 'pants-fire', 'true', 'false', 'false', 'false', 'mostly-true', 'half-true', 'false', 'half-true', 'pants-fire', 'true', 'true', 'false', 'mostly-true', 'true', 'barely-true', 'mostly-true', 'false', 'half-true', 'barely-true', 'true', 'false', 'mostly-true', 'half-true', 'true', 'pants-fire', 'true', 'pants-fire', 'true', 'barely-true', 'barely-true', 'false', 'false', 'mostly-true', 'true', 'false', 'half-true', 'mostly-true', 'barely-true', 'true', 'half-true', 'half-true', 'true', 'barely-true', 'true', 'true', 'false', 'false', 'half-true', 'true', 'barely-true', 'true', 'false', 'half-true', 'mostly-true', 'barely-true', 'half-true', 'half-true', 'half-true', 'half-true', 'true', 'true', 'barely-true', 'half-true', 'half-true', 'half-true', 'mostly-true', 'half-true', 'pants-fire', 'false', 'mostly-true', 'true', 'mostly-true', 'pants-fire', 'mostly-true', 'false', 'barely-true', 'true', 'pants-fire', 'false', 'mostly-true', 'true', 'barely-true', 'false', 'barely-true', 'half-true', 'pants-fire', 'false', 'mostly-true', 'false', 'barely-true', 'pants-fire', 'false', 'false', 'mostly-true', 'pants-fire', 'mostly-true', 'barely-true', 'half-true', 'mostly-true', 'pants-fire', 'true', 'half-true', 'false', 'half-true', 'half-true', 'half-true', 'true', 'half-true', 'false', 'mostly-true', 'true', 'pants-fire', 'pants-fire', 'half-true', 'barely-true', 'pants-fire', 'false', 'mostly-true', 'half-true', 'false', 'false', 'true', 'pants-fire', 'false', 'half-true', 'half-true', 'true', 'half-true', 'mostly-true', 'mostly-true', 'pants-fire', 'true', 'true', 'mostly-true', 'pants-fire', 'barely-true', 'barely-true', 'true', 'true', 'true', 'pants-fire', 'half-true', 'half-true', 'true', 'false', 'mostly-true', 'mostly-true', 'true', 'pants-fire', 'pants-fire', 'true', 'true', 'false', 'false', 'true', 'mostly-true', 'barely-true', 'true', 'true', 'false', 'pants-fire', 'pants-fire', 'half-true', 'false', 'half-true', 'false', 'mostly-true', 'barely-true', 'half-true', 'half-true', 'mostly-true', 'false', 'half-true', 'pants-fire', 'barely-true', 'false', 'true', 'true', 'true', 'half-true', 'mostly-true', 'mostly-true', 'mostly-true', 'false', 'barely-true', 'true', 'true', 'barely-true', 'false', 'false', 'mostly-true', 'mostly-true', 'barely-true', 'barely-true', 'mostly-true', 'half-true', 'half-true', 'barely-true', 'pants-fire', 'barely-true', 'half-true', 'barely-true', 'mostly-true', 'pants-fire', 'false', 'barely-true', 'half-true', 'true', 'false', 'pants-fire', 'true', 'half-true', 'mostly-true', 'barely-true', 'mostly-true', 'half-true', 'true', 'true', 'mostly-true', 'true', 'barely-true', 'half-true', 'mostly-true', 'pants-fire', 'pants-fire', 'half-true', 'mostly-true', 'mostly-true', 'false', 'half-true', 'barely-true', 'mostly-true', 'barely-true', 'barely-true', 'false', 'mostly-true', 'true', 'false', 'mostly-true', 'half-true', 'false', 'false', 'half-true', 'mostly-true', 'false', 'pants-fire', 'false', 'false', 'barely-true', 'barely-true', 'false', 'pants-fire', 'barely-true', 'half-true', 'false', 'true', 'half-true', 'mostly-true', 'barely-true', 'false', 'half-true', 'false', 'false', 'true', 'true', 'true', 'true', 'mostly-true', 'half-true', 'false', 'barely-true', 'true', 'barely-true', 'half-true', 'barely-true', 'false', 'mostly-true', 'mostly-true', 'half-true', 'false', 'false', 'true', 'barely-true', 'barely-true', 'true', 'barely-true', 'true', 'false', 'true', 'mostly-true', 'half-true', 'false', 'half-true', 'half-true', 'mostly-true', 'half-true', 'true', 'barely-true', 'barely-true', 'true', 'false', 'mostly-true', 'pants-fire', 'false', 'false', 'barely-true', 'true', 'true', 'half-true', 'barely-true', 'pants-fire', 'barely-true', 'half-true', 'barely-true', 'false', 'mostly-true', 'mostly-true', 'half-true', 'half-true', 'half-true', 'mostly-true', 'half-true', 'barely-true', 'half-true', 'half-true', 'pants-fire', 'mostly-true', 'half-true', 'mostly-true', 'true', 'barely-true', 'half-true', 'barely-true', 'half-true', 'pants-fire', 'false', 'barely-true', 'true', 'false', 'barely-true', 'half-true', 'half-true', 'pants-fire', 'barely-true', 'pants-fire', 'true', 'false', 'false', 'mostly-true', 'true', 'false', 'barely-true', 'pants-fire', 'half-true', 'barely-true', 'false', 'half-true', 'barely-true', 'pants-fire', 'pants-fire', 'barely-true', 'true', 'pants-fire', 'mostly-true', 'barely-true', 'barely-true', 'pants-fire', 'pants-fire', 'true', 'mostly-true', 'mostly-true', 'barely-true', 'false', 'half-true', 'half-true', 'barely-true', 'false', 'half-true', 'mostly-true', 'half-true', 'half-true', 'true', 'barely-true', 'mostly-true', 'half-true', 'half-true', 'barely-true', 'half-true', 'mostly-true', 'barely-true', 'mostly-true', 'pants-fire', 'half-true', 'true', 'false', 'pants-fire', 'false', 'mostly-true', 'mostly-true', 'pants-fire', 'barely-true', 'false', 'barely-true', 'half-true', 'mostly-true', 'false', 'false', 'false', 'false', 'half-true', 'half-true', 'half-true', 'mostly-true', 'half-true', 'half-true', 'pants-fire', 'false', 'half-true', 'mostly-true', 'half-true', 'mostly-true', 'mostly-true', 'false', 'mostly-true', 'mostly-true', 'false', 'false', 'true', 'false', 'half-true', 'true', 'false', 'pants-fire', 'false', 'true', 'false', 'half-true', 'half-true', 'mostly-true', 'mostly-true', 'barely-true', 'false', 'half-true', 'half-true', 'half-true', 'half-true', 'true', 'false', 'half-true', 'false', 'barely-true', 'mostly-true', 'barely-true', 'mostly-true', 'barely-true', 'mostly-true', 'barely-true', 'barely-true', 'pants-fire', 'false', 'half-true', 'false', 'half-true', 'true', 'mostly-true', 'half-true', 'false', 'half-true', 'mostly-true', 'mostly-true', 'mostly-true', 'mostly-true', 'mostly-true', 'half-true', 'mostly-true', 'mostly-true', 'pants-fire', 'true', 'mostly-true', 'pants-fire', 'true', 'barely-true', 'half-true', 'barely-true', 'true', 'mostly-true', 'mostly-true', 'mostly-true', 'false', 'true', 'false', 'pants-fire', 'pants-fire', 'barely-true', 'false', 'mostly-true', 'false', 'half-true', 'half-true', 'false', 'true', 'false', 'mostly-true', 'barely-true', 'half-true', 'pants-fire', 'mostly-true', 'pants-fire', 'half-true', 'true', 'half-true', 'pants-fire', 'true', 'mostly-true', 'mostly-true', 'half-true', 'false', 'false', 'true', 'true', 'half-true', 'true', 'pants-fire', 'false', 'barely-true', 'pants-fire', 'mostly-true', 'half-true', 'true', 'false', 'false', 'false', 'barely-true', 'half-true', 'true', 'barely-true', 'half-true', 'pants-fire', 'true', 'half-true', 'mostly-true', 'barely-true', 'mostly-true', 'true', 'false', 'pants-fire', 'barely-true', 'barely-true', 'half-true', 'barely-true', 'mostly-true', 'half-true', 'true', 'half-true', 'mostly-true', 'true', 'true', 'false', 'true', 'mostly-true', 'half-true', 'pants-fire', 'true', 'false', 'false', 'true', 'half-true', 'true', 'mostly-true', 'true', 'half-true', 'half-true', 'half-true', 'barely-true', 'half-true', 'true', 'false', 'true', 'half-true', 'false', 'false', 'mostly-true', 'true', 'half-true', 'mostly-true', 'barely-true', 'half-true', 'barely-true', 'mostly-true', 'mostly-true', 'mostly-true', 'true', 'false', 'barely-true', 'half-true', 'mostly-true', 'barely-true', 'half-true', 'mostly-true', 'half-true', 'false', 'half-true', 'true', 'half-true', 'barely-true', 'mostly-true', 'half-true', 'barely-true', 'false', 'false', 'true', 'mostly-true', 'mostly-true', 'false', 'true', 'mostly-true', 'half-true', 'false', 'mostly-true', 'false', 'mostly-true', 'false', 'false', 'mostly-true', 'pants-fire', 'true', 'mostly-true', 'mostly-true', 'half-true', 'false', 'false', 'false', 'true', 'half-true', 'false', 'false', 'half-true', 'mostly-true', 'true', 'barely-true', 'half-true', 'barely-true', 'pants-fire', 'mostly-true', 'true', 'half-true', 'half-true', 'mostly-true', 'barely-true', 'false', 'true', 'false', 'half-true', 'true', 'mostly-true', 'mostly-true', 'half-true', 'mostly-true', 'barely-true', 'barely-true', 'barely-true', 'mostly-true', 'half-true', 'mostly-true', 'true', 'false', 'mostly-true', 'half-true', 'half-true', 'half-true', 'barely-true', 'false', 'mostly-true', 'barely-true', 'half-true', 'mostly-true', 'barely-true', 'false', 'half-true', 'false', 'barely-true', 'true', 'false', 'pants-fire', 'true', 'false', 'false', 'mostly-true', 'true', 'barely-true', 'true', 'mostly-true', 'mostly-true', 'barely-true', 'mostly-true', 'barely-true', 'pants-fire', 'true', 'false', 'barely-true', 'half-true', 'half-true', 'false', 'false', 'half-true', 'half-true', 'true', 'true', 'true', 'mostly-true', 'true', 'true', 'half-true', 'true', 'mostly-true', 'half-true', 'pants-fire', 'mostly-true', 'true', 'barely-true', 'pants-fire', 'mostly-true', 'half-true', 'half-true', 'true', 'false', 'half-true', 'half-true', 'half-true', 'mostly-true', 'half-true', 'false', 'half-true', 'mostly-true', 'mostly-true', 'barely-true', 'half-true', 'half-true', 'true', 'true', 'true', 'mostly-true', 'mostly-true', 'half-true', 'barely-true', 'mostly-true', 'mostly-true', 'true', 'mostly-true', 'mostly-true', 'mostly-true', 'mostly-true', 'pants-fire', 'half-true', 'half-true', 'barely-true', 'mostly-true', 'true', 'mostly-true', 'true', 'mostly-true', 'mostly-true', 'mostly-true', 'pants-fire', 'false', 'false', 'false', 'pants-fire', 'half-true', 'false', 'false', 'false', 'false', 'true', 'false', 'false', 'half-true', 'half-true', 'mostly-true', 'mostly-true', 'mostly-true', 'false', 'barely-true', 'false', 'false', 'false', 'mostly-true', 'half-true', 'true', 'half-true', 'false', 'pants-fire', 'true', 'mostly-true', 'mostly-true', 'false', 'barely-true', 'true', 'true', 'mostly-true', 'mostly-true', 'barely-true', 'false', 'half-true', 'mostly-true', 'pants-fire', 'mostly-true', 'half-true', 'false', 'pants-fire', 'true', 'false', 'false', 'half-true', 'mostly-true', 'half-true', 'mostly-true', 'true', 'true', 'false', 'true', 'barely-true', 'barely-true', 'mostly-true', 'half-true', 'mostly-true', 'mostly-true', 'false', 'half-true', 'half-true', 'pants-fire', 'barely-true', 'true', 'barely-true', 'false', 'half-true', 'mostly-true', 'half-true', 'true', 'half-true', 'half-true', 'half-true', 'barely-true', 'mostly-true', 'false', 'false', 'true', 'pants-fire', 'half-true', 'true', 'barely-true', 'mostly-true', 'barely-true', 'mostly-true', 'half-true', 'barely-true', 'pants-fire', 'true', 'false', 'half-true', 'false', 'barely-true', 'mostly-true', 'false', 'pants-fire', 'true', 'true', 'true', 'false', 'true', 'half-true', 'half-true', 'half-true', 'pants-fire', 'mostly-true', 'true', 'false', 'mostly-true', 'false', 'true', 'mostly-true', 'false', 'barely-true', 'true', 'mostly-true', 'barely-true', 'true', 'barely-true', 'false', 'pants-fire', 'mostly-true', 'pants-fire', 'half-true', 'mostly-true', 'true', 'true', 'half-true', 'barely-true', 'mostly-true', 'pants-fire', 'false', 'barely-true', 'half-true', 'mostly-true', 'half-true', 'true', 'true', 'false', 'false', 'mostly-true', 'false', 'half-true', 'barely-true', 'half-true', 'mostly-true', 'false', 'half-true', 'half-true', 'mostly-true', 'mostly-true', 'mostly-true', 'mostly-true', 'mostly-true', 'true', 'barely-true', 'true', 'mostly-true', 'false', 'false', 'false', 'pants-fire', 'false', 'barely-true', 'half-true', 'false', 'mostly-true', 'true', 'half-true', 'half-true', 'true', 'true', 'pants-fire', 'false', 'mostly-true', 'half-true', 'mostly-true', 'barely-true', 'mostly-true', 'false', 'half-true', 'false', 'barely-true', 'barely-true', 'mostly-true', 'barely-true', 'pants-fire', 'pants-fire', 'barely-true', 'barely-true', 'false', 'barely-true', 'mostly-true', 'false', 'barely-true', 'false', 'true', 'barely-true', 'barely-true', 'mostly-true', 'half-true', 'mostly-true', 'half-true', 'true', 'pants-fire', 'pants-fire', 'barely-true', 'false', 'true', 'false', 'barely-true', 'pants-fire', 'false', 'half-true', 'barely-true', 'half-true', 'mostly-true', 'half-true', 'half-true', 'mostly-true', 'pants-fire', 'barely-true', 'false', 'false', 'mostly-true', 'false', 'barely-true', 'mostly-true', 'mostly-true', 'half-true', 'true', 'true', 'mostly-true', 'barely-true', 'false', 'barely-true', 'pants-fire', 'half-true', 'false', 'half-true', 'false', 'false', 'true', 'half-true', 'barely-true', 'barely-true', 'true', 'pants-fire', 'mostly-true', 'pants-fire', 'false', 'mostly-true', 'half-true', 'true', 'false', 'half-true', 'half-true', 'barely-true', 'false', 'true', 'false', 'barely-true', 'true', 'barely-true', 'false', 'true', 'false', 'half-true', 'mostly-true', 'barely-true', 'pants-fire', 'half-true', 'true', 'half-true', 'false', 'mostly-true', 'barely-true', 'barely-true', 'barely-true', 'half-true', 'half-true', 'mostly-true', 'false', 'mostly-true', 'barely-true', 'half-true', 'mostly-true', 'false', 'mostly-true', 'false', 'mostly-true', 'false', 'false', 'true', 'false', 'false', 'mostly-true', 'true', 'mostly-true', 'true', 'true', 'false', 'half-true', 'true', 'pants-fire', 'half-true', 'mostly-true', 'true', 'mostly-true', 'barely-true', 'half-true', 'half-true', 'barely-true', 'mostly-true', 'half-true', 'false', 'false', 'mostly-true', 'half-true', 'mostly-true', 'half-true', 'half-true', 'barely-true', 'true', 'half-true', 'mostly-true', 'true', 'mostly-true', 'false', 'false', 'false', 'half-true', 'half-true', 'pants-fire', 'pants-fire', 'barely-true', 'barely-true', 'true', 'false', 'mostly-true', 'barely-true', 'true', 'true', 'false', 'true', 'mostly-true', 'mostly-true', 'barely-true', 'barely-true', 'pants-fire', 'half-true', 'pants-fire', 'mostly-true', 'half-true', 'false', 'false', 'pants-fire', 'false', 'barely-true', 'half-true', 'half-true', 'mostly-true', 'true', 'barely-true', 'true', 'barely-true', 'false', 'barely-true', 'false', 'false', 'barely-true', 'barely-true', 'half-true', 'mostly-true', 'half-true', 'mostly-true', 'half-true', 'barely-true', 'barely-true', 'pants-fire', 'barely-true', 'half-true', 'pants-fire', 'mostly-true', 'mostly-true', 'mostly-true', 'false', 'true', 'barely-true', 'false', 'false', 'half-true', 'mostly-true', 'barely-true', 'mostly-true', 'barely-true', 'half-true', 'barely-true', 'true', 'half-true', 'barely-true', 'half-true', 'true', 'pants-fire', 'half-true', 'false', 'false', 'half-true', 'false', 'half-true', 'false', 'barely-true', 'false', 'half-true', 'mostly-true', 'pants-fire', 'barely-true', 'false', 'false', 'mostly-true', 'mostly-true', 'barely-true', 'true', 'mostly-true', 'false', 'mostly-true', 'false', 'barely-true', 'half-true', 'barely-true', 'false', 'true', 'half-true', 'half-true', 'false', 'false', 'mostly-true', 'pants-fire', 'false', 'barely-true', 'true', 'true', 'mostly-true', 'false', 'true', 'half-true', 'false', 'true', 'mostly-true', 'false', 'false', 'barely-true', 'mostly-true', 'half-true', 'half-true', 'half-true', 'mostly-true', 'mostly-true', 'true', 'half-true', 'pants-fire', 'mostly-true', 'false', 'mostly-true', 'true', 'half-true', 'false', 'mostly-true', 'mostly-true', 'pants-fire', 'half-true', 'half-true', 'false', 'half-true', 'true', 'pants-fire', 'half-true', 'true', 'true', 'false', 'false', 'barely-true', 'barely-true', 'true', 'true', 'false', 'half-true', 'half-true', 'false', 'true', 'mostly-true', 'false', 'true', 'true', 'barely-true', 'mostly-true', 'false', 'true', 'half-true', 'true', 'false', 'mostly-true', 'true', 'half-true', 'half-true', 'barely-true', 'true', 'barely-true', 'mostly-true', 'mostly-true', 'half-true', 'mostly-true', 'half-true', 'false', 'half-true', 'mostly-true', 'pants-fire', 'pants-fire', 'false', 'mostly-true', 'half-true', 'true', 'false', 'false', 'false', 'half-true', 'half-true', 'barely-true', 'mostly-true', 'false', 'false', 'barely-true', 'barely-true', 'half-true', 'true', 'pants-fire', 'mostly-true', 'mostly-true', 'false', 'half-true', 'half-true', 'half-true', 'half-true', 'false', 'half-true', 'barely-true', 'half-true', 'false', 'barely-true', 'pants-fire', 'mostly-true', 'barely-true', 'mostly-true', 'half-true', 'half-true', 'barely-true', 'barely-true', 'half-true', 'half-true', 'pants-fire', 'half-true', 'pants-fire', 'false', 'mostly-true', 'barely-true', 'mostly-true', 'true', 'barely-true', 'false', 'half-true', 'barely-true', 'true', 'pants-fire', 'false', 'barely-true', 'mostly-true', 'true', 'false', 'half-true', 'half-true', 'barely-true', 'half-true', 'true', 'true', 'mostly-true', 'mostly-true', 'mostly-true', 'mostly-true', 'barely-true', 'false', 'true', 'pants-fire', 'true', 'false', 'pants-fire', 'true', 'false', 'barely-true', 'mostly-true', 'false', 'true', 'mostly-true', 'mostly-true', 'mostly-true', 'half-true', 'true', 'true', 'half-true', 'barely-true', 'false', 'barely-true', 'mostly-true', 'pants-fire', 'barely-true', 'false', 'false', 'false', 'false', 'barely-true', 'barely-true', 'half-true', 'barely-true', 'false', 'barely-true', 'half-true', 'false', 'false', 'barely-true', 'false', 'half-true', 'barely-true', 'barely-true', 'false', 'false', 'barely-true', 'barely-true', 'mostly-true', 'half-true', 'half-true', 'true', 'mostly-true', 'true', 'false', 'mostly-true', 'barely-true', 'false', 'false', 'pants-fire', 'half-true', 'barely-true', 'false', 'mostly-true', 'mostly-true', 'half-true', 'barely-true', 'half-true', 'half-true', 'true', 'false', 'false', 'pants-fire', 'false', 'barely-true', 'pants-fire', 'barely-true', 'true', 'false', 'half-true', 'barely-true', 'mostly-true', 'mostly-true', 'barely-true', 'false', 'false', 'false', 'barely-true', 'false', 'pants-fire', 'mostly-true', 'mostly-true', 'mostly-true', 'half-true', 'half-true', 'true', 'pants-fire', 'mostly-true', 'false', 'half-true', 'half-true', 'barely-true', 'pants-fire', 'mostly-true', 'half-true', 'barely-true', 'barely-true', 'half-true', 'mostly-true', 'true', 'mostly-true', 'half-true', 'pants-fire', 'mostly-true', 'barely-true', 'barely-true', 'true', 'true', 'true', 'half-true', 'half-true', 'barely-true', 'true', 'half-true', 'barely-true', 'mostly-true', 'barely-true', 'true', 'half-true', 'true', 'true', 'mostly-true', 'pants-fire', 'mostly-true', 'mostly-true', 'half-true', 'mostly-true', 'false', 'pants-fire', 'true', 'false', 'half-true', 'false', 'barely-true', 'half-true', 'mostly-true', 'mostly-true', 'barely-true', 'false', 'half-true', 'pants-fire', 'barely-true', 'true', 'mostly-true', 'barely-true', 'true', 'true', 'barely-true', 'half-true', 'half-true', 'mostly-true', 'mostly-true', 'false', 'false', 'false', 'false', 'mostly-true', 'barely-true', 'barely-true', 'true', 'false', 'false', 'barely-true', 'true', 'true', 'half-true', 'pants-fire', 'pants-fire', 'pants-fire', 'false', 'true', 'false', 'barely-true', 'half-true', 'true', 'true', 'false', 'barely-true', 'half-true', 'mostly-true', 'barely-true', 'half-true', 'half-true', 'mostly-true', 'barely-true', 'barely-true', 'false', 'barely-true', 'false', 'mostly-true', 'mostly-true', 'false', 'barely-true', 'barely-true', 'half-true', 'pants-fire', 'true', 'false', 'half-true', 'half-true', 'true', 'mostly-true', 'true', 'true', 'pants-fire', 'half-true', 'pants-fire', 'pants-fire', 'half-true', 'mostly-true', 'pants-fire', 'barely-true', 'false', 'true', 'barely-true', 'half-true', 'false', 'mostly-true', 'half-true', 'half-true', 'false', 'half-true', 'true', 'mostly-true', 'false', 'true', 'mostly-true', 'barely-true', 'half-true', 'mostly-true', 'barely-true', 'true', 'pants-fire', 'mostly-true', 'true', 'half-true', 'barely-true', 'false', 'true', 'false', 'mostly-true', 'half-true', 'pants-fire', 'mostly-true', 'mostly-true', 'pants-fire', 'half-true', 'half-true', 'pants-fire', 'mostly-true', 'mostly-true', 'true', 'mostly-true', 'mostly-true', 'false', 'mostly-true', 'barely-true', 'false', 'pants-fire', 'barely-true', 'mostly-true', 'true', 'false', 'true', 'false', 'false', 'false', 'true', 'false', 'pants-fire', 'false', 'false', 'mostly-true', 'false', 'half-true', 'pants-fire', 'mostly-true', 'true', 'false', 'true', 'mostly-true', 'mostly-true', 'true', 'false', 'mostly-true', 'true', 'half-true', 'half-true', 'false', 'half-true', 'barely-true', 'false', 'true', 'half-true', 'barely-true', 'true', 'false', 'half-true', 'false', 'mostly-true', 'mostly-true', 'mostly-true', 'half-true', 'half-true', 'half-true', 'half-true', 'half-true', 'half-true', 'half-true', 'true', 'pants-fire', 'pants-fire', 'half-true', 'false', 'half-true', 'false', 'half-true', 'half-true', 'pants-fire', 'mostly-true', 'pants-fire', 'half-true', 'barely-true', 'mostly-true', 'false', 'mostly-true', 'pants-fire', 'pants-fire', 'true', 'true', 'false', 'mostly-true', 'true', 'pants-fire', 'mostly-true', 'true', 'true', 'half-true', 'mostly-true', 'false', 'true', 'false', 'barely-true', 'half-true', 'half-true', 'false', 'pants-fire', 'true', 'half-true', 'true', 'mostly-true', 'half-true', 'half-true', 'false', 'half-true', 'mostly-true', 'half-true', 'true', 'barely-true', 'barely-true', 'barely-true', 'mostly-true', 'mostly-true', 'mostly-true', 'barely-true', 'false', 'false', 'barely-true', 'true', 'true', 'barely-true', 'barely-true', 'pants-fire', 'true', 'mostly-true', 'true', 'false', 'mostly-true', 'half-true', 'false', 'barely-true', 'mostly-true', 'mostly-true', 'true', 'mostly-true', 'true', 'barely-true', 'true', 'half-true', 'mostly-true', 'half-true', 'true', 'true', 'half-true', 'barely-true', 'half-true', 'false', 'false', 'true', 'half-true', 'barely-true', 'false', 'true', 'pants-fire', 'false', 'half-true', 'half-true', 'true', 'false', 'true', 'barely-true', 'half-true', 'mostly-true', 'mostly-true', 'true', 'false', 'false', 'mostly-true', 'false', 'true', 'false', 'mostly-true', 'mostly-true', 'false', 'mostly-true', 'mostly-true', 'true', 'false', 'barely-true', 'mostly-true', 'mostly-true', 'mostly-true', 'false', 'half-true', 'mostly-true', 'false', 'half-true', 'false', 'true', 'pants-fire', 'false', 'true', 'half-true', 'pants-fire', 'false', 'pants-fire', 'half-true', 'mostly-true', 'mostly-true', 'mostly-true', 'half-true', 'half-true', 'true', 'true', 'false', 'mostly-true', 'barely-true', 'half-true', 'mostly-true', 'pants-fire', 'pants-fire', 'pants-fire', 'half-true', 'half-true', 'false', 'pants-fire', 'true', 'half-true', 'half-true', 'barely-true', 'false', 'mostly-true', 'half-true', 'false', 'half-true', 'half-true', 'mostly-true', 'false', 'barely-true', 'true', 'false', 'mostly-true', 'mostly-true', 'barely-true', 'mostly-true', 'mostly-true', 'false', 'pants-fire', 'pants-fire', 'true', 'mostly-true', 'half-true', 'mostly-true', 'half-true', 'false', 'false', 'barely-true', 'half-true', 'barely-true', 'mostly-true', 'mostly-true', 'half-true', 'false', 'false', 'true', 'barely-true', 'false', 'false', 'false', 'half-true', 'mostly-true', 'half-true', 'barely-true', 'pants-fire', 'mostly-true', 'barely-true', 'barely-true', 'true', 'true', 'true', 'mostly-true', 'mostly-true', 'true', 'mostly-true', 'barely-true', 'false', 'mostly-true', 'false', 'true', 'mostly-true', 'false', 'barely-true', 'mostly-true', 'true', 'barely-true', 'false', 'mostly-true', 'pants-fire', 'half-true', 'true', 'true', 'false', 'true', 'true', 'true', 'half-true', 'half-true', 'barely-true', 'false', 'half-true', 'true', 'barely-true', 'half-true', 'half-true', 'true', 'true', 'mostly-true', 'half-true', 'half-true', 'half-true', 'false', 'mostly-true', 'mostly-true', 'half-true', 'false', 'barely-true', 'barely-true', 'true', 'barely-true', 'true', 'true', 'false', 'half-true', 'false', 'true', 'true', 'false', 'barely-true', 'false', 'half-true', 'false', 'mostly-true', 'mostly-true', 'mostly-true', 'false', 'true', 'false', 'false', 'barely-true', 'true', 'half-true', 'half-true', 'pants-fire', 'false', 'true', 'mostly-true', 'barely-true', 'true', 'false', 'mostly-true', 'pants-fire', 'true', 'barely-true', 'mostly-true', 'true', 'mostly-true', 'barely-true', 'mostly-true', 'mostly-true', 'true', 'false', 'half-true', 'false', 'true', 'mostly-true', 'true', 'mostly-true', 'barely-true', 'barely-true', 'barely-true', 'false', 'barely-true', 'mostly-true', 'barely-true', 'true', 'true', 'half-true', 'false', 'false', 'barely-true', 'mostly-true', 'false', 'true', 'half-true', 'barely-true', 'pants-fire', 'half-true', 'barely-true', 'false', 'mostly-true', 'mostly-true', 'pants-fire', 'barely-true', 'mostly-true', 'false', 'pants-fire', 'mostly-true', 'true', 'mostly-true', 'false', 'half-true', 'false', 'barely-true', 'true', 'true', 'true', 'barely-true', 'false', 'true', 'mostly-true', 'pants-fire', 'barely-true', 'false', 'mostly-true', 'mostly-true', 'half-true', 'half-true', 'mostly-true', 'half-true', 'true', 'false', 'false', 'half-true', 'pants-fire', 'half-true', 'true', 'pants-fire', 'barely-true', 'pants-fire', 'half-true', 'barely-true', 'true', 'false', 'mostly-true', 'pants-fire', 'mostly-true', 'pants-fire', 'barely-true', 'mostly-true', 'barely-true', 'true', 'half-true', 'true', 'true', 'mostly-true', 'false', 'barely-true', 'barely-true', 'pants-fire', 'half-true', 'pants-fire', 'mostly-true', 'half-true', 'true', 'false', 'barely-true', 'half-true', 'mostly-true', 'pants-fire', 'mostly-true', 'barely-true', 'pants-fire', 'mostly-true', 'true', 'pants-fire', 'mostly-true', 'mostly-true', 'barely-true', 'false', 'mostly-true', 'mostly-true', 'mostly-true', 'false', 'mostly-true', 'half-true', 'mostly-true', 'false', 'true', 'true', 'half-true', 'half-true', 'false', 'false', 'false', 'mostly-true', 'half-true', 'barely-true', 'barely-true', 'half-true', 'true', 'pants-fire', 'false', 'true', 'true', 'true', 'barely-true', 'barely-true', 'half-true', 'true', 'true', 'barely-true', 'half-true', 'mostly-true', 'half-true', 'mostly-true', 'pants-fire', 'true', 'mostly-true', 'pants-fire', 'false', 'false', 'false', 'pants-fire', 'half-true', 'barely-true', 'mostly-true', 'barely-true', 'false', 'mostly-true', 'false', 'half-true', 'true', 'half-true', 'barely-true', 'half-true', 'barely-true', 'false', 'false', 'mostly-true', 'mostly-true', 'pants-fire', 'mostly-true', 'true', 'pants-fire', 'mostly-true', 'pants-fire', 'barely-true', 'barely-true', 'half-true', 'barely-true', 'false', 'false', 'barely-true', 'barely-true', 'mostly-true', 'pants-fire', 'half-true', 'false', 'mostly-true', 'mostly-true', 'half-true', 'half-true', 'barely-true', 'mostly-true', 'true', 'false', 'pants-fire', 'false', 'mostly-true', 'true', 'true', 'barely-true', 'mostly-true', 'half-true', 'mostly-true', 'false', 'false', 'false', 'mostly-true', 'half-true', 'barely-true', 'mostly-true', 'true', 'barely-true', 'pants-fire', 'barely-true', 'false', 'true', 'pants-fire', 'barely-true', 'false', 'true', 'barely-true', 'mostly-true', 'half-true', 'pants-fire', 'pants-fire', 'barely-true', 'pants-fire', 'true', 'barely-true', 'pants-fire', 'pants-fire', 'barely-true', 'half-true', 'pants-fire', 'false', 'true', 'false', 'mostly-true', 'false', 'mostly-true', 'false', 'true', 'false', 'half-true', 'pants-fire', 'half-true', 'half-true', 'false', 'barely-true', 'mostly-true', 'true', 'true', 'half-true', 'mostly-true', 'half-true', 'barely-true', 'false', 'false', 'half-true', 'pants-fire', 'barely-true', 'false', 'mostly-true', 'pants-fire', 'mostly-true', 'false', 'mostly-true', 'true', 'barely-true', 'mostly-true', 'half-true', 'pants-fire', 'false', 'false', 'mostly-true', 'false', 'true', 'mostly-true', 'barely-true', 'mostly-true', 'half-true', 'false', 'half-true', 'half-true', 'true', 'mostly-true', 'half-true', 'mostly-true', 'false', 'barely-true', 'half-true', 'pants-fire', 'half-true', 'true', 'pants-fire', 'mostly-true', 'half-true', 'mostly-true', 'true', 'barely-true', 'mostly-true', 'half-true', 'mostly-true', 'true', 'true', 'mostly-true', 'barely-true', 'pants-fire', 'pants-fire', 'pants-fire', 'barely-true', 'pants-fire', 'true', 'false', 'mostly-true', 'true', 'half-true', 'mostly-true', 'barely-true', 'false', 'pants-fire', 'half-true', 'barely-true', 'true', 'true', 'false', 'false', 'half-true', 'half-true', 'true', 'true', 'mostly-true', 'half-true', 'mostly-true', 'barely-true', 'barely-true', 'half-true', 'mostly-true', 'mostly-true', 'barely-true', 'half-true', 'true', 'half-true', 'true', 'true', 'mostly-true', 'true', 'false', 'half-true', 'barely-true', 'barely-true', 'mostly-true', 'true', 'half-true', 'barely-true', 'false', 'half-true', 'false', 'barely-true', 'false', 'mostly-true', 'mostly-true', 'true', 'true', 'mostly-true', 'barely-true', 'half-true', 'false', 'true', 'barely-true', 'false', 'false', 'false', 'false', 'true', 'false', 'barely-true', 'true', 'mostly-true', 'pants-fire', 'half-true', 'mostly-true', 'half-true', 'barely-true', 'barely-true', 'half-true', 'half-true', 'true', 'false', 'half-true', 'half-true', 'false', 'true', 'true', 'barely-true', 'mostly-true', 'barely-true', 'mostly-true', 'mostly-true', 'mostly-true', 'mostly-true', 'mostly-true', 'half-true', 'pants-fire', 'barely-true', 'true', 'mostly-true', 'false', 'barely-true', 'mostly-true', 'barely-true', 'false', 'true', 'true', 'barely-true', 'half-true', 'mostly-true', 'true', 'true', 'barely-true', 'mostly-true', 'half-true', 'true', 'half-true', 'half-true', 'false', 'half-true', 'barely-true', 'mostly-true', 'true', 'true', 'pants-fire', 'true', 'false', 'half-true', 'true', 'half-true', 'mostly-true', 'pants-fire', 'pants-fire', 'mostly-true', 'mostly-true', 'half-true', 'pants-fire', 'barely-true', 'barely-true', 'true', 'false', 'false', 'mostly-true', 'half-true', 'mostly-true', 'true', 'false', 'mostly-true', 'false', 'pants-fire', 'half-true', 'false', 'half-true', 'false', 'half-true', 'half-true', 'mostly-true', 'half-true', 'false', 'half-true', 'pants-fire', 'mostly-true', 'half-true', 'false', 'false', 'false', 'mostly-true', 'barely-true', 'pants-fire', 'mostly-true', 'pants-fire', 'pants-fire', 'half-true', 'mostly-true', 'half-true', 'half-true', 'mostly-true', 'pants-fire', 'mostly-true', 'true', 'true', 'mostly-true', 'false', 'mostly-true', 'true', 'barely-true', 'false', 'half-true', 'barely-true', 'mostly-true', 'mostly-true', 'half-true', 'barely-true', 'half-true', 'true', 'pants-fire', 'pants-fire', 'false', 'half-true', 'mostly-true', 'mostly-true', 'half-true', 'true', 'pants-fire', 'mostly-true', 'barely-true', 'true', 'false', 'pants-fire', 'barely-true', 'mostly-true', 'half-true', 'half-true', 'false', 'half-true', 'barely-true', 'false', 'true', 'half-true', 'true', 'half-true', 'true', 'pants-fire', 'true', 'mostly-true', 'pants-fire', 'half-true', 'barely-true', 'false', 'false', 'barely-true', 'half-true', 'true', 'barely-true', 'half-true', 'false', 'true', 'false', 'false', 'true', 'half-true', 'pants-fire', 'false', 'half-true', 'half-true', 'barely-true', 'true', 'false', 'half-true', 'mostly-true', 'half-true', 'true', 'barely-true', 'pants-fire', 'half-true', 'true', 'mostly-true', 'mostly-true', 'barely-true', 'mostly-true', 'true', 'false', 'false', 'mostly-true', 'false', 'barely-true', 'false', 'mostly-true', 'true', 'true', 'pants-fire', 'false', 'half-true', 'barely-true', 'true', 'true', 'half-true', 'pants-fire', 'half-true', 'pants-fire', 'false', 'half-true', 'false', 'half-true', 'half-true', 'half-true', 'false', 'mostly-true', 'true', 'true', 'false', 'pants-fire', 'barely-true', 'false', 'half-true', 'mostly-true', 'barely-true', 'half-true', 'half-true', 'false', 'mostly-true', 'false', 'true', 'mostly-true', 'true', 'true', 'mostly-true', 'false', 'false', 'false', 'mostly-true', 'barely-true', 'barely-true', 'half-true', 'half-true', 'mostly-true', 'half-true', 'mostly-true', 'mostly-true', 'half-true', 'barely-true', 'half-true', 'pants-fire', 'barely-true', 'half-true', 'half-true', 'mostly-true', 'half-true', 'false', 'true', 'mostly-true', 'true', 'mostly-true', 'half-true', 'half-true', 'pants-fire', 'false', 'pants-fire', 'false', 'false', 'false', 'false', 'barely-true', 'pants-fire', 'mostly-true', 'half-true', 'barely-true', 'false', 'barely-true', 'half-true', 'mostly-true', 'true', 'true', 'half-true', 'mostly-true', 'false', 'false', 'half-true', 'true', 'barely-true', 'true', 'barely-true', 'true', 'true', 'mostly-true', 'half-true', 'mostly-true', 'true', 'barely-true', 'false', 'true', 'false', 'barely-true', 'half-true', 'mostly-true', 'mostly-true', 'barely-true', 'false', 'mostly-true', 'half-true', 'pants-fire', 'barely-true', 'pants-fire', 'mostly-true', 'false', 'true', 'true', 'barely-true', 'half-true', 'true', 'half-true', 'false', 'half-true', 'half-true', 'mostly-true', 'barely-true', 'barely-true', 'false', 'mostly-true', 'mostly-true', 'mostly-true', 'false', 'false', 'barely-true', 'true', 'false', 'barely-true', 'mostly-true', 'true', 'half-true', 'barely-true', 'barely-true', 'barely-true', 'true', 'false', 'false', 'half-true', 'pants-fire', 'false', 'true', 'mostly-true', 'half-true', 'true', 'false', 'mostly-true', 'mostly-true', 'false', 'half-true', 'false', 'mostly-true', 'pants-fire', 'barely-true', 'half-true', 'true', 'barely-true', 'false', 'true', 'true', 'mostly-true', 'false', 'pants-fire', 'barely-true', 'pants-fire', 'mostly-true', 'half-true', 'mostly-true', 'half-true', 'barely-true', 'mostly-true', 'mostly-true', 'mostly-true', 'true', 'true', 'mostly-true', 'true', 'barely-true', 'true', 'false', 'true', 'half-true', 'pants-fire', 'half-true', 'pants-fire', 'false', 'pants-fire', 'false', 'false', 'half-true', 'false', 'mostly-true', 'false', 'half-true', 'false', 'half-true', 'true', 'mostly-true', 'false', 'barely-true', 'barely-true', 'mostly-true', 'pants-fire', 'half-true', 'mostly-true', 'barely-true', 'mostly-true', 'true', 'mostly-true', 'barely-true', 'false', 'pants-fire', 'true', 'mostly-true', 'true', 'false', 'true', 'pants-fire', 'barely-true', 'mostly-true', 'half-true', 'barely-true', 'mostly-true', 'half-true', 'false', 'mostly-true', 'half-true', 'true', 'true', 'barely-true', 'half-true', 'false', 'half-true', 'true', 'barely-true', 'mostly-true', 'false', 'true', 'half-true', 'mostly-true', 'mostly-true', 'half-true', 'true', 'false', 'pants-fire', 'half-true', 'barely-true', 'mostly-true', 'barely-true', 'half-true', 'pants-fire', 'barely-true', 'mostly-true', 'true', 'mostly-true', 'half-true', 'true', 'false', 'barely-true', 'true', 'mostly-true', 'barely-true', 'mostly-true', 'true', 'barely-true', 'pants-fire', 'half-true', 'false', 'false', 'half-true', 'false', 'pants-fire', 'half-true', 'half-true', 'half-true', 'mostly-true', 'half-true', 'true', 'half-true', 'mostly-true', 'mostly-true', 'mostly-true', 'half-true', 'true', 'false', 'half-true', 'half-true', 'pants-fire', 'true', 'true', 'true', 'mostly-true', 'pants-fire', 'mostly-true', 'mostly-true', 'half-true', 'mostly-true', 'mostly-true', 'true', 'true', 'barely-true', 'false', 'mostly-true', 'true', 'mostly-true', 'barely-true', 'mostly-true', 'false', 'false', 'mostly-true', 'barely-true', 'half-true', 'half-true', 'false', 'half-true', 'true', 'half-true', 'half-true', 'true', 'mostly-true', 'true', 'pants-fire', 'false', 'mostly-true', 'false', 'half-true', 'true', 'false', 'pants-fire', 'pants-fire', 'half-true', 'half-true', 'false', 'mostly-true', 'half-true', 'pants-fire', 'mostly-true', 'false', 'barely-true', 'false', 'mostly-true', 'half-true', 'false', 'false', 'false', 'barely-true', 'true', 'half-true', 'pants-fire', 'barely-true', 'barely-true', 'mostly-true', 'mostly-true', 'mostly-true', 'false', 'half-true', 'mostly-true', 'pants-fire', 'pants-fire', 'barely-true', 'pants-fire', 'mostly-true', 'mostly-true', 'half-true', 'barely-true', 'half-true', 'pants-fire', 'mostly-true', 'barely-true', 'true', 'half-true', 'pants-fire', 'mostly-true', 'mostly-true', 'false', 'mostly-true', 'half-true', 'half-true', 'false', 'half-true', 'half-true', 'true', 'pants-fire', 'half-true', 'pants-fire', 'true', 'mostly-true', 'true', 'mostly-true', 'mostly-true', 'false', 'mostly-true', 'false', 'false', 'true', 'half-true', 'false', 'true', 'half-true', 'half-true', 'false', 'false', 'true', 'half-true', 'pants-fire', 'false', 'mostly-true', 'false', 'half-true', 'false', 'half-true', 'barely-true', 'half-true', 'barely-true', 'barely-true', 'barely-true', 'barely-true', 'barely-true', 'half-true', 'false', 'half-true', 'false', 'false', 'half-true', 'true', 'pants-fire', 'mostly-true', 'pants-fire', 'barely-true', 'false', 'barely-true', 'barely-true', 'false', 'mostly-true', 'pants-fire', 'false', 'half-true', 'pants-fire', 'false', 'barely-true', 'true', 'false', 'pants-fire', 'barely-true', 'barely-true', 'false', 'true', 'false', 'true', 'half-true', 'false', 'true', 'mostly-true', 'mostly-true', 'barely-true', 'half-true', 'half-true', 'false', 'barely-true', 'true', 'mostly-true', 'mostly-true', 'true', 'false', 'barely-true', 'true', 'true', 'false', 'half-true', 'true', 'barely-true', 'barely-true', 'true', 'pants-fire', 'barely-true', 'pants-fire', 'mostly-true', 'barely-true', 'false', 'pants-fire', 'false', 'pants-fire', 'pants-fire', 'barely-true', 'half-true', 'barely-true', 'half-true', 'mostly-true', 'false', 'half-true', 'half-true', 'mostly-true', 'mostly-true', 'half-true', 'false', 'half-true', 'barely-true', 'half-true', 'false', 'true', 'false', 'barely-true', 'half-true', 'pants-fire', 'false', 'false', 'pants-fire', 'half-true', 'half-true', 'half-true', 'mostly-true', 'half-true', 'mostly-true', 'false', 'half-true', 'half-true', 'half-true', 'true', 'barely-true', 'false', 'half-true', 'mostly-true', 'mostly-true', 'true', 'mostly-true', 'pants-fire', 'false', 'true', 'half-true', 'true', 'false', 'barely-true', 'false', 'half-true', 'false', 'pants-fire', 'true', 'false', 'mostly-true', 'mostly-true', 'true', 'false', 'mostly-true', 'false', 'mostly-true', 'false', 'barely-true', 'false', 'mostly-true', 'mostly-true', 'false', 'mostly-true', 'false', 'false', 'false', 'true', 'half-true', 'half-true', 'pants-fire', 'true', 'half-true', 'true', 'true', 'half-true', 'mostly-true', 'false', 'mostly-true', 'mostly-true', 'true', 'true', 'barely-true', 'true', 'pants-fire', 'pants-fire', 'half-true', 'half-true', 'mostly-true', 'half-true', 'mostly-true', 'pants-fire', 'true', 'false', 'half-true', 'half-true', 'mostly-true', 'barely-true', 'half-true', 'half-true', 'half-true', 'false', 'false', 'pants-fire', 'barely-true', 'pants-fire', 'true', 'true', 'half-true', 'true', 'false', 'mostly-true', 'false', 'half-true', 'mostly-true', 'pants-fire', 'false', 'mostly-true', 'mostly-true', 'pants-fire', 'mostly-true', 'half-true', 'half-true', 'half-true', 'half-true', 'half-true', 'half-true', 'half-true', 'true', 'half-true', 'true', 'mostly-true', 'mostly-true', 'half-true', 'false', 'half-true', 'false', 'true', 'false', 'false', 'true', 'mostly-true', 'half-true', 'barely-true', 'false', 'mostly-true', 'false', 'mostly-true', 'half-true', 'half-true', 'half-true', 'mostly-true', 'true', 'false', 'barely-true', 'half-true', 'barely-true', 'half-true', 'false', 'true', 'half-true', 'false', 'half-true', 'barely-true', 'false', 'true', 'false', 'false', 'pants-fire', 'half-true', 'barely-true', 'pants-fire', 'barely-true', 'barely-true', 'mostly-true', 'true', 'true', 'false', 'half-true', 'false', 'true', 'false', 'mostly-true', 'mostly-true', 'false', 'false', 'true', 'half-true', 'true', 'false', 'barely-true', 'half-true', 'barely-true', 'half-true', 'true', 'half-true', 'true', 'barely-true', 'barely-true', 'true', 'barely-true', 'barely-true', 'half-true', 'true', 'false', 'false', 'false', 'true', 'half-true', 'half-true', 'pants-fire', 'half-true', 'pants-fire', 'false', 'true', 'false', 'half-true', 'true', 'barely-true', 'false', 'half-true', 'pants-fire', 'false', 'mostly-true', 'barely-true', 'half-true', 'half-true', 'false', 'true', 'pants-fire', 'barely-true', 'half-true', 'true', 'false', 'true', 'half-true', 'half-true', 'barely-true', 'barely-true', 'half-true', 'half-true', 'half-true', 'half-true', 'false', 'mostly-true', 'mostly-true', 'false', 'barely-true', 'half-true', 'half-true', 'false', 'half-true', 'half-true', 'half-true', 'half-true', 'half-true', 'half-true', 'true', 'barely-true', 'mostly-true', 'false', 'false', 'true', 'false', 'false', 'barely-true', 'true', 'true', 'true', 'true', 'false', 'mostly-true', 'barely-true', 'true', 'half-true', 'false', 'false', 'mostly-true', 'false', 'false', 'half-true', 'mostly-true', 'true', 'false', 'mostly-true', 'barely-true', 'true', 'pants-fire', 'false', 'mostly-true', 'mostly-true', 'mostly-true', 'true', 'half-true', 'false', 'false', 'false', 'mostly-true', 'mostly-true', 'mostly-true', 'barely-true', 'half-true', 'false', 'half-true', 'mostly-true', 'half-true', 'true', 'half-true', 'false', 'pants-fire', 'true', 'mostly-true', 'true', 'half-true', 'half-true', 'false', 'false', 'true', 'true', 'pants-fire', 'mostly-true', 'true', 'false', 'half-true', 'barely-true', 'barely-true', 'true', 'barely-true', 'true', 'mostly-true', 'mostly-true', 'true', 'mostly-true', 'barely-true', 'true', 'false', 'half-true', 'mostly-true', 'true', 'barely-true', 'true', 'mostly-true', 'false', 'half-true', 'mostly-true', 'true', 'true', 'true', 'half-true', 'barely-true', 'false', 'true', 'true', 'barely-true', 'mostly-true', 'false', 'mostly-true', 'false', 'mostly-true', 'false', 'true', 'false', 'half-true', 'mostly-true', 'false', 'true', 'mostly-true', 'mostly-true', 'true', 'true', 'true', 'barely-true', 'false', 'mostly-true', 'pants-fire', 'half-true', 'barely-true', 'half-true', 'barely-true', 'mostly-true', 'mostly-true', 'mostly-true', 'half-true', 'pants-fire', 'true', 'half-true', 'half-true', 'barely-true', 'mostly-true', 'pants-fire', 'true', 'barely-true', 'half-true', 'false', 'false', 'barely-true', 'false', 'half-true', 'mostly-true', 'false', 'half-true', 'half-true', 'barely-true', 'barely-true', 'mostly-true', 'mostly-true', 'mostly-true', 'barely-true', 'barely-true', 'half-true', 'true', 'mostly-true', 'mostly-true', 'barely-true', 'mostly-true', 'mostly-true', 'barely-true', 'mostly-true', 'half-true', 'barely-true', 'pants-fire', 'barely-true', 'pants-fire', 'barely-true', 'pants-fire', 'false', 'false', 'true', 'mostly-true', 'half-true', 'false', 'true', 'barely-true', 'pants-fire', 'half-true', 'half-true', 'barely-true', 'true', 'true', 'mostly-true', 'true', 'half-true', 'false', 'true', 'half-true', 'barely-true', 'half-true', 'true', 'false', 'half-true', 'half-true', 'half-true', 'false', 'mostly-true', 'true', 'half-true', 'barely-true', 'true', 'pants-fire', 'barely-true', 'barely-true', 'false', 'true', 'barely-true', 'half-true', 'pants-fire', 'false', 'false', 'false', 'false', 'half-true', 'half-true', 'false', 'true', 'barely-true', 'true', 'half-true', 'barely-true', 'mostly-true', 'barely-true', 'false', 'false', 'half-true', 'mostly-true', 'mostly-true', 'mostly-true', 'half-true', 'barely-true', 'half-true', 'mostly-true', 'false', 'pants-fire', 'mostly-true', 'mostly-true', 'pants-fire', 'true', 'false', 'false', 'true', 'barely-true', 'half-true', 'half-true', 'barely-true', 'pants-fire', 'pants-fire', 'false', 'pants-fire', 'false', 'mostly-true', 'true', 'false', 'false', 'barely-true', 'barely-true', 'half-true', 'true', 'pants-fire', 'half-true', 'true', 'half-true', 'mostly-true', 'mostly-true', 'half-true', 'false', 'false', 'half-true', 'mostly-true', 'false', 'half-true', 'pants-fire', 'half-true', 'false', 'true', 'mostly-true', 'pants-fire', 'true', 'barely-true', 'half-true', 'false', 'pants-fire', 'true', 'true', 'pants-fire', 'false', 'half-true', 'barely-true', 'true', 'barely-true', 'mostly-true', 'mostly-true', 'barely-true', 'false', 'half-true', 'half-true', 'half-true', 'half-true', 'barely-true', 'false', 'barely-true', 'false', 'pants-fire', 'mostly-true', 'half-true', 'barely-true', 'barely-true', 'barely-true', 'true', 'mostly-true', 'half-true', 'mostly-true', 'true', 'mostly-true', 'mostly-true', 'half-true', 'half-true', 'half-true', 'false', 'mostly-true', 'pants-fire', 'false', 'true', 'mostly-true', 'true', 'false', 'half-true', 'mostly-true', 'mostly-true', 'pants-fire', 'half-true', 'mostly-true', 'barely-true', 'false', 'barely-true', 'half-true', 'true', 'true', 'half-true', 'false', 'mostly-true', 'pants-fire', 'mostly-true', 'half-true', 'half-true', 'false', 'mostly-true', 'barely-true', 'half-true', 'mostly-true', 'true', 'pants-fire', 'false', 'half-true', 'mostly-true', 'half-true', 'mostly-true', 'false', 'true', 'mostly-true', 'half-true', 'false', 'barely-true', 'barely-true', 'half-true', 'barely-true', 'false', 'false', 'half-true', 'barely-true', 'barely-true', 'false', 'false', 'barely-true', 'half-true', 'barely-true', 'false', 'mostly-true', 'mostly-true', 'false', 'true', 'half-true', 'mostly-true', 'half-true', 'half-true', 'false', 'false', 'mostly-true', 'mostly-true', 'false', 'mostly-true', 'true', 'half-true', 'mostly-true', 'true', 'barely-true', 'mostly-true', 'half-true', 'true', 'pants-fire', 'barely-true', 'pants-fire', 'barely-true', 'true', 'mostly-true', 'half-true', 'barely-true', 'half-true', 'barely-true', 'half-true', 'mostly-true', 'barely-true', 'true', 'mostly-true', 'half-true', 'mostly-true', 'barely-true', 'barely-true', 'pants-fire', 'barely-true', 'pants-fire', 'half-true', 'half-true', 'mostly-true', 'mostly-true', 'mostly-true', 'true', 'mostly-true', 'true', 'half-true', 'half-true', 'half-true', 'pants-fire', 'false', 'false', 'barely-true', 'true', 'false', 'mostly-true', 'true', 'true', 'false', 'barely-true', 'true', 'half-true', 'mostly-true', 'true', 'barely-true', 'true', 'half-true', 'true', 'barely-true', 'mostly-true', 'mostly-true', 'mostly-true', 'true', 'true', 'half-true', 'mostly-true', 'half-true', 'half-true', 'mostly-true', 'false', 'mostly-true', 'mostly-true', 'half-true', 'true', 'false', 'barely-true', 'barely-true', 'half-true', 'mostly-true', 'half-true', 'pants-fire', 'pants-fire', 'pants-fire', 'half-true', 'true', 'pants-fire', 'pants-fire', 'half-true', 'true', 'false', 'false', 'mostly-true', 'half-true', 'half-true', 'false', 'barely-true', 'barely-true', 'true', 'half-true', 'true', 'barely-true', 'true', 'pants-fire', 'false', 'true', 'false', 'pants-fire', 'half-true', 'mostly-true', 'false', 'half-true', 'true', 'half-true', 'half-true', 'false', 'false', 'half-true', 'half-true', 'mostly-true', 'true', 'half-true', 'true', 'true', 'false', 'half-true', 'mostly-true', 'pants-fire', 'barely-true', 'true', 'pants-fire', 'pants-fire', 'pants-fire', 'half-true', 'mostly-true', 'true', 'half-true', 'barely-true', 'true', 'true', 'barely-true', 'half-true', 'true', 'mostly-true', 'mostly-true', 'barely-true', 'false', 'true', 'false', 'pants-fire', 'barely-true', 'barely-true', 'false', 'mostly-true', 'barely-true', 'barely-true', 'half-true', 'mostly-true', 'half-true', 'barely-true', 'false', 'barely-true', 'mostly-true', 'half-true', 'mostly-true', 'half-true', 'true', 'mostly-true', 'half-true', 'pants-fire', 'mostly-true', 'false', 'false', 'true', 'false', 'barely-true', 'pants-fire', 'barely-true', 'false', 'half-true', 'half-true', 'mostly-true', 'half-true', 'true', 'barely-true', 'half-true', 'false', 'true', 'mostly-true', 'false', 'mostly-true', 'false', 'false', 'mostly-true', 'mostly-true', 'true', 'mostly-true', 'mostly-true', 'mostly-true', 'barely-true', 'true', 'true', 'pants-fire', 'false', 'mostly-true', 'mostly-true', 'true', 'mostly-true', 'true', 'false', 'half-true', 'false', 'pants-fire', 'true', 'barely-true', 'half-true', 'mostly-true', 'mostly-true', 'half-true', 'true', 'half-true', 'barely-true', 'true', 'false', 'mostly-true', 'half-true', 'false', 'mostly-true', 'half-true', 'half-true', 'barely-true', 'half-true', 'true', 'false', 'half-true', 'half-true', 'barely-true', 'barely-true', 'mostly-true', 'half-true', 'half-true', 'true', 'mostly-true', 'false', 'pants-fire', 'barely-true', 'half-true', 'false', 'barely-true', 'true', 'barely-true', 'false', 'half-true', 'mostly-true', 'pants-fire', 'barely-true', 'true', 'mostly-true', 'barely-true', 'true', 'barely-true', 'half-true', 'mostly-true', 'barely-true', 'false', 'false', 'half-true', 'false', 'half-true', 'pants-fire', 'mostly-true', 'false', 'barely-true', 'mostly-true', 'half-true', 'barely-true', 'barely-true', 'mostly-true', 'mostly-true', 'half-true', 'true', 'true', 'mostly-true', 'mostly-true', 'true', 'false', 'half-true', 'mostly-true', 'true', 'barely-true', 'half-true', 'barely-true', 'mostly-true', 'mostly-true', 'true', 'half-true', 'false', 'false', 'half-true', 'pants-fire', 'barely-true', 'mostly-true', 'false', 'mostly-true', 'mostly-true', 'barely-true', 'half-true', 'mostly-true', 'false', 'false', 'half-true', 'half-true', 'false', 'mostly-true', 'half-true', 'mostly-true', 'mostly-true', 'half-true', 'false', 'half-true', 'barely-true', 'half-true', 'barely-true', 'half-true', 'true', 'barely-true', 'barely-true', 'half-true', 'true', 'half-true', 'half-true', 'barely-true', 'false', 'barely-true', 'false', 'false', 'half-true', 'mostly-true', 'barely-true', 'true', 'mostly-true', 'true', 'half-true', 'half-true', 'false', 'barely-true', 'false', 'barely-true', 'mostly-true', 'true', 'half-true', 'barely-true', 'mostly-true', 'barely-true', 'pants-fire', 'mostly-true', 'mostly-true', 'pants-fire', 'true', 'false', 'mostly-true', 'half-true', 'true', 'false', 'false', 'false', 'mostly-true', 'true', 'false', 'half-true', 'false', 'mostly-true', 'mostly-true', 'true', 'true', 'mostly-true', 'half-true', 'pants-fire', 'false', 'barely-true', 'pants-fire', 'half-true', 'half-true', 'mostly-true', 'mostly-true', 'barely-true', 'false', 'false', 'false', 'mostly-true', 'false', 'mostly-true', 'barely-true', 'barely-true', 'barely-true', 'half-true', 'false', 'mostly-true', 'half-true', 'half-true', 'half-true', 'half-true', 'half-true', 'false', 'true', 'half-true', 'mostly-true', 'pants-fire', 'half-true', 'true', 'false', 'false', 'true', 'barely-true', 'half-true', 'true', 'barely-true', 'barely-true', 'half-true', 'false', 'true', 'true', 'barely-true', 'pants-fire', 'barely-true', 'half-true', 'barely-true', 'half-true', 'false', 'mostly-true', 'false', 'true', 'half-true', 'barely-true', 'mostly-true', 'true', 'mostly-true', 'barely-true', 'false', 'barely-true', 'true', 'half-true', 'false', 'half-true', 'half-true', 'mostly-true', 'barely-true', 'true', 'false', 'mostly-true', 'mostly-true', 'true', 'false', 'false', 'pants-fire', 'barely-true', 'true', 'half-true', 'true', 'pants-fire', 'true', 'true', 'mostly-true', 'true', 'true', 'barely-true', 'false', 'mostly-true', 'true', 'barely-true', 'true', 'half-true', 'pants-fire', 'false', 'half-true', 'pants-fire', 'half-true', 'true', 'true', 'barely-true', 'half-true', 'barely-true', 'half-true', 'barely-true', 'false', 'mostly-true', 'true', 'barely-true', 'true', 'pants-fire', 'true', 'barely-true', 'false', 'half-true', 'pants-fire', 'false', 'mostly-true', 'true', 'mostly-true', 'true', 'half-true', 'half-true', 'false', 'mostly-true', 'mostly-true', 'false', 'half-true', 'barely-true', 'half-true', 'mostly-true', 'true', 'half-true', 'half-true', 'half-true', 'half-true', 'false', 'false', 'true', 'mostly-true', 'pants-fire', 'true', 'half-true', 'barely-true', 'barely-true', 'mostly-true', 'mostly-true', 'half-true', 'half-true', 'false', 'half-true', 'half-true', 'mostly-true', 'mostly-true', 'pants-fire', 'half-true', 'true', 'mostly-true', 'true', 'mostly-true', 'half-true', 'mostly-true', 'false', 'true', 'false', 'true', 'mostly-true', 'mostly-true', 'barely-true', 'half-true', 'true', 'half-true', 'false', 'true', 'half-true', 'mostly-true', 'false', 'barely-true', 'false', 'half-true', 'mostly-true', 'true', 'true', 'barely-true', 'false', 'mostly-true', 'false', 'true', 'mostly-true', 'false', 'true', 'barely-true', 'mostly-true', 'barely-true', 'true', 'mostly-true', 'false', 'true', 'mostly-true', 'barely-true', 'half-true', 'false', 'half-true', 'mostly-true', 'true', 'false', 'barely-true', 'mostly-true', 'false', 'half-true', 'mostly-true', 'true', 'barely-true', 'false', 'mostly-true', 'true', 'mostly-true', 'true', 'mostly-true', 'mostly-true', 'barely-true', 'mostly-true', 'false', 'true', 'false', 'true', 'barely-true', 'false', 'barely-true', 'mostly-true', 'false', 'barely-true', 'half-true', 'true', 'false', 'false', 'pants-fire', 'half-true', 'false', 'mostly-true', 'barely-true', 'true', 'false', 'half-true', 'pants-fire', 'barely-true', 'false', 'false', 'pants-fire', 'pants-fire', 'true', 'false', 'true', 'half-true', 'half-true', 'barely-true', 'barely-true', 'mostly-true', 'barely-true', 'barely-true', 'barely-true', 'mostly-true', 'pants-fire', 'false', 'mostly-true', 'mostly-true', 'half-true', 'half-true', 'barely-true', 'mostly-true', 'pants-fire', 'half-true', 'mostly-true', 'false', 'true', 'mostly-true', 'barely-true', 'true', 'pants-fire', 'half-true', 'pants-fire', 'barely-true', 'mostly-true', 'false', 'mostly-true', 'half-true', 'true', 'half-true', 'false', 'mostly-true', 'true', 'half-true', 'true', 'half-true', 'mostly-true', 'barely-true', 'half-true', 'false', 'half-true', 'true', 'mostly-true', 'half-true', 'barely-true', 'mostly-true', 'mostly-true', 'half-true', 'false', 'pants-fire', 'false', 'mostly-true', 'half-true', 'half-true', 'mostly-true', 'barely-true', 'pants-fire', 'barely-true', 'half-true', 'half-true', 'barely-true', 'mostly-true', 'half-true', 'pants-fire', 'half-true', 'mostly-true', 'false', 'false', 'barely-true', 'false', 'false', 'mostly-true', 'false', 'half-true', 'false', 'false', 'half-true', 'pants-fire', 'false', 'true', 'half-true', 'barely-true', 'half-true', 'mostly-true', 'false', 'mostly-true', 'half-true', 'mostly-true', 'half-true', 'half-true', 'mostly-true', 'barely-true', 'barely-true', 'true', 'mostly-true', 'false', 'true', 'mostly-true', 'true', 'barely-true', 'barely-true', 'mostly-true', 'barely-true', 'false', 'half-true', 'barely-true', 'true', 'false', 'mostly-true', 'half-true', 'true', 'half-true', 'mostly-true', 'false', 'false', 'half-true', 'half-true', 'mostly-true', 'pants-fire', 'mostly-true', 'false', 'false', 'half-true', 'mostly-true', 'barely-true', 'pants-fire', 'half-true', 'pants-fire', 'mostly-true', 'half-true', 'false', 'mostly-true', 'half-true', 'pants-fire', 'barely-true', 'barely-true', 'half-true', 'false', 'true', 'half-true', 'mostly-true', 'barely-true', 'barely-true', 'mostly-true', 'true', 'true', 'barely-true', 'false', 'half-true', 'false', 'barely-true', 'barely-true', 'true', 'true', 'false', 'false', 'pants-fire', 'half-true', 'mostly-true', 'half-true', 'pants-fire', 'mostly-true', 'false', 'mostly-true', 'mostly-true', 'half-true', 'mostly-true', 'mostly-true', 'true', 'half-true', 'false', 'mostly-true', 'false', 'mostly-true', 'false', 'false', 'barely-true', 'barely-true', 'false', 'half-true', 'true', 'pants-fire', 'mostly-true', 'half-true', 'pants-fire', 'true', 'pants-fire', 'false', 'barely-true', 'false', 'true', 'false', 'false', 'half-true', 'true', 'half-true', 'barely-true', 'half-true', 'half-true', 'true', 'false', 'true', 'barely-true', 'mostly-true', 'false', 'true', 'half-true', 'true', 'mostly-true', 'mostly-true', 'false', 'half-true', 'half-true', 'barely-true', 'half-true', 'mostly-true', 'barely-true', 'false', 'pants-fire', 'mostly-true', 'half-true', 'half-true', 'pants-fire', 'half-true', 'mostly-true', 'false', 'mostly-true', 'barely-true', 'true', 'barely-true', 'false', 'barely-true', 'half-true', 'false', 'barely-true', 'half-true', 'mostly-true', 'half-true', 'half-true', 'false', 'mostly-true', 'false', 'mostly-true', 'true', 'true', 'false', 'mostly-true', 'false', 'pants-fire', 'false', 'barely-true', 'barely-true', 'barely-true', 'mostly-true', 'false', 'half-true', 'barely-true', 'half-true', 'half-true', 'pants-fire', 'pants-fire', 'false', 'true', 'true', 'true', 'pants-fire', 'half-true', 'true', 'half-true', 'pants-fire', 'barely-true', 'true', 'barely-true', 'true', 'mostly-true', 'true', 'barely-true', 'half-true', 'mostly-true', 'half-true', 'mostly-true', 'mostly-true', 'mostly-true', 'mostly-true', 'mostly-true', 'barely-true', 'mostly-true', 'false', 'barely-true', 'mostly-true', 'barely-true', 'true', 'half-true', 'barely-true', 'false', 'true', 'half-true', 'half-true', 'barely-true', 'mostly-true', 'half-true', 'mostly-true', 'pants-fire', 'mostly-true', 'barely-true', 'false', 'barely-true', 'true', 'true', 'mostly-true', 'mostly-true', 'true', 'half-true', 'mostly-true', 'half-true', 'true', 'false', 'barely-true', 'half-true', 'false', 'barely-true', 'barely-true', 'barely-true', 'mostly-true', 'barely-true', 'true', 'mostly-true', 'false', 'true', 'pants-fire', 'mostly-true', 'pants-fire', 'mostly-true', 'barely-true', 'barely-true', 'true', 'half-true', 'half-true', 'true', 'half-true', 'pants-fire', 'true', 'barely-true', 'false', 'mostly-true', 'mostly-true', 'mostly-true', 'pants-fire', 'barely-true', 'true', 'barely-true', 'mostly-true', 'false', 'true', 'false', 'mostly-true', 'barely-true', 'pants-fire', 'mostly-true', 'barely-true', 'half-true', 'false', 'false', 'half-true', 'false', 'false', 'barely-true', 'false', 'false', 'half-true', 'half-true', 'barely-true', 'barely-true', 'false', 'mostly-true', 'mostly-true', 'false', 'true', 'half-true', 'barely-true', 'barely-true', 'true', 'pants-fire', 'pants-fire', 'false', 'pants-fire', 'half-true', 'true', 'mostly-true', 'barely-true', 'true', 'mostly-true', 'barely-true', 'false', 'mostly-true', 'half-true', 'false', 'false', 'half-true', 'false', 'mostly-true', 'mostly-true', 'barely-true', 'barely-true', 'mostly-true', 'false', 'false', 'half-true', 'mostly-true', 'true', 'barely-true', 'barely-true', 'true', 'true', 'half-true', 'barely-true', 'barely-true', 'true', 'mostly-true', 'half-true', 'half-true', 'half-true', 'false', 'pants-fire', 'half-true', 'half-true', 'barely-true', 'half-true', 'half-true', 'half-true', 'barely-true', 'barely-true', 'mostly-true', 'half-true', 'mostly-true', 'half-true', 'pants-fire', 'false', 'pants-fire', 'mostly-true', 'mostly-true', 'pants-fire', 'pants-fire', 'pants-fire', 'mostly-true', 'half-true', 'mostly-true', 'half-true', 'pants-fire', 'true', 'half-true', 'false', 'mostly-true', 'true', 'true', 'half-true', 'barely-true', 'true', 'half-true', 'false', 'pants-fire', 'half-true', 'false', 'false', 'mostly-true', 'false', 'pants-fire', 'true', 'mostly-true', 'false', 'true', 'false', 'half-true', 'barely-true', 'mostly-true', 'true', 'true', 'false', 'false', 'true', 'true', 'false', 'true', 'false', 'pants-fire', 'true', 'half-true', 'half-true', 'half-true', 'mostly-true', 'true', 'barely-true', 'mostly-true', 'barely-true', 'mostly-true', 'half-true', 'half-true', 'pants-fire', 'mostly-true', 'barely-true', 'barely-true', 'false', 'true', 'false', 'mostly-true', 'mostly-true', 'barely-true', 'pants-fire', 'barely-true', 'mostly-true', 'false', 'false', 'true', 'false', 'true', 'mostly-true', 'mostly-true', 'false', 'half-true', 'mostly-true', 'half-true', 'barely-true', 'false', 'pants-fire', 'barely-true', 'false', 'mostly-true', 'false', 'true', 'true', 'mostly-true', 'half-true', 'false', 'false', 'barely-true', 'half-true', 'true', 'barely-true', 'false', 'true', 'mostly-true', 'true', 'false', 'half-true', 'true', 'false', 'mostly-true', 'mostly-true', 'barely-true', 'half-true', 'half-true', 'mostly-true', 'half-true', 'half-true', 'true', 'barely-true', 'false', 'true', 'false', 'false', 'false', 'mostly-true', 'mostly-true', 'half-true', 'mostly-true', 'false', 'barely-true', 'half-true', 'true', 'true', 'true', 'half-true', 'true', 'true', 'barely-true', 'barely-true', 'false', 'half-true', 'mostly-true', 'mostly-true', 'mostly-true', 'mostly-true', 'mostly-true', 'half-true', 'pants-fire', 'true', 'mostly-true', 'barely-true', 'false', 'barely-true', 'mostly-true', 'half-true', 'pants-fire', 'barely-true', 'pants-fire', 'half-true', 'true', 'false', 'barely-true', 'barely-true', 'true', 'barely-true', 'true', 'true', 'false', 'barely-true', 'half-true', 'barely-true', 'false', 'mostly-true', 'true', 'false', 'half-true', 'true', 'true', 'barely-true', 'mostly-true', 'mostly-true', 'half-true', 'false', 'half-true', 'false', 'false', 'true', 'pants-fire', 'pants-fire', 'false', 'half-true', 'false', 'true', 'half-true', 'pants-fire', 'barely-true', 'false', 'mostly-true', 'true', 'true', 'half-true', 'pants-fire', 'mostly-true', 'false', 'half-true', 'pants-fire', 'barely-true', 'mostly-true', 'false', 'barely-true', 'barely-true', 'half-true', 'barely-true', 'mostly-true', 'barely-true', 'half-true', 'half-true', 'half-true', 'mostly-true', 'mostly-true', 'true', 'half-true', 'true', 'barely-true', 'mostly-true', 'mostly-true', 'true', 'pants-fire', 'pants-fire', 'false', 'false', 'half-true', 'false', 'false', 'half-true', 'true', 'false', 'true', 'half-true', 'mostly-true', 'true', 'barely-true', 'half-true', 'barely-true', 'mostly-true', 'barely-true', 'barely-true', 'half-true', 'pants-fire', 'true', 'false', 'true', 'true', 'half-true', 'half-true', 'false', 'false', 'half-true', 'half-true', 'false', 'mostly-true', 'barely-true', 'barely-true', 'half-true', 'barely-true', 'half-true', 'true', 'half-true', 'pants-fire', 'false', 'true', 'true', 'barely-true', 'mostly-true', 'true', 'false', 'pants-fire', 'barely-true', 'true', 'half-true', 'mostly-true', 'pants-fire', 'half-true', 'false', 'true', 'mostly-true', 'false', 'barely-true', 'barely-true', 'mostly-true', 'false', 'mostly-true', 'barely-true', 'false', 'mostly-true', 'pants-fire', 'pants-fire', 'true', 'pants-fire', 'half-true', 'true', 'mostly-true', 'barely-true', 'half-true', 'mostly-true', 'pants-fire', 'half-true', 'mostly-true', 'mostly-true', 'mostly-true', 'mostly-true', 'barely-true', 'mostly-true', 'false', 'mostly-true', 'false', 'barely-true', 'mostly-true', 'true', 'false', 'true', 'pants-fire', 'barely-true', 'mostly-true', 'pants-fire', 'false', 'half-true', 'mostly-true', 'mostly-true', 'true', 'true', 'pants-fire', 'half-true', 'half-true', 'true', 'barely-true', 'barely-true', 'mostly-true', 'mostly-true', 'false', 'true', 'true', 'pants-fire', 'mostly-true', 'false', 'mostly-true', 'false', 'false', 'half-true', 'half-true', 'half-true', 'mostly-true', 'false', 'true', 'half-true', 'false', 'barely-true', 'false', 'pants-fire', 'mostly-true', 'false', 'pants-fire', 'pants-fire', 'half-true', 'half-true', 'true', 'mostly-true', 'pants-fire', 'pants-fire', 'mostly-true', 'half-true', 'false', 'false', 'mostly-true', 'mostly-true', 'mostly-true', 'true', 'false', 'barely-true', 'barely-true', 'true', 'true', 'half-true', 'mostly-true', 'mostly-true', 'pants-fire', 'true', 'mostly-true', 'mostly-true', 'half-true', 'mostly-true', 'false', 'pants-fire', 'barely-true', 'mostly-true', 'false', 'barely-true', 'pants-fire', 'barely-true', 'mostly-true', 'barely-true', 'mostly-true', 'barely-true', 'half-true', 'false', 'barely-true', 'true', 'false', 'false', 'half-true', 'false', 'barely-true', 'false', 'half-true', 'pants-fire', 'barely-true', 'true', 'barely-true', 'mostly-true', 'false', 'mostly-true', 'true', 'half-true', 'false', 'barely-true', 'half-true', 'mostly-true', 'half-true', 'barely-true', 'barely-true', 'true', 'half-true', 'true', 'mostly-true', 'true', 'false', 'true', 'pants-fire', 'mostly-true', 'barely-true', 'false', 'half-true', 'mostly-true', 'half-true', 'half-true', 'barely-true', 'true', 'barely-true', 'half-true', 'mostly-true', 'false', 'mostly-true', 'pants-fire', 'barely-true', 'mostly-true', 'mostly-true', 'barely-true', 'true', 'barely-true', 'barely-true', 'barely-true', 'true', 'half-true', 'barely-true', 'true', 'pants-fire', 'barely-true', 'barely-true', 'mostly-true', 'true', 'mostly-true', 'false', 'half-true', 'half-true', 'mostly-true', 'barely-true', 'false', 'false', 'mostly-true', 'mostly-true', 'true', 'true', 'half-true', 'mostly-true', 'barely-true', 'half-true', 'pants-fire', 'half-true', 'mostly-true', 'false', 'false', 'false', 'pants-fire', 'barely-true', 'half-true', 'pants-fire', 'half-true', 'false', 'false', 'mostly-true', 'mostly-true', 'barely-true', 'mostly-true', 'false', 'half-true', 'mostly-true', 'barely-true', 'true', 'pants-fire', 'pants-fire', 'mostly-true', 'mostly-true', 'false', 'half-true', 'mostly-true', 'barely-true', 'true', 'false', 'mostly-true', 'false', 'half-true', 'true', 'mostly-true', 'true', 'half-true', 'barely-true', 'half-true', 'false', 'false', 'half-true', 'pants-fire', 'barely-true', 'false', 'mostly-true', 'false', 'true', 'half-true', 'mostly-true', 'false', 'mostly-true', 'true', 'barely-true', 'false', 'false', 'mostly-true', 'false', 'barely-true', 'half-true', 'barely-true', 'mostly-true', 'barely-true', 'barely-true', 'mostly-true', 'half-true', 'mostly-true', 'barely-true', 'false', 'mostly-true', 'pants-fire', 'mostly-true', 'barely-true', 'mostly-true', 'true', 'half-true', 'half-true', 'true', 'true', 'barely-true', 'true', 'half-true', 'barely-true', 'false', 'false', 'false', 'true', 'pants-fire', 'true', 'false', 'true', 'true', 'true', 'mostly-true', 'barely-true', 'half-true', 'false', 'true', 'true', 'half-true', 'true', 'barely-true', 'true', 'half-true', 'half-true', 'false', 'true', 'mostly-true', 'pants-fire', 'true', 'false', 'false', 'mostly-true', 'barely-true', 'pants-fire', 'false', 'false', 'false', 'half-true', 'barely-true', 'barely-true', 'pants-fire', 'mostly-true', 'true', 'half-true', 'half-true', 'half-true', 'half-true', 'barely-true', 'true', 'mostly-true', 'half-true', 'true', 'false', 'mostly-true', 'half-true', 'false', 'true', 'false', 'mostly-true', 'half-true', 'pants-fire', 'half-true', 'half-true', 'half-true', 'half-true', 'pants-fire', 'half-true', 'pants-fire', 'pants-fire', 'false', 'mostly-true', 'mostly-true', 'mostly-true', 'barely-true', 'barely-true', 'mostly-true', 'half-true', 'true', 'mostly-true', 'mostly-true', 'false', 'half-true', 'true', 'false', 'half-true', 'pants-fire', 'true', 'mostly-true', 'half-true', 'mostly-true', 'pants-fire', 'half-true', 'true', 'barely-true', 'false', 'true', 'half-true', 'mostly-true', 'barely-true', 'mostly-true', 'true', 'true', 'half-true', 'false', 'pants-fire', 'barely-true', 'mostly-true', 'half-true', 'false', 'true', 'half-true', 'true', 'true', 'false', 'mostly-true', 'half-true', 'half-true', 'half-true', 'barely-true', 'false', 'true', 'mostly-true', 'mostly-true', 'pants-fire', 'true', 'mostly-true', 'mostly-true', 'mostly-true', 'half-true', 'pants-fire', 'false', 'mostly-true', 'half-true', 'false', 'half-true', 'pants-fire', 'barely-true', 'half-true', 'barely-true', 'true', 'true', 'half-true', 'half-true', 'pants-fire', 'mostly-true', 'barely-true', 'false', 'false', 'false', 'half-true', 'false', 'false', 'mostly-true', 'half-true', 'true', 'false', 'barely-true', 'true', 'barely-true', 'true', 'barely-true', 'mostly-true', 'true', 'half-true', 'true', 'true', 'barely-true', 'barely-true', 'half-true', 'mostly-true', 'false', 'false', 'half-true', 'mostly-true', 'half-true', 'barely-true', 'false', 'mostly-true', 'mostly-true', 'barely-true', 'mostly-true', 'false', 'half-true', 'pants-fire', 'pants-fire', 'mostly-true', 'true', 'half-true', 'true', 'mostly-true', 'pants-fire', 'barely-true', 'true', 'true', 'true', 'half-true', 'false', 'barely-true', 'barely-true', 'mostly-true', 'half-true', 'half-true', 'mostly-true', 'false', 'barely-true', 'barely-true', 'pants-fire', 'half-true', 'mostly-true', 'half-true', 'true', 'mostly-true', 'false', 'barely-true', 'false', 'pants-fire', 'barely-true', 'half-true', 'mostly-true', 'true', 'true', 'mostly-true', 'half-true', 'barely-true', 'pants-fire', 'mostly-true', 'mostly-true', 'barely-true', 'half-true', 'false', 'pants-fire', 'half-true', 'half-true', 'half-true', 'barely-true', 'true', 'half-true', 'false', 'barely-true', 'barely-true', 'half-true', 'barely-true', 'mostly-true', 'mostly-true', 'half-true', 'false', 'mostly-true', 'barely-true', 'barely-true', 'mostly-true', 'true', 'half-true', 'barely-true', 'half-true', 'false', 'true', 'mostly-true', 'false', 'true', 'half-true', 'half-true', 'false', 'barely-true', 'false', 'half-true', 'mostly-true', 'half-true', 'half-true', 'false', 'mostly-true', 'pants-fire', 'barely-true', 'false', 'half-true', 'mostly-true', 'half-true', 'barely-true', 'barely-true', 'half-true', 'mostly-true', 'false', 'false', 'half-true', 'false', 'pants-fire', 'false', 'true', 'false', 'barely-true', 'true', 'false', 'true', 'mostly-true', 'barely-true', 'mostly-true', 'false', 'barely-true', 'pants-fire', 'false', 'pants-fire', 'half-true', 'half-true', 'half-true', 'false', 'false', 'mostly-true', 'pants-fire', 'true', 'half-true', 'barely-true', 'pants-fire', 'half-true', 'pants-fire', 'true', 'false', 'false', 'false', 'true', 'mostly-true', 'barely-true', 'mostly-true', 'half-true', 'half-true', 'true', 'mostly-true', 'mostly-true', 'pants-fire', 'true', 'false', 'false', 'false', 'true', 'barely-true', 'false', 'pants-fire', 'true', 'mostly-true', 'barely-true', 'barely-true', 'true', 'true', 'half-true', 'barely-true', 'mostly-true', 'half-true', 'true', 'barely-true', 'false', 'mostly-true', 'half-true', 'mostly-true', 'barely-true', 'true', 'half-true', 'false', 'mostly-true', 'mostly-true', 'mostly-true', 'mostly-true', 'pants-fire', 'half-true', 'half-true', 'barely-true', 'barely-true', 'false', 'mostly-true', 'barely-true', 'barely-true', 'half-true', 'half-true', 'false', 'false', 'false', 'false', 'true', 'barely-true', 'true', 'pants-fire', 'true', 'half-true', 'barely-true', 'half-true', 'barely-true', 'true', 'mostly-true', 'false', 'false', 'mostly-true', 'false', 'barely-true', 'barely-true', 'true', 'mostly-true', 'mostly-true', 'false', 'false', 'barely-true', 'mostly-true', 'half-true', 'barely-true', 'pants-fire', 'half-true', 'true', 'barely-true', 'false', 'mostly-true', 'true', 'half-true', 'barely-true', 'half-true', 'true', 'false', 'barely-true', 'barely-true', 'half-true', 'barely-true', 'false', 'half-true', 'false', 'half-true', 'barely-true', 'false', 'barely-true', 'true', 'false', 'false', 'barely-true', 'false', 'mostly-true', 'pants-fire', 'false', 'false', 'true', 'pants-fire', 'false', 'half-true', 'half-true', 'false', 'mostly-true', 'false', 'half-true', 'mostly-true', 'true', 'half-true', 'true', 'pants-fire', 'false', 'barely-true', 'barely-true', 'pants-fire', 'mostly-true', 'true', 'barely-true', 'true', 'pants-fire', 'true', 'false', 'pants-fire', 'false', 'pants-fire', 'false', 'mostly-true', 'mostly-true', 'false', 'false', 'false', 'false', 'false', 'barely-true', 'false', 'barely-true', 'pants-fire', 'barely-true', 'pants-fire', 'barely-true', 'barely-true', 'pants-fire', 'true', 'mostly-true', 'false', 'mostly-true', 'mostly-true', 'mostly-true', 'mostly-true', 'barely-true', 'mostly-true', 'mostly-true', 'half-true', 'pants-fire', 'barely-true', 'half-true', 'mostly-true', 'false', 'pants-fire', 'barely-true', 'true', 'mostly-true', 'mostly-true', 'half-true', 'half-true', 'barely-true', 'mostly-true', 'false', 'half-true', 'mostly-true', 'mostly-true', 'barely-true', 'barely-true', 'pants-fire', 'mostly-true', 'pants-fire', 'true', 'true', 'true', 'true', 'pants-fire', 'true', 'pants-fire', 'mostly-true', 'false', 'barely-true', 'barely-true', 'half-true', 'half-true', 'half-true', 'half-true', 'barely-true', 'true', 'barely-true', 'barely-true', 'false', 'mostly-true', 'true', 'false', 'half-true', 'true', 'barely-true', 'barely-true', 'false', 'mostly-true', 'half-true', 'true', 'barely-true', 'half-true', 'mostly-true', 'barely-true', 'barely-true', 'false', 'false', 'mostly-true', 'barely-true', 'true', 'half-true', 'true', 'half-true', 'half-true', 'false', 'true', 'half-true', 'false', 'false', 'false', 'half-true', 'false', 'half-true', 'false', 'barely-true', 'true', 'half-true', 'false', 'mostly-true', 'true', 'half-true', 'barely-true', 'barely-true', 'barely-true', 'true', 'mostly-true', 'false', 'true', 'true', 'pants-fire', 'half-true', 'pants-fire', 'barely-true', 'true', 'mostly-true', 'false', 'false', 'pants-fire', 'barely-true', 'false', 'half-true', 'barely-true', 'mostly-true', 'mostly-true', 'mostly-true', 'barely-true', 'barely-true', 'barely-true', 'false', 'barely-true', 'half-true', 'half-true', 'half-true', 'half-true', 'false', 'mostly-true', 'half-true', 'half-true', 'true', 'false', 'false', 'mostly-true', 'true', 'half-true', 'true', 'mostly-true', 'false', 'false', 'barely-true', 'barely-true', 'mostly-true', 'barely-true', 'false', 'mostly-true', 'half-true', 'barely-true', 'half-true', 'half-true', 'false', 'true', 'false', 'false', 'false', 'true', 'barely-true', 'false', 'false', 'half-true', 'barely-true', 'half-true', 'true', 'false', 'false', 'mostly-true', 'mostly-true', 'barely-true', 'true', 'mostly-true', 'half-true', 'half-true', 'false', 'true', 'true', 'false', 'half-true', 'barely-true', 'true', 'half-true', 'barely-true', 'mostly-true', 'pants-fire', 'false', 'true', 'false', 'false', 'false', 'pants-fire', 'half-true', 'mostly-true', 'true', 'barely-true', 'barely-true', 'half-true', 'barely-true', 'false', 'false', 'true', 'half-true', 'mostly-true', 'false', 'mostly-true', 'half-true', 'half-true', 'mostly-true', 'false', 'half-true', 'half-true', 'barely-true', 'pants-fire', 'mostly-true', 'true', 'half-true', 'barely-true', 'false', 'barely-true', 'mostly-true', 'mostly-true', 'barely-true', 'half-true', 'true', 'pants-fire', 'true', 'mostly-true', 'mostly-true', 'half-true', 'half-true', 'false', 'half-true', 'mostly-true', 'pants-fire', 'mostly-true', 'mostly-true', 'mostly-true', 'true', 'false', 'false', 'mostly-true', 'mostly-true', 'half-true', 'pants-fire', 'half-true', 'barely-true', 'barely-true', 'true', 'barely-true', 'mostly-true', 'true', 'false', 'half-true', 'barely-true', 'mostly-true', 'false', 'mostly-true', 'false', 'barely-true', 'false', 'true', 'false', 'pants-fire', 'barely-true', 'mostly-true', 'false', 'mostly-true', 'false', 'true', 'true', 'mostly-true', 'barely-true', 'mostly-true', 'barely-true', 'pants-fire', 'false', 'mostly-true', 'mostly-true', 'half-true', 'false', 'true', 'true', 'half-true', 'false', 'false', 'false', 'mostly-true', 'half-true', 'pants-fire', 'barely-true', 'half-true', 'true', 'barely-true', 'half-true', 'true', 'true', 'pants-fire', 'mostly-true', 'barely-true', 'mostly-true', 'true', 'true', 'true', 'true', 'half-true', 'barely-true', 'false', 'half-true', 'true', 'mostly-true', 'mostly-true', 'half-true', 'barely-true', 'false', 'true', 'barely-true', 'barely-true', 'half-true', 'false', 'barely-true', 'false', 'mostly-true', 'true', 'barely-true', 'half-true', 'mostly-true', 'mostly-true', 'false', 'true', 'half-true', 'pants-fire', 'true', 'barely-true', 'half-true', 'barely-true', 'barely-true', 'barely-true', 'barely-true', 'barely-true', 'barely-true', 'barely-true', 'barely-true', 'half-true', 'false', 'half-true', 'false', 'false', 'true', 'false', 'false', 'mostly-true', 'true', 'half-true', 'false', 'mostly-true', 'true', 'half-true', 'half-true', 'mostly-true', 'mostly-true', 'mostly-true', 'mostly-true', 'true', 'barely-true', 'half-true', 'mostly-true', 'false', 'false', 'barely-true', 'barely-true', 'half-true', 'true', 'true', 'pants-fire', 'mostly-true', 'mostly-true', 'mostly-true', 'mostly-true', 'half-true', 'half-true', 'pants-fire', 'barely-true', 'false', 'barely-true', 'false', 'pants-fire', 'mostly-true', 'half-true', 'half-true', 'false', 'half-true', 'true', 'mostly-true', 'mostly-true', 'true', 'half-true', 'barely-true', 'half-true', 'true', 'true', 'false', 'barely-true', 'barely-true', 'false', 'true', 'false', 'barely-true', 'false', 'barely-true', 'half-true', 'true', 'barely-true', 'barely-true', 'barely-true', 'barely-true', 'mostly-true', 'half-true', 'mostly-true', 'half-true', 'mostly-true', 'false', 'barely-true', 'mostly-true', 'barely-true', 'mostly-true', 'true', 'half-true', 'mostly-true', 'false', 'half-true', 'false', 'barely-true', 'mostly-true', 'half-true', 'half-true', 'true', 'half-true', 'barely-true', 'half-true', 'mostly-true', 'mostly-true', 'false', 'mostly-true', 'true', 'mostly-true', 'false', 'mostly-true', 'barely-true', 'barely-true', 'pants-fire', 'barely-true', 'barely-true', 'barely-true', 'mostly-true', 'barely-true', 'half-true', 'mostly-true', 'true', 'mostly-true', 'false', 'false', 'half-true', 'half-true', 'barely-true', 'half-true', 'mostly-true', 'mostly-true', 'half-true', 'false', 'barely-true', 'true', 'true', 'pants-fire', 'half-true', 'barely-true', 'false', 'mostly-true', 'true', 'pants-fire', 'barely-true', 'barely-true', 'barely-true', 'false', 'true', 'pants-fire', 'true', 'true', 'true', 'barely-true', 'true', 'mostly-true', 'half-true', 'barely-true', 'mostly-true', 'false', 'true', 'pants-fire', 'barely-true', 'false', 'true', 'true', 'half-true', 'false', 'false', 'pants-fire', 'false', 'pants-fire', 'false', 'false', 'half-true', 'half-true', 'pants-fire', 'pants-fire', 'false', 'true', 'mostly-true', 'false', 'false', 'true', 'half-true', 'half-true', 'pants-fire', 'mostly-true', 'half-true', 'true', 'barely-true', 'true', 'mostly-true', 'half-true', 'mostly-true', 'half-true', 'true', 'mostly-true', 'false', 'false', 'half-true', 'true', 'false', 'barely-true', 'true', 'false', 'mostly-true', 'false', 'false', 'false', 'false', 'mostly-true', 'false', 'half-true', 'false', 'half-true', 'false', 'true', 'false', 'true', 'mostly-true', 'false', 'barely-true', 'barely-true', 'true', 'half-true', 'pants-fire', 'mostly-true', 'false', 'mostly-true', 'true', 'mostly-true', 'false', 'barely-true', 'half-true', 'half-true', 'half-true', 'mostly-true', 'mostly-true', 'false', 'false', 'barely-true', 'true', 'false', 'barely-true', 'mostly-true', 'false', 'barely-true', 'mostly-true', 'mostly-true', 'barely-true', 'mostly-true', 'true', 'half-true', 'true', 'true', 'mostly-true', 'false', 'mostly-true', 'false', 'false', 'half-true', 'barely-true', 'barely-true', 'pants-fire', 'half-true', 'true', 'mostly-true', 'true', 'half-true', 'mostly-true', 'false', 'half-true', 'false', 'false', 'pants-fire', 'false', 'mostly-true', 'true', 'barely-true', 'barely-true', 'barely-true', 'true', 'mostly-true', 'true', 'true', 'mostly-true', 'barely-true', 'false', 'pants-fire', 'barely-true', 'true', 'barely-true', 'half-true', 'half-true', 'false', 'mostly-true', 'true', 'pants-fire', 'half-true', 'mostly-true', 'half-true', 'true', 'half-true', 'barely-true', 'half-true', 'half-true', 'mostly-true', 'half-true', 'mostly-true', 'false', 'mostly-true', 'half-true', 'mostly-true', 'true', 'pants-fire', 'true', 'mostly-true', 'false', 'half-true', 'half-true', 'mostly-true', 'half-true', 'mostly-true', 'true', 'false', 'false', 'pants-fire', 'true', 'barely-true', 'mostly-true', 'mostly-true', 'pants-fire', 'half-true', 'false', 'false', 'pants-fire', 'pants-fire', 'half-true', 'half-true', 'true', 'mostly-true', 'true', 'true', 'true', 'half-true', 'half-true', 'barely-true', 'barely-true', 'false', 'mostly-true', 'mostly-true', 'true', 'half-true', 'barely-true', 'barely-true', 'true', 'half-true', 'pants-fire', 'pants-fire', 'half-true', 'half-true', 'pants-fire', 'pants-fire', 'barely-true', 'false', 'true', 'half-true', 'half-true', 'barely-true', 'false', 'pants-fire', 'true', 'false', 'half-true', 'mostly-true', 'barely-true', 'barely-true', 'half-true', 'false', 'barely-true', 'mostly-true', 'mostly-true', 'false', 'half-true', 'false', 'mostly-true', 'pants-fire', 'false', 'false', 'mostly-true', 'half-true', 'pants-fire', 'pants-fire', 'false', 'mostly-true', 'half-true', 'true', 'false', 'false', 'false', 'false', 'false', 'mostly-true', 'half-true', 'half-true', 'true', 'true', 'half-true', 'mostly-true', 'barely-true', 'barely-true', 'barely-true', 'mostly-true', 'barely-true', 'barely-true', 'true', 'barely-true', 'false', 'mostly-true', 'barely-true', 'half-true', 'true', 'false', 'false', 'true', 'barely-true', 'false', 'mostly-true', 'mostly-true', 'true', 'false', 'half-true', 'mostly-true', 'pants-fire', 'barely-true', 'mostly-true', 'mostly-true', 'true', 'mostly-true', 'true', 'true', 'half-true', 'false', 'false', 'false', 'half-true', 'true', 'half-true', 'true', 'barely-true', 'barely-true', 'true', 'pants-fire', 'mostly-true', 'half-true', 'false', 'mostly-true', 'false', 'barely-true', 'half-true', 'true', 'barely-true', 'barely-true', 'half-true', 'half-true', 'true', 'true', 'true', 'false', 'mostly-true', 'true', 'half-true', 'false', 'mostly-true', 'false', 'true', 'true', 'false', 'false', 'false', 'false', 'half-true', 'true', 'half-true', 'half-true', 'half-true', 'pants-fire', 'true', 'half-true', 'half-true', 'barely-true', 'true', 'mostly-true', 'half-true', 'barely-true', 'mostly-true', 'mostly-true', 'mostly-true', 'half-true', 'mostly-true', 'false', 'mostly-true', 'mostly-true', 'false', 'barely-true', 'pants-fire', 'mostly-true', 'half-true', 'half-true', 'pants-fire', 'barely-true', 'false', 'mostly-true', 'pants-fire', 'barely-true', 'false', 'true', 'mostly-true', 'half-true', 'mostly-true', 'half-true', 'true', 'true', 'false', 'mostly-true', 'half-true', 'barely-true', 'true', 'mostly-true', 'false', 'pants-fire', 'false', 'false', 'barely-true', 'half-true', 'half-true', 'false', 'half-true', 'half-true', 'pants-fire', 'pants-fire', 'mostly-true', 'mostly-true', 'false', 'false', 'half-true', 'barely-true', 'pants-fire', 'false', 'true', 'barely-true', 'half-true', 'mostly-true', 'mostly-true', 'pants-fire', 'false', 'false', 'false', 'barely-true', 'half-true', 'false', 'mostly-true', 'mostly-true', 'barely-true', 'mostly-true', 'mostly-true', 'half-true', 'mostly-true', 'false', 'half-true', 'half-true', 'true', 'mostly-true', 'true', 'true', 'mostly-true', 'barely-true', 'false', 'barely-true', 'false', 'barely-true', 'half-true', 'barely-true', 'false', 'barely-true', 'mostly-true', 'mostly-true', 'half-true', 'true', 'half-true']\n",
            "[0 1 0 ... 2 5 2]\n",
            "[[1. 0. 0. 0. 0. 0.]\n",
            " [0. 1. 0. 0. 0. 0.]\n",
            " [1. 0. 0. 0. 0. 0.]\n",
            " [0. 0. 1. 0. 0. 0.]]\n"
          ],
          "name": "stdout"
        }
      ]
    },
    {
      "cell_type": "code",
      "metadata": {
        "id": "oCsnyG7-zhGB",
        "colab_type": "code",
        "colab": {}
      },
      "source": [
        "#import gensim\n",
        "\n",
        "#word2vec_path = \"/content/drive/My Drive/GoogleNews-vectors-negative300.bin.gz\"\n",
        "#word2vec = gensim.models.KeyedVectors.load_word2vec_format(word2vec_path, binary=True)"
      ],
      "execution_count": 0,
      "outputs": []
    },
    {
      "cell_type": "code",
      "metadata": {
        "id": "RkLOWnjFzhGJ",
        "colab_type": "code",
        "colab": {}
      },
      "source": [
        "def get_word2vec(tokens_list, vector, generate_missing=False, k=300):\n",
        "    if len(tokens_list)<1:\n",
        "        return np.zeros(k)\n",
        "    if generate_missing:\n",
        "        vectorized = [vector[word] if word in vector else np.random.rand(k) for word in tokens_list]\n",
        "    else:\n",
        "        vectorized = [vector[word] if word in vector else np.zeros(k) for word in tokens_list]\n",
        "    length = len(vectorized)\n",
        "    summed = np.sum(vectorized, axis=0)\n",
        "    averaged = np.divide(summed, length)\n",
        "    return averaged\n",
        "\n",
        "def get_word2vec_embeddings(word2vec, data_final, generate_missing=False):\n",
        "    embeddings = data_final['tokens'].apply(lambda x: get_word2vec(x, word2vec, \n",
        "                                                                   generate_missing=generate_missing))\n",
        "    return list(embeddings)"
      ],
      "execution_count": 0,
      "outputs": []
    },
    {
      "cell_type": "code",
      "metadata": {
        "id": "hBewWRZozhGN",
        "colab_type": "code",
        "colab": {}
      },
      "source": [
        "from sklearn.model_selection import train_test_split\n",
        "#embeddings = get_word2vec_embeddings(word2vec, data_final)\n",
        "\n",
        "#print(embeddings[0])"
      ],
      "execution_count": 0,
      "outputs": []
    },
    {
      "cell_type": "code",
      "metadata": {
        "id": "AeYPMytnrAFi",
        "colab_type": "code",
        "colab": {}
      },
      "source": [
        "#Train-test split\n",
        "\"\"\"print(len(embeddings))\n",
        "\n",
        "if type(embeddings) is np.ndarray:\n",
        "  print(\"True\")\n",
        "else:\n",
        "  print(\"False\")\"\"\"\n",
        "  \n",
        "#embeddings = np.asarray(embeddings)\n",
        "\"\"\"if type(embeddings) is np.ndarray:\n",
        "  print(\"True\")\n",
        "print(embeddings.shape)\n",
        " \n",
        "#embeddings = embeddings.flatten()\n",
        "dataframe = pd.DataFrame.from_records(embeddings)\n",
        "print(embeddings.shape)\n",
        "if type(embeddings) is np.ndarray:\n",
        "  print(\"True\")\"\"\"\n",
        "\n",
        "#encoded_y = encoded_y.tolist()\n",
        "padded_data = np.asarray(padded_data)\n",
        "\n",
        "\n",
        "x_train, x_test, y_train, y_test = train_test_split(padded_data, y_labels, \n",
        "                                                    test_size=0.2, random_state=13)\n"
      ],
      "execution_count": 0,
      "outputs": []
    },
    {
      "cell_type": "code",
      "metadata": {
        "id": "B6gRvqefAADR",
        "colab_type": "code",
        "outputId": "94f49fc7-fe28-41a2-ee29-c99cfc735a87",
        "colab": {
          "base_uri": "https://localhost:8080/",
          "height": 298
        }
      },
      "source": [
        "\"\"\"print(x_train.shape)\n",
        "print(x_test.shape)\n",
        "print(y_train.shape)\n",
        "print(y_test.shape)\"\"\"\n",
        "\n",
        "print(len(x_train))\n",
        "print(len(x_train[0]))\n",
        "\n",
        "print(len(y_train))\n",
        "print((y_train[0:5]))\n",
        "\n",
        "print(len(x_test))\n",
        "print(len(x_test[0]))\n",
        "\n",
        "print(len(y_test))\n",
        "print((y_test[0:5]))\n",
        "\n"
      ],
      "execution_count": 0,
      "outputs": [
        {
          "output_type": "stream",
          "text": [
            "10231\n",
            "1398\n",
            "10231\n",
            "[[0. 0. 0. 0. 0. 1.]\n",
            " [0. 1. 0. 0. 0. 0.]\n",
            " [0. 1. 0. 0. 0. 0.]\n",
            " [0. 0. 0. 1. 0. 0.]\n",
            " [0. 0. 0. 0. 0. 1.]]\n",
            "2558\n",
            "1398\n",
            "2558\n",
            "[[1. 0. 0. 0. 0. 0.]\n",
            " [0. 0. 0. 0. 1. 0.]\n",
            " [0. 0. 0. 1. 0. 0.]\n",
            " [0. 1. 0. 0. 0. 0.]\n",
            " [0. 0. 0. 0. 1. 0.]]\n"
          ],
          "name": "stdout"
        }
      ]
    },
    {
      "cell_type": "code",
      "metadata": {
        "id": "KnXUtkLRzhGQ",
        "colab_type": "code",
        "colab": {}
      },
      "source": [
        "def Model(vocab_size, embedded_dim, max_length, activation_function, loss_function, optimizer):\n",
        "  \n",
        "  model = Sequential()\n",
        "  model.add(Embedding(vocab_size, embedded_dim ,input_length = max_length, dropout=0.2))\n",
        "  model.add(Bidirectional(LSTM(64)))\n",
        "  model.add(Dense(units=6))\n",
        "  model.add(Activation(activation_function))\n",
        "  model.compile(loss=loss_function, optimizer=optimizer, metrics=['accuracy'])\n",
        "    \n",
        "  return model"
      ],
      "execution_count": 0,
      "outputs": []
    },
    {
      "cell_type": "code",
      "metadata": {
        "id": "XBnxdhKv8kqC",
        "colab_type": "code",
        "outputId": "e09df17c-ccee-4ca7-f9fc-35ae61db7165",
        "colab": {
          "base_uri": "https://localhost:8080/",
          "height": 512
        }
      },
      "source": [
        "model = Model(vocab_size, 64, 1398, 'relu', 'mse', 'adam')\n",
        "#code suggested to use sparse_categorical_crossentropy as have integer targets instead of binary categorical ones.\n",
        "print (model.summary())"
      ],
      "execution_count": 0,
      "outputs": [
        {
          "output_type": "stream",
          "text": [
            "WARNING:tensorflow:From /usr/local/lib/python3.6/dist-packages/keras/backend/tensorflow_backend.py:66: The name tf.get_default_graph is deprecated. Please use tf.compat.v1.get_default_graph instead.\n",
            "\n",
            "WARNING:tensorflow:From /usr/local/lib/python3.6/dist-packages/keras/backend/tensorflow_backend.py:541: The name tf.placeholder is deprecated. Please use tf.compat.v1.placeholder instead.\n",
            "\n",
            "WARNING:tensorflow:From /usr/local/lib/python3.6/dist-packages/keras/backend/tensorflow_backend.py:4432: The name tf.random_uniform is deprecated. Please use tf.random.uniform instead.\n",
            "\n"
          ],
          "name": "stdout"
        },
        {
          "output_type": "stream",
          "text": [
            "/usr/local/lib/python3.6/dist-packages/ipykernel_launcher.py:4: UserWarning: The `dropout` argument is no longer support in `Embedding`. You can apply a `keras.layers.SpatialDropout1D` layer right after the `Embedding` layer to get the same behavior.\n",
            "  after removing the cwd from sys.path.\n"
          ],
          "name": "stderr"
        },
        {
          "output_type": "stream",
          "text": [
            "WARNING:tensorflow:From /usr/local/lib/python3.6/dist-packages/keras/optimizers.py:793: The name tf.train.Optimizer is deprecated. Please use tf.compat.v1.train.Optimizer instead.\n",
            "\n",
            "Model: \"sequential_1\"\n",
            "_________________________________________________________________\n",
            "Layer (type)                 Output Shape              Param #   \n",
            "=================================================================\n",
            "embedding_1 (Embedding)      (None, 1398, 64)          1920000   \n",
            "_________________________________________________________________\n",
            "bidirectional_1 (Bidirection (None, 128)               66048     \n",
            "_________________________________________________________________\n",
            "dense_1 (Dense)              (None, 6)                 774       \n",
            "_________________________________________________________________\n",
            "activation_1 (Activation)    (None, 6)                 0         \n",
            "=================================================================\n",
            "Total params: 1,986,822\n",
            "Trainable params: 1,986,822\n",
            "Non-trainable params: 0\n",
            "_________________________________________________________________\n",
            "None\n"
          ],
          "name": "stdout"
        }
      ]
    },
    {
      "cell_type": "code",
      "metadata": {
        "id": "KOIuqzG38fpr",
        "colab_type": "code",
        "outputId": "9ebcab91-e01d-4279-8a6f-e834b0aee05d",
        "colab": {
          "base_uri": "https://localhost:8080/",
          "height": 213
        }
      },
      "source": [
        "start = time.time()\n",
        "\n",
        "model.fit(x_train, y_train, batch_size = 5, epochs=5, validation_split = 0.10)\n",
        "\n",
        "training_time = int(math.floor(time.time()-start))\n",
        "\n",
        "print(\"Training Time :\", training_time,\"seconds\")"
      ],
      "execution_count": 0,
      "outputs": [
        {
          "output_type": "stream",
          "text": [
            "WARNING:tensorflow:From /usr/local/lib/python3.6/dist-packages/tensorflow/python/ops/math_grad.py:1250: add_dispatch_support.<locals>.wrapper (from tensorflow.python.ops.array_ops) is deprecated and will be removed in a future version.\n",
            "Instructions for updating:\n",
            "Use tf.where in 2.0, which has the same broadcast rule as np.where\n",
            "WARNING:tensorflow:From /usr/local/lib/python3.6/dist-packages/keras/backend/tensorflow_backend.py:1033: The name tf.assign_add is deprecated. Please use tf.compat.v1.assign_add instead.\n",
            "\n",
            "WARNING:tensorflow:From /usr/local/lib/python3.6/dist-packages/keras/backend/tensorflow_backend.py:1020: The name tf.assign is deprecated. Please use tf.compat.v1.assign instead.\n",
            "\n",
            "Train on 9207 samples, validate on 1024 samples\n",
            "Epoch 1/5\n",
            "6415/9207 [===================>..........] - ETA: 12:06 - loss: 0.1667 - acc: 0.1673"
          ],
          "name": "stdout"
        }
      ]
    },
    {
      "cell_type": "code",
      "metadata": {
        "id": "X4k62yTW9atV",
        "colab_type": "code",
        "colab": {}
      },
      "source": [
        " y_predict = model.predict(x_test)"
      ],
      "execution_count": 0,
      "outputs": []
    },
    {
      "cell_type": "code",
      "metadata": {
        "id": "2hcNuZt8lDt8",
        "colab_type": "code",
        "colab": {}
      },
      "source": [
        "\n",
        "from sklearn.metrics import accuracy_score, f1_score, precision_score, recall_score, classification_report\n",
        "\n",
        "def get_metrics(y_test, y_predicted):  \n",
        "    # true positives / (true positives+false positives)\n",
        "    precision = precision_score(y_test, y_predicted, pos_label=None,\n",
        "                                    average='weighted')             \n",
        "    # true positives / (true positives + false negatives)\n",
        "    recall = recall_score(y_test, y_predicted, pos_label=None,\n",
        "                              average='weighted')\n",
        "    \n",
        "    # harmonic mean of precision and recall\n",
        "    f1 = f1_score(y_test, y_predicted, pos_label=None, average='weighted')\n",
        "    \n",
        "    # true positives + true negatives/ total\n",
        "    accuracy = accuracy_score(y_test, y_predicted)\n",
        "    return accuracy, precision, recall, f1"
      ],
      "execution_count": 0,
      "outputs": []
    },
    {
      "cell_type": "code",
      "metadata": {
        "id": "xsun6SZXowov",
        "colab_type": "code",
        "colab": {}
      },
      "source": [
        "print(y_test[0:4])\n",
        "print(y_predict[0:4])"
      ],
      "execution_count": 0,
      "outputs": []
    },
    {
      "cell_type": "code",
      "metadata": {
        "id": "C7ETgRqXZrOh",
        "colab_type": "code",
        "colab": {}
      },
      "source": [
        "y_predict=np.argmax(y_predict, axis=1)\n",
        "\n",
        "print(y_predict[0:4])"
      ],
      "execution_count": 0,
      "outputs": []
    },
    {
      "cell_type": "code",
      "metadata": {
        "id": "dfRj_IWwhacU",
        "colab_type": "code",
        "colab": {}
      },
      "source": [
        "y_test_final = []\n",
        "\n",
        "for i in range(len(y_test)):\n",
        "  a = y_test[i]\n",
        "  for j in range (len(a)):\n",
        "    if(a[j]==1):\n",
        "      y_test_final.append(j)\n",
        "      \n",
        "print(y_test_final[0:4])"
      ],
      "execution_count": 0,
      "outputs": []
    },
    {
      "cell_type": "code",
      "metadata": {
        "id": "ziUzppVnfVIv",
        "colab_type": "code",
        "colab": {}
      },
      "source": [
        "\n",
        "accuracy, precision, recall, F1 = get_metrics(y_test_final, y_predict)\n",
        "print(\"accuracy = %.3f, precision = %.3f, recall = %.3f, F1 = %.3f\" % (accuracy, precision, \n",
        "                                                                       recall, F1))"
      ],
      "execution_count": 0,
      "outputs": []
    }
  ]
}