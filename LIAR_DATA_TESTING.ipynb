{
  "nbformat": 4,
  "nbformat_minor": 0,
  "metadata": {
    "kernelspec": {
      "display_name": "Python 3",
      "language": "python",
      "name": "python3"
    },
    "language_info": {
      "codemirror_mode": {
        "name": "ipython",
        "version": 3
      },
      "file_extension": ".py",
      "mimetype": "text/x-python",
      "name": "python",
      "nbconvert_exporter": "python",
      "pygments_lexer": "ipython3",
      "version": "3.7.3"
    },
    "colab": {
      "name": "LIAR_DATA_TESTING.ipynb",
      "version": "0.3.2",
      "provenance": [],
      "collapsed_sections": [],
      "include_colab_link": true
    }
  },
  "cells": [
    {
      "cell_type": "markdown",
      "metadata": {
        "id": "view-in-github",
        "colab_type": "text"
      },
      "source": [
        "<a href=\"https://colab.research.google.com/github/ka1shi/Fake-News-Detection/blob/master/LIAR_DATA_TESTING.ipynb\" target=\"_parent\"><img src=\"https://colab.research.google.com/assets/colab-badge.svg\" alt=\"Open In Colab\"/></a>"
      ]
    },
    {
      "cell_type": "code",
      "metadata": {
        "id": "BmZhBP75zhD3",
        "colab_type": "code",
        "outputId": "8b91f3a2-7f4a-4ee9-f3de-806817e7ef77",
        "colab": {
          "base_uri": "https://localhost:8080/",
          "height": 34
        }
      },
      "source": [
        "#Libraries used\n",
        "\n",
        "import sklearn\n",
        "from sklearn.preprocessing import StandardScaler\n",
        "from sklearn.preprocessing import LabelEncoder\n",
        "import matplotlib.pyplot as plt\n",
        "import pandas as pd\n",
        "import numpy as np \n",
        "#from numpy import numpy.ndarray.flatten\n",
        "import os\n",
        "\n",
        "#nltk.download()\n",
        "import nltk\n",
        "from nltk.stem.porter import PorterStemmer\n",
        "from nltk.tokenize import word_tokenize\n",
        "from nltk.tokenize import RegexpTokenizer\n",
        "\n",
        "from keras.preprocessing.text import Tokenizer\n",
        "from keras.preprocessing.sequence import pad_sequences\n",
        "from keras.utils import to_categorical\n",
        "from keras.utils import np_utils\n",
        "\n",
        "from keras.layers import Dense, Input, Flatten, Dropout, Activation\n",
        "from keras.layers import Conv1D, MaxPooling1D, Embedding\n",
        "from keras.layers import LSTM, Bidirectional\n",
        "from keras.models import Model, Sequential\n",
        "from keras.layers import Concatenate\n",
        "import time\n",
        "import math"
      ],
      "execution_count": 0,
      "outputs": [
        {
          "output_type": "stream",
          "text": [
            "Using TensorFlow backend.\n"
          ],
          "name": "stderr"
        }
      ]
    },
    {
      "cell_type": "code",
      "metadata": {
        "id": "ioNERb30zhEA",
        "colab_type": "code",
        "colab": {}
      },
      "source": [
        "def load_data(filename):\n",
        "    \"\"\"\n",
        "    \n",
        "    Load Fake news dataset\n",
        "    \n",
        "    Input:\n",
        "    filename : CSV file that contains data\n",
        "    \n",
        "    Output:\n",
        "    data : Fake news data in pandas dataframe\n",
        "    \"\"\"\n",
        "    \n",
        "    data = pd.read_csv(filename, sep='\\t')\n",
        "    \n",
        "    return data"
      ],
      "execution_count": 0,
      "outputs": []
    },
    {
      "cell_type": "code",
      "metadata": {
        "id": "-RNw9vB2H47E",
        "colab_type": "code",
        "outputId": "9094eeaf-d921-403f-8b90-08a8b6647954",
        "colab": {
          "base_uri": "https://localhost:8080/",
          "height": 34
        }
      },
      "source": [
        "from google.colab import drive\n",
        "drive.mount('/content/drive')"
      ],
      "execution_count": 0,
      "outputs": [
        {
          "output_type": "stream",
          "text": [
            "Drive already mounted at /content/drive; to attempt to forcibly remount, call drive.mount(\"/content/drive\", force_remount=True).\n"
          ],
          "name": "stdout"
        }
      ]
    },
    {
      "cell_type": "code",
      "metadata": {
        "id": "nOkUNmfXzhEE",
        "colab_type": "code",
        "outputId": "709301ed-959c-4032-dab4-db6bee0cb931",
        "colab": {
          "base_uri": "https://localhost:8080/",
          "height": 68
        }
      },
      "source": [
        "#Load data\n",
        "\n",
        "#filename1 = '/home/charmi/Documents/Fake_news_detection/Nikita_Gupta/LIAR_PLUS_data/train'\n",
        "#filename2 = '/home/charmi/Documents/Fake_news_detection/Nikita_Gupta/LIAR_PLUS_data/test'\n",
        "#filename3 = '/home/charmi/Documents/Fake_news_detection/Nikita_Gupta/LIAR_PLUS_data/val'\n",
        "\n",
        "filename1 = '/content/drive/My Drive/LIAR_PLUS_data/train'\n",
        "filename2 = '/content/drive/My Drive/LIAR_PLUS_data/test'\n",
        "filename3 = '/content/drive/My Drive/LIAR_PLUS_data/val'\n",
        "\n",
        "data_train = load_data(filename1)\n",
        "data_test = load_data(filename2)\n",
        "data_val = load_data(filename3)\n",
        "\n",
        "print(data_train.shape)\n",
        "print(data_test.shape)\n",
        "print(data_val.shape)\n",
        "\n"
      ],
      "execution_count": 0,
      "outputs": [
        {
          "output_type": "stream",
          "text": [
            "(10240, 15)\n",
            "(1267, 15)\n",
            "(1284, 15)\n"
          ],
          "name": "stdout"
        }
      ]
    },
    {
      "cell_type": "code",
      "metadata": {
        "id": "xKYq2B0YzhEJ",
        "colab_type": "code",
        "outputId": "93c5b405-f781-4440-d658-ade03d98a0f0",
        "colab": {
          "base_uri": "https://localhost:8080/",
          "height": 289
        }
      },
      "source": [
        "data_train.apply(lambda x: sum(x.isnull()), axis=0)"
      ],
      "execution_count": 0,
      "outputs": [
        {
          "output_type": "execute_result",
          "data": {
            "text/plain": [
              "ID                  0\n",
              "Label               0\n",
              "Statement           0\n",
              "Subject             2\n",
              "Speaker             2\n",
              "Job              2897\n",
              "Location         2208\n",
              "Party               2\n",
              "BT                  2\n",
              "F                   2\n",
              "HT                  2\n",
              "MT                  2\n",
              "POF                 2\n",
              "Context           102\n",
              "Justification      84\n",
              "dtype: int64"
            ]
          },
          "metadata": {
            "tags": []
          },
          "execution_count": 5
        }
      ]
    },
    {
      "cell_type": "code",
      "metadata": {
        "id": "U_gQ-WoozhEO",
        "colab_type": "code",
        "outputId": "3be596b3-2117-4454-df6a-6a4755663396",
        "colab": {
          "base_uri": "https://localhost:8080/",
          "height": 547
        }
      },
      "source": [
        "# Combining all data\n",
        "\n",
        "frame = [data_train, data_test, data_val]\n",
        "data = pd.concat(frame)\n",
        "\n",
        "data = sklearn.utils.shuffle(data)\n",
        "data.reset_index(inplace=True, drop=True) \n",
        "\n",
        "data.to_csv('Liar_plus_data_final.csv')\n",
        "\n",
        "print(data.shape)\n",
        "\n",
        "data.head()"
      ],
      "execution_count": 0,
      "outputs": [
        {
          "output_type": "stream",
          "text": [
            "(12791, 15)\n"
          ],
          "name": "stdout"
        },
        {
          "output_type": "execute_result",
          "data": {
            "text/html": [
              "<div>\n",
              "<style scoped>\n",
              "    .dataframe tbody tr th:only-of-type {\n",
              "        vertical-align: middle;\n",
              "    }\n",
              "\n",
              "    .dataframe tbody tr th {\n",
              "        vertical-align: top;\n",
              "    }\n",
              "\n",
              "    .dataframe thead th {\n",
              "        text-align: right;\n",
              "    }\n",
              "</style>\n",
              "<table border=\"1\" class=\"dataframe\">\n",
              "  <thead>\n",
              "    <tr style=\"text-align: right;\">\n",
              "      <th></th>\n",
              "      <th>ID</th>\n",
              "      <th>Label</th>\n",
              "      <th>Statement</th>\n",
              "      <th>Subject</th>\n",
              "      <th>Speaker</th>\n",
              "      <th>Job</th>\n",
              "      <th>Location</th>\n",
              "      <th>Party</th>\n",
              "      <th>BT</th>\n",
              "      <th>F</th>\n",
              "      <th>HT</th>\n",
              "      <th>MT</th>\n",
              "      <th>POF</th>\n",
              "      <th>Context</th>\n",
              "      <th>Justification</th>\n",
              "    </tr>\n",
              "  </thead>\n",
              "  <tbody>\n",
              "    <tr>\n",
              "      <th>0</th>\n",
              "      <td>5171.json</td>\n",
              "      <td>false</td>\n",
              "      <td>Says an Obama administration policy prohibits ...</td>\n",
              "      <td>marriage,poverty</td>\n",
              "      <td>rick-santorum</td>\n",
              "      <td>NaN</td>\n",
              "      <td>Pennsylvania</td>\n",
              "      <td>republican</td>\n",
              "      <td>12.0</td>\n",
              "      <td>16.0</td>\n",
              "      <td>13.0</td>\n",
              "      <td>7.0</td>\n",
              "      <td>5.0</td>\n",
              "      <td>a debate in South Carolina</td>\n",
              "      <td>Santorum said the Obama administration is not ...</td>\n",
              "    </tr>\n",
              "    <tr>\n",
              "      <th>1</th>\n",
              "      <td>13147.json</td>\n",
              "      <td>barely-true</td>\n",
              "      <td>Not one illness has been reported from raw mil...</td>\n",
              "      <td>corrections-and-updates,food-safety,public-health</td>\n",
              "      <td>dan-flynn</td>\n",
              "      <td>State Representative</td>\n",
              "      <td>Texas</td>\n",
              "      <td>republican</td>\n",
              "      <td>1.0</td>\n",
              "      <td>0.0</td>\n",
              "      <td>0.0</td>\n",
              "      <td>0.0</td>\n",
              "      <td>1.0</td>\n",
              "      <td>a letter to state health officials</td>\n",
              "      <td>Obama said women \"make 77 cents for every doll...</td>\n",
              "    </tr>\n",
              "    <tr>\n",
              "      <th>2</th>\n",
              "      <td>7465.json</td>\n",
              "      <td>mostly-true</td>\n",
              "      <td>Says a majority of Americans -- and Republican...</td>\n",
              "      <td>federal-budget,polls,taxes</td>\n",
              "      <td>barack-obama</td>\n",
              "      <td>President</td>\n",
              "      <td>Illinois</td>\n",
              "      <td>democrat</td>\n",
              "      <td>70.0</td>\n",
              "      <td>71.0</td>\n",
              "      <td>160.0</td>\n",
              "      <td>163.0</td>\n",
              "      <td>9.0</td>\n",
              "      <td>a press briefing at the White House</td>\n",
              "      <td>Bloom said, \"Americans are 20 times as likely ...</td>\n",
              "    </tr>\n",
              "    <tr>\n",
              "      <th>3</th>\n",
              "      <td>4798.json</td>\n",
              "      <td>false</td>\n",
              "      <td>Says the state auditor found that 37 percent o...</td>\n",
              "      <td>education</td>\n",
              "      <td>michael-doherty</td>\n",
              "      <td>NaN</td>\n",
              "      <td>NaN</td>\n",
              "      <td>republican</td>\n",
              "      <td>1.0</td>\n",
              "      <td>3.0</td>\n",
              "      <td>1.0</td>\n",
              "      <td>1.0</td>\n",
              "      <td>0.0</td>\n",
              "      <td>a speech before the East Jersey Tea Party</td>\n",
              "      <td>Graham said, \"The labor participation rate is ...</td>\n",
              "    </tr>\n",
              "    <tr>\n",
              "      <th>4</th>\n",
              "      <td>11597.json</td>\n",
              "      <td>barely-true</td>\n",
              "      <td>There is currently no ability to vet these peo...</td>\n",
              "      <td>foreign-policy,homeland-security,immigration,t...</td>\n",
              "      <td>ben-carson</td>\n",
              "      <td>NaN</td>\n",
              "      <td>NaN</td>\n",
              "      <td>republican</td>\n",
              "      <td>7.0</td>\n",
              "      <td>12.0</td>\n",
              "      <td>3.0</td>\n",
              "      <td>2.0</td>\n",
              "      <td>4.0</td>\n",
              "      <td>an official statement posted on Facebook.</td>\n",
              "      <td>Clinton said Sanders \"has been largely a very ...</td>\n",
              "    </tr>\n",
              "  </tbody>\n",
              "</table>\n",
              "</div>"
            ],
            "text/plain": [
              "           ID  ...                                      Justification\n",
              "0   5171.json  ...  Santorum said the Obama administration is not ...\n",
              "1  13147.json  ...  Obama said women \"make 77 cents for every doll...\n",
              "2   7465.json  ...  Bloom said, \"Americans are 20 times as likely ...\n",
              "3   4798.json  ...  Graham said, \"The labor participation rate is ...\n",
              "4  11597.json  ...  Clinton said Sanders \"has been largely a very ...\n",
              "\n",
              "[5 rows x 15 columns]"
            ]
          },
          "metadata": {
            "tags": []
          },
          "execution_count": 6
        }
      ]
    },
    {
      "cell_type": "code",
      "metadata": {
        "id": "cmLp28XnzhET",
        "colab_type": "code",
        "outputId": "443f04a3-853c-4e79-9b71-3d806e4594c7",
        "colab": {
          "base_uri": "https://localhost:8080/",
          "height": 297
        }
      },
      "source": [
        "data.describe()"
      ],
      "execution_count": 0,
      "outputs": [
        {
          "output_type": "execute_result",
          "data": {
            "text/html": [
              "<div>\n",
              "<style scoped>\n",
              "    .dataframe tbody tr th:only-of-type {\n",
              "        vertical-align: middle;\n",
              "    }\n",
              "\n",
              "    .dataframe tbody tr th {\n",
              "        vertical-align: top;\n",
              "    }\n",
              "\n",
              "    .dataframe thead th {\n",
              "        text-align: right;\n",
              "    }\n",
              "</style>\n",
              "<table border=\"1\" class=\"dataframe\">\n",
              "  <thead>\n",
              "    <tr style=\"text-align: right;\">\n",
              "      <th></th>\n",
              "      <th>BT</th>\n",
              "      <th>F</th>\n",
              "      <th>HT</th>\n",
              "      <th>MT</th>\n",
              "      <th>POF</th>\n",
              "    </tr>\n",
              "  </thead>\n",
              "  <tbody>\n",
              "    <tr>\n",
              "      <th>count</th>\n",
              "      <td>12789.000000</td>\n",
              "      <td>12789.000000</td>\n",
              "      <td>12789.000000</td>\n",
              "      <td>12789.000000</td>\n",
              "      <td>12789.000000</td>\n",
              "    </tr>\n",
              "    <tr>\n",
              "      <th>mean</th>\n",
              "      <td>11.583939</td>\n",
              "      <td>13.359059</td>\n",
              "      <td>17.185785</td>\n",
              "      <td>16.497850</td>\n",
              "      <td>6.251388</td>\n",
              "    </tr>\n",
              "    <tr>\n",
              "      <th>std</th>\n",
              "      <td>18.978037</td>\n",
              "      <td>24.140086</td>\n",
              "      <td>35.847678</td>\n",
              "      <td>36.165276</td>\n",
              "      <td>16.180777</td>\n",
              "    </tr>\n",
              "    <tr>\n",
              "      <th>min</th>\n",
              "      <td>0.000000</td>\n",
              "      <td>0.000000</td>\n",
              "      <td>0.000000</td>\n",
              "      <td>0.000000</td>\n",
              "      <td>0.000000</td>\n",
              "    </tr>\n",
              "    <tr>\n",
              "      <th>25%</th>\n",
              "      <td>0.000000</td>\n",
              "      <td>0.000000</td>\n",
              "      <td>0.000000</td>\n",
              "      <td>0.000000</td>\n",
              "      <td>0.000000</td>\n",
              "    </tr>\n",
              "    <tr>\n",
              "      <th>50%</th>\n",
              "      <td>2.000000</td>\n",
              "      <td>2.000000</td>\n",
              "      <td>3.000000</td>\n",
              "      <td>3.000000</td>\n",
              "      <td>1.000000</td>\n",
              "    </tr>\n",
              "    <tr>\n",
              "      <th>75%</th>\n",
              "      <td>12.000000</td>\n",
              "      <td>15.000000</td>\n",
              "      <td>13.000000</td>\n",
              "      <td>12.000000</td>\n",
              "      <td>5.000000</td>\n",
              "    </tr>\n",
              "    <tr>\n",
              "      <th>max</th>\n",
              "      <td>70.000000</td>\n",
              "      <td>114.000000</td>\n",
              "      <td>160.000000</td>\n",
              "      <td>163.000000</td>\n",
              "      <td>105.000000</td>\n",
              "    </tr>\n",
              "  </tbody>\n",
              "</table>\n",
              "</div>"
            ],
            "text/plain": [
              "                 BT             F            HT            MT           POF\n",
              "count  12789.000000  12789.000000  12789.000000  12789.000000  12789.000000\n",
              "mean      11.583939     13.359059     17.185785     16.497850      6.251388\n",
              "std       18.978037     24.140086     35.847678     36.165276     16.180777\n",
              "min        0.000000      0.000000      0.000000      0.000000      0.000000\n",
              "25%        0.000000      0.000000      0.000000      0.000000      0.000000\n",
              "50%        2.000000      2.000000      3.000000      3.000000      1.000000\n",
              "75%       12.000000     15.000000     13.000000     12.000000      5.000000\n",
              "max       70.000000    114.000000    160.000000    163.000000    105.000000"
            ]
          },
          "metadata": {
            "tags": []
          },
          "execution_count": 7
        }
      ]
    },
    {
      "cell_type": "code",
      "metadata": {
        "id": "0WQjZFydz1nu",
        "colab_type": "code",
        "colab": {}
      },
      "source": [
        "#graph between labels how many of each presnt and also betwwn these values"
      ],
      "execution_count": 0,
      "outputs": []
    },
    {
      "cell_type": "code",
      "metadata": {
        "id": "YgsCAlLczhEW",
        "colab_type": "code",
        "outputId": "6a6b21f3-f89d-42da-c31a-629ce7212063",
        "colab": {
          "base_uri": "https://localhost:8080/",
          "height": 289
        }
      },
      "source": [
        "data.apply(lambda x: sum(x.isnull()), axis=0)"
      ],
      "execution_count": 0,
      "outputs": [
        {
          "output_type": "execute_result",
          "data": {
            "text/plain": [
              "ID                  0\n",
              "Label               0\n",
              "Statement           0\n",
              "Subject             2\n",
              "Speaker             2\n",
              "Job              3567\n",
              "Location         2749\n",
              "Party               2\n",
              "BT                  2\n",
              "F                   2\n",
              "HT                  2\n",
              "MT                  2\n",
              "POF                 2\n",
              "Context           131\n",
              "Justification      97\n",
              "dtype: int64"
            ]
          },
          "metadata": {
            "tags": []
          },
          "execution_count": 9
        }
      ]
    },
    {
      "cell_type": "code",
      "metadata": {
        "id": "tr6nWzVSzhEa",
        "colab_type": "code",
        "outputId": "52827fd2-baa1-47d9-946b-6e4cf51ef1fe",
        "colab": {
          "base_uri": "https://localhost:8080/",
          "height": 102
        }
      },
      "source": [
        "print(data[data['F'].isnull()])"
      ],
      "execution_count": 0,
      "outputs": [
        {
          "output_type": "stream",
          "text": [
            "              ID  ...                                      Justification\n",
            "623     638.json  ...  Perry says Paine wrote that the duty of a patr...\n",
            "10731  1626.json  ...  Bill Clinton said, \"As secretary of state, (Hi...\n",
            "\n",
            "[2 rows x 15 columns]\n"
          ],
          "name": "stdout"
        }
      ]
    },
    {
      "cell_type": "code",
      "metadata": {
        "id": "2c-5rOz4zhEd",
        "colab_type": "code",
        "colab": {}
      },
      "source": [
        "# Deleting rows which have barely-true, false, half-true, mostly-true and pants-on-fire are all null \n",
        "# and even other information is missing.\n",
        "\n",
        "data = data[data.ID != '638.json']\n",
        "data = data[data.ID != '1626.json']\n"
      ],
      "execution_count": 0,
      "outputs": []
    },
    {
      "cell_type": "code",
      "metadata": {
        "id": "VW4VmrIuzhEi",
        "colab_type": "code",
        "outputId": "22f5b58b-d211-41c9-cd1b-b10bfee6dabe",
        "colab": {
          "base_uri": "https://localhost:8080/",
          "height": 68
        }
      },
      "source": [
        "#Checking\n",
        "\n",
        "print(data[data['F'].isnull()])"
      ],
      "execution_count": 0,
      "outputs": [
        {
          "output_type": "stream",
          "text": [
            "Empty DataFrame\n",
            "Columns: [ID, Label, Statement, Subject, Speaker, Job, Location, Party, BT, F, HT, MT, POF, Context, Justification]\n",
            "Index: []\n"
          ],
          "name": "stdout"
        }
      ]
    },
    {
      "cell_type": "code",
      "metadata": {
        "id": "-vxEK_vZzhEn",
        "colab_type": "code",
        "outputId": "01b0ad3c-1e23-4f59-c2d6-c82cb9e5d45d",
        "colab": {
          "base_uri": "https://localhost:8080/",
          "height": 34
        }
      },
      "source": [
        "data.shape"
      ],
      "execution_count": 0,
      "outputs": [
        {
          "output_type": "execute_result",
          "data": {
            "text/plain": [
              "(12789, 15)"
            ]
          },
          "metadata": {
            "tags": []
          },
          "execution_count": 13
        }
      ]
    },
    {
      "cell_type": "code",
      "metadata": {
        "id": "tBeFnX6pzhEr",
        "colab_type": "code",
        "outputId": "dad9d604-571b-45bd-c24d-16df81a82b2a",
        "colab": {
          "base_uri": "https://localhost:8080/",
          "height": 289
        }
      },
      "source": [
        "data.apply(lambda x: sum(x.isnull()), axis=0)"
      ],
      "execution_count": 0,
      "outputs": [
        {
          "output_type": "execute_result",
          "data": {
            "text/plain": [
              "ID                  0\n",
              "Label               0\n",
              "Statement           0\n",
              "Subject             0\n",
              "Speaker             0\n",
              "Job              3565\n",
              "Location         2747\n",
              "Party               0\n",
              "BT                  0\n",
              "F                   0\n",
              "HT                  0\n",
              "MT                  0\n",
              "POF                 0\n",
              "Context           129\n",
              "Justification      97\n",
              "dtype: int64"
            ]
          },
          "metadata": {
            "tags": []
          },
          "execution_count": 14
        }
      ]
    },
    {
      "cell_type": "code",
      "metadata": {
        "id": "b0nCuCeZzhEv",
        "colab_type": "code",
        "outputId": "596ad70c-e833-48f9-da3e-242eb1595ff5",
        "colab": {
          "base_uri": "https://localhost:8080/",
          "height": 34
        }
      },
      "source": [
        "#checking rows where all four of job, location, justification and context is missing\n",
        "\n",
        "t1 = data[data['Justification'].isnull()]\n",
        "t2 = t1[t1['Context'].isnull()]\n",
        "t3 = t1[t1['Location'].isnull()]\n",
        "t4 = t3[t3['Job'].isnull()]\n",
        "\n",
        "t5 = t4[t4['Context'].isnull()]\n",
        "\n",
        "#print(t2)\n",
        "#print(t3)\n",
        "print(t4.shape)\n",
        "\n",
        "# t4 represent 17 rows where Job, Location and Justification information is missing.\n",
        "#print(t5)"
      ],
      "execution_count": 0,
      "outputs": [
        {
          "output_type": "stream",
          "text": [
            "(17, 15)\n"
          ],
          "name": "stdout"
        }
      ]
    },
    {
      "cell_type": "code",
      "metadata": {
        "id": "sstc9y5ezhEz",
        "colab_type": "code",
        "outputId": "9ec8d521-2823-4e6d-c830-2b6ca67271a6",
        "colab": {
          "base_uri": "https://localhost:8080/",
          "height": 34
        }
      },
      "source": [
        "data['Speaker'].nunique()"
      ],
      "execution_count": 0,
      "outputs": [
        {
          "output_type": "execute_result",
          "data": {
            "text/plain": [
              "3309"
            ]
          },
          "metadata": {
            "tags": []
          },
          "execution_count": 16
        }
      ]
    },
    {
      "cell_type": "code",
      "metadata": {
        "id": "jCsAXSUFzhE3",
        "colab_type": "code",
        "outputId": "f6966439-0ab5-4cac-f588-4e4cfae96fe5",
        "colab": {
          "base_uri": "https://localhost:8080/",
          "height": 289
        }
      },
      "source": [
        "data.dtypes"
      ],
      "execution_count": 0,
      "outputs": [
        {
          "output_type": "execute_result",
          "data": {
            "text/plain": [
              "ID                object\n",
              "Label             object\n",
              "Statement         object\n",
              "Subject           object\n",
              "Speaker           object\n",
              "Job               object\n",
              "Location          object\n",
              "Party             object\n",
              "BT               float64\n",
              "F                float64\n",
              "HT               float64\n",
              "MT               float64\n",
              "POF              float64\n",
              "Context           object\n",
              "Justification     object\n",
              "dtype: object"
            ]
          },
          "metadata": {
            "tags": []
          },
          "execution_count": 17
        }
      ]
    },
    {
      "cell_type": "code",
      "metadata": {
        "id": "24156DGhzhE6",
        "colab_type": "code",
        "colab": {}
      },
      "source": [
        "data['ID'] = data['ID'].astype('str')"
      ],
      "execution_count": 0,
      "outputs": []
    },
    {
      "cell_type": "code",
      "metadata": {
        "id": "AsHsZjrezhE9",
        "colab_type": "code",
        "outputId": "ffdd2368-2abe-4254-8ce7-b65c84f2a387",
        "colab": {
          "base_uri": "https://localhost:8080/",
          "height": 289
        }
      },
      "source": [
        "data.dtypes"
      ],
      "execution_count": 0,
      "outputs": [
        {
          "output_type": "execute_result",
          "data": {
            "text/plain": [
              "ID                object\n",
              "Label             object\n",
              "Statement         object\n",
              "Subject           object\n",
              "Speaker           object\n",
              "Job               object\n",
              "Location          object\n",
              "Party             object\n",
              "BT               float64\n",
              "F                float64\n",
              "HT               float64\n",
              "MT               float64\n",
              "POF              float64\n",
              "Context           object\n",
              "Justification     object\n",
              "dtype: object"
            ]
          },
          "metadata": {
            "tags": []
          },
          "execution_count": 19
        }
      ]
    },
    {
      "cell_type": "code",
      "metadata": {
        "id": "N-Kob8xzzhFD",
        "colab_type": "code",
        "outputId": "ebbc9386-feb2-4db9-f4ef-941376b6546a",
        "colab": {
          "base_uri": "https://localhost:8080/",
          "height": 530
        }
      },
      "source": [
        "temp = data['ID'].str.split(\".\", n = 1, expand = True) \n",
        "#print(temp)\n",
        "\n",
        "data['ID'] = temp[0]\n",
        "data.head()"
      ],
      "execution_count": 0,
      "outputs": [
        {
          "output_type": "execute_result",
          "data": {
            "text/html": [
              "<div>\n",
              "<style scoped>\n",
              "    .dataframe tbody tr th:only-of-type {\n",
              "        vertical-align: middle;\n",
              "    }\n",
              "\n",
              "    .dataframe tbody tr th {\n",
              "        vertical-align: top;\n",
              "    }\n",
              "\n",
              "    .dataframe thead th {\n",
              "        text-align: right;\n",
              "    }\n",
              "</style>\n",
              "<table border=\"1\" class=\"dataframe\">\n",
              "  <thead>\n",
              "    <tr style=\"text-align: right;\">\n",
              "      <th></th>\n",
              "      <th>ID</th>\n",
              "      <th>Label</th>\n",
              "      <th>Statement</th>\n",
              "      <th>Subject</th>\n",
              "      <th>Speaker</th>\n",
              "      <th>Job</th>\n",
              "      <th>Location</th>\n",
              "      <th>Party</th>\n",
              "      <th>BT</th>\n",
              "      <th>F</th>\n",
              "      <th>HT</th>\n",
              "      <th>MT</th>\n",
              "      <th>POF</th>\n",
              "      <th>Context</th>\n",
              "      <th>Justification</th>\n",
              "    </tr>\n",
              "  </thead>\n",
              "  <tbody>\n",
              "    <tr>\n",
              "      <th>0</th>\n",
              "      <td>5171</td>\n",
              "      <td>false</td>\n",
              "      <td>Says an Obama administration policy prohibits ...</td>\n",
              "      <td>marriage,poverty</td>\n",
              "      <td>rick-santorum</td>\n",
              "      <td>NaN</td>\n",
              "      <td>Pennsylvania</td>\n",
              "      <td>republican</td>\n",
              "      <td>12.0</td>\n",
              "      <td>16.0</td>\n",
              "      <td>13.0</td>\n",
              "      <td>7.0</td>\n",
              "      <td>5.0</td>\n",
              "      <td>a debate in South Carolina</td>\n",
              "      <td>Santorum said the Obama administration is not ...</td>\n",
              "    </tr>\n",
              "    <tr>\n",
              "      <th>1</th>\n",
              "      <td>13147</td>\n",
              "      <td>barely-true</td>\n",
              "      <td>Not one illness has been reported from raw mil...</td>\n",
              "      <td>corrections-and-updates,food-safety,public-health</td>\n",
              "      <td>dan-flynn</td>\n",
              "      <td>State Representative</td>\n",
              "      <td>Texas</td>\n",
              "      <td>republican</td>\n",
              "      <td>1.0</td>\n",
              "      <td>0.0</td>\n",
              "      <td>0.0</td>\n",
              "      <td>0.0</td>\n",
              "      <td>1.0</td>\n",
              "      <td>a letter to state health officials</td>\n",
              "      <td>Obama said women \"make 77 cents for every doll...</td>\n",
              "    </tr>\n",
              "    <tr>\n",
              "      <th>2</th>\n",
              "      <td>7465</td>\n",
              "      <td>mostly-true</td>\n",
              "      <td>Says a majority of Americans -- and Republican...</td>\n",
              "      <td>federal-budget,polls,taxes</td>\n",
              "      <td>barack-obama</td>\n",
              "      <td>President</td>\n",
              "      <td>Illinois</td>\n",
              "      <td>democrat</td>\n",
              "      <td>70.0</td>\n",
              "      <td>71.0</td>\n",
              "      <td>160.0</td>\n",
              "      <td>163.0</td>\n",
              "      <td>9.0</td>\n",
              "      <td>a press briefing at the White House</td>\n",
              "      <td>Bloom said, \"Americans are 20 times as likely ...</td>\n",
              "    </tr>\n",
              "    <tr>\n",
              "      <th>3</th>\n",
              "      <td>4798</td>\n",
              "      <td>false</td>\n",
              "      <td>Says the state auditor found that 37 percent o...</td>\n",
              "      <td>education</td>\n",
              "      <td>michael-doherty</td>\n",
              "      <td>NaN</td>\n",
              "      <td>NaN</td>\n",
              "      <td>republican</td>\n",
              "      <td>1.0</td>\n",
              "      <td>3.0</td>\n",
              "      <td>1.0</td>\n",
              "      <td>1.0</td>\n",
              "      <td>0.0</td>\n",
              "      <td>a speech before the East Jersey Tea Party</td>\n",
              "      <td>Graham said, \"The labor participation rate is ...</td>\n",
              "    </tr>\n",
              "    <tr>\n",
              "      <th>4</th>\n",
              "      <td>11597</td>\n",
              "      <td>barely-true</td>\n",
              "      <td>There is currently no ability to vet these peo...</td>\n",
              "      <td>foreign-policy,homeland-security,immigration,t...</td>\n",
              "      <td>ben-carson</td>\n",
              "      <td>NaN</td>\n",
              "      <td>NaN</td>\n",
              "      <td>republican</td>\n",
              "      <td>7.0</td>\n",
              "      <td>12.0</td>\n",
              "      <td>3.0</td>\n",
              "      <td>2.0</td>\n",
              "      <td>4.0</td>\n",
              "      <td>an official statement posted on Facebook.</td>\n",
              "      <td>Clinton said Sanders \"has been largely a very ...</td>\n",
              "    </tr>\n",
              "  </tbody>\n",
              "</table>\n",
              "</div>"
            ],
            "text/plain": [
              "      ID  ...                                      Justification\n",
              "0   5171  ...  Santorum said the Obama administration is not ...\n",
              "1  13147  ...  Obama said women \"make 77 cents for every doll...\n",
              "2   7465  ...  Bloom said, \"Americans are 20 times as likely ...\n",
              "3   4798  ...  Graham said, \"The labor participation rate is ...\n",
              "4  11597  ...  Clinton said Sanders \"has been largely a very ...\n",
              "\n",
              "[5 rows x 15 columns]"
            ]
          },
          "metadata": {
            "tags": []
          },
          "execution_count": 20
        }
      ]
    },
    {
      "cell_type": "code",
      "metadata": {
        "id": "D4KMlkLe_pb1",
        "colab_type": "code",
        "outputId": "901b7f48-92da-4e91-bd7b-d56482453aa6",
        "colab": {
          "base_uri": "https://localhost:8080/",
          "height": 34
        }
      },
      "source": [
        "data.shape[-1]"
      ],
      "execution_count": 0,
      "outputs": [
        {
          "output_type": "execute_result",
          "data": {
            "text/plain": [
              "15"
            ]
          },
          "metadata": {
            "tags": []
          },
          "execution_count": 21
        }
      ]
    },
    {
      "cell_type": "code",
      "metadata": {
        "id": "GTT_kv3DzhFI",
        "colab_type": "code",
        "outputId": "06d7b666-cb97-4c1a-9d19-872903a0d8a8",
        "colab": {
          "base_uri": "https://localhost:8080/",
          "height": 476
        }
      },
      "source": [
        "#Data cleaning, removing all special chararcters \n",
        "#from statement subject speaker job location party context and justification\n",
        "\n",
        "#remove all characters which are not A-Z,a-z or 0-9\n",
        "\n",
        "def data_clean(data, field):\n",
        "    data[field] = data[field].str.replace(r\"@\\S+\", \"\")\n",
        "    data[field] = data[field].str.replace(r\"[^A-Za-z0-9]\", \" \")\n",
        "    data[field] = data[field].str.replace(r\"(),!?@\\'\\`\\\"\\_\\n\", \" \")\n",
        "    data[field] = data[field].str.replace(r\"@\", \"at\")\n",
        "    data[field] = data[field].str.replace(r\"http\\S+\", \"\")\n",
        "    data[field] = data[field].str.replace(r\"http\", \"\")\n",
        "    data[field] = data[field].str.lower()\n",
        "    return data\n",
        "\n",
        "data = data_clean(data, \"Statement\")\n",
        "data = data_clean(data, \"Subject\")\n",
        "data = data_clean(data, \"Job\")\n",
        "data = data_clean(data, \"Location\")\n",
        "data = data_clean(data, \"Party\")\n",
        "data = data_clean(data, \"Context\")\n",
        "data = data_clean(data, \"Justification\")\n",
        "\n",
        "#Saved clean data files\n",
        "data.to_csv(\"clean_LIAR_PLUS_data.csv\")\n",
        "\n",
        "#checking\n",
        "data.head()"
      ],
      "execution_count": 0,
      "outputs": [
        {
          "output_type": "execute_result",
          "data": {
            "text/html": [
              "<div>\n",
              "<style scoped>\n",
              "    .dataframe tbody tr th:only-of-type {\n",
              "        vertical-align: middle;\n",
              "    }\n",
              "\n",
              "    .dataframe tbody tr th {\n",
              "        vertical-align: top;\n",
              "    }\n",
              "\n",
              "    .dataframe thead th {\n",
              "        text-align: right;\n",
              "    }\n",
              "</style>\n",
              "<table border=\"1\" class=\"dataframe\">\n",
              "  <thead>\n",
              "    <tr style=\"text-align: right;\">\n",
              "      <th></th>\n",
              "      <th>ID</th>\n",
              "      <th>Label</th>\n",
              "      <th>Statement</th>\n",
              "      <th>Subject</th>\n",
              "      <th>Speaker</th>\n",
              "      <th>Job</th>\n",
              "      <th>Location</th>\n",
              "      <th>Party</th>\n",
              "      <th>BT</th>\n",
              "      <th>F</th>\n",
              "      <th>HT</th>\n",
              "      <th>MT</th>\n",
              "      <th>POF</th>\n",
              "      <th>Context</th>\n",
              "      <th>Justification</th>\n",
              "    </tr>\n",
              "  </thead>\n",
              "  <tbody>\n",
              "    <tr>\n",
              "      <th>0</th>\n",
              "      <td>5171</td>\n",
              "      <td>false</td>\n",
              "      <td>says an obama administration policy prohibits ...</td>\n",
              "      <td>marriage poverty</td>\n",
              "      <td>rick-santorum</td>\n",
              "      <td>NaN</td>\n",
              "      <td>pennsylvania</td>\n",
              "      <td>republican</td>\n",
              "      <td>12.0</td>\n",
              "      <td>16.0</td>\n",
              "      <td>13.0</td>\n",
              "      <td>7.0</td>\n",
              "      <td>5.0</td>\n",
              "      <td>a debate in south carolina</td>\n",
              "      <td>santorum said the obama administration is not ...</td>\n",
              "    </tr>\n",
              "    <tr>\n",
              "      <th>1</th>\n",
              "      <td>13147</td>\n",
              "      <td>barely-true</td>\n",
              "      <td>not one illness has been reported from raw mil...</td>\n",
              "      <td>corrections and updates food safety public health</td>\n",
              "      <td>dan-flynn</td>\n",
              "      <td>state representative</td>\n",
              "      <td>texas</td>\n",
              "      <td>republican</td>\n",
              "      <td>1.0</td>\n",
              "      <td>0.0</td>\n",
              "      <td>0.0</td>\n",
              "      <td>0.0</td>\n",
              "      <td>1.0</td>\n",
              "      <td>a letter to state health officials</td>\n",
              "      <td>obama said women  make 77 cents for every doll...</td>\n",
              "    </tr>\n",
              "    <tr>\n",
              "      <th>2</th>\n",
              "      <td>7465</td>\n",
              "      <td>mostly-true</td>\n",
              "      <td>says a majority of americans    and republican...</td>\n",
              "      <td>federal budget polls taxes</td>\n",
              "      <td>barack-obama</td>\n",
              "      <td>president</td>\n",
              "      <td>illinois</td>\n",
              "      <td>democrat</td>\n",
              "      <td>70.0</td>\n",
              "      <td>71.0</td>\n",
              "      <td>160.0</td>\n",
              "      <td>163.0</td>\n",
              "      <td>9.0</td>\n",
              "      <td>a press briefing at the white house</td>\n",
              "      <td>bloom said   americans are 20 times as likely ...</td>\n",
              "    </tr>\n",
              "    <tr>\n",
              "      <th>3</th>\n",
              "      <td>4798</td>\n",
              "      <td>false</td>\n",
              "      <td>says the state auditor found that 37 percent o...</td>\n",
              "      <td>education</td>\n",
              "      <td>michael-doherty</td>\n",
              "      <td>NaN</td>\n",
              "      <td>NaN</td>\n",
              "      <td>republican</td>\n",
              "      <td>1.0</td>\n",
              "      <td>3.0</td>\n",
              "      <td>1.0</td>\n",
              "      <td>1.0</td>\n",
              "      <td>0.0</td>\n",
              "      <td>a speech before the east jersey tea party</td>\n",
              "      <td>graham said   the labor participation rate is ...</td>\n",
              "    </tr>\n",
              "    <tr>\n",
              "      <th>4</th>\n",
              "      <td>11597</td>\n",
              "      <td>barely-true</td>\n",
              "      <td>there is currently no ability to vet these peo...</td>\n",
              "      <td>foreign policy homeland security immigration t...</td>\n",
              "      <td>ben-carson</td>\n",
              "      <td>NaN</td>\n",
              "      <td>NaN</td>\n",
              "      <td>republican</td>\n",
              "      <td>7.0</td>\n",
              "      <td>12.0</td>\n",
              "      <td>3.0</td>\n",
              "      <td>2.0</td>\n",
              "      <td>4.0</td>\n",
              "      <td>an official statement posted on facebook</td>\n",
              "      <td>clinton said sanders  has been largely a very ...</td>\n",
              "    </tr>\n",
              "  </tbody>\n",
              "</table>\n",
              "</div>"
            ],
            "text/plain": [
              "      ID  ...                                      Justification\n",
              "0   5171  ...  santorum said the obama administration is not ...\n",
              "1  13147  ...  obama said women  make 77 cents for every doll...\n",
              "2   7465  ...  bloom said   americans are 20 times as likely ...\n",
              "3   4798  ...  graham said   the labor participation rate is ...\n",
              "4  11597  ...  clinton said sanders  has been largely a very ...\n",
              "\n",
              "[5 rows x 15 columns]"
            ]
          },
          "metadata": {
            "tags": []
          },
          "execution_count": 22
        }
      ]
    },
    {
      "cell_type": "code",
      "metadata": {
        "id": "rRhgx2ztzhFL",
        "colab_type": "code",
        "outputId": "769b4858-187d-4816-efa6-12c6bd3060c4",
        "colab": {
          "base_uri": "https://localhost:8080/",
          "height": 598
        }
      },
      "source": [
        "#join all columns with text field \n",
        "temp = ['Statement', 'Subject', 'Speaker','Job', 'Location', 'Party', 'Context', 'Justification']\n",
        "\n",
        "#training data\n",
        "data_temp = data[temp]\n",
        "\n",
        "data['Full_Statement'] = data_temp.apply(lambda x: ' '.join(x.map(str)), axis=1)\n",
        "data.head()"
      ],
      "execution_count": 0,
      "outputs": [
        {
          "output_type": "execute_result",
          "data": {
            "text/html": [
              "<div>\n",
              "<style scoped>\n",
              "    .dataframe tbody tr th:only-of-type {\n",
              "        vertical-align: middle;\n",
              "    }\n",
              "\n",
              "    .dataframe tbody tr th {\n",
              "        vertical-align: top;\n",
              "    }\n",
              "\n",
              "    .dataframe thead th {\n",
              "        text-align: right;\n",
              "    }\n",
              "</style>\n",
              "<table border=\"1\" class=\"dataframe\">\n",
              "  <thead>\n",
              "    <tr style=\"text-align: right;\">\n",
              "      <th></th>\n",
              "      <th>ID</th>\n",
              "      <th>Label</th>\n",
              "      <th>Statement</th>\n",
              "      <th>Subject</th>\n",
              "      <th>Speaker</th>\n",
              "      <th>Job</th>\n",
              "      <th>Location</th>\n",
              "      <th>Party</th>\n",
              "      <th>BT</th>\n",
              "      <th>F</th>\n",
              "      <th>HT</th>\n",
              "      <th>MT</th>\n",
              "      <th>POF</th>\n",
              "      <th>Context</th>\n",
              "      <th>Justification</th>\n",
              "      <th>Full_Statement</th>\n",
              "    </tr>\n",
              "  </thead>\n",
              "  <tbody>\n",
              "    <tr>\n",
              "      <th>0</th>\n",
              "      <td>5171</td>\n",
              "      <td>false</td>\n",
              "      <td>says an obama administration policy prohibits ...</td>\n",
              "      <td>marriage poverty</td>\n",
              "      <td>rick-santorum</td>\n",
              "      <td>NaN</td>\n",
              "      <td>pennsylvania</td>\n",
              "      <td>republican</td>\n",
              "      <td>12.0</td>\n",
              "      <td>16.0</td>\n",
              "      <td>13.0</td>\n",
              "      <td>7.0</td>\n",
              "      <td>5.0</td>\n",
              "      <td>a debate in south carolina</td>\n",
              "      <td>santorum said the obama administration is not ...</td>\n",
              "      <td>says an obama administration policy prohibits ...</td>\n",
              "    </tr>\n",
              "    <tr>\n",
              "      <th>1</th>\n",
              "      <td>13147</td>\n",
              "      <td>barely-true</td>\n",
              "      <td>not one illness has been reported from raw mil...</td>\n",
              "      <td>corrections and updates food safety public health</td>\n",
              "      <td>dan-flynn</td>\n",
              "      <td>state representative</td>\n",
              "      <td>texas</td>\n",
              "      <td>republican</td>\n",
              "      <td>1.0</td>\n",
              "      <td>0.0</td>\n",
              "      <td>0.0</td>\n",
              "      <td>0.0</td>\n",
              "      <td>1.0</td>\n",
              "      <td>a letter to state health officials</td>\n",
              "      <td>obama said women  make 77 cents for every doll...</td>\n",
              "      <td>not one illness has been reported from raw mil...</td>\n",
              "    </tr>\n",
              "    <tr>\n",
              "      <th>2</th>\n",
              "      <td>7465</td>\n",
              "      <td>mostly-true</td>\n",
              "      <td>says a majority of americans    and republican...</td>\n",
              "      <td>federal budget polls taxes</td>\n",
              "      <td>barack-obama</td>\n",
              "      <td>president</td>\n",
              "      <td>illinois</td>\n",
              "      <td>democrat</td>\n",
              "      <td>70.0</td>\n",
              "      <td>71.0</td>\n",
              "      <td>160.0</td>\n",
              "      <td>163.0</td>\n",
              "      <td>9.0</td>\n",
              "      <td>a press briefing at the white house</td>\n",
              "      <td>bloom said   americans are 20 times as likely ...</td>\n",
              "      <td>says a majority of americans    and republican...</td>\n",
              "    </tr>\n",
              "    <tr>\n",
              "      <th>3</th>\n",
              "      <td>4798</td>\n",
              "      <td>false</td>\n",
              "      <td>says the state auditor found that 37 percent o...</td>\n",
              "      <td>education</td>\n",
              "      <td>michael-doherty</td>\n",
              "      <td>NaN</td>\n",
              "      <td>NaN</td>\n",
              "      <td>republican</td>\n",
              "      <td>1.0</td>\n",
              "      <td>3.0</td>\n",
              "      <td>1.0</td>\n",
              "      <td>1.0</td>\n",
              "      <td>0.0</td>\n",
              "      <td>a speech before the east jersey tea party</td>\n",
              "      <td>graham said   the labor participation rate is ...</td>\n",
              "      <td>says the state auditor found that 37 percent o...</td>\n",
              "    </tr>\n",
              "    <tr>\n",
              "      <th>4</th>\n",
              "      <td>11597</td>\n",
              "      <td>barely-true</td>\n",
              "      <td>there is currently no ability to vet these peo...</td>\n",
              "      <td>foreign policy homeland security immigration t...</td>\n",
              "      <td>ben-carson</td>\n",
              "      <td>NaN</td>\n",
              "      <td>NaN</td>\n",
              "      <td>republican</td>\n",
              "      <td>7.0</td>\n",
              "      <td>12.0</td>\n",
              "      <td>3.0</td>\n",
              "      <td>2.0</td>\n",
              "      <td>4.0</td>\n",
              "      <td>an official statement posted on facebook</td>\n",
              "      <td>clinton said sanders  has been largely a very ...</td>\n",
              "      <td>there is currently no ability to vet these peo...</td>\n",
              "    </tr>\n",
              "  </tbody>\n",
              "</table>\n",
              "</div>"
            ],
            "text/plain": [
              "      ID  ...                                     Full_Statement\n",
              "0   5171  ...  says an obama administration policy prohibits ...\n",
              "1  13147  ...  not one illness has been reported from raw mil...\n",
              "2   7465  ...  says a majority of americans    and republican...\n",
              "3   4798  ...  says the state auditor found that 37 percent o...\n",
              "4  11597  ...  there is currently no ability to vet these peo...\n",
              "\n",
              "[5 rows x 16 columns]"
            ]
          },
          "metadata": {
            "tags": []
          },
          "execution_count": 23
        }
      ]
    },
    {
      "cell_type": "code",
      "metadata": {
        "id": "CVGqJqW_zhFU",
        "colab_type": "code",
        "colab": {}
      },
      "source": [
        "# Drop all columns which we have combined earlier\n",
        "\n",
        "#Created new dataset with data_final\n",
        "data_final = data.copy()\n",
        "data_final = data.drop(temp, axis=1)"
      ],
      "execution_count": 0,
      "outputs": []
    },
    {
      "cell_type": "code",
      "metadata": {
        "id": "CgDo8xFyzhFa",
        "colab_type": "code",
        "outputId": "de696ca5-fe39-4326-b2b7-0da87995be4d",
        "colab": {
          "base_uri": "https://localhost:8080/",
          "height": 54
        }
      },
      "source": [
        "#Checking\n",
        "\n",
        "data_final['Full_Statement'][0]"
      ],
      "execution_count": 0,
      "outputs": [
        {
          "output_type": "execute_result",
          "data": {
            "text/plain": [
              "'says an obama administration policy prohibits people who work with at risk youth from promoting marriage as a way to avoid poverty  marriage poverty rick-santorum nan pennsylvania republican a debate in south carolina santorum said the obama administration is not allowing people who work with at risk adolescents to promote the benefits of marriage  santorum said he had heard this from elayne bennett of the best friends foundation  but she told us he misspoke  the change under obama  according to bennett  was about what could be taught regarding abstinence    not marriage  the department of health and human services said there was confusion in this area  so it clarified the policy  which does allow discussion of abstinence in other contexts but not as a stand alone education program '"
            ]
          },
          "metadata": {
            "tags": []
          },
          "execution_count": 25
        }
      ]
    },
    {
      "cell_type": "code",
      "metadata": {
        "id": "pQLdsHDIzhFg",
        "colab_type": "code",
        "outputId": "bb47197c-4056-4eb3-bec0-51100f962b88",
        "colab": {
          "base_uri": "https://localhost:8080/",
          "height": 598
        }
      },
      "source": [
        "data.head()"
      ],
      "execution_count": 0,
      "outputs": [
        {
          "output_type": "execute_result",
          "data": {
            "text/html": [
              "<div>\n",
              "<style scoped>\n",
              "    .dataframe tbody tr th:only-of-type {\n",
              "        vertical-align: middle;\n",
              "    }\n",
              "\n",
              "    .dataframe tbody tr th {\n",
              "        vertical-align: top;\n",
              "    }\n",
              "\n",
              "    .dataframe thead th {\n",
              "        text-align: right;\n",
              "    }\n",
              "</style>\n",
              "<table border=\"1\" class=\"dataframe\">\n",
              "  <thead>\n",
              "    <tr style=\"text-align: right;\">\n",
              "      <th></th>\n",
              "      <th>ID</th>\n",
              "      <th>Label</th>\n",
              "      <th>Statement</th>\n",
              "      <th>Subject</th>\n",
              "      <th>Speaker</th>\n",
              "      <th>Job</th>\n",
              "      <th>Location</th>\n",
              "      <th>Party</th>\n",
              "      <th>BT</th>\n",
              "      <th>F</th>\n",
              "      <th>HT</th>\n",
              "      <th>MT</th>\n",
              "      <th>POF</th>\n",
              "      <th>Context</th>\n",
              "      <th>Justification</th>\n",
              "      <th>Full_Statement</th>\n",
              "    </tr>\n",
              "  </thead>\n",
              "  <tbody>\n",
              "    <tr>\n",
              "      <th>0</th>\n",
              "      <td>5171</td>\n",
              "      <td>false</td>\n",
              "      <td>says an obama administration policy prohibits ...</td>\n",
              "      <td>marriage poverty</td>\n",
              "      <td>rick-santorum</td>\n",
              "      <td>NaN</td>\n",
              "      <td>pennsylvania</td>\n",
              "      <td>republican</td>\n",
              "      <td>12.0</td>\n",
              "      <td>16.0</td>\n",
              "      <td>13.0</td>\n",
              "      <td>7.0</td>\n",
              "      <td>5.0</td>\n",
              "      <td>a debate in south carolina</td>\n",
              "      <td>santorum said the obama administration is not ...</td>\n",
              "      <td>says an obama administration policy prohibits ...</td>\n",
              "    </tr>\n",
              "    <tr>\n",
              "      <th>1</th>\n",
              "      <td>13147</td>\n",
              "      <td>barely-true</td>\n",
              "      <td>not one illness has been reported from raw mil...</td>\n",
              "      <td>corrections and updates food safety public health</td>\n",
              "      <td>dan-flynn</td>\n",
              "      <td>state representative</td>\n",
              "      <td>texas</td>\n",
              "      <td>republican</td>\n",
              "      <td>1.0</td>\n",
              "      <td>0.0</td>\n",
              "      <td>0.0</td>\n",
              "      <td>0.0</td>\n",
              "      <td>1.0</td>\n",
              "      <td>a letter to state health officials</td>\n",
              "      <td>obama said women  make 77 cents for every doll...</td>\n",
              "      <td>not one illness has been reported from raw mil...</td>\n",
              "    </tr>\n",
              "    <tr>\n",
              "      <th>2</th>\n",
              "      <td>7465</td>\n",
              "      <td>mostly-true</td>\n",
              "      <td>says a majority of americans    and republican...</td>\n",
              "      <td>federal budget polls taxes</td>\n",
              "      <td>barack-obama</td>\n",
              "      <td>president</td>\n",
              "      <td>illinois</td>\n",
              "      <td>democrat</td>\n",
              "      <td>70.0</td>\n",
              "      <td>71.0</td>\n",
              "      <td>160.0</td>\n",
              "      <td>163.0</td>\n",
              "      <td>9.0</td>\n",
              "      <td>a press briefing at the white house</td>\n",
              "      <td>bloom said   americans are 20 times as likely ...</td>\n",
              "      <td>says a majority of americans    and republican...</td>\n",
              "    </tr>\n",
              "    <tr>\n",
              "      <th>3</th>\n",
              "      <td>4798</td>\n",
              "      <td>false</td>\n",
              "      <td>says the state auditor found that 37 percent o...</td>\n",
              "      <td>education</td>\n",
              "      <td>michael-doherty</td>\n",
              "      <td>NaN</td>\n",
              "      <td>NaN</td>\n",
              "      <td>republican</td>\n",
              "      <td>1.0</td>\n",
              "      <td>3.0</td>\n",
              "      <td>1.0</td>\n",
              "      <td>1.0</td>\n",
              "      <td>0.0</td>\n",
              "      <td>a speech before the east jersey tea party</td>\n",
              "      <td>graham said   the labor participation rate is ...</td>\n",
              "      <td>says the state auditor found that 37 percent o...</td>\n",
              "    </tr>\n",
              "    <tr>\n",
              "      <th>4</th>\n",
              "      <td>11597</td>\n",
              "      <td>barely-true</td>\n",
              "      <td>there is currently no ability to vet these peo...</td>\n",
              "      <td>foreign policy homeland security immigration t...</td>\n",
              "      <td>ben-carson</td>\n",
              "      <td>NaN</td>\n",
              "      <td>NaN</td>\n",
              "      <td>republican</td>\n",
              "      <td>7.0</td>\n",
              "      <td>12.0</td>\n",
              "      <td>3.0</td>\n",
              "      <td>2.0</td>\n",
              "      <td>4.0</td>\n",
              "      <td>an official statement posted on facebook</td>\n",
              "      <td>clinton said sanders  has been largely a very ...</td>\n",
              "      <td>there is currently no ability to vet these peo...</td>\n",
              "    </tr>\n",
              "  </tbody>\n",
              "</table>\n",
              "</div>"
            ],
            "text/plain": [
              "      ID  ...                                     Full_Statement\n",
              "0   5171  ...  says an obama administration policy prohibits ...\n",
              "1  13147  ...  not one illness has been reported from raw mil...\n",
              "2   7465  ...  says a majority of americans    and republican...\n",
              "3   4798  ...  says the state auditor found that 37 percent o...\n",
              "4  11597  ...  there is currently no ability to vet these peo...\n",
              "\n",
              "[5 rows x 16 columns]"
            ]
          },
          "metadata": {
            "tags": []
          },
          "execution_count": 26
        }
      ]
    },
    {
      "cell_type": "code",
      "metadata": {
        "id": "wbYCfvV0zhFk",
        "colab_type": "code",
        "outputId": "c00eeceb-fc58-4ea6-f302-d2c6d0194bc8",
        "colab": {
          "base_uri": "https://localhost:8080/",
          "height": 221
        }
      },
      "source": [
        "#Separate paragraph to words(tokens)\n",
        "\n",
        "tokenizer = RegexpTokenizer(r'\\w+')\n",
        "\n",
        "data_final[\"tokens\"] = data_final[\"Full_Statement\"].apply(tokenizer.tokenize)\n",
        "\n",
        "#checking tokens\n",
        "print(data_final.shape)\n",
        "data_final.head(5)\n"
      ],
      "execution_count": 0,
      "outputs": [
        {
          "output_type": "stream",
          "text": [
            "(12789, 9)\n"
          ],
          "name": "stdout"
        },
        {
          "output_type": "execute_result",
          "data": {
            "text/html": [
              "<div>\n",
              "<style scoped>\n",
              "    .dataframe tbody tr th:only-of-type {\n",
              "        vertical-align: middle;\n",
              "    }\n",
              "\n",
              "    .dataframe tbody tr th {\n",
              "        vertical-align: top;\n",
              "    }\n",
              "\n",
              "    .dataframe thead th {\n",
              "        text-align: right;\n",
              "    }\n",
              "</style>\n",
              "<table border=\"1\" class=\"dataframe\">\n",
              "  <thead>\n",
              "    <tr style=\"text-align: right;\">\n",
              "      <th></th>\n",
              "      <th>ID</th>\n",
              "      <th>Label</th>\n",
              "      <th>BT</th>\n",
              "      <th>F</th>\n",
              "      <th>HT</th>\n",
              "      <th>MT</th>\n",
              "      <th>POF</th>\n",
              "      <th>Full_Statement</th>\n",
              "      <th>tokens</th>\n",
              "    </tr>\n",
              "  </thead>\n",
              "  <tbody>\n",
              "    <tr>\n",
              "      <th>0</th>\n",
              "      <td>5171</td>\n",
              "      <td>false</td>\n",
              "      <td>12.0</td>\n",
              "      <td>16.0</td>\n",
              "      <td>13.0</td>\n",
              "      <td>7.0</td>\n",
              "      <td>5.0</td>\n",
              "      <td>says an obama administration policy prohibits ...</td>\n",
              "      <td>[says, an, obama, administration, policy, proh...</td>\n",
              "    </tr>\n",
              "    <tr>\n",
              "      <th>1</th>\n",
              "      <td>13147</td>\n",
              "      <td>barely-true</td>\n",
              "      <td>1.0</td>\n",
              "      <td>0.0</td>\n",
              "      <td>0.0</td>\n",
              "      <td>0.0</td>\n",
              "      <td>1.0</td>\n",
              "      <td>not one illness has been reported from raw mil...</td>\n",
              "      <td>[not, one, illness, has, been, reported, from,...</td>\n",
              "    </tr>\n",
              "    <tr>\n",
              "      <th>2</th>\n",
              "      <td>7465</td>\n",
              "      <td>mostly-true</td>\n",
              "      <td>70.0</td>\n",
              "      <td>71.0</td>\n",
              "      <td>160.0</td>\n",
              "      <td>163.0</td>\n",
              "      <td>9.0</td>\n",
              "      <td>says a majority of americans    and republican...</td>\n",
              "      <td>[says, a, majority, of, americans, and, republ...</td>\n",
              "    </tr>\n",
              "    <tr>\n",
              "      <th>3</th>\n",
              "      <td>4798</td>\n",
              "      <td>false</td>\n",
              "      <td>1.0</td>\n",
              "      <td>3.0</td>\n",
              "      <td>1.0</td>\n",
              "      <td>1.0</td>\n",
              "      <td>0.0</td>\n",
              "      <td>says the state auditor found that 37 percent o...</td>\n",
              "      <td>[says, the, state, auditor, found, that, 37, p...</td>\n",
              "    </tr>\n",
              "    <tr>\n",
              "      <th>4</th>\n",
              "      <td>11597</td>\n",
              "      <td>barely-true</td>\n",
              "      <td>7.0</td>\n",
              "      <td>12.0</td>\n",
              "      <td>3.0</td>\n",
              "      <td>2.0</td>\n",
              "      <td>4.0</td>\n",
              "      <td>there is currently no ability to vet these peo...</td>\n",
              "      <td>[there, is, currently, no, ability, to, vet, t...</td>\n",
              "    </tr>\n",
              "  </tbody>\n",
              "</table>\n",
              "</div>"
            ],
            "text/plain": [
              "      ID  ...                                             tokens\n",
              "0   5171  ...  [says, an, obama, administration, policy, proh...\n",
              "1  13147  ...  [not, one, illness, has, been, reported, from,...\n",
              "2   7465  ...  [says, a, majority, of, americans, and, republ...\n",
              "3   4798  ...  [says, the, state, auditor, found, that, 37, p...\n",
              "4  11597  ...  [there, is, currently, no, ability, to, vet, t...\n",
              "\n",
              "[5 rows x 9 columns]"
            ]
          },
          "metadata": {
            "tags": []
          },
          "execution_count": 27
        }
      ]
    },
    {
      "cell_type": "code",
      "metadata": {
        "id": "6AbS9n67_Jj4",
        "colab_type": "code",
        "outputId": "efafe254-5391-4cf4-9918-6f69fed73b43",
        "colab": {
          "base_uri": "https://localhost:8080/",
          "height": 204
        }
      },
      "source": [
        "data_before = data_final.copy()\n",
        "\n",
        "columns = ['ID', 'BT', 'F', 'HT', 'MT', 'POF', 'Full_Statement']\n",
        "data_final.drop(columns, axis=1, inplace=True)\n",
        "\n",
        "data_final.head()"
      ],
      "execution_count": 0,
      "outputs": [
        {
          "output_type": "execute_result",
          "data": {
            "text/html": [
              "<div>\n",
              "<style scoped>\n",
              "    .dataframe tbody tr th:only-of-type {\n",
              "        vertical-align: middle;\n",
              "    }\n",
              "\n",
              "    .dataframe tbody tr th {\n",
              "        vertical-align: top;\n",
              "    }\n",
              "\n",
              "    .dataframe thead th {\n",
              "        text-align: right;\n",
              "    }\n",
              "</style>\n",
              "<table border=\"1\" class=\"dataframe\">\n",
              "  <thead>\n",
              "    <tr style=\"text-align: right;\">\n",
              "      <th></th>\n",
              "      <th>Label</th>\n",
              "      <th>tokens</th>\n",
              "    </tr>\n",
              "  </thead>\n",
              "  <tbody>\n",
              "    <tr>\n",
              "      <th>0</th>\n",
              "      <td>false</td>\n",
              "      <td>[says, an, obama, administration, policy, proh...</td>\n",
              "    </tr>\n",
              "    <tr>\n",
              "      <th>1</th>\n",
              "      <td>barely-true</td>\n",
              "      <td>[not, one, illness, has, been, reported, from,...</td>\n",
              "    </tr>\n",
              "    <tr>\n",
              "      <th>2</th>\n",
              "      <td>mostly-true</td>\n",
              "      <td>[says, a, majority, of, americans, and, republ...</td>\n",
              "    </tr>\n",
              "    <tr>\n",
              "      <th>3</th>\n",
              "      <td>false</td>\n",
              "      <td>[says, the, state, auditor, found, that, 37, p...</td>\n",
              "    </tr>\n",
              "    <tr>\n",
              "      <th>4</th>\n",
              "      <td>barely-true</td>\n",
              "      <td>[there, is, currently, no, ability, to, vet, t...</td>\n",
              "    </tr>\n",
              "  </tbody>\n",
              "</table>\n",
              "</div>"
            ],
            "text/plain": [
              "         Label                                             tokens\n",
              "0        false  [says, an, obama, administration, policy, proh...\n",
              "1  barely-true  [not, one, illness, has, been, reported, from,...\n",
              "2  mostly-true  [says, a, majority, of, americans, and, republ...\n",
              "3        false  [says, the, state, auditor, found, that, 37, p...\n",
              "4  barely-true  [there, is, currently, no, ability, to, vet, t..."
            ]
          },
          "metadata": {
            "tags": []
          },
          "execution_count": 28
        }
      ]
    },
    {
      "cell_type": "code",
      "metadata": {
        "id": "QgDSX-mbzhFn",
        "colab_type": "code",
        "outputId": "2926ad32-8a8a-4f9e-ed71-dbb23dbbefaa",
        "colab": {
          "base_uri": "https://localhost:8080/",
          "height": 51
        }
      },
      "source": [
        "#checking vocab size in data_final\n",
        "\n",
        "all_words = [word for tokens in data_final[\"tokens\"] for word in tokens]\n",
        "sentence_lengths = [len(tokens) for tokens in data_final[\"tokens\"]]\n",
        "DATA_VOCAB = sorted(list(set(all_words)))\n",
        "print(\"%s words total, with a vocabulary size of %s\" % (len(all_words), len(DATA_VOCAB)))\n",
        "print(\"Max sentence length is %s\" % max(sentence_lengths))"
      ],
      "execution_count": 0,
      "outputs": [
        {
          "output_type": "stream",
          "text": [
            "1343547 words total, with a vocabulary size of 28470\n",
            "Max sentence length is 1398\n"
          ],
          "name": "stdout"
        }
      ]
    },
    {
      "cell_type": "code",
      "metadata": {
        "id": "Mml-_J5DzhFr",
        "colab_type": "code",
        "outputId": "15a6c461-1c0b-4ac1-c17c-8842240214da",
        "colab": {
          "base_uri": "https://localhost:8080/",
          "height": 609
        }
      },
      "source": [
        "import matplotlib.pyplot as plt\n",
        "\n",
        "fig = plt.figure(figsize=(10, 10)) \n",
        "plt.xlabel('Sentence length')\n",
        "plt.ylabel('Number of sentences')\n",
        "plt.hist(sentence_lengths)\n",
        "plt.show()"
      ],
      "execution_count": 0,
      "outputs": [
        {
          "output_type": "display_data",
          "data": {
            "image/png": "[encoded data removed]",
            "text/plain": [
              "<Figure size 720x720 with 1 Axes>"
            ]
          },
          "metadata": {
            "tags": []
          }
        }
      ]
    },
    {
      "cell_type": "code",
      "metadata": {
        "id": "6ur6W-XUzhFw",
        "colab_type": "code",
        "outputId": "00f1df27-4d3a-4bb2-b32f-7445d1277f44",
        "colab": {
          "base_uri": "https://localhost:8080/",
          "height": 156
        }
      },
      "source": [
        "# convert categorical labels to numerical with one hot encoding\n",
        "\n",
        "data_label = data_final[\"Label\"].tolist()\n",
        "print(data_label)\n",
        "\n",
        "encoder = LabelEncoder()\n",
        "encoder.fit(data_label)\n",
        "encoded_y = encoder.transform(data_label)\n",
        "print(encoded_y)\n",
        "# convert to dummy variables (i.e. one hot encoded)\n",
        "y_labels = np_utils.to_categorical(encoded_y, 6)\n",
        "\n",
        "print(y_labels[0:5])"
      ],
      "execution_count": 0,
      "outputs": [
        {
          "output_type": "stream",
          "text": [
            "['false', 'barely-true', 'mostly-true', 'false', 'barely-true', 'mostly-true', 'mostly-true', 'false', 'false', 'pants-fire', 'barely-true', 'barely-true', 'barely-true', 'mostly-true', 'false', 'barely-true', 'half-true', 'mostly-true', 'false', 'barely-true', 'true', 'pants-fire', 'mostly-true', 'true', 'half-true', 'half-true', 'barely-true', 'mostly-true', 'mostly-true', 'barely-true', 'pants-fire', 'barely-true', 'true', 'mostly-true', 'false', 'half-true', 'false', 'true', 'false', 'mostly-true', 'barely-true', 'mostly-true', 'half-true', 'false', 'true', 'true', 'barely-true', 'false', 'false', 'true', 'false', 'mostly-true', 'barely-true', 'barely-true', 'true', 'half-true', 'barely-true', 'half-true', 'half-true', 'barely-true', 'barely-true', 'mostly-true', 'true', 'barely-true', 'half-true', 'pants-fire', 'pants-fire', 'false', 'true', 'true', 'half-true', 'pants-fire', 'pants-fire', 'false', 'barely-true', 'barely-true', 'half-true', 'false', 'false', 'half-true', 'barely-true', 'mostly-true', 'half-true', 'mostly-true', 'barely-true', 'half-true', 'false', 'half-true', 'half-true', 'mostly-true', 'false', 'false', 'barely-true', 'barely-true', 'half-true', 'pants-fire', 'half-true', 'pants-fire', 'false', 'true', 'true', 'barely-true', 'true', 'half-true', 'barely-true', 'half-true', 'mostly-true', 'mostly-true', 'half-true', 'barely-true', 'false', 'false', 'half-true', 'mostly-true', 'half-true', 'half-true', 'true', 'false', 'barely-true', 'mostly-true', 'mostly-true', 'true', 'barely-true', 'pants-fire', 'false', 'pants-fire', 'half-true', 'barely-true', 'true', 'false', 'true', 'mostly-true', 'mostly-true', 'false', 'pants-fire', 'false', 'pants-fire', 'true', 'half-true', 'true', 'false', 'half-true', 'false', 'half-true', 'mostly-true', 'half-true', 'false', 'barely-true', 'mostly-true', 'false', 'false', 'half-true', 'barely-true', 'barely-true', 'barely-true', 'mostly-true', 'barely-true', 'mostly-true', 'half-true', 'true', 'mostly-true', 'true', 'half-true', 'barely-true', 'false', 'half-true', 'barely-true', 'barely-true', 'pants-fire', 'true', 'mostly-true', 'mostly-true', 'barely-true', 'mostly-true', 'barely-true', 'barely-true', 'barely-true', 'half-true', 'barely-true', 'barely-true', 'pants-fire', 'pants-fire', 'half-true', 'true', 'barely-true', 'mostly-true', 'half-true', 'true', 'true', 'true', 'pants-fire', 'half-true', 'mostly-true', 'true', 'barely-true', 'false', 'mostly-true', 'half-true', 'false', 'true', 'half-true', 'half-true', 'false', 'half-true', 'barely-true', 'mostly-true', 'mostly-true', 'barely-true', 'false', 'mostly-true', 'false', 'barely-true', 'half-true', 'barely-true', 'pants-fire', 'false', 'half-true', 'half-true', 'mostly-true', 'false', 'mostly-true', 'half-true', 'false', 'mostly-true', 'true', 'pants-fire', 'mostly-true', 'barely-true', 'true', 'pants-fire', 'half-true', 'mostly-true', 'mostly-true', 'true', 'mostly-true', 'false', 'pants-fire', 'false', 'mostly-true', 'pants-fire', 'half-true', 'barely-true', 'mostly-true', 'false', 'half-true', 'true', 'true', 'barely-true', 'pants-fire', 'barely-true', 'true', 'true', 'false', 'false', 'true', 'pants-fire', 'barely-true', 'barely-true', 'true', 'false', 'true', 'true', 'mostly-true', 'half-true', 'false', 'true', 'true', 'mostly-true', 'true', 'true', 'half-true', 'false', 'half-true', 'true', 'barely-true', 'half-true', 'false', 'half-true', 'barely-true', 'half-true', 'pants-fire', 'false', 'barely-true', 'true', 'barely-true', 'false', 'mostly-true', 'half-true', 'barely-true', 'pants-fire', 'half-true', 'half-true', 'mostly-true', 'barely-true', 'half-true', 'false', 'false', 'mostly-true', 'false', 'mostly-true', 'half-true', 'mostly-true', 'true', 'true', 'mostly-true', 'barely-true', 'mostly-true', 'false', 'half-true', 'false', 'false', 'true', 'true', 'true', 'mostly-true', 'barely-true', 'mostly-true', 'barely-true', 'barely-true', 'half-true', 'mostly-true', 'half-true', 'true', 'pants-fire', 'false', 'mostly-true', 'false', 'half-true', 'barely-true', 'pants-fire', 'half-true', 'mostly-true', 'pants-fire', 'barely-true', 'half-true', 'mostly-true', 'half-true', 'false', 'mostly-true', 'pants-fire', 'mostly-true', 'mostly-true', 'barely-true', 'true', 'barely-true', 'true', 'true', 'half-true', 'true', 'pants-fire', 'half-true', 'half-true', 'barely-true', 'mostly-true', 'barely-true', 'pants-fire', 'barely-true', 'true', 'half-true', 'false', 'barely-true', 'mostly-true', 'mostly-true', 'half-true', 'true', 'half-true', 'half-true', 'mostly-true', 'mostly-true', 'half-true', 'mostly-true', 'half-true', 'half-true', 'mostly-true', 'false', 'true', 'half-true', 'true', 'half-true', 'barely-true', 'barely-true', 'half-true', 'mostly-true', 'true', 'half-true', 'mostly-true', 'false', 'true', 'barely-true', 'true', 'barely-true', 'half-true', 'mostly-true', 'half-true', 'false', 'true', 'true', 'half-true', 'true', 'true', 'false', 'false', 'false', 'half-true', 'false', 'half-true', 'half-true', 'half-true', 'mostly-true', 'true', 'barely-true', 'half-true', 'half-true', 'true', 'true', 'barely-true', 'barely-true', 'half-true', 'half-true', 'mostly-true', 'false', 'barely-true', 'half-true', 'half-true', 'half-true', 'false', 'true', 'mostly-true', 'false', 'false', 'mostly-true', 'barely-true', 'mostly-true', 'mostly-true', 'half-true', 'mostly-true', 'barely-true', 'mostly-true', 'mostly-true', 'half-true', 'half-true', 'barely-true', 'true', 'half-true', 'mostly-true', 'mostly-true', 'false', 'barely-true', 'false', 'barely-true', 'mostly-true', 'false', 'false', 'barely-true', 'half-true', 'half-true', 'mostly-true', 'true', 'true', 'false', 'half-true', 'barely-true', 'half-true', 'half-true', 'true', 'false', 'barely-true', 'true', 'mostly-true', 'mostly-true', 'false', 'half-true', 'true', 'true', 'barely-true', 'half-true', 'half-true', 'false', 'half-true', 'true', 'barely-true', 'false', 'true', 'half-true', 'false', 'mostly-true', 'half-true', 'true', 'false', 'true', 'half-true', 'true', 'mostly-true', 'true', 'false', 'half-true', 'true', 'barely-true', 'mostly-true', 'barely-true', 'pants-fire', 'barely-true', 'mostly-true', 'true', 'half-true', 'true', 'mostly-true', 'mostly-true', 'half-true', 'half-true', 'true', 'barely-true', 'false', 'mostly-true', 'true', 'barely-true', 'barely-true', 'barely-true', 'half-true', 'mostly-true', 'barely-true', 'false', 'true', 'barely-true', 'mostly-true', 'false', 'half-true', 'mostly-true', 'mostly-true', 'pants-fire', 'half-true', 'mostly-true', 'false', 'barely-true', 'mostly-true', 'true', 'pants-fire', 'barely-true', 'mostly-true', 'half-true', 'pants-fire', 'false', 'true', 'half-true', 'mostly-true', 'half-true', 'mostly-true', 'mostly-true', 'mostly-true', 'half-true', 'mostly-true', 'barely-true', 'false', 'mostly-true', 'false', 'barely-true', 'true', 'false', 'mostly-true', 'mostly-true', 'mostly-true', 'barely-true', 'true', 'true', 'false', 'barely-true', 'barely-true', 'mostly-true', 'mostly-true', 'mostly-true', 'half-true', 'pants-fire', 'half-true', 'false', 'half-true', 'true', 'half-true', 'half-true', 'pants-fire', 'true', 'false', 'pants-fire', 'mostly-true', 'half-true', 'pants-fire', 'barely-true', 'mostly-true', 'false', 'mostly-true', 'false', 'barely-true', 'mostly-true', 'true', 'true', 'barely-true', 'true', 'mostly-true', 'mostly-true', 'half-true', 'half-true', 'false', 'false', 'mostly-true', 'barely-true', 'pants-fire', 'true', 'pants-fire', 'half-true', 'true', 'false', 'false', 'half-true', 'half-true', 'half-true', 'mostly-true', 'pants-fire', 'false', 'true', 'barely-true', 'mostly-true', 'barely-true', 'half-true', 'barely-true', 'false', 'pants-fire', 'half-true', 'true', 'half-true', 'true', 'barely-true', 'true', 'half-true', 'false', 'false', 'barely-true', 'half-true', 'half-true', 'false', 'mostly-true', 'pants-fire', 'mostly-true', 'half-true', 'half-true', 'false', 'true', 'mostly-true', 'mostly-true', 'pants-fire', 'half-true', 'true', 'barely-true', 'mostly-true', 'false', 'barely-true', 'pants-fire', 'pants-fire', 'mostly-true', 'true', 'mostly-true', 'barely-true', 'half-true', 'pants-fire', 'half-true', 'pants-fire', 'false', 'mostly-true', 'false', 'true', 'true', 'half-true', 'half-true', 'false', 'barely-true', 'barely-true', 'half-true', 'mostly-true', 'false', 'true', 'pants-fire', 'half-true', 'barely-true', 'half-true', 'half-true', 'half-true', 'mostly-true', 'false', 'pants-fire', 'half-true', 'mostly-true', 'mostly-true', 'mostly-true', 'true', 'half-true', 'true', 'pants-fire', 'true', 'barely-true', 'true', 'half-true', 'false', 'half-true', 'mostly-true', 'mostly-true', 'barely-true', 'mostly-true', 'half-true', 'barely-true', 'false', 'mostly-true', 'half-true', 'false', 'half-true', 'mostly-true', 'mostly-true', 'mostly-true', 'false', 'half-true', 'false', 'barely-true', 'barely-true', 'pants-fire', 'false', 'false', 'true', 'mostly-true', 'half-true', 'half-true', 'pants-fire', 'false', 'mostly-true', 'false', 'false', 'barely-true', 'true', 'mostly-true', 'pants-fire', 'false', 'true', 'true', 'mostly-true', 'half-true', 'half-true', 'mostly-true', 'barely-true', 'true', 'half-true', 'barely-true', 'true', 'half-true', 'half-true', 'half-true', 'pants-fire', 'pants-fire', 'half-true', 'barely-true', 'pants-fire', 'barely-true', 'true', 'barely-true', 'mostly-true', 'false', 'pants-fire', 'false', 'half-true', 'true', 'half-true', 'half-true', 'mostly-true', 'barely-true', 'false', 'pants-fire', 'mostly-true', 'half-true', 'barely-true', 'pants-fire', 'true', 'mostly-true', 'half-true', 'mostly-true', 'half-true', 'pants-fire', 'false', 'false', 'true', 'mostly-true', 'true', 'barely-true', 'false', 'half-true', 'barely-true', 'barely-true', 'mostly-true', 'barely-true', 'pants-fire', 'mostly-true', 'barely-true', 'barely-true', 'false', 'mostly-true', 'pants-fire', 'true', 'pants-fire', 'mostly-true', 'barely-true', 'half-true', 'barely-true', 'half-true', 'half-true', 'mostly-true', 'false', 'false', 'true', 'half-true', 'true', 'barely-true', 'false', 'barely-true', 'barely-true', 'pants-fire', 'true', 'half-true', 'mostly-true', 'barely-true', 'half-true', 'half-true', 'half-true', 'true', 'pants-fire', 'half-true', 'mostly-true', 'half-true', 'false', 'pants-fire', 'pants-fire', 'true', 'true', 'mostly-true', 'pants-fire', 'half-true', 'false', 'false', 'half-true', 'barely-true', 'half-true', 'barely-true', 'mostly-true', 'true', 'true', 'half-true', 'true', 'false', 'mostly-true', 'true', 'false', 'mostly-true', 'half-true', 'half-true', 'mostly-true', 'half-true', 'mostly-true', 'mostly-true', 'false', 'half-true', 'mostly-true', 'half-true', 'mostly-true', 'false', 'false', 'true', 'true', 'barely-true', 'false', 'mostly-true', 'mostly-true', 'false', 'barely-true', 'half-true', 'half-true', 'false', 'half-true', 'false', 'half-true', 'pants-fire', 'true', 'pants-fire', 'true', 'false', 'barely-true', 'false', 'barely-true', 'false', 'half-true', 'false', 'pants-fire', 'barely-true', 'barely-true', 'true', 'mostly-true', 'half-true', 'false', 'barely-true', 'barely-true', 'false', 'barely-true', 'false', 'true', 'false', 'mostly-true', 'barely-true', 'false', 'pants-fire', 'half-true', 'mostly-true', 'barely-true', 'true', 'pants-fire', 'barely-true', 'true', 'half-true', 'mostly-true', 'true', 'half-true', 'mostly-true', 'true', 'barely-true', 'barely-true', 'false', 'barely-true', 'barely-true', 'half-true', 'half-true', 'barely-true', 'true', 'half-true', 'barely-true', 'barely-true', 'half-true', 'false', 'half-true', 'half-true', 'barely-true', 'mostly-true', 'false', 'true', 'barely-true', 'true', 'false', 'mostly-true', 'half-true', 'half-true', 'barely-true', 'mostly-true', 'barely-true', 'barely-true', 'half-true', 'true', 'mostly-true', 'half-true', 'mostly-true', 'half-true', 'barely-true', 'mostly-true', 'mostly-true', 'mostly-true', 'false', 'half-true', 'barely-true', 'barely-true', 'mostly-true', 'pants-fire', 'barely-true', 'true', 'half-true', 'half-true', 'true', 'barely-true', 'false', 'false', 'barely-true', 'half-true', 'mostly-true', 'mostly-true', 'true', 'half-true', 'false', 'barely-true', 'half-true', 'mostly-true', 'mostly-true', 'false', 'false', 'barely-true', 'true', 'half-true', 'half-true', 'false', 'pants-fire', 'half-true', 'false', 'true', 'mostly-true', 'barely-true', 'barely-true', 'true', 'half-true', 'true', 'false', 'false', 'barely-true', 'barely-true', 'false', 'true', 'mostly-true', 'barely-true', 'true', 'half-true', 'mostly-true', 'true', 'mostly-true', 'false', 'pants-fire', 'half-true', 'true', 'half-true', 'false', 'mostly-true', 'half-true', 'true', 'pants-fire', 'mostly-true', 'false', 'false', 'false', 'false', 'mostly-true', 'half-true', 'false', 'true', 'barely-true', 'false', 'mostly-true', 'false', 'mostly-true', 'false', 'half-true', 'half-true', 'barely-true', 'false', 'mostly-true', 'half-true', 'true', 'false', 'mostly-true', 'true', 'mostly-true', 'half-true', 'barely-true', 'pants-fire', 'true', 'half-true', 'half-true', 'pants-fire', 'barely-true', 'true', 'pants-fire', 'false', 'half-true', 'barely-true', 'false', 'false', 'half-true', 'false', 'barely-true', 'barely-true', 'barely-true', 'false', 'mostly-true', 'true', 'mostly-true', 'half-true', 'half-true', 'barely-true', 'false', 'half-true', 'half-true', 'true', 'mostly-true', 'true', 'mostly-true', 'false', 'barely-true', 'true', 'barely-true', 'half-true', 'pants-fire', 'mostly-true', 'half-true', 'mostly-true', 'mostly-true', 'true', 'half-true', 'half-true', 'mostly-true', 'true', 'barely-true', 'barely-true', 'half-true', 'true', 'false', 'barely-true', 'true', 'false', 'false', 'false', 'barely-true', 'false', 'half-true', 'barely-true', 'mostly-true', 'pants-fire', 'mostly-true', 'half-true', 'mostly-true', 'true', 'true', 'mostly-true', 'false', 'false', 'mostly-true', 'true', 'mostly-true', 'false', 'mostly-true', 'false', 'true', 'true', 'mostly-true', 'half-true', 'half-true', 'half-true', 'mostly-true', 'true', 'true', 'half-true', 'mostly-true', 'mostly-true', 'half-true', 'true', 'true', 'true', 'mostly-true', 'half-true', 'pants-fire', 'half-true', 'half-true', 'false', 'barely-true', 'false', 'half-true', 'false', 'barely-true', 'half-true', 'half-true', 'mostly-true', 'half-true', 'mostly-true', 'half-true', 'half-true', 'barely-true', 'mostly-true', 'half-true', 'false', 'mostly-true', 'half-true', 'pants-fire', 'true', 'barely-true', 'barely-true', 'false', 'barely-true', 'false', 'pants-fire', 'false', 'pants-fire', 'pants-fire', 'false', 'false', 'barely-true', 'half-true', 'mostly-true', 'half-true', 'false', 'barely-true', 'mostly-true', 'mostly-true', 'half-true', 'half-true', 'false', 'half-true', 'false', 'false', 'half-true', 'pants-fire', 'true', 'true', 'false', 'barely-true', 'pants-fire', 'false', 'half-true', 'false', 'mostly-true', 'pants-fire', 'false', 'mostly-true', 'barely-true', 'half-true', 'false', 'false', 'half-true', 'true', 'barely-true', 'true', 'false', 'mostly-true', 'false', 'pants-fire', 'mostly-true', 'half-true', 'pants-fire', 'false', 'mostly-true', 'pants-fire', 'pants-fire', 'false', 'false', 'true', 'barely-true', 'barely-true', 'mostly-true', 'pants-fire', 'true', 'half-true', 'half-true', 'pants-fire', 'barely-true', 'barely-true', 'half-true', 'half-true', 'true', 'false', 'true', 'mostly-true', 'barely-true', 'half-true', 'false', 'false', 'false', 'half-true', 'mostly-true', 'true', 'pants-fire', 'barely-true', 'pants-fire', 'true', 'half-true', 'barely-true', 'true', 'barely-true', 'half-true', 'mostly-true', 'false', 'false', 'mostly-true', 'barely-true', 'pants-fire', 'half-true', 'true', 'mostly-true', 'mostly-true', 'false', 'barely-true', 'mostly-true', 'half-true', 'mostly-true', 'mostly-true', 'true', 'half-true', 'half-true', 'true', 'pants-fire', 'true', 'pants-fire', 'pants-fire', 'half-true', 'true', 'mostly-true', 'mostly-true', 'half-true', 'half-true', 'mostly-true', 'barely-true', 'half-true', 'half-true', 'half-true', 'false', 'half-true', 'false', 'pants-fire', 'false', 'false', 'mostly-true', 'false', 'false', 'false', 'false', 'false', 'mostly-true', 'barely-true', 'mostly-true', 'half-true', 'pants-fire', 'false', 'mostly-true', 'false', 'half-true', 'pants-fire', 'mostly-true', 'false', 'pants-fire', 'false', 'barely-true', 'half-true', 'half-true', 'mostly-true', 'half-true', 'half-true', 'barely-true', 'mostly-true', 'barely-true', 'mostly-true', 'true', 'true', 'mostly-true', 'true', 'true', 'barely-true', 'false', 'pants-fire', 'mostly-true', 'half-true', 'false', 'false', 'half-true', 'false', 'false', 'pants-fire', 'mostly-true', 'barely-true', 'mostly-true', 'true', 'mostly-true', 'barely-true', 'true', 'half-true', 'barely-true', 'mostly-true', 'half-true', 'half-true', 'mostly-true', 'pants-fire', 'true', 'half-true', 'barely-true', 'mostly-true', 'mostly-true', 'half-true', 'mostly-true', 'pants-fire', 'pants-fire', 'barely-true', 'true', 'half-true', 'true', 'mostly-true', 'barely-true', 'barely-true', 'false', 'mostly-true', 'false', 'false', 'pants-fire', 'false', 'mostly-true', 'barely-true', 'half-true', 'false', 'false', 'half-true', 'pants-fire', 'false', 'mostly-true', 'false', 'false', 'half-true', 'mostly-true', 'false', 'true', 'barely-true', 'false', 'true', 'mostly-true', 'mostly-true', 'true', 'half-true', 'mostly-true', 'mostly-true', 'mostly-true', 'mostly-true', 'barely-true', 'barely-true', 'half-true', 'false', 'mostly-true', 'mostly-true', 'pants-fire', 'barely-true', 'true', 'barely-true', 'mostly-true', 'half-true', 'mostly-true', 'barely-true', 'half-true', 'barely-true', 'barely-true', 'half-true', 'false', 'pants-fire', 'false', 'true', 'false', 'mostly-true', 'half-true', 'true', 'mostly-true', 'true', 'true', 'false', 'barely-true', 'barely-true', 'barely-true', 'mostly-true', 'mostly-true', 'false', 'false', 'half-true', 'barely-true', 'mostly-true', 'false', 'true', 'true', 'mostly-true', 'mostly-true', 'mostly-true', 'barely-true', 'half-true', 'half-true', 'barely-true', 'barely-true', 'false', 'pants-fire', 'false', 'true', 'mostly-true', 'mostly-true', 'barely-true', 'barely-true', 'false', 'mostly-true', 'half-true', 'true', 'false', 'mostly-true', 'false', 'barely-true', 'half-true', 'false', 'half-true', 'barely-true', 'pants-fire', 'half-true', 'false', 'barely-true', 'barely-true', 'false', 'true', 'true', 'pants-fire', 'mostly-true', 'half-true', 'mostly-true', 'false', 'mostly-true', 'true', 'barely-true', 'true', 'true', 'half-true', 'pants-fire', 'true', 'pants-fire', 'pants-fire', 'barely-true', 'pants-fire', 'half-true', 'pants-fire', 'barely-true', 'true', 'half-true', 'true', 'barely-true', 'pants-fire', 'mostly-true', 'half-true', 'false', 'mostly-true', 'half-true', 'half-true', 'barely-true', 'barely-true', 'false', 'true', 'barely-true', 'mostly-true', 'mostly-true', 'false', 'barely-true', 'barely-true', 'false', 'half-true', 'mostly-true', 'true', 'half-true', 'pants-fire', 'true', 'half-true', 'half-true', 'half-true', 'barely-true', 'pants-fire', 'half-true', 'barely-true', 'pants-fire', 'mostly-true', 'pants-fire', 'pants-fire', 'half-true', 'mostly-true', 'true', 'false', 'false', 'barely-true', 'false', 'half-true', 'half-true', 'half-true', 'true', 'true', 'barely-true', 'barely-true', 'mostly-true', 'half-true', 'false', 'false', 'barely-true', 'half-true', 'pants-fire', 'mostly-true', 'true', 'half-true', 'pants-fire', 'barely-true', 'half-true', 'barely-true', 'pants-fire', 'mostly-true', 'half-true', 'barely-true', 'false', 'barely-true', 'barely-true', 'half-true', 'false', 'mostly-true', 'half-true', 'true', 'half-true', 'pants-fire', 'pants-fire', 'half-true', 'mostly-true', 'half-true', 'mostly-true', 'false', 'half-true', 'half-true', 'mostly-true', 'true', 'false', 'true', 'pants-fire', 'barely-true', 'true', 'false', 'false', 'mostly-true', 'mostly-true', 'true', 'barely-true', 'mostly-true', 'false', 'mostly-true', 'mostly-true', 'mostly-true', 'true', 'false', 'false', 'barely-true', 'pants-fire', 'barely-true', 'pants-fire', 'barely-true', 'half-true', 'barely-true', 'false', 'mostly-true', 'half-true', 'half-true', 'mostly-true', 'half-true', 'half-true', 'true', 'false', 'half-true', 'half-true', 'true', 'half-true', 'true', 'barely-true', 'half-true', 'mostly-true', 'half-true', 'mostly-true', 'false', 'false', 'true', 'pants-fire', 'true', 'barely-true', 'mostly-true', 'barely-true', 'mostly-true', 'false', 'barely-true', 'pants-fire', 'mostly-true', 'pants-fire', 'true', 'false', 'half-true', 'false', 'true', 'mostly-true', 'false', 'true', 'mostly-true', 'mostly-true', 'barely-true', 'pants-fire', 'true', 'half-true', 'true', 'true', 'true', 'barely-true', 'barely-true', 'false', 'false', 'barely-true', 'mostly-true', 'half-true', 'barely-true', 'false', 'false', 'half-true', 'half-true', 'true', 'half-true', 'half-true', 'mostly-true', 'half-true', 'barely-true', 'false', 'mostly-true', 'half-true', 'false', 'half-true', 'half-true', 'mostly-true', 'half-true', 'mostly-true', 'pants-fire', 'pants-fire', 'false', 'false', 'half-true', 'half-true', 'half-true', 'true', 'half-true', 'barely-true', 'half-true', 'false', 'half-true', 'mostly-true', 'mostly-true', 'half-true', 'barely-true', 'true', 'half-true', 'half-true', 'half-true', 'pants-fire', 'mostly-true', 'half-true', 'true', 'false', 'half-true', 'barely-true', 'true', 'pants-fire', 'true', 'true', 'half-true', 'true', 'half-true', 'half-true', 'half-true', 'false', 'barely-true', 'barely-true', 'pants-fire', 'false', 'true', 'mostly-true', 'half-true', 'half-true', 'false', 'pants-fire', 'mostly-true', 'mostly-true', 'false', 'mostly-true', 'mostly-true', 'half-true', 'barely-true', 'true', 'false', 'half-true', 'false', 'true', 'true', 'true', 'mostly-true', 'false', 'pants-fire', 'mostly-true', 'half-true', 'mostly-true', 'half-true', 'false', 'barely-true', 'false', 'false', 'barely-true', 'mostly-true', 'true', 'mostly-true', 'mostly-true', 'pants-fire', 'mostly-true', 'half-true', 'mostly-true', 'half-true', 'mostly-true', 'mostly-true', 'false', 'half-true', 'false', 'barely-true', 'mostly-true', 'half-true', 'true', 'barely-true', 'half-true', 'false', 'half-true', 'true', 'pants-fire', 'true', 'half-true', 'false', 'false', 'mostly-true', 'true', 'false', 'mostly-true', 'true', 'half-true', 'pants-fire', 'pants-fire', 'half-true', 'mostly-true', 'false', 'mostly-true', 'mostly-true', 'true', 'true', 'true', 'mostly-true', 'false', 'barely-true', 'false', 'true', 'false', 'mostly-true', 'barely-true', 'false', 'mostly-true', 'half-true', 'half-true', 'true', 'mostly-true', 'half-true', 'pants-fire', 'mostly-true', 'true', 'true', 'barely-true', 'mostly-true', 'half-true', 'barely-true', 'true', 'false', 'false', 'true', 'half-true', 'pants-fire', 'mostly-true', 'half-true', 'true', 'true', 'barely-true', 'false', 'mostly-true', 'mostly-true', 'false', 'barely-true', 'true', 'mostly-true', 'half-true', 'barely-true', 'half-true', 'mostly-true', 'half-true', 'barely-true', 'barely-true', 'barely-true', 'barely-true', 'pants-fire', 'true', 'true', 'false', 'pants-fire', 'false', 'barely-true', 'barely-true', 'mostly-true', 'false', 'false', 'true', 'mostly-true', 'barely-true', 'false', 'barely-true', 'mostly-true', 'true', 'mostly-true', 'false', 'pants-fire', 'half-true', 'half-true', 'barely-true', 'half-true', 'false', 'true', 'half-true', 'true', 'pants-fire', 'half-true', 'barely-true', 'half-true', 'half-true', 'half-true', 'mostly-true', 'mostly-true', 'half-true', 'half-true', 'barely-true', 'half-true', 'half-true', 'barely-true', 'half-true', 'false', 'true', 'barely-true', 'mostly-true', 'false', 'half-true', 'barely-true', 'true', 'false', 'mostly-true', 'pants-fire', 'false', 'half-true', 'half-true', 'false', 'true', 'half-true', 'pants-fire', 'mostly-true', 'mostly-true', 'true', 'pants-fire', 'half-true', 'false', 'half-true', 'mostly-true', 'mostly-true', 'false', 'false', 'false', 'barely-true', 'true', 'false', 'mostly-true', 'false', 'pants-fire', 'half-true', 'half-true', 'mostly-true', 'half-true', 'false', 'false', 'true', 'false', 'mostly-true', 'false', 'true', 'mostly-true', 'true', 'pants-fire', 'half-true', 'barely-true', 'mostly-true', 'half-true', 'mostly-true', 'half-true', 'true', 'half-true', 'half-true', 'true', 'mostly-true', 'mostly-true', 'barely-true', 'mostly-true', 'pants-fire', 'mostly-true', 'false', 'true', 'mostly-true', 'half-true', 'mostly-true', 'half-true', 'half-true', 'half-true', 'false', 'half-true', 'half-true', 'false', 'half-true', 'half-true', 'half-true', 'barely-true', 'mostly-true', 'barely-true', 'false', 'mostly-true', 'barely-true', 'false', 'true', 'barely-true', 'half-true', 'barely-true', 'mostly-true', 'false', 'false', 'barely-true', 'half-true', 'mostly-true', 'half-true', 'true', 'pants-fire', 'false', 'false', 'half-true', 'mostly-true', 'half-true', 'barely-true', 'barely-true', 'pants-fire', 'true', 'true', 'true', 'true', 'half-true', 'false', 'false', 'mostly-true', 'mostly-true', 'mostly-true', 'half-true', 'true', 'barely-true', 'true', 'barely-true', 'pants-fire', 'false', 'true', 'mostly-true', 'half-true', 'true', 'false', 'barely-true', 'false', 'mostly-true', 'pants-fire', 'false', 'true', 'true', 'barely-true', 'half-true', 'barely-true', 'barely-true', 'half-true', 'true', 'mostly-true', 'false', 'true', 'mostly-true', 'pants-fire', 'barely-true', 'false', 'barely-true', 'barely-true', 'half-true', 'false', 'half-true', 'mostly-true', 'barely-true', 'mostly-true', 'half-true', 'true', 'false', 'mostly-true', 'mostly-true', 'half-true', 'mostly-true', 'barely-true', 'false', 'false', 'mostly-true', 'false', 'half-true', 'barely-true', 'pants-fire', 'half-true', 'barely-true', 'half-true', 'pants-fire', 'true', 'mostly-true', 'pants-fire', 'half-true', 'true', 'true', 'pants-fire', 'false', 'half-true', 'false', 'half-true', 'barely-true', 'half-true', 'true', 'true', 'true', 'half-true', 'barely-true', 'barely-true', 'true', 'mostly-true', 'barely-true', 'half-true', 'false', 'half-true', 'half-true', 'mostly-true', 'mostly-true', 'true', 'mostly-true', 'mostly-true', 'mostly-true', 'false', 'false', 'half-true', 'pants-fire', 'half-true', 'barely-true', 'half-true', 'half-true', 'half-true', 'half-true', 'half-true', 'mostly-true', 'mostly-true', 'half-true', 'barely-true', 'mostly-true', 'false', 'mostly-true', 'false', 'true', 'barely-true', 'mostly-true', 'barely-true', 'barely-true', 'half-true', 'barely-true', 'half-true', 'false', 'false', 'true', 'true', 'mostly-true', 'pants-fire', 'pants-fire', 'mostly-true', 'true', 'true', 'true', 'true', 'false', 'true', 'true', 'half-true', 'barely-true', 'false', 'false', 'half-true', 'mostly-true', 'false', 'barely-true', 'barely-true', 'false', 'pants-fire', 'true', 'true', 'barely-true', 'barely-true', 'barely-true', 'barely-true', 'mostly-true', 'false', 'mostly-true', 'mostly-true', 'true', 'mostly-true', 'barely-true', 'false', 'mostly-true', 'false', 'mostly-true', 'pants-fire', 'true', 'barely-true', 'mostly-true', 'true', 'mostly-true', 'half-true', 'true', 'half-true', 'mostly-true', 'false', 'mostly-true', 'mostly-true', 'pants-fire', 'pants-fire', 'pants-fire', 'barely-true', 'false', 'mostly-true', 'half-true', 'mostly-true', 'half-true', 'true', 'barely-true', 'mostly-true', 'true', 'half-true', 'false', 'mostly-true', 'false', 'false', 'barely-true', 'true', 'half-true', 'false', 'false', 'false', 'barely-true', 'barely-true', 'half-true', 'false', 'mostly-true', 'true', 'barely-true', 'false', 'false', 'false', 'true', 'barely-true', 'half-true', 'mostly-true', 'mostly-true', 'mostly-true', 'mostly-true', 'false', 'pants-fire', 'mostly-true', 'mostly-true', 'mostly-true', 'true', 'mostly-true', 'false', 'barely-true', 'true', 'pants-fire', 'true', 'false', 'mostly-true', 'mostly-true', 'mostly-true', 'half-true', 'half-true', 'false', 'true', 'barely-true', 'mostly-true', 'false', 'mostly-true', 'pants-fire', 'mostly-true', 'half-true', 'mostly-true', 'mostly-true', 'half-true', 'half-true', 'true', 'half-true', 'mostly-true', 'false', 'false', 'pants-fire', 'pants-fire', 'half-true', 'true', 'mostly-true', 'false', 'mostly-true', 'false', 'true', 'mostly-true', 'false', 'false', 'barely-true', 'false', 'barely-true', 'barely-true', 'mostly-true', 'barely-true', 'false', 'true', 'half-true', 'false', 'true', 'half-true', 'mostly-true', 'pants-fire', 'barely-true', 'pants-fire', 'barely-true', 'mostly-true', 'false', 'half-true', 'true', 'barely-true', 'pants-fire', 'barely-true', 'true', 'mostly-true', 'false', 'barely-true', 'half-true', 'mostly-true', 'true', 'half-true', 'half-true', 'mostly-true', 'half-true', 'mostly-true', 'false', 'barely-true', 'mostly-true', 'mostly-true', 'mostly-true', 'mostly-true', 'false', 'half-true', 'false', 'false', 'mostly-true', 'pants-fire', 'half-true', 'true', 'half-true', 'false', 'false', 'false', 'mostly-true', 'half-true', 'false', 'mostly-true', 'false', 'pants-fire', 'barely-true', 'pants-fire', 'half-true', 'pants-fire', 'mostly-true', 'true', 'true', 'false', 'barely-true', 'false', 'false', 'false', 'barely-true', 'barely-true', 'true', 'barely-true', 'half-true', 'half-true', 'half-true', 'mostly-true', 'false', 'false', 'false', 'barely-true', 'mostly-true', 'false', 'barely-true', 'barely-true', 'pants-fire', 'false', 'half-true', 'mostly-true', 'barely-true', 'pants-fire', 'half-true', 'barely-true', 'mostly-true', 'pants-fire', 'half-true', 'mostly-true', 'pants-fire', 'half-true', 'true', 'false', 'mostly-true', 'false', 'half-true', 'true', 'false', 'half-true', 'true', 'false', 'mostly-true', 'true', 'half-true', 'half-true', 'barely-true', 'false', 'mostly-true', 'pants-fire', 'false', 'false', 'half-true', 'mostly-true', 'mostly-true', 'false', 'barely-true', 'false', 'true', 'false', 'false', 'mostly-true', 'mostly-true', 'barely-true', 'half-true', 'true', 'mostly-true', 'mostly-true', 'half-true', 'barely-true', 'barely-true', 'half-true', 'true', 'mostly-true', 'barely-true', 'half-true', 'mostly-true', 'true', 'true', 'false', 'true', 'mostly-true', 'false', 'barely-true', 'half-true', 'barely-true', 'mostly-true', 'pants-fire', 'true', 'false', 'false', 'barely-true', 'barely-true', 'half-true', 'true', 'mostly-true', 'half-true', 'mostly-true', 'mostly-true', 'mostly-true', 'true', 'half-true', 'mostly-true', 'barely-true', 'half-true', 'true', 'true', 'pants-fire', 'half-true', 'mostly-true', 'half-true', 'mostly-true', 'true', 'mostly-true', 'true', 'false', 'barely-true', 'false', 'half-true', 'true', 'barely-true', 'false', 'false', 'true', 'barely-true', 'true', 'false', 'false', 'mostly-true', 'mostly-true', 'false', 'half-true', 'half-true', 'pants-fire', 'false', 'true', 'barely-true', 'true', 'false', 'mostly-true', 'half-true', 'true', 'half-true', 'false', 'half-true', 'false', 'false', 'true', 'barely-true', 'mostly-true', 'half-true', 'pants-fire', 'half-true', 'false', 'mostly-true', 'false', 'false', 'false', 'half-true', 'false', 'false', 'barely-true', 'barely-true', 'half-true', 'true', 'barely-true', 'mostly-true', 'barely-true', 'barely-true', 'mostly-true', 'pants-fire', 'barely-true', 'false', 'half-true', 'false', 'mostly-true', 'barely-true', 'pants-fire', 'mostly-true', 'false', 'mostly-true', 'true', 'half-true', 'half-true', 'pants-fire', 'true', 'half-true', 'half-true', 'barely-true', 'pants-fire', 'half-true', 'half-true', 'pants-fire', 'half-true', 'true', 'mostly-true', 'barely-true', 'true', 'barely-true', 'half-true', 'barely-true', 'half-true', 'half-true', 'barely-true', 'true', 'true', 'true', 'false', 'half-true', 'barely-true', 'false', 'true', 'true', 'barely-true', 'false', 'mostly-true', 'barely-true', 'half-true', 'true', 'half-true', 'barely-true', 'barely-true', 'pants-fire', 'half-true', 'half-true', 'false', 'false', 'false', 'barely-true', 'half-true', 'pants-fire', 'true', 'false', 'true', 'false', 'mostly-true', 'true', 'barely-true', 'true', 'mostly-true', 'pants-fire', 'false', 'half-true', 'barely-true', 'half-true', 'pants-fire', 'half-true', 'barely-true', 'true', 'mostly-true', 'true', 'barely-true', 'half-true', 'false', 'barely-true', 'half-true', 'mostly-true', 'half-true', 'barely-true', 'barely-true', 'false', 'true', 'false', 'false', 'false', 'pants-fire', 'true', 'true', 'mostly-true', 'false', 'false', 'false', 'barely-true', 'true', 'false', 'pants-fire', 'false', 'half-true', 'half-true', 'true', 'half-true', 'pants-fire', 'half-true', 'true', 'false', 'mostly-true', 'half-true', 'false', 'mostly-true', 'half-true', 'pants-fire', 'true', 'mostly-true', 'false', 'true', 'barely-true', 'false', 'true', 'mostly-true', 'half-true', 'true', 'pants-fire', 'mostly-true', 'pants-fire', 'pants-fire', 'barely-true', 'false', 'false', 'true', 'barely-true', 'half-true', 'true', 'half-true', 'pants-fire', 'false', 'true', 'mostly-true', 'mostly-true', 'mostly-true', 'mostly-true', 'pants-fire', 'mostly-true', 'mostly-true', 'barely-true', 'mostly-true', 'barely-true', 'barely-true', 'barely-true', 'barely-true', 'half-true', 'pants-fire', 'mostly-true', 'pants-fire', 'half-true', 'false', 'barely-true', 'mostly-true', 'pants-fire', 'half-true', 'barely-true', 'true', 'barely-true', 'true', 'mostly-true', 'pants-fire', 'false', 'barely-true', 'barely-true', 'barely-true', 'false', 'false', 'true', 'half-true', 'true', 'true', 'true', 'true', 'half-true', 'half-true', 'false', 'false', 'pants-fire', 'half-true', 'barely-true', 'barely-true', 'half-true', 'barely-true', 'mostly-true', 'false', 'true', 'barely-true', 'half-true', 'true', 'mostly-true', 'mostly-true', 'pants-fire', 'mostly-true', 'mostly-true', 'half-true', 'mostly-true', 'pants-fire', 'mostly-true', 'barely-true', 'mostly-true', 'true', 'half-true', 'false', 'true', 'false', 'half-true', 'half-true', 'mostly-true', 'mostly-true', 'mostly-true', 'pants-fire', 'true', 'mostly-true', 'pants-fire', 'barely-true', 'mostly-true', 'true', 'mostly-true', 'pants-fire', 'barely-true', 'true', 'half-true', 'barely-true', 'half-true', 'pants-fire', 'mostly-true', 'half-true', 'barely-true', 'pants-fire', 'false', 'mostly-true', 'mostly-true', 'half-true', 'true', 'true', 'half-true', 'false', 'false', 'false', 'mostly-true', 'pants-fire', 'mostly-true', 'mostly-true', 'true', 'true', 'mostly-true', 'half-true', 'true', 'half-true', 'mostly-true', 'half-true', 'mostly-true', 'half-true', 'true', 'pants-fire', 'true', 'pants-fire', 'barely-true', 'mostly-true', 'half-true', 'mostly-true', 'pants-fire', 'false', 'false', 'pants-fire', 'half-true', 'pants-fire', 'mostly-true', 'half-true', 'barely-true', 'barely-true', 'mostly-true', 'barely-true', 'true', 'false', 'pants-fire', 'mostly-true', 'barely-true', 'pants-fire', 'true', 'half-true', 'mostly-true', 'mostly-true', 'true', 'true', 'half-true', 'pants-fire', 'barely-true', 'true', 'half-true', 'true', 'half-true', 'mostly-true', 'true', 'pants-fire', 'false', 'barely-true', 'false', 'half-true', 'false', 'true', 'half-true', 'true', 'half-true', 'half-true', 'mostly-true', 'mostly-true', 'half-true', 'true', 'false', 'true', 'barely-true', 'half-true', 'true', 'true', 'false', 'barely-true', 'mostly-true', 'half-true', 'false', 'false', 'false', 'false', 'true', 'half-true', 'barely-true', 'barely-true', 'mostly-true', 'barely-true', 'half-true', 'false', 'mostly-true', 'false', 'false', 'half-true', 'mostly-true', 'false', 'pants-fire', 'true', 'mostly-true', 'pants-fire', 'barely-true', 'mostly-true', 'false', 'true', 'false', 'barely-true', 'true', 'true', 'true', 'pants-fire', 'half-true', 'pants-fire', 'barely-true', 'true', 'half-true', 'true', 'half-true', 'false', 'true', 'half-true', 'false', 'half-true', 'mostly-true', 'pants-fire', 'true', 'half-true', 'false', 'mostly-true', 'false', 'true', 'half-true', 'false', 'half-true', 'barely-true', 'half-true', 'half-true', 'false', 'pants-fire', 'true', 'false', 'false', 'mostly-true', 'half-true', 'half-true', 'pants-fire', 'half-true', 'pants-fire', 'pants-fire', 'mostly-true', 'true', 'false', 'pants-fire', 'mostly-true', 'true', 'false', 'true', 'false', 'false', 'mostly-true', 'pants-fire', 'true', 'barely-true', 'true', 'true', 'false', 'barely-true', 'half-true', 'mostly-true', 'barely-true', 'half-true', 'false', 'half-true', 'barely-true', 'barely-true', 'half-true', 'half-true', 'true', 'false', 'true', 'false', 'false', 'mostly-true', 'half-true', 'half-true', 'mostly-true', 'pants-fire', 'true', 'mostly-true', 'mostly-true', 'true', 'pants-fire', 'pants-fire', 'mostly-true', 'true', 'barely-true', 'false', 'pants-fire', 'mostly-true', 'pants-fire', 'mostly-true', 'false', 'barely-true', 'barely-true', 'half-true', 'half-true', 'false', 'half-true', 'pants-fire', 'mostly-true', 'barely-true', 'mostly-true', 'true', 'barely-true', 'true', 'barely-true', 'barely-true', 'barely-true', 'half-true', 'true', 'half-true', 'pants-fire', 'barely-true', 'mostly-true', 'barely-true', 'barely-true', 'mostly-true', 'mostly-true', 'half-true', 'mostly-true', 'barely-true', 'mostly-true', 'mostly-true', 'barely-true', 'barely-true', 'half-true', 'pants-fire', 'mostly-true', 'barely-true', 'mostly-true', 'mostly-true', 'true', 'pants-fire', 'half-true', 'half-true', 'half-true', 'barely-true', 'pants-fire', 'false', 'pants-fire', 'barely-true', 'true', 'half-true', 'mostly-true', 'false', 'pants-fire', 'pants-fire', 'barely-true', 'false', 'false', 'barely-true', 'barely-true', 'mostly-true', 'false', 'mostly-true', 'half-true', 'half-true', 'mostly-true', 'true', 'mostly-true', 'mostly-true', 'half-true', 'half-true', 'barely-true', 'mostly-true', 'half-true', 'false', 'true', 'true', 'barely-true', 'barely-true', 'pants-fire', 'pants-fire', 'false', 'false', 'barely-true', 'true', 'pants-fire', 'mostly-true', 'barely-true', 'pants-fire', 'half-true', 'mostly-true', 'pants-fire', 'half-true', 'true', 'mostly-true', 'true', 'false', 'true', 'barely-true', 'half-true', 'mostly-true', 'false', 'false', 'mostly-true', 'half-true', 'mostly-true', 'false', 'true', 'half-true', 'mostly-true', 'half-true', 'half-true', 'half-true', 'mostly-true', 'true', 'false', 'half-true', 'barely-true', 'true', 'false', 'false', 'pants-fire', 'true', 'mostly-true', 'barely-true', 'false', 'half-true', 'false', 'mostly-true', 'barely-true', 'mostly-true', 'half-true', 'half-true', 'mostly-true', 'true', 'half-true', 'false', 'barely-true', 'mostly-true', 'true', 'barely-true', 'false', 'mostly-true', 'half-true', 'true', 'true', 'true', 'false', 'true', 'mostly-true', 'true', 'half-true', 'mostly-true', 'false', 'half-true', 'half-true', 'half-true', 'false', 'mostly-true', 'pants-fire', 'barely-true', 'mostly-true', 'half-true', 'pants-fire', 'half-true', 'pants-fire', 'barely-true', 'half-true', 'barely-true', 'mostly-true', 'half-true', 'pants-fire', 'false', 'mostly-true', 'false', 'true', 'half-true', 'mostly-true', 'false', 'false', 'pants-fire', 'true', 'half-true', 'mostly-true', 'barely-true', 'barely-true', 'half-true', 'mostly-true', 'false', 'pants-fire', 'true', 'mostly-true', 'true', 'mostly-true', 'false', 'mostly-true', 'false', 'barely-true', 'pants-fire', 'half-true', 'true', 'false', 'false', 'half-true', 'pants-fire', 'barely-true', 'true', 'mostly-true', 'half-true', 'false', 'true', 'false', 'barely-true', 'true', 'true', 'half-true', 'half-true', 'mostly-true', 'half-true', 'barely-true', 'barely-true', 'half-true', 'mostly-true', 'false', 'barely-true', 'pants-fire', 'barely-true', 'mostly-true', 'true', 'half-true', 'true', 'half-true', 'true', 'barely-true', 'true', 'true', 'false', 'false', 'false', 'pants-fire', 'barely-true', 'barely-true', 'barely-true', 'pants-fire', 'mostly-true', 'mostly-true', 'barely-true', 'true', 'mostly-true', 'false', 'true', 'barely-true', 'pants-fire', 'false', 'false', 'half-true', 'true', 'barely-true', 'mostly-true', 'true', 'true', 'true', 'false', 'false', 'pants-fire', 'true', 'false', 'pants-fire', 'false', 'true', 'barely-true', 'barely-true', 'mostly-true', 'barely-true', 'half-true', 'barely-true', 'barely-true', 'half-true', 'barely-true', 'true', 'false', 'false', 'mostly-true', 'half-true', 'half-true', 'pants-fire', 'half-true', 'false', 'pants-fire', 'half-true', 'half-true', 'false', 'true', 'barely-true', 'true', 'mostly-true', 'half-true', 'mostly-true', 'mostly-true', 'mostly-true', 'false', 'barely-true', 'pants-fire', 'barely-true', 'false', 'true', 'mostly-true', 'mostly-true', 'mostly-true', 'mostly-true', 'barely-true', 'pants-fire', 'false', 'half-true', 'mostly-true', 'mostly-true', 'half-true', 'half-true', 'false', 'mostly-true', 'true', 'mostly-true', 'half-true', 'false', 'half-true', 'mostly-true', 'pants-fire', 'mostly-true', 'mostly-true', 'pants-fire', 'pants-fire', 'half-true', 'mostly-true', 'true', 'true', 'true', 'barely-true', 'half-true', 'half-true', 'true', 'pants-fire', 'false', 'true', 'mostly-true', 'mostly-true', 'false', 'true', 'half-true', 'pants-fire', 'mostly-true', 'barely-true', 'mostly-true', 'true', 'half-true', 'mostly-true', 'false', 'mostly-true', 'false', 'mostly-true', 'false', 'barely-true', 'mostly-true', 'half-true', 'barely-true', 'false', 'barely-true', 'barely-true', 'false', 'true', 'barely-true', 'false', 'pants-fire', 'pants-fire', 'half-true', 'pants-fire', 'half-true', 'half-true', 'half-true', 'half-true', 'mostly-true', 'barely-true', 'mostly-true', 'mostly-true', 'true', 'mostly-true', 'half-true', 'half-true', 'false', 'barely-true', 'pants-fire', 'half-true', 'false', 'half-true', 'true', 'half-true', 'barely-true', 'pants-fire', 'pants-fire', 'half-true', 'false', 'pants-fire', 'false', 'barely-true', 'true', 'half-true', 'false', 'mostly-true', 'mostly-true', 'true', 'half-true', 'false', 'false', 'half-true', 'half-true', 'pants-fire', 'mostly-true', 'barely-true', 'false', 'false', 'barely-true', 'mostly-true', 'true', 'true', 'mostly-true', 'barely-true', 'barely-true', 'half-true', 'barely-true', 'half-true', 'half-true', 'false', 'barely-true', 'mostly-true', 'false', 'half-true', 'half-true', 'half-true', 'false', 'false', 'half-true', 'true', 'half-true', 'true', 'false', 'half-true', 'barely-true', 'barely-true', 'false', 'half-true', 'mostly-true', 'true', 'mostly-true', 'half-true', 'true', 'half-true', 'true', 'true', 'false', 'mostly-true', 'half-true', 'false', 'false', 'mostly-true', 'false', 'half-true', 'half-true', 'barely-true', 'false', 'false', 'false', 'false', 'true', 'barely-true', 'mostly-true', 'mostly-true', 'mostly-true', 'false', 'mostly-true', 'false', 'half-true', 'true', 'true', 'mostly-true', 'true', 'mostly-true', 'half-true', 'false', 'barely-true', 'false', 'barely-true', 'barely-true', 'mostly-true', 'false', 'half-true', 'mostly-true', 'mostly-true', 'pants-fire', 'pants-fire', 'true', 'barely-true', 'barely-true', 'false', 'barely-true', 'mostly-true', 'barely-true', 'true', 'barely-true', 'false', 'half-true', 'pants-fire', 'false', 'mostly-true', 'true', 'false', 'pants-fire', 'true', 'mostly-true', 'false', 'pants-fire', 'false', 'barely-true', 'true', 'false', 'false', 'false', 'mostly-true', 'false', 'false', 'true', 'half-true', 'half-true', 'false', 'barely-true', 'true', 'mostly-true', 'half-true', 'true', 'mostly-true', 'pants-fire', 'false', 'barely-true', 'mostly-true', 'true', 'true', 'true', 'half-true', 'true', 'true', 'barely-true', 'true', 'barely-true', 'mostly-true', 'half-true', 'false', 'half-true', 'barely-true', 'mostly-true', 'barely-true', 'half-true', 'true', 'mostly-true', 'false', 'false', 'barely-true', 'false', 'true', 'false', 'true', 'false', 'half-true', 'false', 'half-true', 'false', 'false', 'true', 'pants-fire', 'half-true', 'true', 'true', 'pants-fire', 'false', 'pants-fire', 'mostly-true', 'true', 'false', 'false', 'false', 'false', 'true', 'pants-fire', 'half-true', 'true', 'false', 'true', 'false', 'half-true', 'mostly-true', 'pants-fire', 'barely-true', 'true', 'false', 'false', 'half-true', 'false', 'true', 'false', 'pants-fire', 'true', 'barely-true', 'mostly-true', 'half-true', 'mostly-true', 'half-true', 'true', 'false', 'false', 'mostly-true', 'barely-true', 'true', 'half-true', 'half-true', 'mostly-true', 'pants-fire', 'false', 'false', 'barely-true', 'pants-fire', 'false', 'barely-true', 'false', 'pants-fire', 'true', 'mostly-true', 'false', 'mostly-true', 'true', 'mostly-true', 'barely-true', 'barely-true', 'barely-true', 'half-true', 'false', 'false', 'false', 'half-true', 'false', 'pants-fire', 'true', 'half-true', 'barely-true', 'barely-true', 'false', 'barely-true', 'true', 'barely-true', 'true', 'true', 'false', 'true', 'half-true', 'false', 'false', 'mostly-true', 'true', 'mostly-true', 'barely-true', 'half-true', 'mostly-true', 'true', 'half-true', 'false', 'half-true', 'mostly-true', 'pants-fire', 'barely-true', 'pants-fire', 'true', 'half-true', 'half-true', 'true', 'false', 'mostly-true', 'false', 'barely-true', 'barely-true', 'barely-true', 'half-true', 'true', 'barely-true', 'mostly-true', 'false', 'mostly-true', 'false', 'false', 'mostly-true', 'false', 'mostly-true', 'false', 'half-true', 'mostly-true', 'mostly-true', 'true', 'false', 'barely-true', 'false', 'true', 'false', 'barely-true', 'true', 'mostly-true', 'half-true', 'barely-true', 'mostly-true', 'true', 'false', 'barely-true', 'false', 'half-true', 'true', 'true', 'barely-true', 'true', 'false', 'mostly-true', 'false', 'mostly-true', 'true', 'false', 'half-true', 'false', 'true', 'mostly-true', 'barely-true', 'barely-true', 'half-true', 'mostly-true', 'half-true', 'false', 'half-true', 'false', 'half-true', 'false', 'false', 'true', 'barely-true', 'pants-fire', 'pants-fire', 'mostly-true', 'true', 'mostly-true', 'half-true', 'mostly-true', 'half-true', 'pants-fire', 'true', 'false', 'false', 'false', 'mostly-true', 'false', 'half-true', 'half-true', 'half-true', 'false', 'false', 'barely-true', 'barely-true', 'true', 'half-true', 'half-true', 'true', 'half-true', 'barely-true', 'barely-true', 'half-true', 'true', 'mostly-true', 'false', 'true', 'pants-fire', 'pants-fire', 'true', 'barely-true', 'barely-true', 'mostly-true', 'false', 'mostly-true', 'mostly-true', 'barely-true', 'pants-fire', 'half-true', 'barely-true', 'true', 'barely-true', 'mostly-true', 'true', 'false', 'half-true', 'mostly-true', 'mostly-true', 'mostly-true', 'false', 'false', 'mostly-true', 'barely-true', 'mostly-true', 'pants-fire', 'half-true', 'true', 'half-true', 'false', 'barely-true', 'barely-true', 'true', 'true', 'barely-true', 'half-true', 'half-true', 'half-true', 'false', 'false', 'barely-true', 'false', 'mostly-true', 'false', 'barely-true', 'half-true', 'true', 'true', 'false', 'half-true', 'half-true', 'barely-true', 'mostly-true', 'barely-true', 'half-true', 'true', 'half-true', 'true', 'half-true', 'mostly-true', 'barely-true', 'mostly-true', 'half-true', 'barely-true', 'half-true', 'mostly-true', 'barely-true', 'half-true', 'mostly-true', 'mostly-true', 'barely-true', 'mostly-true', 'mostly-true', 'half-true', 'barely-true', 'pants-fire', 'true', 'mostly-true', 'barely-true', 'false', 'true', 'false', 'mostly-true', 'half-true', 'half-true', 'half-true', 'barely-true', 'true', 'false', 'half-true', 'half-true', 'false', 'half-true', 'pants-fire', 'half-true', 'mostly-true', 'half-true', 'true', 'true', 'half-true', 'half-true', 'true', 'false', 'half-true', 'half-true', 'half-true', 'half-true', 'barely-true', 'false', 'half-true', 'barely-true', 'barely-true', 'mostly-true', 'mostly-true', 'barely-true', 'half-true', 'true', 'mostly-true', 'mostly-true', 'half-true', 'true', 'mostly-true', 'barely-true', 'barely-true', 'half-true', 'half-true', 'barely-true', 'true', 'barely-true', 'barely-true', 'false', 'barely-true', 'true', 'mostly-true', 'half-true', 'barely-true', 'mostly-true', 'half-true', 'half-true', 'barely-true', 'half-true', 'false', 'true', 'mostly-true', 'mostly-true', 'barely-true', 'mostly-true', 'barely-true', 'half-true', 'false', 'mostly-true', 'barely-true', 'false', 'mostly-true', 'half-true', 'false', 'true', 'barely-true', 'half-true', 'barely-true', 'false', 'half-true', 'barely-true', 'false', 'barely-true', 'half-true', 'false', 'barely-true', 'false', 'true', 'mostly-true', 'half-true', 'false', 'mostly-true', 'pants-fire', 'true', 'half-true', 'pants-fire', 'barely-true', 'false', 'half-true', 'barely-true', 'barely-true', 'barely-true', 'true', 'barely-true', 'half-true', 'barely-true', 'false', 'barely-true', 'mostly-true', 'true', 'false', 'barely-true', 'false', 'true', 'mostly-true', 'true', 'half-true', 'mostly-true', 'true', 'pants-fire', 'pants-fire', 'mostly-true', 'false', 'false', 'barely-true', 'true', 'half-true', 'half-true', 'barely-true', 'half-true', 'false', 'half-true', 'half-true', 'barely-true', 'false', 'mostly-true', 'false', 'false', 'pants-fire', 'true', 'false', 'true', 'barely-true', 'half-true', 'half-true', 'pants-fire', 'mostly-true', 'mostly-true', 'mostly-true', 'half-true', 'barely-true', 'half-true', 'pants-fire', 'mostly-true', 'pants-fire', 'barely-true', 'true', 'true', 'false', 'barely-true', 'half-true', 'pants-fire', 'mostly-true', 'false', 'half-true', 'barely-true', 'false', 'false', 'false', 'barely-true', 'false', 'half-true', 'mostly-true', 'barely-true', 'barely-true', 'barely-true', 'true', 'barely-true', 'half-true', 'mostly-true', 'false', 'false', 'half-true', 'half-true', 'half-true', 'half-true', 'barely-true', 'true', 'half-true', 'barely-true', 'mostly-true', 'false', 'true', 'half-true', 'true', 'mostly-true', 'true', 'mostly-true', 'half-true', 'half-true', 'pants-fire', 'false', 'half-true', 'half-true', 'false', 'half-true', 'true', 'barely-true', 'false', 'half-true', 'mostly-true', 'half-true', 'mostly-true', 'barely-true', 'false', 'false', 'mostly-true', 'half-true', 'barely-true', 'half-true', 'barely-true', 'false', 'false', 'true', 'mostly-true', 'mostly-true', 'barely-true', 'pants-fire', 'barely-true', 'half-true', 'true', 'half-true', 'false', 'false', 'mostly-true', 'mostly-true', 'half-true', 'false', 'barely-true', 'mostly-true', 'true', 'mostly-true', 'pants-fire', 'half-true', 'barely-true', 'half-true', 'barely-true', 'half-true', 'barely-true', 'true', 'false', 'mostly-true', 'true', 'half-true', 'barely-true', 'pants-fire', 'mostly-true', 'false', 'false', 'true', 'true', 'false', 'mostly-true', 'false', 'false', 'mostly-true', 'barely-true', 'mostly-true', 'mostly-true', 'mostly-true', 'pants-fire', 'mostly-true', 'mostly-true', 'true', 'half-true', 'true', 'false', 'true', 'true', 'mostly-true', 'pants-fire', 'half-true', 'barely-true', 'half-true', 'true', 'false', 'barely-true', 'barely-true', 'half-true', 'mostly-true', 'barely-true', 'half-true', 'half-true', 'mostly-true', 'half-true', 'half-true', 'half-true', 'barely-true', 'half-true', 'barely-true', 'barely-true', 'half-true', 'half-true', 'true', 'false', 'half-true', 'mostly-true', 'false', 'false', 'mostly-true', 'false', 'half-true', 'false', 'mostly-true', 'true', 'mostly-true', 'false', 'half-true', 'true', 'true', 'pants-fire', 'mostly-true', 'half-true', 'half-true', 'mostly-true', 'mostly-true', 'half-true', 'mostly-true', 'false', 'mostly-true', 'mostly-true', 'half-true', 'mostly-true', 'barely-true', 'false', 'half-true', 'mostly-true', 'barely-true', 'true', 'false', 'half-true', 'true', 'false', 'half-true', 'mostly-true', 'half-true', 'mostly-true', 'false', 'true', 'pants-fire', 'mostly-true', 'true', 'mostly-true', 'false', 'half-true', 'mostly-true', 'pants-fire', 'half-true', 'mostly-true', 'mostly-true', 'true', 'false', 'mostly-true', 'true', 'half-true', 'barely-true', 'pants-fire', 'barely-true', 'pants-fire', 'barely-true', 'mostly-true', 'mostly-true', 'mostly-true', 'true', 'pants-fire', 'half-true', 'pants-fire', 'barely-true', 'true', 'barely-true', 'mostly-true', 'mostly-true', 'false', 'half-true', 'barely-true', 'half-true', 'false', 'half-true', 'pants-fire', 'half-true', 'true', 'half-true', 'pants-fire', 'half-true', 'mostly-true', 'false', 'half-true', 'true', 'barely-true', 'barely-true', 'half-true', 'false', 'false', 'false', 'false', 'mostly-true', 'mostly-true', 'mostly-true', 'pants-fire', 'mostly-true', 'false', 'true', 'mostly-true', 'false', 'half-true', 'pants-fire', 'barely-true', 'half-true', 'true', 'pants-fire', 'false', 'mostly-true', 'false', 'pants-fire', 'true', 'mostly-true', 'pants-fire', 'mostly-true', 'mostly-true', 'half-true', 'false', 'half-true', 'false', 'true', 'false', 'barely-true', 'mostly-true', 'mostly-true', 'barely-true', 'mostly-true', 'half-true', 'mostly-true', 'half-true', 'mostly-true', 'false', 'half-true', 'half-true', 'false', 'pants-fire', 'true', 'half-true', 'half-true', 'mostly-true', 'pants-fire', 'half-true', 'true', 'barely-true', 'half-true', 'half-true', 'false', 'barely-true', 'barely-true', 'false', 'false', 'half-true', 'mostly-true', 'true', 'true', 'half-true', 'mostly-true', 'mostly-true', 'mostly-true', 'true', 'true', 'true', 'half-true', 'false', 'half-true', 'true', 'half-true', 'true', 'false', 'true', 'false', 'mostly-true', 'half-true', 'true', 'mostly-true', 'half-true', 'half-true', 'barely-true', 'false', 'false', 'mostly-true', 'mostly-true', 'half-true', 'mostly-true', 'half-true', 'barely-true', 'mostly-true', 'barely-true', 'false', 'half-true', 'barely-true', 'true', 'false', 'true', 'true', 'barely-true', 'true', 'false', 'false', 'mostly-true', 'pants-fire', 'true', 'half-true', 'mostly-true', 'false', 'mostly-true', 'false', 'mostly-true', 'half-true', 'barely-true', 'true', 'barely-true', 'barely-true', 'mostly-true', 'true', 'false', 'mostly-true', 'half-true', 'true', 'false', 'true', 'barely-true', 'mostly-true', 'false', 'false', 'mostly-true', 'mostly-true', 'barely-true', 'half-true', 'false', 'mostly-true', 'false', 'barely-true', 'false', 'half-true', 'true', 'false', 'barely-true', 'false', 'true', 'half-true', 'half-true', 'barely-true', 'false', 'true', 'false', 'mostly-true', 'barely-true', 'mostly-true', 'half-true', 'pants-fire', 'mostly-true', 'mostly-true', 'false', 'half-true', 'mostly-true', 'true', 'false', 'false', 'half-true', 'pants-fire', 'true', 'false', 'half-true', 'mostly-true', 'pants-fire', 'barely-true', 'half-true', 'mostly-true', 'true', 'false', 'half-true', 'pants-fire', 'true', 'pants-fire', 'mostly-true', 'half-true', 'half-true', 'false', 'false', 'half-true', 'false', 'mostly-true', 'half-true', 'barely-true', 'false', 'false', 'false', 'barely-true', 'false', 'false', 'barely-true', 'half-true', 'pants-fire', 'half-true', 'pants-fire', 'mostly-true', 'half-true', 'barely-true', 'false', 'barely-true', 'mostly-true', 'half-true', 'barely-true', 'true', 'true', 'false', 'mostly-true', 'barely-true', 'barely-true', 'false', 'half-true', 'half-true', 'half-true', 'mostly-true', 'mostly-true', 'mostly-true', 'mostly-true', 'true', 'false', 'pants-fire', 'true', 'barely-true', 'barely-true', 'true', 'half-true', 'half-true', 'barely-true', 'barely-true', 'barely-true', 'barely-true', 'half-true', 'half-true', 'true', 'false', 'half-true', 'true', 'half-true', 'half-true', 'false', 'pants-fire', 'mostly-true', 'half-true', 'mostly-true', 'false', 'mostly-true', 'mostly-true', 'pants-fire', 'barely-true', 'true', 'barely-true', 'pants-fire', 'true', 'mostly-true', 'mostly-true', 'half-true', 'mostly-true', 'pants-fire', 'pants-fire', 'mostly-true', 'true', 'pants-fire', 'true', 'true', 'true', 'half-true', 'pants-fire', 'false', 'barely-true', 'pants-fire', 'false', 'mostly-true', 'true', 'mostly-true', 'barely-true', 'false', 'true', 'pants-fire', 'barely-true', 'false', 'false', 'barely-true', 'barely-true', 'barely-true', 'barely-true', 'mostly-true', 'true', 'mostly-true', 'half-true', 'mostly-true', 'mostly-true', 'false', 'mostly-true', 'barely-true', 'true', 'mostly-true', 'half-true', 'half-true', 'mostly-true', 'half-true', 'pants-fire', 'true', 'mostly-true', 'false', 'true', 'true', 'mostly-true', 'mostly-true', 'half-true', 'false', 'false', 'false', 'false', 'false', 'mostly-true', 'half-true', 'true', 'mostly-true', 'barely-true', 'half-true', 'barely-true', 'true', 'mostly-true', 'mostly-true', 'true', 'pants-fire', 'half-true', 'half-true', 'true', 'half-true', 'barely-true', 'mostly-true', 'false', 'false', 'false', 'mostly-true', 'half-true', 'true', 'mostly-true', 'mostly-true', 'false', 'false', 'barely-true', 'true', 'true', 'false', 'barely-true', 'half-true', 'mostly-true', 'true', 'pants-fire', 'false', 'mostly-true', 'mostly-true', 'pants-fire', 'half-true', 'true', 'barely-true', 'pants-fire', 'true', 'true', 'false', 'mostly-true', 'true', 'half-true', 'half-true', 'true', 'true', 'false', 'mostly-true', 'half-true', 'barely-true', 'mostly-true', 'half-true', 'true', 'half-true', 'barely-true', 'mostly-true', 'true', 'half-true', 'half-true', 'true', 'barely-true', 'barely-true', 'half-true', 'true', 'false', 'half-true', 'false', 'mostly-true', 'mostly-true', 'false', 'false', 'mostly-true', 'true', 'true', 'half-true', 'false', 'true', 'barely-true', 'mostly-true', 'barely-true', 'mostly-true', 'barely-true', 'false', 'half-true', 'half-true', 'true', 'true', 'barely-true', 'half-true', 'mostly-true', 'mostly-true', 'false', 'false', 'half-true', 'true', 'mostly-true', 'half-true', 'true', 'half-true', 'true', 'true', 'mostly-true', 'half-true', 'mostly-true', 'false', 'mostly-true', 'half-true', 'half-true', 'true', 'true', 'false', 'false', 'true', 'false', 'pants-fire', 'half-true', 'barely-true', 'pants-fire', 'pants-fire', 'mostly-true', 'false', 'half-true', 'false', 'mostly-true', 'half-true', 'half-true', 'mostly-true', 'barely-true', 'barely-true', 'mostly-true', 'false', 'half-true', 'barely-true', 'true', 'pants-fire', 'mostly-true', 'mostly-true', 'barely-true', 'mostly-true', 'true', 'mostly-true', 'true', 'half-true', 'half-true', 'false', 'pants-fire', 'barely-true', 'mostly-true', 'mostly-true', 'pants-fire', 'mostly-true', 'false', 'half-true', 'true', 'barely-true', 'mostly-true', 'half-true', 'mostly-true', 'true', 'mostly-true', 'half-true', 'pants-fire', 'false', 'barely-true', 'barely-true', 'true', 'true', 'half-true', 'mostly-true', 'barely-true', 'pants-fire', 'barely-true', 'half-true', 'true', 'true', 'pants-fire', 'false', 'false', 'false', 'true', 'pants-fire', 'barely-true', 'mostly-true', 'true', 'pants-fire', 'true', 'true', 'false', 'barely-true', 'half-true', 'false', 'half-true', 'mostly-true', 'half-true', 'false', 'false', 'true', 'false', 'barely-true', 'false', 'barely-true', 'false', 'true', 'true', 'mostly-true', 'true', 'mostly-true', 'mostly-true', 'pants-fire', 'true', 'mostly-true', 'half-true', 'mostly-true', 'barely-true', 'false', 'half-true', 'false', 'true', 'pants-fire', 'half-true', 'half-true', 'mostly-true', 'false', 'mostly-true', 'half-true', 'true', 'barely-true', 'false', 'mostly-true', 'mostly-true', 'pants-fire', 'true', 'mostly-true', 'barely-true', 'barely-true', 'half-true', 'half-true', 'mostly-true', 'true', 'half-true', 'false', 'barely-true', 'mostly-true', 'true', 'false', 'half-true', 'true', 'barely-true', 'pants-fire', 'half-true', 'barely-true', 'half-true', 'true', 'mostly-true', 'mostly-true', 'pants-fire', 'half-true', 'false', 'pants-fire', 'half-true', 'true', 'false', 'half-true', 'barely-true', 'mostly-true', 'half-true', 'true', 'barely-true', 'false', 'barely-true', 'barely-true', 'false', 'half-true', 'barely-true', 'true', 'false', 'barely-true', 'false', 'false', 'mostly-true', 'half-true', 'half-true', 'false', 'half-true', 'mostly-true', 'half-true', 'barely-true', 'barely-true', 'half-true', 'true', 'true', 'barely-true', 'true', 'true', 'barely-true', 'true', 'true', 'barely-true', 'true', 'false', 'false', 'pants-fire', 'mostly-true', 'barely-true', 'true', 'half-true', 'barely-true', 'false', 'false', 'mostly-true', 'true', 'false', 'half-true', 'half-true', 'true', 'false', 'false', 'mostly-true', 'mostly-true', 'mostly-true', 'false', 'pants-fire', 'true', 'true', 'false', 'barely-true', 'half-true', 'true', 'false', 'mostly-true', 'false', 'mostly-true', 'true', 'true', 'mostly-true', 'mostly-true', 'barely-true', 'barely-true', 'barely-true', 'half-true', 'barely-true', 'mostly-true', 'barely-true', 'half-true', 'false', 'barely-true', 'barely-true', 'half-true', 'mostly-true', 'false', 'mostly-true', 'false', 'half-true', 'half-true', 'true', 'true', 'mostly-true', 'false', 'false', 'half-true', 'false', 'false', 'false', 'barely-true', 'mostly-true', 'mostly-true', 'true', 'barely-true', 'false', 'true', 'mostly-true', 'barely-true', 'false', 'true', 'mostly-true', 'mostly-true', 'pants-fire', 'half-true', 'barely-true', 'pants-fire', 'true', 'false', 'half-true', 'true', 'half-true', 'false', 'true', 'half-true', 'mostly-true', 'half-true', 'mostly-true', 'pants-fire', 'mostly-true', 'half-true', 'half-true', 'half-true', 'true', 'false', 'pants-fire', 'half-true', 'pants-fire', 'false', 'barely-true', 'mostly-true', 'true', 'true', 'half-true', 'half-true', 'false', 'true', 'barely-true', 'half-true', 'true', 'barely-true', 'true', 'true', 'pants-fire', 'half-true', 'mostly-true', 'false', 'true', 'mostly-true', 'true', 'mostly-true', 'mostly-true', 'true', 'true', 'true', 'true', 'false', 'false', 'mostly-true', 'true', 'mostly-true', 'true', 'false', 'false', 'false', 'half-true', 'barely-true', 'true', 'pants-fire', 'barely-true', 'mostly-true', 'mostly-true', 'true', 'true', 'false', 'pants-fire', 'half-true', 'false', 'barely-true', 'true', 'mostly-true', 'true', 'pants-fire', 'true', 'pants-fire', 'half-true', 'true', 'false', 'true', 'false', 'true', 'true', 'half-true', 'true', 'barely-true', 'barely-true', 'true', 'true', 'false', 'true', 'mostly-true', 'false', 'true', 'half-true', 'barely-true', 'pants-fire', 'mostly-true', 'false', 'barely-true', 'false', 'barely-true', 'half-true', 'mostly-true', 'false', 'false', 'mostly-true', 'true', 'false', 'mostly-true', 'true', 'false', 'mostly-true', 'barely-true', 'half-true', 'false', 'half-true', 'mostly-true', 'false', 'false', 'half-true', 'false', 'barely-true', 'false', 'barely-true', 'half-true', 'false', 'false', 'barely-true', 'mostly-true', 'pants-fire', 'false', 'half-true', 'true', 'false', 'true', 'half-true', 'false', 'half-true', 'pants-fire', 'half-true', 'true', 'false', 'false', 'pants-fire', 'true', 'mostly-true', 'half-true', 'half-true', 'half-true', 'barely-true', 'false', 'half-true', 'barely-true', 'false', 'mostly-true', 'true', 'false', 'half-true', 'pants-fire', 'true', 'barely-true', 'false', 'barely-true', 'half-true', 'half-true', 'true', 'true', 'half-true', 'pants-fire', 'mostly-true', 'half-true', 'mostly-true', 'pants-fire', 'half-true', 'barely-true', 'half-true', 'mostly-true', 'half-true', 'pants-fire', 'half-true', 'mostly-true', 'barely-true', 'half-true', 'pants-fire', 'mostly-true', 'mostly-true', 'false', 'false', 'false', 'half-true', 'barely-true', 'barely-true', 'half-true', 'barely-true', 'false', 'barely-true', 'true', 'barely-true', 'half-true', 'half-true', 'pants-fire', 'half-true', 'pants-fire', 'false', 'false', 'pants-fire', 'false', 'barely-true', 'mostly-true', 'barely-true', 'false', 'pants-fire', 'mostly-true', 'true', 'false', 'true', 'true', 'false', 'true', 'half-true', 'false', 'mostly-true', 'half-true', 'barely-true', 'true', 'mostly-true', 'half-true', 'true', 'true', 'barely-true', 'false', 'false', 'mostly-true', 'pants-fire', 'half-true', 'false', 'mostly-true', 'half-true', 'half-true', 'true', 'barely-true', 'barely-true', 'barely-true', 'mostly-true', 'half-true', 'true', 'false', 'true', 'barely-true', 'barely-true', 'barely-true', 'false', 'pants-fire', 'pants-fire', 'mostly-true', 'half-true', 'half-true', 'half-true', 'true', 'half-true', 'mostly-true', 'mostly-true', 'mostly-true', 'half-true', 'pants-fire', 'true', 'mostly-true', 'half-true', 'barely-true', 'mostly-true', 'barely-true', 'mostly-true', 'barely-true', 'mostly-true', 'pants-fire', 'half-true', 'mostly-true', 'half-true', 'barely-true', 'true', 'false', 'true', 'true', 'half-true', 'mostly-true', 'false', 'true', 'true', 'false', 'mostly-true', 'barely-true', 'true', 'mostly-true', 'half-true', 'barely-true', 'false', 'false', 'barely-true', 'false', 'half-true', 'false', 'true', 'pants-fire', 'barely-true', 'half-true', 'mostly-true', 'false', 'half-true', 'mostly-true', 'barely-true', 'barely-true', 'barely-true', 'false', 'true', 'false', 'false', 'true', 'half-true', 'false', 'half-true', 'false', 'half-true', 'barely-true', 'true', 'mostly-true', 'true', 'half-true', 'barely-true', 'half-true', 'mostly-true', 'false', 'half-true', 'true', 'mostly-true', 'barely-true', 'half-true', 'mostly-true', 'half-true', 'false', 'true', 'pants-fire', 'true', 'barely-true', 'true', 'barely-true', 'mostly-true', 'half-true', 'mostly-true', 'false', 'false', 'half-true', 'true', 'false', 'barely-true', 'false', 'false', 'half-true', 'false', 'mostly-true', 'pants-fire', 'mostly-true', 'barely-true', 'false', 'false', 'mostly-true', 'true', 'half-true', 'mostly-true', 'true', 'mostly-true', 'barely-true', 'barely-true', 'false', 'barely-true', 'mostly-true', 'pants-fire', 'pants-fire', 'false', 'true', 'false', 'false', 'true', 'barely-true', 'mostly-true', 'true', 'barely-true', 'mostly-true', 'half-true', 'half-true', 'barely-true', 'false', 'barely-true', 'mostly-true', 'mostly-true', 'false', 'barely-true', 'false', 'barely-true', 'barely-true', 'half-true', 'false', 'barely-true', 'half-true', 'half-true', 'mostly-true', 'half-true', 'pants-fire', 'true', 'false', 'mostly-true', 'barely-true', 'barely-true', 'mostly-true', 'pants-fire', 'true', 'mostly-true', 'half-true', 'half-true', 'false', 'half-true', 'false', 'true', 'barely-true', 'barely-true', 'true', 'pants-fire', 'true', 'half-true', 'barely-true', 'mostly-true', 'false', 'false', 'half-true', 'true', 'barely-true', 'mostly-true', 'false', 'mostly-true', 'barely-true', 'false', 'half-true', 'true', 'half-true', 'half-true', 'pants-fire', 'half-true', 'true', 'half-true', 'half-true', 'barely-true', 'half-true', 'half-true', 'pants-fire', 'half-true', 'false', 'half-true', 'barely-true', 'mostly-true', 'true', 'barely-true', 'false', 'false', 'half-true', 'pants-fire', 'pants-fire', 'true', 'mostly-true', 'mostly-true', 'true', 'true', 'half-true', 'true', 'pants-fire', 'half-true', 'mostly-true', 'half-true', 'barely-true', 'pants-fire', 'barely-true', 'false', 'mostly-true', 'mostly-true', 'pants-fire', 'true', 'false', 'barely-true', 'mostly-true', 'false', 'half-true', 'half-true', 'mostly-true', 'mostly-true', 'mostly-true', 'false', 'half-true', 'barely-true', 'true', 'barely-true', 'false', 'true', 'pants-fire', 'half-true', 'false', 'barely-true', 'mostly-true', 'barely-true', 'half-true', 'false', 'barely-true', 'mostly-true', 'barely-true', 'mostly-true', 'mostly-true', 'half-true', 'barely-true', 'true', 'false', 'pants-fire', 'half-true', 'true', 'half-true', 'pants-fire', 'pants-fire', 'true', 'true', 'barely-true', 'false', 'barely-true', 'half-true', 'true', 'false', 'false', 'barely-true', 'false', 'barely-true', 'half-true', 'true', 'half-true', 'false', 'half-true', 'mostly-true', 'half-true', 'true', 'pants-fire', 'mostly-true', 'half-true', 'barely-true', 'barely-true', 'true', 'false', 'barely-true', 'mostly-true', 'false', 'false', 'true', 'barely-true', 'false', 'true', 'half-true', 'true', 'true', 'true', 'false', 'true', 'false', 'false', 'barely-true', 'pants-fire', 'barely-true', 'false', 'false', 'true', 'mostly-true', 'barely-true', 'half-true', 'mostly-true', 'false', 'false', 'half-true', 'false', 'false', 'barely-true', 'false', 'mostly-true', 'barely-true', 'half-true', 'barely-true', 'pants-fire', 'mostly-true', 'pants-fire', 'mostly-true', 'false', 'barely-true', 'mostly-true', 'mostly-true', 'half-true', 'false', 'mostly-true', 'false', 'true', 'barely-true', 'mostly-true', 'half-true', 'pants-fire', 'pants-fire', 'mostly-true', 'false', 'mostly-true', 'barely-true', 'true', 'mostly-true', 'false', 'true', 'mostly-true', 'half-true', 'false', 'mostly-true', 'half-true', 'false', 'mostly-true', 'barely-true', 'false', 'true', 'false', 'barely-true', 'mostly-true', 'false', 'false', 'half-true', 'pants-fire', 'barely-true', 'half-true', 'mostly-true', 'barely-true', 'pants-fire', 'barely-true', 'true', 'false', 'half-true', 'mostly-true', 'mostly-true', 'half-true', 'true', 'false', 'mostly-true', 'false', 'pants-fire', 'true', 'false', 'pants-fire', 'true', 'half-true', 'mostly-true', 'true', 'half-true', 'true', 'true', 'false', 'mostly-true', 'barely-true', 'half-true', 'mostly-true', 'barely-true', 'false', 'pants-fire', 'half-true', 'pants-fire', 'true', 'half-true', 'mostly-true', 'pants-fire', 'true', 'false', 'mostly-true', 'false', 'half-true', 'barely-true', 'false', 'half-true', 'false', 'false', 'half-true', 'barely-true', 'mostly-true', 'false', 'true', 'barely-true', 'false', 'barely-true', 'mostly-true', 'half-true', 'false', 'mostly-true', 'half-true', 'true', 'false', 'mostly-true', 'false', 'half-true', 'true', 'false', 'mostly-true', 'half-true', 'false', 'pants-fire', 'mostly-true', 'mostly-true', 'mostly-true', 'half-true', 'pants-fire', 'barely-true', 'false', 'false', 'false', 'barely-true', 'half-true', 'half-true', 'true', 'true', 'false', 'pants-fire', 'mostly-true', 'pants-fire', 'half-true', 'false', 'false', 'half-true', 'barely-true', 'barely-true', 'barely-true', 'mostly-true', 'mostly-true', 'true', 'true', 'false', 'true', 'half-true', 'pants-fire', 'false', 'mostly-true', 'barely-true', 'false', 'false', 'mostly-true', 'barely-true', 'half-true', 'half-true', 'mostly-true', 'mostly-true', 'false', 'mostly-true', 'half-true', 'mostly-true', 'pants-fire', 'false', 'false', 'barely-true', 'barely-true', 'half-true', 'barely-true', 'barely-true', 'false', 'barely-true', 'half-true', 'true', 'false', 'true', 'mostly-true', 'pants-fire', 'mostly-true', 'mostly-true', 'barely-true', 'false', 'pants-fire', 'barely-true', 'half-true', 'mostly-true', 'mostly-true', 'true', 'mostly-true', 'false', 'pants-fire', 'half-true', 'barely-true', 'pants-fire', 'half-true', 'true', 'half-true', 'half-true', 'barely-true', 'pants-fire', 'false', 'half-true', 'barely-true', 'mostly-true', 'false', 'mostly-true', 'half-true', 'true', 'false', 'mostly-true', 'mostly-true', 'false', 'mostly-true', 'true', 'pants-fire', 'mostly-true', 'barely-true', 'mostly-true', 'barely-true', 'true', 'half-true', 'half-true', 'half-true', 'half-true', 'barely-true', 'mostly-true', 'mostly-true', 'half-true', 'false', 'half-true', 'false', 'false', 'true', 'pants-fire', 'half-true', 'half-true', 'mostly-true', 'pants-fire', 'half-true', 'false', 'half-true', 'mostly-true', 'half-true', 'true', 'pants-fire', 'half-true', 'pants-fire', 'half-true', 'barely-true', 'barely-true', 'half-true', 'barely-true', 'false', 'half-true', 'false', 'mostly-true', 'false', 'barely-true', 'half-true', 'barely-true', 'half-true', 'barely-true', 'false', 'mostly-true', 'false', 'half-true', 'barely-true', 'barely-true', 'false', 'true', 'mostly-true', 'half-true', 'barely-true', 'mostly-true', 'true', 'false', 'false', 'true', 'mostly-true', 'true', 'barely-true', 'half-true', 'half-true', 'false', 'barely-true', 'mostly-true', 'false', 'false', 'true', 'half-true', 'mostly-true', 'false', 'true', 'true', 'false', 'mostly-true', 'half-true', 'true', 'half-true', 'mostly-true', 'false', 'half-true', 'mostly-true', 'true', 'half-true', 'half-true', 'barely-true', 'false', 'false', 'mostly-true', 'mostly-true', 'true', 'false', 'true', 'false', 'pants-fire', 'half-true', 'false', 'true', 'half-true', 'false', 'barely-true', 'half-true', 'barely-true', 'barely-true', 'false', 'half-true', 'pants-fire', 'mostly-true', 'barely-true', 'mostly-true', 'barely-true', 'pants-fire', 'pants-fire', 'barely-true', 'barely-true', 'mostly-true', 'false', 'mostly-true', 'barely-true', 'barely-true', 'mostly-true', 'true', 'barely-true', 'false', 'mostly-true', 'false', 'mostly-true', 'mostly-true', 'mostly-true', 'mostly-true', 'mostly-true', 'false', 'barely-true', 'half-true', 'pants-fire', 'false', 'false', 'barely-true', 'half-true', 'true', 'false', 'half-true', 'half-true', 'half-true', 'half-true', 'pants-fire', 'barely-true', 'pants-fire', 'barely-true', 'false', 'true', 'true', 'true', 'barely-true', 'half-true', 'false', 'false', 'mostly-true', 'true', 'half-true', 'half-true', 'half-true', 'half-true', 'barely-true', 'half-true', 'mostly-true', 'mostly-true', 'pants-fire', 'false', 'half-true', 'false', 'mostly-true', 'true', 'false', 'true', 'mostly-true', 'mostly-true', 'true', 'mostly-true', 'true', 'half-true', 'true', 'true', 'true', 'barely-true', 'mostly-true', 'barely-true', 'mostly-true', 'half-true', 'false', 'true', 'false', 'mostly-true', 'mostly-true', 'barely-true', 'true', 'false', 'false', 'pants-fire', 'half-true', 'barely-true', 'pants-fire', 'barely-true', 'barely-true', 'barely-true', 'barely-true', 'mostly-true', 'false', 'pants-fire', 'half-true', 'true', 'mostly-true', 'half-true', 'half-true', 'mostly-true', 'half-true', 'barely-true', 'half-true', 'mostly-true', 'pants-fire', 'mostly-true', 'barely-true', 'barely-true', 'barely-true', 'true', 'mostly-true', 'mostly-true', 'barely-true', 'false', 'half-true', 'true', 'false', 'true', 'true', 'barely-true', 'barely-true', 'mostly-true', 'pants-fire', 'pants-fire', 'mostly-true', 'false', 'true', 'mostly-true', 'half-true', 'half-true', 'true', 'true', 'true', 'barely-true', 'false', 'true', 'false', 'mostly-true', 'barely-true', 'half-true', 'false', 'mostly-true', 'barely-true', 'false', 'half-true', 'half-true', 'half-true', 'barely-true', 'false', 'barely-true', 'mostly-true', 'barely-true', 'half-true', 'half-true', 'pants-fire', 'false', 'barely-true', 'true', 'false', 'pants-fire', 'true', 'barely-true', 'half-true', 'true', 'true', 'pants-fire', 'barely-true', 'mostly-true', 'mostly-true', 'mostly-true', 'half-true', 'true', 'false', 'true', 'false', 'barely-true', 'half-true', 'half-true', 'half-true', 'barely-true', 'false', 'false', 'true', 'barely-true', 'mostly-true', 'false', 'pants-fire', 'mostly-true', 'pants-fire', 'barely-true', 'true', 'barely-true', 'true', 'true', 'barely-true', 'false', 'half-true', 'pants-fire', 'mostly-true', 'mostly-true', 'pants-fire', 'false', 'true', 'false', 'half-true', 'mostly-true', 'false', 'barely-true', 'true', 'pants-fire', 'half-true', 'false', 'barely-true', 'mostly-true', 'half-true', 'false', 'barely-true', 'true', 'pants-fire', 'pants-fire', 'mostly-true', 'half-true', 'half-true', 'pants-fire', 'half-true', 'half-true', 'false', 'false', 'true', 'pants-fire', 'false', 'mostly-true', 'half-true', 'mostly-true', 'pants-fire', 'mostly-true', 'true', 'false', 'true', 'barely-true', 'pants-fire', 'barely-true', 'mostly-true', 'half-true', 'mostly-true', 'mostly-true', 'half-true', 'mostly-true', 'barely-true', 'mostly-true', 'pants-fire', 'half-true', 'true', 'barely-true', 'mostly-true', 'false', 'barely-true', 'mostly-true', 'true', 'half-true', 'half-true', 'true', 'half-true', 'true', 'true', 'half-true', 'false', 'pants-fire', 'half-true', 'mostly-true', 'barely-true', 'true', 'true', 'true', 'half-true', 'false', 'barely-true', 'false', 'false', 'true', 'half-true', 'barely-true', 'true', 'mostly-true', 'mostly-true', 'false', 'false', 'mostly-true', 'false', 'barely-true', 'half-true', 'barely-true', 'half-true', 'half-true', 'true', 'half-true', 'half-true', 'false', 'true', 'half-true', 'half-true', 'true', 'pants-fire', 'barely-true', 'true', 'half-true', 'barely-true', 'false', 'true', 'false', 'true', 'false', 'false', 'mostly-true', 'false', 'false', 'false', 'true', 'false', 'barely-true', 'false', 'half-true', 'true', 'half-true', 'false', 'half-true', 'half-true', 'pants-fire', 'mostly-true', 'false', 'mostly-true', 'false', 'half-true', 'mostly-true', 'mostly-true', 'barely-true', 'true', 'half-true', 'barely-true', 'true', 'barely-true', 'barely-true', 'pants-fire', 'mostly-true', 'half-true', 'false', 'half-true', 'mostly-true', 'barely-true', 'true', 'half-true', 'false', 'true', 'barely-true', 'barely-true', 'false', 'barely-true', 'half-true', 'half-true', 'false', 'mostly-true', 'half-true', 'half-true', 'true', 'pants-fire', 'mostly-true', 'true', 'half-true', 'pants-fire', 'false', 'false', 'half-true', 'half-true', 'false', 'true', 'mostly-true', 'true', 'barely-true', 'half-true', 'true', 'true', 'true', 'false', 'barely-true', 'true', 'false', 'mostly-true', 'barely-true', 'mostly-true', 'false', 'true', 'pants-fire', 'mostly-true', 'half-true', 'mostly-true', 'true', 'false', 'mostly-true', 'half-true', 'half-true', 'true', 'mostly-true', 'false', 'barely-true', 'half-true', 'barely-true', 'half-true', 'true', 'mostly-true', 'false', 'pants-fire', 'half-true', 'barely-true', 'half-true', 'half-true', 'true', 'true', 'barely-true', 'barely-true', 'half-true', 'half-true', 'true', 'mostly-true', 'mostly-true', 'half-true', 'pants-fire', 'mostly-true', 'pants-fire', 'false', 'pants-fire', 'false', 'false', 'barely-true', 'false', 'pants-fire', 'mostly-true', 'half-true', 'pants-fire', 'mostly-true', 'mostly-true', 'half-true', 'mostly-true', 'mostly-true', 'false', 'false', 'false', 'true', 'half-true', 'mostly-true', 'half-true', 'mostly-true', 'half-true', 'half-true', 'barely-true', 'false', 'half-true', 'half-true', 'mostly-true', 'mostly-true', 'half-true', 'false', 'half-true', 'barely-true', 'mostly-true', 'true', 'false', 'barely-true', 'half-true', 'barely-true', 'mostly-true', 'false', 'true', 'false', 'false', 'half-true', 'mostly-true', 'barely-true', 'mostly-true', 'half-true', 'true', 'mostly-true', 'false', 'false', 'mostly-true', 'barely-true', 'true', 'pants-fire', 'half-true', 'false', 'false', 'pants-fire', 'false', 'half-true', 'false', 'barely-true', 'pants-fire', 'false', 'barely-true', 'half-true', 'half-true', 'half-true', 'pants-fire', 'false', 'barely-true', 'pants-fire', 'half-true', 'half-true', 'barely-true', 'pants-fire', 'false', 'pants-fire', 'false', 'mostly-true', 'false', 'mostly-true', 'pants-fire', 'mostly-true', 'true', 'mostly-true', 'false', 'half-true', 'true', 'false', 'false', 'pants-fire', 'half-true', 'mostly-true', 'false', 'false', 'false', 'mostly-true', 'pants-fire', 'barely-true', 'half-true', 'half-true', 'true', 'true', 'true', 'half-true', 'barely-true', 'half-true', 'mostly-true', 'mostly-true', 'half-true', 'mostly-true', 'false', 'mostly-true', 'true', 'pants-fire', 'false', 'true', 'false', 'pants-fire', 'true', 'true', 'mostly-true', 'pants-fire', 'false', 'barely-true', 'mostly-true', 'false', 'mostly-true', 'true', 'true', 'mostly-true', 'half-true', 'true', 'barely-true', 'half-true', 'half-true', 'false', 'barely-true', 'half-true', 'half-true', 'pants-fire', 'false', 'mostly-true', 'half-true', 'barely-true', 'true', 'false', 'mostly-true', 'false', 'false', 'false', 'mostly-true', 'barely-true', 'barely-true', 'half-true', 'barely-true', 'half-true', 'false', 'barely-true', 'mostly-true', 'mostly-true', 'true', 'mostly-true', 'barely-true', 'false', 'pants-fire', 'false', 'mostly-true', 'true', 'pants-fire', 'barely-true', 'false', 'half-true', 'barely-true', 'mostly-true', 'mostly-true', 'barely-true', 'true', 'false', 'half-true', 'barely-true', 'false', 'true', 'half-true', 'mostly-true', 'pants-fire', 'half-true', 'mostly-true', 'mostly-true', 'half-true', 'half-true', 'mostly-true', 'half-true', 'false', 'mostly-true', 'barely-true', 'pants-fire', 'false', 'mostly-true', 'pants-fire', 'false', 'barely-true', 'half-true', 'mostly-true', 'false', 'half-true', 'barely-true', 'pants-fire', 'mostly-true', 'mostly-true', 'false', 'barely-true', 'barely-true', 'pants-fire', 'pants-fire', 'true', 'false', 'mostly-true', 'true', 'mostly-true', 'half-true', 'false', 'true', 'mostly-true', 'false', 'mostly-true', 'half-true', 'true', 'mostly-true', 'half-true', 'true', 'false', 'half-true', 'false', 'false', 'barely-true', 'half-true', 'true', 'true', 'half-true', 'false', 'false', 'false', 'barely-true', 'pants-fire', 'mostly-true', 'half-true', 'half-true', 'half-true', 'barely-true', 'barely-true', 'false', 'half-true', 'true', 'half-true', 'false', 'true', 'pants-fire', 'false', 'false', 'half-true', 'half-true', 'false', 'half-true', 'pants-fire', 'true', 'pants-fire', 'true', 'true', 'mostly-true', 'false', 'mostly-true', 'mostly-true', 'false', 'pants-fire', 'barely-true', 'pants-fire', 'pants-fire', 'true', 'false', 'mostly-true', 'half-true', 'mostly-true', 'mostly-true', 'barely-true', 'false', 'half-true', 'barely-true', 'mostly-true', 'true', 'mostly-true', 'half-true', 'mostly-true', 'mostly-true', 'false', 'mostly-true', 'half-true', 'half-true', 'false', 'true', 'pants-fire', 'barely-true', 'barely-true', 'pants-fire', 'half-true', 'half-true', 'barely-true', 'false', 'pants-fire', 'false', 'true', 'true', 'false', 'mostly-true', 'false', 'true', 'half-true', 'false', 'barely-true', 'half-true', 'pants-fire', 'half-true', 'half-true', 'half-true', 'false', 'pants-fire', 'half-true', 'false', 'false', 'false', 'barely-true', 'barely-true', 'false', 'mostly-true', 'half-true', 'false', 'false', 'false', 'pants-fire', 'mostly-true', 'half-true', 'barely-true', 'mostly-true', 'barely-true', 'mostly-true', 'true', 'false', 'pants-fire', 'barely-true', 'mostly-true', 'true', 'false', 'true', 'barely-true', 'false', 'mostly-true', 'half-true', 'mostly-true', 'false', 'mostly-true', 'barely-true', 'false', 'mostly-true', 'mostly-true', 'barely-true', 'true', 'half-true', 'barely-true', 'false', 'mostly-true', 'false', 'false', 'half-true', 'false', 'true', 'mostly-true', 'false', 'pants-fire', 'true', 'mostly-true', 'mostly-true', 'barely-true', 'false', 'mostly-true', 'half-true', 'barely-true', 'false', 'mostly-true', 'half-true', 'mostly-true', 'false', 'false', 'false', 'pants-fire', 'barely-true', 'half-true', 'half-true', 'false', 'false', 'true', 'barely-true', 'mostly-true', 'barely-true', 'barely-true', 'half-true', 'barely-true', 'false', 'mostly-true', 'true', 'barely-true', 'pants-fire', 'false', 'pants-fire', 'half-true', 'mostly-true', 'true', 'barely-true', 'half-true', 'half-true', 'barely-true', 'half-true', 'mostly-true', 'false', 'false', 'mostly-true', 'true', 'mostly-true', 'false', 'false', 'barely-true', 'false', 'barely-true', 'half-true', 'mostly-true', 'mostly-true', 'half-true', 'pants-fire', 'barely-true', 'true', 'mostly-true', 'half-true', 'barely-true', 'mostly-true', 'true', 'pants-fire', 'false', 'half-true', 'true', 'mostly-true', 'mostly-true', 'pants-fire', 'half-true', 'half-true', 'barely-true', 'true', 'false', 'barely-true', 'barely-true', 'mostly-true', 'false', 'half-true', 'true', 'half-true', 'false', 'half-true', 'pants-fire', 'true', 'half-true', 'barely-true', 'barely-true', 'false', 'barely-true', 'mostly-true', 'mostly-true', 'false', 'barely-true', 'true', 'barely-true', 'true', 'false', 'barely-true', 'mostly-true', 'barely-true', 'true', 'mostly-true', 'false', 'mostly-true', 'mostly-true', 'barely-true', 'half-true', 'mostly-true', 'barely-true', 'mostly-true', 'half-true', 'pants-fire', 'half-true', 'mostly-true', 'mostly-true', 'true', 'half-true', 'half-true', 'half-true', 'true', 'false', 'mostly-true', 'half-true', 'false', 'half-true', 'barely-true', 'mostly-true', 'barely-true', 'mostly-true', 'half-true', 'barely-true', 'pants-fire', 'false', 'true', 'pants-fire', 'barely-true', 'barely-true', 'half-true', 'barely-true', 'mostly-true', 'barely-true', 'pants-fire', 'barely-true', 'true', 'true', 'pants-fire', 'barely-true', 'half-true', 'half-true', 'true', 'true', 'barely-true', 'pants-fire', 'true', 'mostly-true', 'mostly-true', 'mostly-true', 'half-true', 'false', 'half-true', 'half-true', 'half-true', 'false', 'pants-fire', 'barely-true', 'barely-true', 'false', 'pants-fire', 'false', 'false', 'barely-true', 'true', 'pants-fire', 'true', 'mostly-true', 'false', 'mostly-true', 'barely-true', 'true', 'false', 'false', 'mostly-true', 'mostly-true', 'pants-fire', 'mostly-true', 'half-true', 'false', 'mostly-true', 'true', 'true', 'half-true', 'false', 'mostly-true', 'true', 'barely-true', 'true', 'mostly-true', 'mostly-true', 'pants-fire', 'true', 'half-true', 'false', 'half-true', 'half-true', 'true', 'true', 'true', 'true', 'true', 'barely-true', 'barely-true', 'true', 'false', 'mostly-true', 'barely-true', 'true', 'mostly-true', 'true', 'pants-fire', 'false', 'mostly-true', 'mostly-true', 'pants-fire', 'barely-true', 'barely-true', 'mostly-true', 'pants-fire', 'true', 'half-true', 'pants-fire', 'mostly-true', 'half-true', 'half-true', 'false', 'false', 'pants-fire', 'true', 'true', 'barely-true', 'barely-true', 'barely-true', 'false', 'true', 'true', 'pants-fire', 'half-true', 'true', 'true', 'true', 'true', 'barely-true', 'half-true', 'half-true', 'half-true', 'false', 'mostly-true', 'mostly-true', 'mostly-true', 'barely-true', 'true', 'mostly-true', 'mostly-true', 'true', 'false', 'barely-true', 'true', 'half-true', 'barely-true', 'false', 'mostly-true', 'half-true', 'true', 'true', 'true', 'barely-true', 'pants-fire', 'true', 'true', 'false', 'half-true', 'false', 'barely-true', 'mostly-true', 'half-true', 'true', 'barely-true', 'mostly-true', 'mostly-true', 'false', 'pants-fire', 'false', 'mostly-true', 'pants-fire', 'barely-true', 'half-true', 'pants-fire', 'barely-true', 'true', 'half-true', 'half-true', 'false', 'half-true', 'half-true', 'pants-fire', 'false', 'true', 'true', 'mostly-true', 'barely-true', 'half-true', 'half-true', 'half-true', 'barely-true', 'mostly-true', 'mostly-true', 'true', 'false', 'mostly-true', 'mostly-true', 'barely-true', 'barely-true', 'mostly-true', 'pants-fire', 'true', 'half-true', 'mostly-true', 'half-true', 'mostly-true', 'false', 'true', 'true', 'false', 'barely-true', 'false', 'half-true', 'false', 'pants-fire', 'pants-fire', 'true', 'mostly-true', 'true', 'true', 'mostly-true', 'half-true', 'half-true', 'barely-true', 'true', 'mostly-true', 'false', 'half-true', 'barely-true', 'mostly-true', 'half-true', 'false', 'false', 'half-true', 'barely-true', 'mostly-true', 'true', 'pants-fire', 'mostly-true', 'pants-fire', 'barely-true', 'pants-fire', 'pants-fire', 'barely-true', 'false', 'mostly-true', 'barely-true', 'barely-true', 'false', 'mostly-true', 'barely-true', 'false', 'mostly-true', 'false', 'false', 'mostly-true', 'barely-true', 'false', 'barely-true', 'true', 'mostly-true', 'mostly-true', 'false', 'mostly-true', 'true', 'pants-fire', 'mostly-true', 'true', 'false', 'half-true', 'false', 'mostly-true', 'half-true', 'false', 'false', 'half-true', 'mostly-true', 'mostly-true', 'true', 'false', 'barely-true', 'barely-true', 'barely-true', 'half-true', 'true', 'half-true', 'pants-fire', 'mostly-true', 'true', 'half-true', 'barely-true', 'mostly-true', 'false', 'true', 'false', 'barely-true', 'true', 'mostly-true', 'barely-true', 'mostly-true', 'half-true', 'mostly-true', 'false', 'mostly-true', 'mostly-true', 'false', 'true', 'barely-true', 'true', 'false', 'barely-true', 'false', 'false', 'half-true', 'barely-true', 'pants-fire', 'mostly-true', 'pants-fire', 'half-true', 'mostly-true', 'false', 'true', 'false', 'mostly-true', 'pants-fire', 'false', 'mostly-true', 'false', 'mostly-true', 'pants-fire', 'false', 'mostly-true', 'mostly-true', 'half-true', 'pants-fire', 'half-true', 'barely-true', 'false', 'false', 'false', 'barely-true', 'false', 'true', 'mostly-true', 'false', 'half-true', 'half-true', 'false', 'mostly-true', 'mostly-true', 'mostly-true', 'pants-fire', 'mostly-true', 'false', 'mostly-true', 'false', 'mostly-true', 'half-true', 'mostly-true', 'mostly-true', 'false', 'false', 'false', 'true', 'false', 'true', 'true', 'half-true', 'half-true', 'false', 'false', 'pants-fire', 'true', 'barely-true', 'pants-fire', 'barely-true', 'true', 'barely-true', 'barely-true', 'pants-fire', 'false', 'mostly-true', 'barely-true', 'true', 'pants-fire', 'mostly-true', 'true', 'false', 'mostly-true', 'true', 'true', 'false', 'true', 'half-true', 'barely-true', 'false', 'half-true', 'barely-true', 'false', 'true', 'mostly-true', 'false', 'false', 'barely-true', 'mostly-true', 'barely-true', 'half-true', 'half-true', 'pants-fire', 'true', 'pants-fire', 'half-true', 'mostly-true', 'barely-true', 'false', 'false', 'true', 'mostly-true', 'true', 'false', 'half-true', 'half-true', 'half-true', 'mostly-true', 'mostly-true', 'half-true', 'half-true', 'half-true', 'false', 'mostly-true', 'pants-fire', 'true', 'mostly-true', 'pants-fire', 'true', 'half-true', 'false', 'pants-fire', 'mostly-true', 'true', 'barely-true', 'barely-true', 'false', 'pants-fire', 'false', 'false', 'true', 'pants-fire', 'mostly-true', 'half-true', 'mostly-true', 'barely-true', 'barely-true', 'true', 'false', 'true', 'mostly-true', 'mostly-true', 'mostly-true', 'barely-true', 'mostly-true', 'true', 'barely-true', 'pants-fire', 'false', 'half-true', 'true', 'false', 'half-true', 'barely-true', 'barely-true', 'true', 'mostly-true', 'false', 'false', 'half-true', 'false', 'barely-true', 'mostly-true', 'pants-fire', 'half-true', 'half-true', 'pants-fire', 'half-true', 'mostly-true', 'half-true', 'mostly-true', 'true', 'half-true', 'true', 'false', 'true', 'mostly-true', 'half-true', 'half-true', 'mostly-true', 'true', 'half-true', 'barely-true', 'pants-fire', 'pants-fire', 'true', 'false', 'barely-true', 'false', 'false', 'pants-fire', 'barely-true', 'true', 'false', 'true', 'mostly-true', 'mostly-true', 'mostly-true', 'true', 'mostly-true', 'false', 'mostly-true', 'true', 'half-true', 'mostly-true', 'true', 'true', 'true', 'half-true', 'mostly-true', 'half-true', 'mostly-true', 'true', 'false', 'mostly-true', 'true', 'false', 'true', 'false', 'false', 'false', 'barely-true', 'barely-true', 'barely-true', 'half-true', 'false', 'mostly-true', 'half-true', 'mostly-true', 'mostly-true', 'false', 'half-true', 'half-true', 'true', 'barely-true', 'mostly-true', 'half-true', 'false', 'half-true', 'barely-true', 'mostly-true', 'half-true', 'mostly-true', 'true', 'half-true', 'mostly-true', 'half-true', 'true', 'true', 'false', 'half-true', 'half-true', 'half-true', 'false', 'true', 'barely-true', 'barely-true', 'barely-true', 'false', 'true', 'barely-true', 'mostly-true', 'true', 'pants-fire', 'half-true', 'false', 'half-true', 'true', 'false', 'mostly-true', 'barely-true', 'true', 'half-true', 'half-true', 'false', 'half-true', 'pants-fire', 'true', 'half-true', 'half-true', 'half-true', 'true', 'false', 'barely-true', 'mostly-true', 'mostly-true', 'barely-true', 'barely-true', 'pants-fire', 'true', 'half-true', 'barely-true', 'pants-fire', 'false', 'barely-true', 'mostly-true', 'barely-true', 'false', 'half-true', 'mostly-true', 'mostly-true', 'false', 'half-true', 'pants-fire', 'mostly-true', 'barely-true', 'false', 'pants-fire', 'false', 'half-true', 'half-true', 'true', 'half-true', 'true', 'barely-true', 'mostly-true', 'mostly-true', 'half-true', 'half-true', 'barely-true', 'mostly-true', 'barely-true', 'half-true', 'half-true', 'barely-true', 'false', 'mostly-true', 'mostly-true', 'pants-fire', 'barely-true', 'true', 'mostly-true', 'mostly-true', 'barely-true', 'barely-true', 'true', 'false', 'true', 'half-true', 'barely-true', 'false', 'false', 'false', 'half-true', 'barely-true', 'half-true', 'mostly-true', 'false', 'half-true', 'mostly-true', 'mostly-true', 'half-true', 'barely-true', 'pants-fire', 'mostly-true', 'true', 'true', 'true', 'half-true', 'mostly-true', 'true', 'true', 'mostly-true', 'mostly-true', 'barely-true', 'mostly-true', 'barely-true', 'half-true', 'mostly-true', 'half-true', 'half-true', 'true', 'false', 'barely-true', 'pants-fire', 'false', 'false', 'half-true', 'half-true', 'half-true', 'true', 'barely-true', 'barely-true', 'true', 'pants-fire', 'half-true', 'half-true', 'pants-fire', 'mostly-true', 'mostly-true', 'false', 'barely-true', 'false', 'false', 'mostly-true', 'true', 'pants-fire', 'half-true', 'mostly-true', 'true', 'half-true', 'mostly-true', 'pants-fire', 'pants-fire', 'barely-true', 'true', 'false', 'barely-true', 'true', 'false', 'false', 'mostly-true', 'false', 'mostly-true', 'true', 'false', 'pants-fire', 'pants-fire', 'barely-true', 'pants-fire', 'mostly-true', 'false', 'pants-fire', 'barely-true', 'half-true', 'false', 'pants-fire', 'false', 'pants-fire', 'mostly-true', 'mostly-true', 'barely-true', 'false', 'true', 'true', 'half-true', 'false', 'barely-true', 'true', 'mostly-true', 'half-true', 'false', 'half-true', 'half-true', 'barely-true', 'true', 'pants-fire', 'false', 'pants-fire', 'half-true', 'true', 'half-true', 'barely-true', 'pants-fire', 'barely-true', 'barely-true', 'mostly-true', 'mostly-true', 'barely-true', 'true', 'half-true', 'mostly-true', 'false', 'false', 'barely-true', 'barely-true', 'false', 'false', 'true', 'mostly-true', 'half-true', 'half-true', 'pants-fire', 'false', 'barely-true', 'barely-true', 'true', 'half-true', 'barely-true', 'half-true', 'true', 'barely-true', 'pants-fire', 'half-true', 'true', 'half-true', 'false', 'barely-true', 'true', 'false', 'half-true', 'half-true', 'mostly-true', 'false', 'true', 'barely-true', 'true', 'mostly-true', 'false', 'pants-fire', 'mostly-true', 'true', 'false', 'false', 'half-true', 'false', 'false', 'false', 'true', 'half-true', 'mostly-true', 'mostly-true', 'false', 'true', 'half-true', 'false', 'barely-true', 'true', 'false', 'true', 'true', 'mostly-true', 'half-true', 'true', 'true', 'false', 'false', 'barely-true', 'false', 'true', 'true', 'half-true', 'half-true', 'false', 'barely-true', 'false', 'half-true', 'half-true', 'half-true', 'mostly-true', 'mostly-true', 'barely-true', 'mostly-true', 'mostly-true', 'half-true', 'true', 'barely-true', 'half-true', 'barely-true', 'barely-true', 'barely-true', 'half-true', 'false', 'barely-true', 'barely-true', 'mostly-true', 'mostly-true', 'half-true', 'pants-fire', 'false', 'false', 'half-true', 'half-true', 'false', 'barely-true', 'barely-true', 'half-true', 'barely-true', 'true', 'half-true', 'barely-true', 'false', 'pants-fire', 'barely-true', 'mostly-true', 'half-true', 'true', 'mostly-true', 'false', 'mostly-true', 'true', 'pants-fire', 'half-true', 'half-true', 'barely-true', 'half-true', 'barely-true', 'true', 'barely-true', 'mostly-true', 'barely-true', 'false', 'mostly-true', 'mostly-true', 'mostly-true', 'half-true', 'half-true', 'pants-fire', 'half-true', 'false', 'barely-true', 'true', 'true', 'true', 'false', 'barely-true', 'half-true', 'mostly-true', 'half-true', 'barely-true', 'pants-fire', 'half-true', 'barely-true', 'true', 'pants-fire', 'barely-true', 'mostly-true', 'false', 'half-true', 'false', 'true', 'barely-true', 'true', 'half-true', 'half-true', 'half-true', 'barely-true', 'mostly-true', 'false', 'mostly-true', 'barely-true', 'barely-true', 'barely-true', 'true', 'true', 'half-true', 'barely-true', 'half-true', 'pants-fire', 'false', 'mostly-true', 'true', 'mostly-true', 'barely-true', 'mostly-true', 'mostly-true', 'false', 'false', 'half-true', 'half-true', 'barely-true', 'barely-true', 'barely-true', 'barely-true', 'true', 'mostly-true', 'mostly-true', 'mostly-true', 'false', 'false', 'half-true', 'true', 'half-true', 'half-true', 'false', 'true', 'true', 'half-true', 'false', 'true', 'half-true', 'half-true', 'false', 'barely-true', 'true', 'mostly-true', 'barely-true', 'half-true', 'false', 'true', 'pants-fire', 'mostly-true', 'true', 'false', 'half-true', 'false', 'pants-fire', 'barely-true', 'pants-fire', 'false', 'barely-true', 'half-true', 'true', 'half-true', 'barely-true', 'true', 'true', 'half-true', 'half-true', 'half-true', 'mostly-true', 'pants-fire', 'true', 'barely-true', 'barely-true', 'half-true', 'mostly-true', 'true', 'false', 'true', 'half-true', 'true', 'false', 'true', 'half-true', 'pants-fire', 'false', 'true', 'false', 'barely-true', 'barely-true', 'mostly-true', 'false', 'mostly-true', 'true', 'mostly-true', 'false', 'false', 'mostly-true', 'true', 'true', 'true', 'pants-fire', 'pants-fire', 'mostly-true', 'false', 'half-true', 'mostly-true', 'barely-true', 'mostly-true', 'mostly-true', 'half-true', 'mostly-true', 'false', 'true', 'mostly-true', 'false', 'barely-true', 'true', 'true', 'true', 'barely-true', 'false', 'half-true', 'mostly-true', 'pants-fire', 'true', 'true', 'half-true', 'barely-true', 'half-true', 'half-true', 'true', 'barely-true', 'true', 'pants-fire', 'mostly-true', 'true', 'false', 'false', 'true', 'half-true', 'mostly-true', 'half-true', 'pants-fire', 'half-true', 'barely-true', 'half-true', 'half-true', 'false', 'mostly-true', 'pants-fire', 'true', 'pants-fire', 'half-true', 'barely-true', 'mostly-true', 'false', 'mostly-true', 'barely-true', 'mostly-true', 'pants-fire', 'false', 'true', 'half-true', 'mostly-true', 'true', 'barely-true', 'true', 'mostly-true', 'barely-true', 'half-true', 'true', 'true', 'mostly-true', 'false', 'half-true', 'mostly-true', 'pants-fire', 'false', 'mostly-true', 'mostly-true', 'false', 'mostly-true', 'mostly-true', 'barely-true', 'false', 'false', 'barely-true', 'true', 'barely-true', 'barely-true', 'false', 'half-true', 'barely-true', 'true', 'half-true', 'false', 'barely-true', 'mostly-true', 'false', 'half-true', 'half-true', 'false', 'false', 'half-true', 'true', 'mostly-true', 'half-true', 'barely-true', 'mostly-true', 'true', 'barely-true', 'false', 'half-true', 'mostly-true', 'mostly-true', 'barely-true', 'true', 'barely-true', 'half-true', 'barely-true', 'mostly-true', 'barely-true', 'pants-fire', 'barely-true', 'pants-fire', 'mostly-true', 'half-true', 'half-true', 'barely-true', 'barely-true', 'true', 'true', 'pants-fire', 'false', 'half-true', 'mostly-true', 'half-true', 'mostly-true', 'false', 'true', 'half-true', 'half-true', 'half-true', 'pants-fire', 'true', 'true', 'mostly-true', 'mostly-true', 'half-true', 'barely-true', 'true', 'barely-true', 'half-true', 'barely-true', 'half-true', 'true', 'pants-fire', 'barely-true', 'true', 'false', 'true', 'false', 'barely-true', 'half-true', 'mostly-true', 'barely-true', 'half-true', 'false', 'half-true', 'pants-fire', 'half-true', 'mostly-true', 'true', 'true', 'mostly-true', 'pants-fire', 'half-true', 'mostly-true', 'true', 'half-true', 'half-true', 'half-true', 'half-true', 'half-true', 'half-true', 'true', 'half-true', 'half-true', 'barely-true', 'true', 'pants-fire', 'false', 'false', 'barely-true', 'half-true', 'false', 'pants-fire', 'mostly-true', 'pants-fire', 'half-true', 'mostly-true', 'mostly-true', 'barely-true', 'false', 'barely-true', 'barely-true', 'barely-true', 'barely-true', 'true', 'barely-true', 'half-true', 'barely-true', 'mostly-true', 'half-true', 'false', 'mostly-true', 'pants-fire', 'false', 'half-true', 'half-true', 'mostly-true', 'mostly-true', 'barely-true', 'pants-fire', 'false', 'half-true', 'half-true', 'false', 'true', 'mostly-true', 'barely-true', 'mostly-true', 'mostly-true', 'false', 'barely-true', 'mostly-true', 'true', 'half-true', 'mostly-true', 'mostly-true', 'pants-fire', 'true', 'half-true', 'mostly-true', 'pants-fire', 'mostly-true', 'mostly-true', 'false', 'true', 'pants-fire', 'mostly-true', 'false', 'barely-true', 'half-true', 'mostly-true', 'half-true', 'half-true', 'half-true', 'barely-true', 'half-true', 'mostly-true', 'barely-true', 'false', 'true', 'pants-fire', 'mostly-true', 'mostly-true', 'false', 'true', 'pants-fire', 'pants-fire', 'pants-fire', 'mostly-true', 'true', 'barely-true', 'true', 'true', 'half-true', 'mostly-true', 'pants-fire', 'false', 'pants-fire', 'pants-fire', 'half-true', 'true', 'false', 'false', 'false', 'half-true', 'mostly-true', 'barely-true', 'barely-true', 'half-true', 'false', 'false', 'true', 'barely-true', 'false', 'false', 'barely-true', 'half-true', 'true', 'false', 'pants-fire', 'mostly-true', 'mostly-true', 'true', 'mostly-true', 'true', 'pants-fire', 'mostly-true', 'mostly-true', 'mostly-true', 'pants-fire', 'false', 'barely-true', 'barely-true', 'false', 'mostly-true', 'half-true', 'false', 'mostly-true', 'half-true', 'false', 'half-true', 'pants-fire', 'pants-fire', 'false', 'false', 'pants-fire', 'barely-true', 'false', 'barely-true', 'true', 'true', 'false', 'pants-fire', 'mostly-true', 'half-true', 'half-true', 'mostly-true', 'half-true', 'true', 'true', 'half-true', 'barely-true', 'half-true', 'half-true', 'true', 'true', 'half-true', 'true', 'half-true', 'half-true', 'mostly-true', 'false', 'mostly-true', 'half-true', 'half-true', 'mostly-true', 'true', 'false', 'false', 'half-true', 'true', 'mostly-true', 'pants-fire', 'pants-fire', 'mostly-true', 'mostly-true', 'pants-fire', 'true', 'half-true', 'pants-fire', 'mostly-true', 'false', 'pants-fire', 'half-true', 'barely-true', 'half-true', 'false', 'true', 'false', 'false', 'mostly-true', 'true', 'barely-true', 'half-true', 'half-true', 'mostly-true', 'barely-true', 'mostly-true', 'false', 'true', 'false', 'barely-true', 'mostly-true', 'false', 'barely-true', 'mostly-true', 'half-true', 'barely-true', 'mostly-true', 'barely-true', 'mostly-true', 'false', 'mostly-true', 'mostly-true', 'mostly-true', 'false', 'barely-true', 'mostly-true', 'half-true', 'false', 'barely-true', 'false', 'false', 'barely-true', 'true', 'half-true', 'true', 'false', 'true', 'true', 'mostly-true', 'barely-true', 'mostly-true', 'half-true', 'half-true', 'mostly-true', 'pants-fire', 'mostly-true', 'true', 'true', 'true', 'pants-fire', 'barely-true', 'half-true', 'half-true', 'barely-true', 'mostly-true', 'pants-fire', 'mostly-true', 'false', 'barely-true', 'barely-true', 'mostly-true', 'barely-true', 'true', 'mostly-true', 'half-true', 'true', 'mostly-true', 'mostly-true', 'false', 'pants-fire', 'true', 'mostly-true', 'false', 'pants-fire', 'mostly-true', 'true', 'barely-true', 'false', 'half-true', 'mostly-true', 'pants-fire', 'false', 'mostly-true', 'true', 'half-true', 'true', 'half-true', 'false', 'barely-true', 'pants-fire', 'true', 'pants-fire', 'pants-fire', 'false', 'barely-true', 'false', 'mostly-true', 'half-true', 'half-true', 'true', 'false', 'half-true', 'true', 'false', 'false', 'half-true', 'mostly-true', 'barely-true', 'false', 'half-true', 'mostly-true', 'barely-true', 'false', 'barely-true', 'barely-true', 'true', 'barely-true', 'barely-true', 'false', 'false', 'true', 'mostly-true', 'half-true', 'half-true', 'half-true', 'true', 'mostly-true', 'pants-fire', 'half-true', 'barely-true', 'pants-fire', 'true', 'half-true', 'pants-fire', 'false', 'barely-true', 'half-true', 'true', 'mostly-true', 'false', 'half-true', 'false', 'barely-true', 'half-true', 'false', 'pants-fire', 'barely-true', 'mostly-true', 'false', 'false', 'barely-true', 'false', 'pants-fire', 'true', 'half-true', 'true', 'mostly-true', 'false', 'false', 'true', 'true', 'pants-fire', 'false', 'false', 'half-true', 'false', 'mostly-true', 'true', 'half-true', 'half-true', 'half-true', 'barely-true', 'false', 'false', 'true', 'false', 'true', 'mostly-true', 'true', 'half-true', 'false', 'half-true', 'true', 'pants-fire', 'barely-true', 'barely-true', 'half-true', 'pants-fire', 'false', 'barely-true', 'true', 'false', 'false', 'false', 'false', 'false', 'true', 'barely-true', 'mostly-true', 'true', 'mostly-true', 'mostly-true', 'pants-fire', 'mostly-true', 'half-true', 'true', 'half-true', 'half-true', 'pants-fire', 'true', 'barely-true', 'true', 'barely-true', 'true', 'barely-true', 'half-true', 'true', 'true', 'mostly-true', 'false', 'half-true', 'barely-true', 'half-true', 'false', 'false', 'half-true', 'half-true', 'half-true', 'barely-true', 'true', 'false', 'mostly-true', 'pants-fire', 'true', 'true', 'pants-fire', 'true', 'mostly-true', 'false', 'mostly-true', 'true', 'false', 'false', 'half-true', 'mostly-true', 'false', 'false', 'barely-true', 'mostly-true', 'true', 'false', 'barely-true', 'true', 'half-true', 'barely-true', 'barely-true', 'true', 'false', 'true', 'pants-fire', 'false', 'false', 'true', 'half-true', 'true', 'half-true', 'false', 'mostly-true', 'true', 'half-true', 'true', 'pants-fire', 'false', 'pants-fire', 'half-true', 'half-true', 'barely-true', 'false', 'true', 'barely-true', 'mostly-true', 'half-true', 'true', 'half-true', 'half-true', 'half-true', 'true', 'true', 'half-true', 'false', 'barely-true', 'false', 'false', 'true', 'half-true', 'mostly-true', 'barely-true', 'half-true', 'barely-true', 'barely-true', 'false', 'half-true', 'false', 'false', 'mostly-true', 'half-true', 'half-true', 'mostly-true', 'half-true', 'half-true', 'barely-true', 'true', 'half-true', 'half-true', 'barely-true', 'half-true', 'barely-true', 'barely-true', 'mostly-true', 'false', 'false', 'true', 'mostly-true', 'false', 'half-true', 'half-true', 'mostly-true', 'pants-fire', 'false', 'barely-true', 'false', 'barely-true', 'false', 'barely-true', 'pants-fire', 'false', 'barely-true', 'false', 'pants-fire', 'false', 'false', 'half-true', 'barely-true', 'false', 'half-true', 'half-true', 'barely-true', 'half-true', 'barely-true', 'half-true', 'false', 'mostly-true', 'false', 'barely-true', 'mostly-true', 'barely-true', 'mostly-true', 'half-true', 'false', 'barely-true', 'mostly-true', 'true', 'mostly-true', 'pants-fire', 'barely-true', 'pants-fire', 'half-true', 'mostly-true', 'mostly-true', 'false', 'true', 'true', 'true', 'barely-true', 'pants-fire', 'half-true', 'barely-true', 'half-true', 'true', 'mostly-true', 'barely-true', 'half-true', 'half-true', 'mostly-true', 'pants-fire', 'half-true', 'barely-true', 'false', 'half-true', 'pants-fire', 'barely-true', 'pants-fire', 'half-true', 'pants-fire', 'half-true', 'false', 'true', 'half-true', 'half-true', 'barely-true', 'half-true', 'mostly-true', 'true', 'false', 'mostly-true', 'pants-fire', 'false', 'false', 'true', 'mostly-true', 'mostly-true', 'false', 'pants-fire', 'true', 'mostly-true', 'half-true', 'mostly-true', 'false', 'half-true', 'false', 'false', 'barely-true', 'true', 'false', 'true', 'pants-fire', 'mostly-true', 'half-true', 'barely-true', 'false', 'barely-true', 'mostly-true', 'false', 'mostly-true', 'true', 'true', 'half-true', 'false', 'true', 'barely-true', 'mostly-true', 'false', 'true', 'mostly-true', 'half-true', 'barely-true', 'true', 'barely-true', 'false', 'true', 'mostly-true', 'pants-fire', 'mostly-true', 'true', 'barely-true', 'barely-true', 'half-true', 'barely-true', 'false', 'true', 'mostly-true', 'half-true', 'half-true', 'barely-true', 'barely-true', 'barely-true', 'mostly-true', 'barely-true', 'mostly-true', 'half-true', 'half-true', 'false', 'barely-true', 'mostly-true', 'mostly-true', 'barely-true', 'mostly-true', 'false', 'mostly-true', 'mostly-true', 'half-true', 'barely-true', 'mostly-true', 'barely-true', 'half-true', 'mostly-true', 'false', 'barely-true', 'half-true', 'false', 'pants-fire', 'false', 'false', 'true', 'half-true', 'false', 'half-true', 'pants-fire', 'true', 'half-true', 'false', 'barely-true', 'false', 'false', 'barely-true', 'false', 'true', 'false', 'false', 'half-true', 'barely-true', 'false', 'mostly-true', 'true', 'half-true', 'true', 'half-true', 'true', 'half-true', 'barely-true', 'false', 'mostly-true', 'false', 'mostly-true', 'mostly-true', 'mostly-true', 'barely-true', 'mostly-true', 'barely-true', 'pants-fire', 'pants-fire', 'pants-fire', 'mostly-true', 'true', 'pants-fire', 'mostly-true', 'mostly-true', 'true', 'true', 'pants-fire', 'mostly-true', 'barely-true', 'half-true', 'barely-true', 'pants-fire', 'barely-true', 'mostly-true', 'barely-true', 'mostly-true', 'true', 'true', 'half-true', 'false', 'pants-fire', 'pants-fire', 'false', 'mostly-true', 'mostly-true', 'pants-fire', 'half-true', 'false', 'barely-true', 'false', 'barely-true', 'mostly-true', 'mostly-true', 'half-true', 'false', 'pants-fire', 'false', 'mostly-true', 'half-true', 'mostly-true', 'mostly-true', 'pants-fire', 'false', 'half-true', 'barely-true', 'mostly-true', 'true', 'true', 'half-true', 'false', 'half-true', 'half-true', 'true', 'false', 'half-true', 'half-true', 'half-true', 'half-true', 'false', 'pants-fire', 'pants-fire', 'barely-true', 'true', 'barely-true', 'true', 'mostly-true', 'true', 'false', 'half-true', 'false', 'true', 'mostly-true', 'barely-true', 'half-true', 'mostly-true', 'half-true', 'false', 'half-true', 'false', 'true', 'true', 'true', 'pants-fire', 'mostly-true', 'half-true', 'barely-true', 'barely-true', 'barely-true', 'half-true', 'pants-fire', 'false', 'mostly-true', 'false', 'half-true', 'false', 'half-true', 'false', 'half-true', 'false', 'true', 'pants-fire', 'mostly-true', 'false', 'half-true', 'barely-true', 'true', 'mostly-true', 'false', 'true', 'half-true', 'half-true', 'false', 'barely-true', 'barely-true', 'true', 'mostly-true', 'pants-fire', 'true', 'false', 'half-true', 'half-true', 'mostly-true', 'half-true', 'true', 'mostly-true', 'half-true', 'true', 'true', 'barely-true', 'false', 'true', 'half-true', 'false', 'false', 'half-true', 'true', 'half-true', 'false', 'false', 'half-true', 'pants-fire', 'half-true', 'barely-true', 'true', 'half-true', 'false', 'true', 'mostly-true', 'mostly-true', 'half-true', 'false', 'half-true', 'false', 'pants-fire', 'mostly-true', 'barely-true', 'half-true', 'pants-fire', 'pants-fire', 'false', 'false', 'false', 'mostly-true', 'barely-true', 'half-true', 'half-true', 'pants-fire', 'mostly-true', 'false', 'half-true', 'false', 'barely-true', 'half-true', 'false', 'true', 'false', 'pants-fire', 'true', 'mostly-true', 'mostly-true', 'false', 'barely-true', 'false', 'half-true', 'half-true', 'mostly-true', 'half-true', 'pants-fire', 'false', 'mostly-true', 'mostly-true', 'false', 'half-true', 'false', 'mostly-true', 'pants-fire', 'false', 'half-true', 'mostly-true', 'barely-true', 'false', 'mostly-true', 'true', 'true', 'half-true', 'barely-true', 'half-true', 'barely-true', 'mostly-true', 'half-true', 'barely-true', 'pants-fire', 'half-true', 'false', 'mostly-true', 'false', 'barely-true', 'half-true', 'barely-true', 'false', 'true', 'pants-fire', 'half-true', 'barely-true', 'mostly-true', 'barely-true', 'half-true', 'mostly-true', 'half-true', 'half-true', 'half-true', 'barely-true', 'false', 'mostly-true', 'mostly-true', 'false', 'true', 'false', 'barely-true', 'false', 'false', 'half-true', 'false', 'false', 'false', 'half-true', 'half-true', 'true', 'pants-fire', 'true', 'half-true', 'false', 'half-true', 'half-true', 'half-true', 'half-true', 'pants-fire', 'barely-true', 'barely-true', 'half-true', 'mostly-true', 'true', 'mostly-true', 'barely-true', 'mostly-true', 'true', 'true', 'half-true', 'true', 'mostly-true', 'mostly-true', 'half-true', 'pants-fire', 'half-true', 'mostly-true', 'false', 'mostly-true', 'barely-true', 'mostly-true', 'half-true', 'half-true', 'pants-fire', 'pants-fire', 'pants-fire', 'mostly-true', 'true', 'mostly-true', 'mostly-true', 'mostly-true', 'true', 'mostly-true', 'true', 'mostly-true', 'mostly-true', 'half-true', 'false', 'mostly-true', 'mostly-true', 'true', 'pants-fire', 'true', 'false', 'true', 'half-true', 'mostly-true', 'mostly-true', 'true', 'barely-true', 'false', 'mostly-true', 'false', 'true', 'mostly-true', 'false', 'pants-fire', 'mostly-true', 'barely-true', 'false', 'mostly-true', 'mostly-true', 'barely-true', 'half-true', 'true', 'barely-true', 'false', 'half-true', 'barely-true', 'half-true', 'pants-fire', 'barely-true', 'true', 'half-true', 'half-true', 'false', 'false', 'barely-true', 'false', 'barely-true', 'true', 'true', 'half-true', 'pants-fire', 'mostly-true', 'half-true', 'mostly-true', 'false', 'barely-true', 'false', 'mostly-true', 'false', 'true', 'pants-fire', 'half-true', 'true', 'half-true', 'true', 'false', 'true', 'barely-true', 'mostly-true', 'mostly-true', 'mostly-true', 'half-true', 'half-true', 'false', 'mostly-true', 'half-true', 'half-true', 'half-true', 'half-true', 'true', 'barely-true', 'true', 'false', 'mostly-true', 'mostly-true', 'mostly-true', 'half-true', 'barely-true', 'half-true', 'half-true', 'mostly-true', 'true', 'barely-true', 'half-true', 'false', 'true', 'true', 'true', 'barely-true', 'barely-true', 'mostly-true', 'mostly-true', 'mostly-true', 'half-true', 'pants-fire', 'mostly-true', 'mostly-true', 'true', 'barely-true', 'false', 'mostly-true', 'barely-true', 'mostly-true', 'half-true', 'false', 'half-true', 'barely-true', 'half-true', 'true', 'false', 'barely-true', 'pants-fire', 'barely-true', 'false', 'mostly-true', 'mostly-true', 'pants-fire', 'mostly-true', 'mostly-true', 'barely-true', 'false', 'true', 'half-true', 'mostly-true', 'true', 'mostly-true', 'barely-true', 'false', 'false', 'half-true', 'mostly-true', 'true', 'barely-true', 'barely-true', 'false', 'half-true', 'barely-true', 'mostly-true', 'half-true', 'false', 'half-true', 'pants-fire', 'half-true', 'false', 'barely-true', 'false', 'false', 'true', 'half-true', 'pants-fire', 'false', 'half-true', 'false', 'half-true', 'barely-true', 'pants-fire', 'false', 'pants-fire', 'false', 'mostly-true', 'mostly-true', 'pants-fire', 'barely-true', 'half-true', 'false', 'false', 'true', 'true', 'true', 'barely-true', 'true', 'false', 'false', 'half-true', 'false', 'barely-true', 'false', 'true', 'half-true', 'true', 'barely-true', 'pants-fire', 'false', 'barely-true', 'mostly-true', 'barely-true', 'barely-true', 'true', 'mostly-true', 'false', 'barely-true', 'true', 'false', 'barely-true', 'true', 'false', 'false', 'mostly-true', 'pants-fire', 'false', 'barely-true', 'barely-true', 'mostly-true', 'false', 'half-true', 'false', 'true', 'mostly-true', 'pants-fire', 'half-true', 'mostly-true', 'true', 'half-true', 'false', 'barely-true', 'true', 'true', 'false', 'mostly-true', 'false', 'mostly-true', 'barely-true', 'mostly-true', 'true', 'pants-fire', 'false', 'mostly-true', 'barely-true', 'half-true', 'barely-true', 'true', 'false', 'pants-fire', 'barely-true', 'barely-true', 'false', 'half-true', 'half-true', 'mostly-true', 'mostly-true', 'half-true', 'pants-fire', 'half-true', 'mostly-true', 'false', 'barely-true', 'mostly-true', 'pants-fire', 'pants-fire', 'pants-fire', 'half-true', 'false', 'barely-true', 'false', 'pants-fire', 'half-true', 'true', 'barely-true', 'true', 'true', 'half-true', 'half-true', 'pants-fire', 'true', 'false', 'mostly-true', 'false', 'false', 'false', 'false', 'barely-true', 'true', 'true', 'half-true', 'true', 'true', 'pants-fire', 'half-true', 'mostly-true', 'false', 'mostly-true', 'barely-true', 'false', 'barely-true', 'barely-true', 'false', 'false', 'barely-true', 'true', 'true', 'false', 'mostly-true', 'barely-true', 'barely-true', 'barely-true', 'half-true', 'true', 'false', 'true', 'half-true', 'barely-true', 'mostly-true', 'pants-fire', 'mostly-true', 'barely-true', 'true', 'pants-fire', 'false', 'barely-true', 'false', 'half-true', 'barely-true', 'mostly-true', 'mostly-true', 'half-true', 'true', 'half-true', 'barely-true', 'true', 'mostly-true', 'barely-true', 'true', 'barely-true', 'barely-true', 'half-true', 'mostly-true', 'mostly-true', 'false', 'half-true', 'barely-true', 'half-true', 'barely-true', 'false', 'barely-true', 'barely-true', 'pants-fire', 'true', 'true', 'true', 'barely-true', 'true', 'false', 'false', 'barely-true', 'barely-true', 'barely-true', 'mostly-true', 'half-true', 'barely-true', 'barely-true', 'mostly-true', 'mostly-true', 'true', 'half-true', 'true', 'mostly-true', 'true', 'half-true', 'barely-true', 'pants-fire', 'true', 'pants-fire', 'true', 'half-true', 'half-true', 'half-true', 'true', 'false', 'false', 'pants-fire', 'barely-true', 'half-true', 'half-true', 'barely-true', 'mostly-true', 'pants-fire', 'false', 'half-true', 'pants-fire', 'pants-fire', 'half-true', 'false', 'true', 'barely-true', 'true', 'false', 'barely-true', 'half-true', 'false', 'half-true', 'barely-true', 'mostly-true', 'mostly-true', 'half-true', 'mostly-true', 'true', 'mostly-true', 'true', 'barely-true', 'barely-true', 'true', 'mostly-true', 'mostly-true', 'true', 'half-true', 'barely-true', 'false', 'mostly-true', 'false', 'half-true', 'mostly-true', 'false', 'half-true', 'false', 'half-true', 'pants-fire', 'mostly-true', 'false', 'barely-true', 'pants-fire', 'mostly-true', 'true', 'false', 'half-true', 'barely-true', 'false', 'mostly-true', 'half-true', 'mostly-true', 'half-true', 'false', 'half-true', 'false', 'half-true', 'true', 'half-true', 'barely-true', 'barely-true', 'barely-true', 'false', 'false', 'true', 'pants-fire', 'false', 'barely-true', 'barely-true', 'false', 'half-true', 'pants-fire', 'mostly-true', 'barely-true', 'barely-true', 'half-true', 'mostly-true', 'barely-true', 'false', 'half-true', 'false', 'half-true', 'barely-true', 'half-true', 'half-true', 'pants-fire', 'true', 'false', 'true', 'mostly-true', 'half-true', 'half-true', 'false', 'true', 'pants-fire', 'pants-fire', 'half-true', 'false', 'false', 'false', 'false', 'half-true', 'half-true', 'true', 'half-true', 'false', 'mostly-true', 'pants-fire', 'barely-true', 'true', 'half-true', 'false', 'barely-true', 'barely-true', 'barely-true', 'mostly-true', 'true', 'true', 'half-true', 'half-true', 'true', 'true', 'mostly-true', 'mostly-true', 'mostly-true', 'mostly-true', 'barely-true', 'false', 'pants-fire', 'barely-true', 'half-true', 'false', 'false', 'true', 'barely-true', 'half-true', 'barely-true', 'half-true', 'false', 'half-true', 'half-true', 'half-true', 'mostly-true', 'mostly-true', 'barely-true', 'barely-true', 'false', 'pants-fire', 'pants-fire', 'half-true', 'true', 'false', 'mostly-true', 'mostly-true', 'barely-true', 'barely-true', 'half-true', 'barely-true', 'false', 'pants-fire', 'barely-true', 'mostly-true', 'false', 'true', 'half-true', 'true', 'mostly-true', 'pants-fire', 'true', 'half-true', 'true', 'pants-fire', 'true', 'false', 'pants-fire', 'pants-fire', 'half-true', 'true', 'half-true', 'mostly-true', 'half-true', 'false', 'half-true', 'barely-true', 'false', 'half-true', 'barely-true', 'half-true', 'barely-true', 'mostly-true', 'barely-true', 'half-true', 'pants-fire', 'mostly-true', 'true', 'false', 'barely-true', 'mostly-true', 'half-true', 'mostly-true', 'true', 'false', 'mostly-true', 'true', 'half-true', 'true', 'barely-true', 'true', 'false', 'half-true', 'mostly-true', 'barely-true', 'false', 'half-true', 'true', 'half-true', 'pants-fire', 'true', 'false', 'barely-true', 'false', 'false', 'half-true', 'half-true', 'barely-true', 'false', 'true', 'half-true', 'mostly-true', 'barely-true', 'pants-fire', 'false', 'pants-fire', 'true', 'true', 'false', 'half-true', 'false', 'half-true', 'mostly-true', 'pants-fire', 'true', 'true', 'true', 'mostly-true', 'mostly-true', 'mostly-true', 'false', 'barely-true', 'false', 'barely-true', 'true', 'half-true', 'false', 'mostly-true', 'barely-true', 'barely-true', 'barely-true', 'barely-true', 'true', 'half-true', 'half-true', 'false', 'half-true', 'barely-true', 'half-true', 'false', 'mostly-true', 'true', 'mostly-true', 'true', 'half-true', 'true', 'pants-fire', 'false', 'mostly-true', 'barely-true', 'barely-true', 'mostly-true', 'true', 'mostly-true', 'half-true', 'true', 'false', 'true', 'true', 'false', 'barely-true', 'false', 'true', 'false', 'false', 'false', 'false', 'half-true', 'false', 'mostly-true', 'barely-true', 'pants-fire', 'false', 'false', 'false', 'half-true', 'half-true', 'barely-true', 'mostly-true', 'pants-fire', 'barely-true', 'half-true', 'pants-fire', 'barely-true', 'false', 'mostly-true', 'barely-true', 'half-true', 'false', 'half-true', 'half-true', 'mostly-true', 'half-true', 'mostly-true', 'mostly-true', 'mostly-true', 'barely-true', 'true', 'half-true', 'mostly-true', 'true', 'barely-true', 'false', 'mostly-true', 'half-true', 'half-true', 'pants-fire', 'half-true', 'false', 'true', 'mostly-true', 'barely-true', 'mostly-true', 'false', 'pants-fire', 'false', 'mostly-true', 'half-true', 'barely-true', 'half-true', 'false', 'true', 'barely-true', 'mostly-true', 'half-true', 'mostly-true', 'barely-true', 'false', 'pants-fire', 'barely-true', 'mostly-true', 'false', 'false', 'half-true', 'pants-fire', 'barely-true', 'half-true', 'barely-true', 'mostly-true', 'true', 'half-true', 'false', 'false', 'half-true', 'mostly-true', 'mostly-true', 'false', 'mostly-true', 'barely-true', 'half-true', 'barely-true', 'barely-true', 'true', 'mostly-true', 'mostly-true', 'barely-true', 'barely-true', 'mostly-true', 'mostly-true', 'false', 'barely-true', 'true', 'mostly-true', 'barely-true', 'true', 'half-true', 'half-true', 'false', 'true', 'barely-true', 'barely-true', 'mostly-true', 'barely-true', 'false', 'true', 'false', 'barely-true', 'true', 'barely-true', 'half-true', 'mostly-true', 'false', 'mostly-true', 'pants-fire', 'pants-fire', 'pants-fire', 'mostly-true', 'true', 'true', 'mostly-true', 'mostly-true', 'false', 'true', 'false', 'mostly-true', 'true', 'half-true', 'false', 'half-true', 'mostly-true', 'mostly-true', 'half-true', 'false', 'mostly-true', 'barely-true', 'mostly-true', 'true', 'mostly-true', 'half-true', 'true', 'pants-fire', 'barely-true', 'half-true', 'false', 'false', 'false', 'true', 'mostly-true', 'half-true', 'mostly-true', 'barely-true', 'mostly-true', 'true', 'pants-fire', 'true', 'false', 'barely-true', 'barely-true', 'barely-true', 'false', 'false', 'mostly-true', 'pants-fire', 'barely-true', 'false', 'mostly-true', 'half-true', 'mostly-true', 'true', 'half-true', 'true', 'pants-fire', 'mostly-true', 'false', 'barely-true', 'true', 'true', 'false', 'half-true', 'true', 'true', 'mostly-true', 'half-true', 'barely-true', 'false', 'barely-true', 'half-true', 'half-true', 'half-true', 'half-true', 'half-true', 'half-true', 'barely-true', 'barely-true', 'mostly-true', 'half-true', 'true', 'barely-true', 'mostly-true', 'pants-fire', 'half-true', 'true', 'half-true', 'barely-true', 'false', 'mostly-true', 'half-true', 'false', 'false', 'barely-true', 'half-true', 'mostly-true', 'barely-true', 'false', 'half-true', 'barely-true', 'false', 'true', 'mostly-true', 'false', 'false', 'false', 'half-true', 'mostly-true', 'mostly-true', 'true', 'half-true', 'false', 'barely-true', 'half-true', 'false', 'half-true', 'true', 'true', 'half-true', 'false', 'mostly-true', 'false', 'true', 'barely-true', 'false', 'true', 'false', 'false', 'mostly-true', 'barely-true', 'barely-true', 'pants-fire', 'mostly-true', 'true', 'barely-true', 'mostly-true', 'mostly-true', 'true', 'half-true', 'false', 'half-true', 'true', 'barely-true', 'barely-true', 'false', 'true', 'mostly-true', 'half-true', 'mostly-true', 'barely-true', 'mostly-true', 'mostly-true', 'false', 'barely-true', 'mostly-true', 'false', 'mostly-true', 'mostly-true', 'barely-true', 'false', 'true', 'half-true', 'false', 'barely-true', 'half-true', 'half-true', 'false', 'mostly-true', 'true', 'mostly-true', 'false', 'half-true', 'false', 'half-true', 'false', 'pants-fire', 'pants-fire', 'half-true', 'mostly-true', 'false', 'half-true', 'mostly-true', 'mostly-true', 'pants-fire', 'half-true', 'false', 'half-true', 'half-true', 'false', 'half-true', 'barely-true', 'half-true', 'half-true', 'half-true', 'half-true', 'false', 'pants-fire', 'mostly-true', 'mostly-true', 'false', 'barely-true', 'mostly-true', 'pants-fire', 'barely-true', 'pants-fire', 'half-true', 'barely-true', 'mostly-true', 'true', 'half-true', 'mostly-true', 'mostly-true', 'pants-fire', 'mostly-true', 'half-true', 'mostly-true', 'true', 'true', 'mostly-true', 'true', 'barely-true', 'pants-fire', 'half-true', 'barely-true', 'true', 'mostly-true', 'barely-true', 'half-true', 'pants-fire', 'half-true', 'half-true', 'mostly-true', 'barely-true', 'barely-true', 'barely-true', 'half-true', 'mostly-true', 'true', 'barely-true', 'false', 'true', 'true', 'half-true', 'half-true', 'mostly-true', 'pants-fire', 'false', 'true', 'barely-true', 'barely-true', 'half-true', 'half-true', 'pants-fire', 'false', 'pants-fire', 'pants-fire', 'mostly-true', 'true', 'mostly-true', 'mostly-true', 'mostly-true', 'false', 'false', 'half-true', 'false', 'mostly-true', 'pants-fire', 'barely-true', 'barely-true', 'half-true', 'true', 'half-true', 'true', 'false', 'false', 'barely-true', 'half-true', 'half-true', 'true', 'mostly-true', 'true', 'false', 'true', 'barely-true', 'half-true', 'false', 'false', 'false', 'false', 'mostly-true', 'mostly-true', 'half-true', 'half-true', 'true', 'mostly-true', 'half-true', 'half-true', 'barely-true', 'barely-true', 'false', 'half-true', 'half-true', 'false', 'mostly-true', 'half-true', 'barely-true', 'false', 'pants-fire', 'false', 'false', 'false', 'true', 'false', 'barely-true', 'true', 'barely-true', 'mostly-true', 'true', 'mostly-true', 'false', 'false', 'pants-fire', 'true', 'half-true', 'false', 'pants-fire', 'barely-true', 'true', 'false', 'half-true', 'true', 'pants-fire', 'false', 'half-true', 'half-true', 'mostly-true', 'half-true', 'mostly-true', 'mostly-true', 'true', 'false', 'true', 'barely-true', 'half-true', 'mostly-true', 'mostly-true', 'true', 'true', 'true', 'half-true', 'true', 'false', 'barely-true', 'mostly-true', 'true', 'half-true', 'true', 'mostly-true', 'mostly-true', 'mostly-true', 'barely-true', 'false', 'mostly-true', 'mostly-true', 'true', 'half-true', 'barely-true', 'mostly-true', 'mostly-true', 'true', 'false', 'mostly-true', 'mostly-true', 'half-true', 'barely-true', 'half-true', 'barely-true', 'mostly-true', 'mostly-true', 'barely-true', 'false', 'pants-fire', 'false', 'true', 'false', 'mostly-true', 'half-true', 'pants-fire', 'mostly-true', 'true', 'half-true', 'mostly-true', 'barely-true', 'mostly-true', 'mostly-true', 'half-true', 'half-true', 'half-true', 'mostly-true', 'false', 'half-true', 'barely-true', 'true', 'false', 'barely-true', 'half-true', 'false', 'mostly-true', 'false', 'true', 'mostly-true', 'mostly-true', 'false', 'true', 'half-true', 'true', 'half-true', 'pants-fire', 'barely-true', 'half-true', 'half-true', 'false', 'true', 'mostly-true', 'half-true', 'half-true', 'pants-fire', 'true', 'mostly-true', 'half-true', 'false', 'mostly-true', 'true', 'false', 'barely-true', 'mostly-true', 'true', 'false', 'mostly-true', 'false', 'half-true', 'false', 'mostly-true', 'false', 'half-true', 'pants-fire', 'pants-fire', 'half-true', 'barely-true', 'false', 'true', 'false', 'pants-fire', 'true', 'mostly-true', 'half-true', 'barely-true', 'mostly-true', 'mostly-true', 'barely-true', 'mostly-true', 'false', 'barely-true', 'mostly-true', 'barely-true', 'true', 'pants-fire', 'mostly-true', 'pants-fire', 'half-true', 'false', 'half-true', 'pants-fire', 'mostly-true', 'mostly-true', 'true', 'mostly-true', 'mostly-true', 'true', 'mostly-true', 'mostly-true', 'true', 'pants-fire', 'half-true', 'barely-true', 'half-true', 'true', 'half-true', 'half-true', 'half-true', 'true', 'mostly-true', 'half-true', 'false', 'mostly-true', 'barely-true', 'half-true', 'true', 'mostly-true', 'half-true', 'half-true', 'false', 'false', 'mostly-true', 'mostly-true', 'barely-true', 'mostly-true', 'barely-true', 'barely-true', 'pants-fire', 'barely-true', 'barely-true', 'half-true', 'barely-true', 'pants-fire', 'mostly-true', 'false', 'mostly-true', 'barely-true', 'mostly-true', 'mostly-true', 'true', 'mostly-true', 'false', 'barely-true', 'false', 'mostly-true', 'mostly-true', 'true', 'false', 'mostly-true', 'barely-true', 'mostly-true', 'true', 'false', 'pants-fire', 'mostly-true', 'barely-true', 'false', 'true', 'barely-true', 'mostly-true', 'true', 'true', 'false', 'half-true', 'barely-true', 'mostly-true', 'false', 'false', 'pants-fire', 'false', 'barely-true', 'false', 'true', 'half-true', 'barely-true', 'false', 'mostly-true', 'true', 'false', 'barely-true', 'false', 'true', 'barely-true', 'barely-true', 'true', 'true', 'false', 'barely-true', 'mostly-true', 'true', 'barely-true', 'pants-fire', 'pants-fire', 'true', 'mostly-true', 'half-true', 'half-true', 'true', 'false', 'half-true', 'barely-true', 'false', 'false', 'barely-true', 'half-true', 'false', 'barely-true', 'half-true', 'barely-true', 'mostly-true', 'false', 'barely-true', 'mostly-true', 'mostly-true', 'barely-true', 'half-true', 'false', 'mostly-true', 'barely-true', 'false', 'half-true', 'half-true', 'false', 'false', 'barely-true', 'barely-true', 'false', 'half-true', 'half-true', 'half-true', 'barely-true', 'false', 'mostly-true', 'mostly-true', 'true', 'barely-true', 'pants-fire', 'half-true', 'half-true', 'mostly-true', 'true', 'true', 'mostly-true', 'pants-fire', 'pants-fire', 'false', 'false', 'true', 'true', 'true', 'barely-true', 'true', 'false', 'false', 'false', 'mostly-true', 'barely-true', 'mostly-true', 'barely-true', 'pants-fire', 'pants-fire', 'half-true', 'true', 'barely-true', 'false', 'mostly-true', 'mostly-true', 'barely-true', 'half-true', 'barely-true', 'mostly-true', 'true', 'pants-fire', 'half-true', 'barely-true', 'mostly-true', 'half-true', 'mostly-true', 'mostly-true', 'false', 'mostly-true', 'barely-true', 'pants-fire', 'mostly-true', 'barely-true', 'half-true', 'half-true', 'false', 'mostly-true', 'barely-true', 'mostly-true', 'false', 'false', 'half-true', 'half-true', 'false', 'half-true', 'half-true', 'barely-true', 'half-true', 'mostly-true', 'true', 'mostly-true', 'false', 'half-true', 'pants-fire', 'mostly-true', 'mostly-true', 'half-true', 'barely-true', 'barely-true', 'half-true', 'true', 'mostly-true', 'barely-true', 'mostly-true', 'pants-fire', 'mostly-true', 'pants-fire', 'false', 'true', 'false', 'true', 'false', 'half-true', 'false', 'half-true', 'false', 'barely-true', 'half-true', 'half-true', 'mostly-true', 'pants-fire', 'true', 'true', 'true', 'barely-true', 'false', 'half-true', 'half-true', 'false', 'half-true', 'half-true', 'mostly-true', 'mostly-true', 'true', 'barely-true', 'true', 'true', 'mostly-true', 'half-true', 'barely-true', 'half-true', 'half-true', 'pants-fire', 'false', 'mostly-true', 'mostly-true', 'barely-true', 'barely-true', 'half-true', 'true', 'false', 'pants-fire', 'false', 'true', 'pants-fire', 'true', 'true', 'mostly-true', 'pants-fire', 'false', 'false', 'half-true', 'barely-true', 'mostly-true', 'barely-true', 'half-true', 'barely-true', 'half-true', 'true', 'true', 'half-true', 'true', 'true', 'half-true', 'false', 'true', 'barely-true', 'false', 'mostly-true', 'false', 'half-true', 'half-true', 'false', 'false', 'mostly-true', 'mostly-true', 'mostly-true', 'half-true', 'false', 'pants-fire', 'true', 'false', 'false', 'true', 'false', 'barely-true', 'mostly-true', 'half-true', 'mostly-true', 'mostly-true', 'barely-true', 'barely-true', 'false', 'true', 'false', 'false', 'mostly-true', 'false', 'barely-true', 'true', 'mostly-true', 'half-true', 'half-true', 'true', 'half-true', 'pants-fire', 'barely-true', 'barely-true', 'barely-true', 'true', 'true', 'half-true', 'false', 'half-true', 'barely-true', 'false', 'barely-true', 'mostly-true', 'true', 'half-true', 'barely-true', 'half-true', 'barely-true', 'mostly-true', 'false', 'true', 'pants-fire', 'mostly-true', 'barely-true', 'true', 'barely-true', 'pants-fire', 'barely-true', 'mostly-true', 'false', 'half-true', 'mostly-true', 'true', 'false', 'half-true', 'true', 'half-true', 'mostly-true', 'true', 'barely-true', 'true', 'barely-true', 'half-true', 'half-true', 'mostly-true', 'half-true', 'barely-true', 'barely-true', 'pants-fire', 'false', 'false', 'false', 'mostly-true', 'true', 'true', 'half-true', 'false', 'true', 'true', 'barely-true', 'half-true', 'barely-true', 'half-true', 'false', 'half-true', 'true', 'false', 'true', 'false', 'false', 'barely-true', 'mostly-true', 'mostly-true', 'half-true', 'false', 'half-true', 'barely-true', 'true', 'barely-true', 'true', 'true', 'mostly-true', 'false', 'pants-fire', 'mostly-true', 'mostly-true', 'mostly-true', 'mostly-true', 'pants-fire', 'barely-true', 'mostly-true', 'half-true', 'pants-fire', 'barely-true', 'half-true', 'false', 'false', 'mostly-true', 'false', 'half-true', 'barely-true', 'pants-fire', 'true', 'true', 'false', 'true', 'mostly-true', 'true', 'pants-fire', 'half-true', 'half-true', 'false', 'pants-fire', 'half-true', 'half-true', 'half-true', 'half-true', 'half-true', 'mostly-true', 'true', 'true', 'mostly-true', 'barely-true', 'half-true', 'barely-true', 'half-true', 'true', 'barely-true', 'half-true', 'true', 'half-true', 'mostly-true', 'mostly-true', 'mostly-true', 'mostly-true', 'mostly-true', 'false', 'mostly-true', 'half-true', 'barely-true', 'true', 'false', 'false', 'half-true', 'half-true', 'barely-true', 'half-true', 'barely-true', 'mostly-true', 'half-true', 'mostly-true', 'barely-true', 'barely-true', 'false', 'mostly-true', 'half-true', 'pants-fire', 'mostly-true', 'false', 'half-true', 'barely-true', 'false', 'half-true', 'true', 'half-true', 'pants-fire', 'half-true', 'false', 'barely-true', 'mostly-true', 'barely-true', 'mostly-true', 'mostly-true', 'mostly-true', 'true', 'half-true', 'half-true', 'mostly-true', 'half-true', 'half-true', 'mostly-true', 'pants-fire', 'false', 'false', 'mostly-true', 'half-true', 'pants-fire', 'half-true', 'false', 'half-true', 'true', 'barely-true', 'true', 'half-true', 'barely-true', 'false', 'true', 'barely-true', 'mostly-true', 'false', 'barely-true', 'false', 'barely-true', 'half-true', 'false', 'true', 'false', 'false', 'barely-true', 'half-true', 'false', 'barely-true', 'false', 'mostly-true', 'false', 'pants-fire', 'half-true', 'barely-true', 'mostly-true', 'half-true', 'half-true', 'pants-fire', 'false', 'half-true', 'half-true', 'pants-fire', 'barely-true', 'true', 'half-true', 'barely-true', 'mostly-true', 'mostly-true', 'half-true', 'mostly-true', 'half-true', 'barely-true', 'barely-true', 'half-true', 'barely-true', 'barely-true', 'half-true', 'half-true', 'half-true', 'true', 'false', 'false', 'false', 'false', 'false', 'mostly-true', 'barely-true', 'barely-true', 'true', 'half-true', 'mostly-true', 'mostly-true', 'mostly-true', 'barely-true', 'true', 'false', 'half-true', 'half-true', 'mostly-true', 'mostly-true', 'half-true', 'mostly-true', 'mostly-true', 'false', 'false', 'false', 'half-true', 'mostly-true', 'true', 'barely-true', 'true', 'false', 'false', 'barely-true', 'mostly-true', 'false', 'false', 'half-true', 'pants-fire', 'mostly-true', 'true', 'pants-fire', 'true', 'false', 'half-true', 'half-true', 'true', 'barely-true', 'true', 'half-true', 'barely-true', 'barely-true', 'true', 'half-true', 'false', 'half-true', 'true', 'false', 'barely-true', 'mostly-true', 'half-true', 'barely-true', 'false', 'mostly-true', 'barely-true', 'mostly-true', 'false', 'mostly-true', 'true', 'false', 'false', 'pants-fire', 'barely-true', 'barely-true', 'true', 'half-true', 'half-true', 'mostly-true', 'true', 'half-true', 'mostly-true', 'half-true', 'half-true', 'barely-true', 'mostly-true', 'mostly-true', 'barely-true', 'barely-true', 'half-true', 'mostly-true', 'mostly-true', 'mostly-true', 'mostly-true', 'true', 'half-true', 'mostly-true', 'mostly-true', 'true', 'true', 'barely-true', 'false', 'mostly-true', 'true', 'barely-true', 'false', 'barely-true', 'barely-true', 'mostly-true', 'mostly-true', 'false', 'barely-true', 'mostly-true', 'barely-true', 'half-true', 'mostly-true', 'mostly-true', 'false', 'pants-fire', 'mostly-true', 'false', 'false', 'mostly-true', 'barely-true', 'true', 'barely-true', 'false', 'pants-fire', 'pants-fire', 'half-true', 'false', 'false', 'true', 'false', 'half-true', 'barely-true', 'half-true', 'true', 'false', 'half-true', 'mostly-true', 'false', 'false', 'half-true', 'true', 'false', 'barely-true', 'mostly-true', 'barely-true', 'true', 'true', 'false', 'true', 'barely-true', 'mostly-true', 'pants-fire', 'true', 'false', 'true', 'mostly-true', 'mostly-true', 'true', 'false', 'false', 'mostly-true', 'pants-fire', 'false', 'false', 'half-true', 'barely-true', 'mostly-true', 'true', 'mostly-true', 'false', 'false', 'true', 'half-true', 'half-true', 'true', 'pants-fire', 'false', 'true', 'true', 'half-true', 'barely-true', 'true', 'false', 'false', 'barely-true', 'half-true', 'true', 'half-true', 'barely-true', 'pants-fire', 'false', 'false', 'mostly-true', 'true', 'false', 'mostly-true', 'half-true', 'false', 'mostly-true', 'mostly-true', 'mostly-true', 'barely-true', 'mostly-true', 'barely-true', 'true', 'barely-true', 'mostly-true', 'half-true', 'false', 'pants-fire', 'false', 'false', 'half-true', 'mostly-true', 'barely-true', 'half-true', 'mostly-true', 'true', 'half-true', 'half-true', 'true', 'true', 'pants-fire', 'mostly-true', 'barely-true', 'mostly-true', 'true', 'mostly-true', 'true', 'half-true', 'true', 'barely-true', 'barely-true', 'true', 'half-true', 'half-true', 'true', 'half-true', 'false', 'pants-fire', 'true', 'half-true', 'false', 'barely-true', 'false', 'false', 'true', 'false', 'mostly-true', 'false', 'half-true', 'mostly-true', 'true', 'half-true', 'half-true', 'true', 'half-true', 'false', 'mostly-true', 'pants-fire', 'half-true', 'mostly-true', 'barely-true', 'half-true', 'half-true', 'half-true', 'false', 'barely-true', 'false', 'mostly-true', 'true', 'mostly-true', 'half-true', 'true', 'mostly-true', 'false', 'half-true', 'false', 'true', 'mostly-true', 'true', 'true', 'barely-true', 'true', 'true', 'barely-true', 'false', 'barely-true', 'barely-true', 'false', 'false', 'pants-fire', 'half-true', 'false', 'false', 'mostly-true', 'true', 'false', 'barely-true', 'half-true', 'half-true', 'false', 'mostly-true', 'barely-true', 'half-true', 'pants-fire', 'true', 'mostly-true', 'pants-fire', 'true', 'half-true', 'true', 'barely-true', 'mostly-true', 'false', 'pants-fire', 'barely-true', 'mostly-true', 'half-true', 'false', 'false', 'mostly-true', 'false', 'half-true', 'half-true', 'pants-fire', 'false', 'true', 'true', 'barely-true', 'mostly-true', 'mostly-true', 'half-true', 'true', 'false', 'mostly-true', 'true', 'mostly-true', 'false', 'true', 'false', 'mostly-true', 'barely-true', 'half-true', 'true', 'half-true', 'mostly-true', 'barely-true', 'false', 'half-true', 'mostly-true', 'false', 'pants-fire', 'false', 'false', 'half-true', 'mostly-true', 'pants-fire', 'barely-true', 'barely-true', 'barely-true', 'false', 'barely-true', 'half-true', 'half-true', 'pants-fire', 'mostly-true', 'pants-fire', 'mostly-true', 'mostly-true', 'false', 'pants-fire', 'true', 'true', 'barely-true', 'false', 'mostly-true', 'false', 'half-true', 'pants-fire', 'half-true', 'true', 'mostly-true', 'false', 'mostly-true', 'mostly-true', 'false', 'pants-fire', 'mostly-true', 'mostly-true', 'half-true', 'mostly-true', 'false', 'barely-true', 'mostly-true', 'half-true', 'mostly-true', 'barely-true', 'false', 'false', 'half-true', 'true', 'half-true', 'barely-true', 'half-true', 'false', 'true', 'mostly-true', 'half-true', 'false', 'half-true', 'pants-fire', 'barely-true', 'half-true', 'true', 'mostly-true', 'true', 'true', 'half-true', 'false', 'true', 'true', 'barely-true', 'true', 'barely-true', 'true', 'mostly-true', 'barely-true', 'true', 'half-true', 'barely-true', 'half-true', 'half-true', 'true', 'barely-true', 'barely-true', 'barely-true', 'half-true', 'false', 'half-true', 'mostly-true', 'mostly-true', 'mostly-true', 'false', 'half-true', 'pants-fire', 'barely-true', 'half-true', 'true', 'true', 'false', 'true', 'half-true', 'pants-fire', 'half-true', 'half-true', 'half-true', 'true', 'false', 'half-true', 'pants-fire', 'barely-true', 'mostly-true', 'mostly-true', 'barely-true', 'false', 'true', 'pants-fire', 'barely-true', 'true', 'barely-true', 'barely-true', 'false', 'false', 'false', 'barely-true', 'mostly-true', 'false', 'mostly-true', 'false', 'mostly-true', 'barely-true', 'true', 'barely-true', 'true', 'false', 'mostly-true', 'half-true', 'barely-true', 'barely-true', 'barely-true', 'mostly-true', 'mostly-true', 'barely-true', 'false', 'false', 'barely-true', 'false', 'barely-true', 'false', 'half-true', 'false', 'false', 'mostly-true', 'false', 'barely-true', 'true', 'false', 'true', 'half-true', 'false', 'true', 'false', 'barely-true', 'mostly-true', 'mostly-true', 'true', 'barely-true', 'true', 'false', 'mostly-true', 'mostly-true', 'mostly-true', 'half-true', 'true', 'false', 'false', 'half-true', 'mostly-true', 'true', 'mostly-true', 'mostly-true', 'false', 'pants-fire', 'pants-fire', 'barely-true', 'mostly-true', 'mostly-true', 'false', 'half-true', 'pants-fire', 'false', 'false', 'mostly-true', 'true', 'mostly-true', 'half-true', 'half-true', 'barely-true', 'true', 'barely-true', 'half-true', 'barely-true', 'mostly-true', 'mostly-true', 'false', 'half-true', 'mostly-true', 'half-true', 'mostly-true', 'barely-true', 'false', 'barely-true', 'mostly-true', 'mostly-true', 'true', 'true', 'barely-true', 'false', 'barely-true', 'half-true', 'false', 'false', 'half-true', 'true', 'half-true', 'barely-true', 'false', 'half-true', 'barely-true', 'false', 'true', 'mostly-true', 'half-true', 'mostly-true', 'pants-fire', 'barely-true', 'barely-true', 'barely-true', 'half-true', 'false', 'true', 'half-true', 'mostly-true', 'mostly-true', 'barely-true', 'half-true', 'barely-true', 'false', 'half-true', 'pants-fire', 'half-true', 'half-true', 'pants-fire', 'half-true', 'half-true', 'false', 'true', 'mostly-true', 'half-true', 'true', 'false', 'mostly-true', 'barely-true', 'false', 'half-true', 'half-true', 'true', 'half-true', 'true', 'true', 'mostly-true', 'half-true', 'half-true', 'false', 'false', 'true', 'mostly-true', 'barely-true', 'false', 'true', 'true', 'true', 'half-true', 'barely-true', 'false', 'barely-true', 'half-true', 'true', 'mostly-true', 'false', 'mostly-true', 'mostly-true', 'barely-true', 'pants-fire', 'false', 'mostly-true', 'half-true', 'false', 'half-true', 'mostly-true', 'barely-true', 'half-true', 'mostly-true', 'true', 'barely-true', 'mostly-true', 'mostly-true', 'true', 'mostly-true', 'half-true', 'barely-true', 'false', 'true', 'true', 'false', 'false', 'barely-true', 'false', 'true', 'true', 'mostly-true', 'true', 'false', 'true', 'mostly-true', 'false', 'barely-true', 'half-true', 'barely-true', 'half-true', 'false', 'half-true', 'false', 'true', 'half-true', 'false', 'barely-true', 'false', 'false', 'mostly-true', 'pants-fire', 'true', 'mostly-true', 'mostly-true', 'barely-true', 'pants-fire', 'false', 'false', 'half-true', 'true', 'half-true', 'mostly-true', 'mostly-true', 'true', 'half-true', 'false', 'barely-true', 'false', 'mostly-true', 'mostly-true', 'true', 'false', 'half-true', 'half-true', 'pants-fire', 'true', 'true', 'mostly-true', 'pants-fire', 'true', 'half-true', 'half-true', 'mostly-true', 'false', 'true', 'half-true', 'false', 'barely-true', 'barely-true', 'barely-true', 'barely-true', 'barely-true', 'mostly-true', 'true', 'false', 'false', 'pants-fire', 'barely-true', 'barely-true', 'false', 'mostly-true', 'mostly-true', 'barely-true', 'barely-true', 'half-true', 'mostly-true', 'mostly-true', 'false', 'barely-true', 'mostly-true', 'false', 'pants-fire', 'mostly-true', 'barely-true', 'pants-fire', 'false', 'pants-fire', 'half-true', 'pants-fire', 'true', 'pants-fire', 'half-true', 'false', 'half-true', 'mostly-true', 'half-true', 'true', 'mostly-true', 'half-true', 'true', 'false', 'half-true', 'mostly-true', 'true', 'false', 'barely-true', 'true', 'false', 'barely-true', 'pants-fire', 'false', 'half-true', 'barely-true', 'half-true', 'true', 'false', 'false', 'true', 'mostly-true', 'false', 'false', 'barely-true', 'barely-true', 'barely-true', 'barely-true', 'barely-true', 'half-true', 'pants-fire', 'false', 'half-true', 'pants-fire', 'mostly-true', 'mostly-true', 'false', 'false', 'true', 'true', 'mostly-true', 'barely-true', 'pants-fire', 'false', 'mostly-true', 'barely-true', 'barely-true', 'false', 'mostly-true', 'mostly-true', 'mostly-true', 'barely-true', 'pants-fire', 'false', 'true', 'mostly-true', 'half-true', 'pants-fire', 'half-true', 'true', 'half-true', 'mostly-true', 'false', 'false', 'true', 'half-true', 'half-true', 'false', 'barely-true', 'pants-fire', 'false', 'half-true', 'half-true', 'pants-fire', 'mostly-true', 'mostly-true', 'mostly-true', 'false', 'pants-fire', 'mostly-true', 'barely-true', 'pants-fire', 'half-true', 'true', 'mostly-true', 'half-true', 'half-true', 'barely-true', 'half-true', 'mostly-true', 'half-true', 'barely-true', 'true', 'false', 'false', 'false', 'true', 'true', 'half-true', 'half-true', 'mostly-true', 'true', 'false', 'barely-true', 'false', 'half-true', 'false', 'true', 'true', 'half-true', 'false', 'pants-fire', 'mostly-true', 'true', 'false', 'pants-fire', 'pants-fire', 'half-true', 'true', 'true', 'half-true', 'true', 'half-true', 'pants-fire', 'mostly-true', 'mostly-true', 'half-true', 'true', 'barely-true', 'half-true', 'barely-true', 'half-true', 'half-true', 'mostly-true', 'half-true', 'half-true', 'barely-true', 'half-true', 'half-true', 'false', 'pants-fire', 'true', 'mostly-true', 'barely-true', 'barely-true', 'half-true', 'barely-true', 'true', 'barely-true', 'half-true', 'half-true', 'true', 'false', 'barely-true', 'half-true', 'false', 'mostly-true', 'half-true', 'true', 'false', 'true', 'false', 'half-true', 'barely-true', 'false', 'false', 'mostly-true', 'barely-true', 'half-true', 'barely-true', 'half-true', 'false', 'false', 'mostly-true', 'mostly-true', 'half-true', 'mostly-true', 'false', 'false', 'false', 'false', 'true', 'true', 'false', 'true', 'barely-true', 'half-true', 'half-true', 'false', 'false', 'half-true', 'half-true', 'half-true', 'half-true', 'true', 'true', 'half-true', 'mostly-true', 'mostly-true', 'pants-fire', 'false', 'half-true', 'true', 'half-true', 'half-true', 'mostly-true', 'half-true', 'true', 'barely-true', 'mostly-true', 'barely-true', 'true', 'true', 'false', 'true', 'half-true', 'true', 'barely-true', 'false', 'false', 'barely-true', 'half-true', 'false', 'barely-true', 'half-true', 'false', 'half-true', 'half-true', 'mostly-true', 'false', 'half-true', 'false', 'true', 'true', 'half-true', 'true', 'true', 'half-true', 'mostly-true', 'mostly-true', 'half-true', 'true', 'false', 'mostly-true', 'half-true', 'pants-fire', 'false', 'half-true', 'true', 'mostly-true', 'false', 'true', 'barely-true', 'true', 'barely-true', 'mostly-true', 'half-true', 'half-true', 'barely-true', 'barely-true', 'pants-fire', 'mostly-true', 'mostly-true', 'true', 'mostly-true', 'true', 'barely-true', 'false', 'false', 'barely-true', 'barely-true', 'false', 'barely-true', 'false', 'barely-true', 'mostly-true', 'mostly-true', 'barely-true', 'barely-true', 'barely-true', 'barely-true', 'half-true', 'true', 'true', 'mostly-true', 'pants-fire', 'false', 'true', 'mostly-true', 'false', 'half-true', 'mostly-true', 'mostly-true', 'true', 'true', 'false', 'mostly-true', 'half-true', 'half-true', 'mostly-true', 'mostly-true', 'half-true', 'half-true', 'false', 'false', 'mostly-true', 'half-true', 'true', 'pants-fire', 'false', 'false', 'false', 'false', 'mostly-true', 'false', 'half-true', 'true', 'pants-fire', 'false', 'true', 'mostly-true', 'barely-true', 'true', 'barely-true', 'barely-true', 'mostly-true', 'false', 'pants-fire', 'mostly-true', 'barely-true', 'barely-true', 'pants-fire', 'half-true', 'barely-true', 'false', 'barely-true', 'barely-true', 'mostly-true', 'true', 'false', 'barely-true', 'barely-true', 'half-true', 'false', 'mostly-true', 'false', 'true', 'barely-true', 'false', 'true', 'true', 'barely-true', 'barely-true', 'false', 'barely-true', 'barely-true', 'false', 'barely-true', 'false', 'mostly-true', 'true', 'half-true', 'half-true', 'true', 'half-true', 'false', 'pants-fire', 'false', 'mostly-true', 'barely-true', 'half-true', 'false', 'true', 'pants-fire', 'half-true', 'mostly-true', 'mostly-true', 'barely-true', 'barely-true', 'false', 'true', 'half-true', 'mostly-true', 'true', 'pants-fire', 'half-true', 'barely-true', 'mostly-true', 'mostly-true', 'true', 'half-true', 'false', 'half-true', 'mostly-true', 'mostly-true', 'true', 'false', 'barely-true', 'half-true', 'half-true', 'barely-true', 'barely-true', 'false', 'mostly-true', 'barely-true', 'half-true', 'barely-true', 'mostly-true', 'half-true', 'false', 'false', 'mostly-true', 'true', 'barely-true', 'mostly-true', 'mostly-true', 'true', 'mostly-true', 'false', 'barely-true', 'mostly-true', 'mostly-true', 'pants-fire', 'half-true', 'barely-true', 'mostly-true', 'true', 'mostly-true', 'true', 'mostly-true', 'false', 'false', 'barely-true', 'true', 'half-true', 'true', 'false', 'half-true', 'true', 'barely-true', 'mostly-true', 'half-true', 'mostly-true', 'barely-true', 'pants-fire', 'half-true', 'false', 'pants-fire', 'mostly-true', 'half-true', 'pants-fire', 'half-true', 'true', 'pants-fire', 'barely-true', 'false', 'mostly-true', 'false', 'pants-fire', 'pants-fire', 'mostly-true', 'barely-true', 'half-true', 'true', 'half-true', 'mostly-true', 'barely-true', 'half-true', 'half-true', 'half-true', 'half-true', 'mostly-true', 'true', 'false', 'half-true', 'barely-true', 'false', 'mostly-true', 'true', 'barely-true', 'true', 'pants-fire', 'half-true', 'true', 'half-true', 'true', 'mostly-true', 'barely-true', 'mostly-true', 'false', 'barely-true', 'false', 'mostly-true', 'barely-true', 'pants-fire', 'half-true', 'mostly-true', 'false', 'mostly-true', 'false', 'mostly-true', 'half-true', 'false', 'true', 'half-true', 'half-true', 'half-true', 'false', 'true', 'mostly-true', 'half-true', 'true', 'mostly-true', 'half-true', 'false', 'true', 'mostly-true', 'false', 'false', 'pants-fire', 'true', 'half-true', 'false', 'half-true', 'pants-fire', 'false', 'false', 'half-true', 'barely-true', 'mostly-true', 'half-true', 'false', 'barely-true', 'mostly-true', 'half-true', 'pants-fire', 'barely-true', 'true', 'false', 'barely-true', 'true', 'barely-true', 'false', 'half-true', 'mostly-true', 'half-true', 'barely-true', 'true', 'barely-true', 'mostly-true', 'false', 'false', 'mostly-true', 'true', 'half-true', 'barely-true', 'true', 'true', 'half-true', 'false', 'half-true', 'mostly-true', 'barely-true', 'mostly-true', 'half-true', 'barely-true', 'half-true', 'half-true', 'mostly-true', 'half-true', 'half-true', 'mostly-true', 'mostly-true', 'false', 'half-true', 'mostly-true', 'true', 'half-true', 'half-true', 'pants-fire', 'pants-fire', 'barely-true', 'half-true', 'half-true', 'half-true', 'mostly-true', 'mostly-true', 'half-true', 'half-true', 'true', 'pants-fire', 'half-true', 'true', 'barely-true', 'true', 'half-true', 'mostly-true', 'false', 'pants-fire', 'half-true', 'true', 'barely-true', 'false', 'mostly-true', 'barely-true', 'mostly-true', 'mostly-true', 'half-true', 'half-true', 'barely-true', 'mostly-true', 'mostly-true', 'false', 'false', 'false', 'barely-true', 'barely-true', 'half-true', 'mostly-true', 'false', 'true', 'mostly-true', 'half-true', 'true', 'pants-fire', 'half-true', 'half-true', 'false', 'false', 'true', 'half-true', 'true', 'true', 'barely-true', 'half-true', 'half-true', 'half-true', 'half-true', 'false', 'half-true', 'pants-fire', 'true', 'true', 'barely-true', 'false', 'false', 'false', 'true', 'barely-true', 'pants-fire', 'barely-true', 'true', 'barely-true', 'mostly-true', 'mostly-true', 'false', 'mostly-true', 'half-true', 'half-true', 'false', 'barely-true', 'half-true', 'barely-true', 'true', 'mostly-true', 'half-true', 'true', 'half-true', 'mostly-true', 'barely-true', 'pants-fire', 'true', 'mostly-true', 'half-true', 'pants-fire', 'false', 'pants-fire', 'barely-true', 'half-true', 'true', 'half-true', 'mostly-true', 'mostly-true', 'mostly-true', 'false', 'false', 'false', 'false', 'mostly-true', 'mostly-true', 'true', 'barely-true', 'half-true', 'mostly-true', 'half-true', 'half-true', 'mostly-true', 'false', 'half-true', 'pants-fire', 'barely-true', 'true', 'mostly-true', 'true', 'half-true', 'barely-true', 'true', 'half-true', 'pants-fire', 'true', 'half-true', 'mostly-true', 'mostly-true', 'barely-true', 'true', 'true', 'barely-true', 'true', 'true', 'mostly-true', 'half-true', 'true', 'pants-fire', 'barely-true', 'barely-true', 'half-true', 'false', 'true', 'mostly-true', 'barely-true', 'pants-fire', 'false', 'half-true', 'true', 'false', 'mostly-true', 'half-true', 'pants-fire', 'mostly-true', 'pants-fire', 'pants-fire', 'barely-true', 'mostly-true', 'false', 'pants-fire', 'true', 'false', 'barely-true', 'mostly-true', 'mostly-true', 'half-true', 'true', 'true', 'true', 'false', 'half-true', 'true', 'false', 'pants-fire', 'pants-fire', 'true', 'false', 'mostly-true', 'true', 'true', 'mostly-true', 'half-true', 'barely-true', 'pants-fire', 'true', 'barely-true', 'pants-fire', 'false', 'pants-fire', 'barely-true', 'false', 'mostly-true', 'barely-true', 'true', 'false', 'false', 'false', 'true', 'barely-true', 'false', 'barely-true', 'false', 'true', 'false', 'half-true', 'mostly-true', 'barely-true', 'mostly-true', 'mostly-true', 'pants-fire', 'false', 'barely-true', 'barely-true', 'pants-fire', 'false', 'pants-fire', 'half-true', 'false', 'half-true', 'half-true', 'mostly-true', 'barely-true', 'mostly-true', 'mostly-true', 'barely-true', 'mostly-true', 'pants-fire', 'true', 'false', 'false', 'half-true', 'mostly-true', 'mostly-true', 'false', 'half-true', 'true', 'true', 'barely-true', 'half-true', 'mostly-true', 'mostly-true', 'half-true', 'false', 'pants-fire', 'mostly-true', 'false', 'mostly-true', 'mostly-true', 'true', 'half-true', 'true', 'half-true', 'false', 'half-true', 'barely-true', 'false', 'half-true', 'mostly-true', 'mostly-true', 'mostly-true', 'barely-true', 'false', 'mostly-true', 'mostly-true', 'barely-true', 'true', 'false', 'half-true', 'barely-true', 'half-true', 'true', 'half-true', 'pants-fire', 'mostly-true', 'false', 'pants-fire', 'mostly-true', 'false', 'half-true', 'pants-fire', 'false', 'half-true', 'mostly-true', 'false', 'half-true', 'false', 'mostly-true', 'barely-true', 'mostly-true', 'mostly-true', 'barely-true', 'false', 'false', 'barely-true', 'pants-fire', 'pants-fire', 'mostly-true', 'false', 'mostly-true', 'barely-true', 'barely-true', 'half-true', 'true', 'true', 'half-true', 'pants-fire', 'pants-fire', 'false', 'true', 'false', 'half-true', 'half-true', 'mostly-true', 'mostly-true', 'barely-true', 'barely-true', 'half-true', 'pants-fire', 'barely-true', 'half-true', 'half-true', 'mostly-true', 'false', 'barely-true', 'true', 'barely-true', 'mostly-true', 'half-true', 'half-true', 'barely-true', 'mostly-true', 'false', 'half-true', 'half-true', 'barely-true', 'false', 'true', 'mostly-true', 'false', 'barely-true', 'barely-true', 'false', 'half-true', 'true', 'barely-true', 'barely-true', 'true', 'barely-true', 'mostly-true', 'false', 'true', 'barely-true', 'mostly-true', 'mostly-true', 'false', 'barely-true', 'false', 'half-true', 'true', 'false', 'true', 'false', 'false', 'true', 'mostly-true', 'half-true', 'false', 'false', 'barely-true', 'pants-fire', 'false', 'mostly-true', 'false', 'pants-fire', 'mostly-true', 'barely-true', 'false', 'mostly-true', 'half-true', 'false', 'true', 'pants-fire', 'false', 'true', 'mostly-true', 'half-true', 'half-true', 'false', 'barely-true', 'half-true', 'mostly-true', 'false', 'false', 'true', 'mostly-true', 'false', 'half-true', 'mostly-true', 'half-true', 'pants-fire', 'false', 'false', 'false', 'pants-fire', 'mostly-true', 'true', 'half-true', 'false', 'false', 'true', 'mostly-true', 'mostly-true', 'barely-true', 'mostly-true', 'half-true', 'false', 'true', 'false', 'barely-true', 'half-true', 'half-true', 'barely-true', 'barely-true', 'barely-true', 'half-true', 'false', 'half-true', 'half-true', 'false', 'true', 'mostly-true', 'barely-true', 'false', 'barely-true', 'mostly-true', 'barely-true', 'half-true', 'mostly-true', 'mostly-true', 'false', 'true', 'true', 'false', 'mostly-true', 'pants-fire', 'half-true', 'false', 'false', 'half-true', 'barely-true', 'mostly-true', 'true', 'mostly-true', 'barely-true', 'pants-fire', 'mostly-true', 'barely-true', 'true', 'pants-fire', 'pants-fire', 'barely-true', 'barely-true', 'half-true', 'half-true', 'false', 'mostly-true', 'false', 'barely-true', 'mostly-true', 'barely-true', 'barely-true', 'false', 'half-true']\n",
            "[1 0 3 ... 0 1 2]\n",
            "[[0. 1. 0. 0. 0. 0.]\n",
            " [1. 0. 0. 0. 0. 0.]\n",
            " [0. 0. 0. 1. 0. 0.]\n",
            " [0. 1. 0. 0. 0. 0.]\n",
            " [1. 0. 0. 0. 0. 0.]]\n"
          ],
          "name": "stdout"
        }
      ]
    },
    {
      "cell_type": "code",
      "metadata": {
        "id": "l9ttN85czhF3",
        "colab_type": "code",
        "colab": {}
      },
      "source": [
        "#data_final['Label'] = data_label\n",
        "#data_final.head()"
      ],
      "execution_count": 0,
      "outputs": []
    },
    {
      "cell_type": "code",
      "metadata": {
        "id": "oCsnyG7-zhGB",
        "colab_type": "code",
        "outputId": "3aaacdb8-0e82-447f-c7e6-9c4376113257",
        "colab": {
          "base_uri": "https://localhost:8080/",
          "height": 71
        }
      },
      "source": [
        "import gensim\n",
        "\n",
        "word2vec_path = \"/content/drive/My Drive/GoogleNews-vectors-negative300.bin.gz\"\n",
        "word2vec = gensim.models.KeyedVectors.load_word2vec_format(word2vec_path, binary=True)"
      ],
      "execution_count": 0,
      "outputs": [
        {
          "output_type": "stream",
          "text": [
            "/usr/local/lib/python3.6/dist-packages/smart_open/smart_open_lib.py:398: UserWarning: This function is deprecated, use smart_open.open instead. See the migration notes for details: https://github.com/RaRe-Technologies/smart_open/blob/master/README.rst#migrating-to-the-new-open-function\n",
            "  'See the migration notes for details: %s' % _MIGRATION_NOTES_URL\n"
          ],
          "name": "stderr"
        }
      ]
    },
    {
      "cell_type": "code",
      "metadata": {
        "id": "RkLOWnjFzhGJ",
        "colab_type": "code",
        "colab": {}
      },
      "source": [
        "def get_word2vec(tokens_list, vector, generate_missing=False, k=300):\n",
        "    if len(tokens_list)<1:\n",
        "        return np.zeros(k)\n",
        "    if generate_missing:\n",
        "        vectorized = [vector[word] if word in vector else np.random.rand(k) for word in tokens_list]\n",
        "    else:\n",
        "        vectorized = [vector[word] if word in vector else np.zeros(k) for word in tokens_list]\n",
        "    length = len(vectorized)\n",
        "    summed = np.sum(vectorized, axis=0)\n",
        "    averaged = np.divide(summed, length)\n",
        "    return averaged\n",
        "\n",
        "def get_word2vec_embeddings(word2vec, data_final, generate_missing=False):\n",
        "    embeddings = data_final['tokens'].apply(lambda x: get_word2vec(x, word2vec, \n",
        "                                                                   generate_missing=generate_missing))\n",
        "    return list(embeddings)"
      ],
      "execution_count": 0,
      "outputs": []
    },
    {
      "cell_type": "code",
      "metadata": {
        "id": "hBewWRZozhGN",
        "colab_type": "code",
        "outputId": "ca83ba12-7f0d-4421-ab15-6d80e3f42df8",
        "colab": {
          "base_uri": "https://localhost:8080/",
          "height": 1000
        }
      },
      "source": [
        "from sklearn.model_selection import train_test_split\n",
        "embeddings = get_word2vec_embeddings(word2vec, data_final)\n",
        "\n",
        "print(embeddings[0])"
      ],
      "execution_count": 0,
      "outputs": [
        {
          "output_type": "stream",
          "text": [
            "[ 1.03671551e-02  6.18060678e-03  3.40532064e-02  9.48537439e-02\n",
            " -4.41048145e-02 -7.63344765e-03  4.06193733e-02 -5.95107079e-02\n",
            "  5.48195243e-02  1.50620937e-02 -3.75646353e-02 -1.19006634e-01\n",
            " -5.89971542e-02  6.10172749e-02 -9.71250534e-02  8.34730864e-02\n",
            "  4.64550257e-02  8.25402737e-02 -1.15681589e-02 -5.32743931e-02\n",
            "  3.08436155e-03  1.38868093e-02  2.92674303e-02 -5.20148128e-03\n",
            "  2.30498612e-03 -2.49395370e-02 -8.96051526e-02  7.19442368e-02\n",
            "  2.95877457e-02 -4.31895256e-03 -1.75616629e-02 -2.77493000e-02\n",
            " -3.90670300e-02 -1.41235888e-02 -1.08969212e-03 -3.56417894e-03\n",
            "  6.44063950e-03 -4.61483002e-03  8.02254677e-03  3.56252193e-02\n",
            "  4.31692600e-02 -4.97174263e-03  6.41517639e-02 -2.24118233e-02\n",
            " -5.22142053e-02 -1.72783136e-02 -8.47288966e-03  1.47944465e-02\n",
            " -1.82399005e-02  5.09928465e-02  2.39737630e-02  8.96438956e-04\n",
            " -1.30532086e-02 -1.93241537e-02  1.43687725e-02  1.46856308e-02\n",
            " -8.39313269e-02 -4.81727123e-02  4.75953519e-03 -7.82790780e-02\n",
            " -1.19485855e-02  5.58874011e-02 -5.94820380e-02 -6.20665848e-02\n",
            " -1.12733841e-02  8.29219818e-04 -3.96370292e-02  7.55859390e-02\n",
            " -3.95529419e-02  4.57783937e-02  1.13272667e-02  4.69413458e-02\n",
            "  7.33656883e-02  6.30507469e-02 -6.71902299e-02 -4.74944115e-02\n",
            "  7.98491836e-02  9.99331772e-02  2.98442245e-02  9.98498946e-02\n",
            "  1.51281357e-02 -2.06949711e-02  2.81001329e-02  2.02331729e-02\n",
            " -2.48478353e-02 -2.08714176e-02 -5.41297197e-02  1.11002445e-01\n",
            "  6.76822662e-03  7.56144524e-03  3.74035835e-02 -1.91688538e-04\n",
            " -4.18966413e-02 -7.30336308e-02 -1.76032186e-02 -3.07156891e-02\n",
            "  3.93507034e-02  5.12373447e-03  4.76859212e-02 -3.21000814e-03\n",
            " -2.04983652e-02 -1.84409618e-02  1.52426958e-02  2.20890045e-02\n",
            " -2.33108401e-02 -3.64991426e-02 -6.30513430e-02 -5.48658371e-02\n",
            "  3.57909799e-02 -8.38863635e-02 -6.44273758e-02 -1.21222734e-02\n",
            " -1.25147104e-02  9.67403501e-03  4.99880612e-02  9.80591774e-03\n",
            "  5.00111580e-02 -4.31265831e-02  7.47593939e-02  5.06493300e-02\n",
            " -7.33730793e-02  4.93537188e-02 -5.03520668e-02  7.16156960e-02\n",
            " -2.19005346e-02 -5.00771999e-02 -1.71946883e-02 -6.44069910e-03\n",
            "  2.58987099e-02  9.09566879e-03 -4.87537086e-02 -1.07647657e-01\n",
            " -7.64812231e-02 -4.84676361e-02 -1.08399764e-02 -4.46119308e-02\n",
            "  9.39735398e-03 -6.91246986e-03  4.15825844e-02  5.81676960e-02\n",
            "  4.96822894e-02 -3.88639271e-02  5.20610809e-03 -6.89805299e-03\n",
            "  3.26114893e-03  1.98839903e-02 -4.44254875e-02 -6.13646507e-02\n",
            " -2.53925037e-02  8.09534080e-03  1.19174063e-01 -1.52795315e-02\n",
            " -4.71761227e-02  1.69050694e-02 -1.52454972e-02 -1.99364424e-02\n",
            " -2.93097496e-02 -8.11693966e-02 -2.90427208e-02 -5.14870360e-02\n",
            " -3.78859043e-03  5.96727729e-02  3.76807451e-02  6.34411573e-02\n",
            " -9.81660187e-03 -4.89187539e-02  5.24592400e-02 -5.98609447e-03\n",
            "  2.07829475e-02 -1.47354603e-02 -6.84916675e-02 -3.15666199e-04\n",
            " -1.23689771e-02 -8.24441984e-02  2.21126401e-02 -1.99854970e-02\n",
            "  9.85939503e-02 -3.89665067e-02 -1.71333551e-04 -1.31386518e-02\n",
            " -6.57379627e-02 -3.94922197e-02  8.30245018e-03  5.38420677e-03\n",
            "  1.82616711e-03  1.14202499e-04 -5.94006181e-02  3.62715721e-02\n",
            "  5.77198267e-02  6.39438629e-02  3.07575017e-02  2.52327323e-02\n",
            " -9.07397270e-03  3.67670059e-02 -4.07280922e-02  4.93434668e-02\n",
            " -4.40866929e-02  1.17349625e-03 -2.43954808e-02 -7.95054436e-02\n",
            " -2.44302750e-02  2.92685032e-02  1.04904175e-03 -5.29216975e-02\n",
            " -1.64160728e-02 -1.67812109e-02  2.45302916e-02  1.10761523e-02\n",
            " -1.31030083e-02 -1.45194530e-02 -3.12206745e-02  1.08268857e-03\n",
            " -1.55245066e-02  2.94065475e-03 -6.27311468e-02 -1.41284466e-02\n",
            "  4.30677533e-02  2.61979103e-02 -5.48741817e-02  1.98659897e-02\n",
            " -2.14143991e-02 -2.53942013e-02  5.30562401e-02 -9.25683975e-03\n",
            "  8.77962112e-02 -6.82194233e-02  6.64025545e-02  6.12820089e-02\n",
            "  3.48142982e-02  3.07482481e-02  3.61108184e-02 -4.56171036e-02\n",
            "  1.24426186e-03 -2.21423805e-02  3.76707315e-02 -3.42147350e-02\n",
            "  2.72240639e-02 -1.78231597e-02  4.89298701e-02 -2.68303752e-02\n",
            "  3.75042558e-02 -2.00997777e-02  3.01315784e-02 -5.28462529e-02\n",
            " -3.37051153e-02  1.52861476e-02  1.12503767e-02  6.74160421e-02\n",
            " -6.59868121e-04 -3.21747065e-02  4.10842896e-03  1.78604126e-02\n",
            "  4.49393392e-02  6.91100955e-04  8.33096504e-02 -4.98769283e-02\n",
            "  1.55574307e-02  1.46285146e-02 -3.35698128e-02 -3.23176384e-02\n",
            "  2.03210115e-03  2.76446342e-03  2.46663392e-03  1.38752460e-02\n",
            "  1.72056556e-02  9.86340046e-02 -4.31460142e-03 -1.95862055e-02\n",
            " -7.16334581e-02 -2.50501633e-02  2.77950764e-02  3.67195606e-02\n",
            "  7.14988708e-02  1.17176771e-02  3.73965502e-03 -4.38964367e-02\n",
            " -9.54437256e-03 -8.78797770e-02 -2.78401375e-02 -2.51944065e-02\n",
            " -7.41338730e-03 -2.06798315e-02  3.85344028e-02  6.77659512e-02\n",
            " -9.43620503e-03 -2.68599391e-02 -5.63910007e-02 -3.19118500e-02\n",
            "  3.21185663e-02  2.50360370e-02 -7.24440217e-02 -1.48768425e-02\n",
            " -7.15488195e-02 -1.50607228e-02 -3.25622559e-02  1.75894341e-02\n",
            "  1.07086897e-02 -3.62902880e-02  5.31408787e-02 -4.36246395e-04]\n"
          ],
          "name": "stdout"
        }
      ]
    },
    {
      "cell_type": "code",
      "metadata": {
        "id": "AeYPMytnrAFi",
        "colab_type": "code",
        "colab": {}
      },
      "source": [
        "#Train-test split\n",
        "\"\"\"print(len(embeddings))\n",
        "\n",
        "if type(embeddings) is np.ndarray:\n",
        "  print(\"True\")\n",
        "else:\n",
        "  print(\"False\")\"\"\"\n",
        "  \n",
        "embeddings = np.asarray(embeddings)\n",
        "\"\"\"if type(embeddings) is np.ndarray:\n",
        "  print(\"True\")\n",
        "print(embeddings.shape)\n",
        " \n",
        "#embeddings = embeddings.flatten()\n",
        "dataframe = pd.DataFrame.from_records(embeddings)\n",
        "print(embeddings.shape)\n",
        "if type(embeddings) is np.ndarray:\n",
        "  print(\"True\")\"\"\"\n",
        "\n",
        "encoded_y = encoded_y.tolist()\n",
        "\n",
        "x_train, x_test, y_train, y_test = train_test_split(embeddings, encoded_y, \n",
        "                                                    test_size=0.2, random_state=13)\n"
      ],
      "execution_count": 0,
      "outputs": []
    },
    {
      "cell_type": "code",
      "metadata": {
        "id": "B6gRvqefAADR",
        "colab_type": "code",
        "outputId": "d504ec83-86ef-4c70-b20d-526a5ba328ac",
        "colab": {
          "base_uri": "https://localhost:8080/",
          "height": 51
        }
      },
      "source": [
        "print(x_train.shape)\n",
        "print(x_test.shape)"
      ],
      "execution_count": 0,
      "outputs": [
        {
          "output_type": "stream",
          "text": [
            "(10231, 300)\n",
            "(2558, 300)\n"
          ],
          "name": "stdout"
        }
      ]
    },
    {
      "cell_type": "code",
      "metadata": {
        "id": "KnXUtkLRzhGQ",
        "colab_type": "code",
        "outputId": "e995c490-3cff-4966-a09a-d7faf34a96bb",
        "colab": {
          "base_uri": "https://localhost:8080/",
          "height": 54
        }
      },
      "source": [
        "\"\"\"def Model(embedded_dim, activation_function, loss_function, optimizer):\n",
        "  \n",
        "  model = Sequential()\n",
        "  model.add(Embedding(1, embedded_dim ,input_length = x_train.shape[-1], dropout=0.2))\n",
        "  model.add(Bidirectional(LSTM(32)))\n",
        "  model.add(Dense(units=6))\n",
        "  model.add(Activation(activation_function))\n",
        "  model.compile(loss=loss_function, optimizer=optimizer, metrics=['accuracy'])\n",
        "    \n",
        "  return model\"\"\""
      ],
      "execution_count": 0,
      "outputs": [
        {
          "output_type": "execute_result",
          "data": {
            "text/plain": [
              "\"def Model(embedded_dim, activation_function, loss_function, optimizer):\\n  \\n  model = Sequential()\\n  model.add(Embedding(1, embedded_dim ,input_length = x_train.shape[-1], dropout=0.2))\\n  model.add(Bidirectional(LSTM(32)))\\n  model.add(Dense(units=6))\\n  model.add(Activation(activation_function))\\n  model.compile(loss=loss_function, optimizer=optimizer, metrics=['accuracy'])\\n    \\n  return model\""
            ]
          },
          "metadata": {
            "tags": []
          },
          "execution_count": 38
        }
      ]
    },
    {
      "cell_type": "code",
      "metadata": {
        "id": "0BFdhjMBzhGU",
        "colab_type": "code",
        "colab": {}
      },
      "source": [
        "from sklearn.linear_model import LogisticRegression\n",
        "\n",
        "model = LogisticRegression(C=30.0, class_weight='balanced', solver='newton-cg', \n",
        "                         multi_class='multinomial', random_state=13)\n",
        "model.fit(x_train, y_train)\n",
        "y_predict = model.predict(x_test)"
      ],
      "execution_count": 0,
      "outputs": []
    },
    {
      "cell_type": "code",
      "metadata": {
        "id": "XBnxdhKv8kqC",
        "colab_type": "code",
        "colab": {}
      },
      "source": [
        "#model = Model(300, 'softmax', 'categorical_crossentropy', 'adam')\n",
        "#print (model.summary())"
      ],
      "execution_count": 0,
      "outputs": []
    },
    {
      "cell_type": "code",
      "metadata": {
        "id": "KOIuqzG38fpr",
        "colab_type": "code",
        "outputId": "1f3d08c6-9c0a-4799-fb86-a0e43fa67e4a",
        "colab": {
          "base_uri": "https://localhost:8080/",
          "height": 54
        }
      },
      "source": [
        "\"\"\"start = time.time()\n",
        "\n",
        "model.fit(x_train, y_train, batch_size = 10, epochs=5, validation_split = 0.13)\n",
        "\n",
        "training_time = int(math.floor(time.time()-start))\n",
        "\n",
        "print(\"Training Time :\", training_time,\"seconds\")\"\"\""
      ],
      "execution_count": 0,
      "outputs": [
        {
          "output_type": "execute_result",
          "data": {
            "text/plain": [
              "'start = time.time()\\n\\nmodel.fit(x_train, y_train, batch_size = 10, epochs=5, validation_split = 0.13)\\n\\ntraining_time = int(math.floor(time.time()-start))\\n\\nprint(\"Training Time :\", training_time,\"seconds\")'"
            ]
          },
          "metadata": {
            "tags": []
          },
          "execution_count": 41
        }
      ]
    },
    {
      "cell_type": "code",
      "metadata": {
        "id": "X4k62yTW9atV",
        "colab_type": "code",
        "colab": {}
      },
      "source": [
        " #y_predict = model.predict(x_test)"
      ],
      "execution_count": 0,
      "outputs": []
    },
    {
      "cell_type": "code",
      "metadata": {
        "id": "2hcNuZt8lDt8",
        "colab_type": "code",
        "colab": {}
      },
      "source": [
        "\n",
        "from sklearn.metrics import accuracy_score, f1_score, precision_score, recall_score, classification_report\n",
        "\n",
        "def get_metrics(y_test, y_predicted):  \n",
        "    # true positives / (true positives+false positives)\n",
        "    precision = precision_score(y_test, y_predicted, pos_label=None,\n",
        "                                    average='weighted')             \n",
        "    # true positives / (true positives + false negatives)\n",
        "    recall = recall_score(y_test, y_predicted, pos_label=None,\n",
        "                              average='weighted')\n",
        "    \n",
        "    # harmonic mean of precision and recall\n",
        "    f1 = f1_score(y_test, y_predicted, pos_label=None, average='weighted')\n",
        "    \n",
        "    # true positives + true negatives/ total\n",
        "    accuracy = accuracy_score(y_test, y_predicted)\n",
        "    return accuracy, precision, recall, f1"
      ],
      "execution_count": 0,
      "outputs": []
    },
    {
      "cell_type": "code",
      "metadata": {
        "id": "Ledrq3AOkOKL",
        "colab_type": "code",
        "outputId": "5c3e70dc-9d24-4076-87fe-90ecdd9cf031",
        "colab": {
          "base_uri": "https://localhost:8080/",
          "height": 34
        }
      },
      "source": [
        "accuracy, precision, recall, F1 = get_metrics(y_test, y_predict)\n",
        "print(\"accuracy = %.3f, precision = %.3f, recall = %.3f, F1 = %.3f\" % (accuracy, precision, \n",
        "                                                                       recall, F1))"
      ],
      "execution_count": 0,
      "outputs": [
        {
          "output_type": "stream",
          "text": [
            "accuracy = 0.212, precision = 0.212, recall = 0.212, F1 = 0.207\n"
          ],
          "name": "stdout"
        }
      ]
    },
    {
      "cell_type": "code",
      "metadata": {
        "id": "xROQ-6rRowjK",
        "colab_type": "code",
        "outputId": "e2b27b8f-6751-43a4-98de-85310942cbf0",
        "colab": {
          "base_uri": "https://localhost:8080/",
          "height": 54
        }
      },
      "source": [
        "    \"\"\"fig = plt.figure(figsize=(10,5))\n",
        "    ax = fig.add_subplot(111)\n",
        "    ax.set_title(\"---------\")\n",
        "    plt.plot(y_predict, color = 'green', label = 'Predicted Price')\n",
        "    plt.plot(y_test, color = 'red', label = 'Actual Price')\n",
        "    ax.set_ylabel(\"labels\")\n",
        "    ax.set_xlabel(\"-------\")\n",
        "    ax.legend()\n",
        "    plt.show()\"\"\"\n",
        "    "
      ],
      "execution_count": 0,
      "outputs": [
        {
          "output_type": "execute_result",
          "data": {
            "text/plain": [
              "'fig = plt.figure(figsize=(10,5))\\nax = fig.add_subplot(111)\\nax.set_title(\"---------\")\\nplt.plot(y_predict, color = \\'green\\', label = \\'Predicted Price\\')\\nplt.plot(y_test, color = \\'red\\', label = \\'Actual Price\\')\\nax.set_ylabel(\"labels\")\\nax.set_xlabel(\"-------\")\\nax.legend()\\nplt.show()'"
            ]
          },
          "metadata": {
            "tags": []
          },
          "execution_count": 45
        }
      ]
    },
    {
      "cell_type": "code",
      "metadata": {
        "id": "xsun6SZXowov",
        "colab_type": "code",
        "outputId": "24d5a585-a10c-4136-ab5c-660af157248e",
        "colab": {
          "base_uri": "https://localhost:8080/",
          "height": 51
        }
      },
      "source": [
        "print(y_test[0:4])\n",
        "print(y_predict[0:4])"
      ],
      "execution_count": 0,
      "outputs": [
        {
          "output_type": "stream",
          "text": [
            "[3, 5, 2, 2]\n",
            "[3 0 4 0]\n"
          ],
          "name": "stdout"
        }
      ]
    },
    {
      "cell_type": "code",
      "metadata": {
        "id": "06BU0biQpoHe",
        "colab_type": "code",
        "outputId": "5794ac81-b628-4612-f322-1df7c1fe3ac4",
        "colab": {
          "base_uri": "https://localhost:8080/",
          "height": 1000
        }
      },
      "source": [
        "x_test[0]"
      ],
      "execution_count": 0,
      "outputs": [
        {
          "output_type": "execute_result",
          "data": {
            "text/plain": [
              "array([ 1.04665205e-02, -4.39580807e-03,  4.46910070e-02,  6.06108106e-02,\n",
              "       -4.10764079e-02, -2.01631656e-02,  3.76385145e-02, -7.03532321e-02,\n",
              "        6.52516263e-02,  4.75371810e-02, -6.07650379e-02, -5.71193222e-02,\n",
              "       -1.54840138e-02,  1.19558287e-02, -7.97066964e-02,  5.06093679e-02,\n",
              "        2.73250233e-02,  6.68070139e-02, -2.19973730e-02, -2.89389870e-02,\n",
              "       -6.15370254e-02,  2.15725229e-02,  1.31528240e-02, -1.87949188e-02,\n",
              "       -3.84395379e-03, -2.72772923e-03, -9.65097601e-02,  6.43558975e-02,\n",
              "        5.36409488e-03,  1.45509263e-02,  9.88329344e-03, -1.47435212e-02,\n",
              "       -4.42454677e-02, -9.32390828e-03,  2.45496261e-03, -6.19450877e-03,\n",
              "       -1.74642516e-02,  1.31021295e-02,  1.63472704e-02,  4.62169805e-02,\n",
              "        6.25602785e-02, -2.32311911e-02,  5.34185614e-02,  1.32989174e-02,\n",
              "       -2.36247039e-02, -4.38528140e-02, -1.55819980e-02,  7.69518230e-03,\n",
              "       -2.94169907e-02, -8.36459073e-04,  1.96934219e-02,  2.99412751e-03,\n",
              "       -6.19242014e-03, -3.84885930e-02, -1.08126806e-02,  1.88403169e-02,\n",
              "       -5.60452800e-02, -1.24932912e-02,  2.74148894e-02, -4.13481657e-02,\n",
              "       -5.94918748e-02,  5.03826299e-02, -5.75808060e-02, -7.02697502e-02,\n",
              "        9.46019701e-03,  4.62038655e-03, -1.28352268e-02,  9.02490301e-02,\n",
              "       -1.27448405e-02,  3.76358978e-02, -9.02800127e-03,  6.43890160e-03,\n",
              "        6.64459733e-02,  2.25040656e-02, -5.58453394e-02, -2.24989584e-02,\n",
              "        7.62805151e-02,  6.14395772e-02,  1.53990816e-02,  9.12811027e-02,\n",
              "        2.84754540e-02, -8.96548437e-02,  9.98700355e-03,  1.50203862e-02,\n",
              "       -3.56279326e-02, -3.67137184e-02, -8.16844593e-02,  8.66028336e-02,\n",
              "        2.18477486e-02,  1.32537085e-03,  7.17891977e-02, -9.20571572e-05,\n",
              "       -5.42955004e-02, -6.82494108e-02, -5.47670096e-02, -2.11474206e-02,\n",
              "        1.58989016e-02,  5.15330922e-03,  3.22308501e-02,  2.39359958e-02,\n",
              "       -5.66917609e-03, -3.25221542e-02, -3.88020917e-03,  4.02037565e-03,\n",
              "       -3.33148546e-02, -4.00988997e-02, -4.47127918e-02, -4.52515783e-02,\n",
              "       -8.88754218e-03, -6.27535355e-02, -5.70073404e-03, -1.89096750e-02,\n",
              "       -3.69710371e-02,  8.64795023e-03,  1.07918101e-02,  5.57102172e-02,\n",
              "        6.39698880e-02, -2.74476611e-02,  7.85365775e-02,  4.76059086e-02,\n",
              "       -6.60254108e-02,  2.89268809e-02, -3.66462834e-02,  3.40344137e-02,\n",
              "        1.53832396e-03, -1.31395513e-02, -2.76489021e-02, -3.13560864e-02,\n",
              "        1.78404406e-02,  4.28720269e-02, -2.33005492e-02, -5.20441985e-02,\n",
              "       -5.36212133e-02, -4.00821906e-02, -3.26596725e-02, -3.63929685e-02,\n",
              "        2.55126323e-02, -2.04348209e-02,  6.92066476e-03,  6.86887631e-02,\n",
              "        3.26138331e-02, -5.01581618e-02,  2.41307582e-02,  1.46121191e-02,\n",
              "        3.43965893e-03,  9.62602600e-03, -3.92688089e-02, -3.61274215e-02,\n",
              "       -4.65423332e-02,  3.61860291e-04,  4.60628793e-02,  4.71256981e-03,\n",
              "       -6.46397654e-02,  2.23597377e-02, -8.71012034e-03, -3.83891823e-02,\n",
              "       -1.48229678e-02, -3.26814257e-02, -4.23639471e-02, -1.13148019e-02,\n",
              "        1.99244476e-02,  4.77113330e-02,  4.69329456e-02,  2.01883237e-02,\n",
              "        2.97511077e-02, -1.23964420e-02,  6.20064223e-02, -6.51329608e-03,\n",
              "        3.52357596e-02, -3.20651472e-02, -1.01079263e-01, -2.59748727e-02,\n",
              "       -1.57395670e-02, -5.21948397e-02,  7.26179643e-04, -4.67950175e-02,\n",
              "        4.06037007e-02, -5.35540620e-02,  3.22830579e-03, -3.51321008e-03,\n",
              "       -8.00395682e-02, -4.93217027e-02, -1.63531343e-02,  2.74627307e-02,\n",
              "        1.84216775e-03, -8.97998652e-04, -1.59756999e-03,  5.38467533e-02,\n",
              "        9.81052493e-02,  6.60404174e-02,  3.53319152e-02, -2.58224109e-02,\n",
              "       -1.38520170e-02, -1.12288294e-02, -4.73130281e-02,  5.65329307e-02,\n",
              "       -2.61707148e-03, -1.95550840e-02, -1.07386723e-02, -8.35679425e-02,\n",
              "       -7.98930018e-03,  3.91562596e-02,  1.29056568e-03, -1.11713252e-02,\n",
              "        1.08551782e-02, -1.09893547e-02, -1.64337473e-02, -3.33209274e-02,\n",
              "       -2.54405629e-03,  2.71038970e-03, -1.45696214e-03,  7.86193343e-03,\n",
              "       -1.35748997e-02,  2.78401020e-02, -9.35026358e-02,  4.32825010e-02,\n",
              "        5.86388958e-02, -3.47686011e-03, -5.10218597e-02,  3.51835519e-02,\n",
              "        1.24585234e-02, -4.46161948e-04,  2.32215125e-02, -3.60915917e-02,\n",
              "        9.99740096e-02, -5.83713941e-02,  4.59998265e-02,  5.88003860e-02,\n",
              "        1.50011551e-02,  2.27535027e-02,  1.24150426e-02, -1.79831765e-02,\n",
              "        3.48560239e-02,  1.31327101e-02,  5.98425116e-03, -1.20321778e-02,\n",
              "        3.76096363e-02, -6.21219351e-02,  4.62508399e-02,  5.59909285e-04,\n",
              "        2.81805874e-02,  1.42978637e-02,  4.85252191e-02, -7.45110788e-02,\n",
              "       -8.39409946e-03, -4.43261517e-04,  2.40785898e-02,  4.48034618e-02,\n",
              "       -1.35740643e-02,  2.99617673e-03,  5.83569866e-04,  1.82983146e-02,\n",
              "        1.22684447e-02,  3.37552945e-02,  4.93464194e-02, -3.95828909e-02,\n",
              "        4.57315997e-02,  1.49480646e-02, -3.03762767e-02, -7.21501122e-03,\n",
              "        1.55208367e-02, -3.47568496e-02, -2.62176498e-02,  4.88496891e-02,\n",
              "        4.09214240e-02,  1.20298023e-01, -2.15484367e-02, -2.31599414e-02,\n",
              "       -3.98368914e-02, -1.35328435e-02,  6.00419478e-02,  3.40329005e-02,\n",
              "        6.27529680e-02, -3.74660019e-03,  3.69606964e-02, -3.92895060e-02,\n",
              "       -4.44511224e-02, -1.15631860e-01, -2.80756675e-02, -1.41109120e-02,\n",
              "       -5.11081160e-03,  1.77909914e-03,  2.67676992e-02,  7.37322342e-02,\n",
              "        2.59096760e-02, -1.52156373e-02, -5.79122118e-02,  8.26875040e-04,\n",
              "        5.47666944e-02,  5.44844068e-02, -7.29157156e-02, -1.86588508e-02,\n",
              "       -5.50497071e-02,  1.31074259e-02,  1.07481145e-02, -1.09165917e-02,\n",
              "       -4.16174644e-02, -2.25111906e-02,  4.00599645e-02, -3.50379313e-02])"
            ]
          },
          "metadata": {
            "tags": []
          },
          "execution_count": 47
        }
      ]
    }
  ]
}